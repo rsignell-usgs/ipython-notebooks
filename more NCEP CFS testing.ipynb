{
 "metadata": {
  "name": "more NCEP CFS testing"
 },
 "nbformat": 3,
 "nbformat_minor": 0,
 "worksheets": [
  {
   "cells": [
    {
     "cell_type": "markdown",
     "metadata": {},
     "source": [
      "#Exploring NCEP Climate Forecast System 9 month forecasts\n",
      "NCEP is running the CFS not only in hindcast mode (CFSR) but in forecast mode, 4 times a day.  One of the forecast products is a 9 month forecast, with monthly average quanties as output.  There are monthly averages for variables at 0, 6, 12, 18Z hours and also for the daily average.  Except for the surface fluxes and near surface temperatures, these should all be pretty much the same.  The files are available only as Grib2 and only via HTTP and FTP.  We should just be able to take the 0 hour forecast for the daily averages, but perhaps should look at the 4 ensemble members <br> <br>\n",
      "\n",
      "Example: On today (June 12, 2013), to get the 0.5 degree 3D ocean data forecast for August 2013, we would get these files:<br><br>\n",
      "ftp://ftpprd.ncep.noaa.gov//pub/data/nccf/com/cfs/prod/cfs/cfs.20130611/00/monthly_grib_01/ocnh.01.2013061100.201308.avrg.grib.grb2 <br>\n",
      "ftp://ftpprd.ncep.noaa.gov//pub/data/nccf/com/cfs/prod/cfs/cfs.20130611/00/monthly_grib_02/ocnh.01.2013061100.201308.avrg.grib.grb2 <br>\n",
      "ftp://ftpprd.ncep.noaa.gov//pub/data/nccf/com/cfs/prod/cfs/cfs.20130611/00/monthly_grib_03/ocnh.01.2013061100.201308.avrg.grib.grb2 <br>\n",
      "ftp://ftpprd.ncep.noaa.gov//pub/data/nccf/com/cfs/prod/cfs/cfs.20130611/00/monthly_grib_04/ocnh.01.2013061100.201308.avrg.grib.grb2 <br><br>\n",
      "\n",
      "In the above example we are getting the files from one day earlier (June 11) because the files for June 12 are not necessarily completed (depending on when you access the data)<br><br>\n",
      "\n",
      "We can bring these files to geoport each month and then access them using THREDDS, as demonstrated below."
     ]
    },
    {
     "cell_type": "code",
     "collapsed": false,
     "input": [
      "import netCDF4"
     ],
     "language": "python",
     "metadata": {},
     "outputs": [],
     "prompt_number": 1
    },
    {
     "cell_type": "code",
     "collapsed": false,
     "input": [
      "# OCNF: 1.0 degree resolution\n",
      "url='http://geoport.whoi.edu/thredds/dodsC/usgs/data2/rsignell/models/ncep/CFS/ocnf.01.2013061100.201308.avrg.grib.00Z.grb2'\n",
      "nc=netCDF4.Dataset(url)\n",
      "temp = nc.variables['Potential_temperature_depth_below_sea_1_Month_Average']\n",
      "shape(temp)"
     ],
     "language": "python",
     "metadata": {},
     "outputs": [
      {
       "metadata": {},
       "output_type": "pyout",
       "prompt_number": 12,
       "text": [
        "(1, 40, 181, 360)"
       ]
      }
     ],
     "prompt_number": 12
    },
    {
     "cell_type": "code",
     "collapsed": false,
     "input": [
      "# OCNH: 0.5 degree resolution\n",
      "url='http://geoport.whoi.edu/thredds/dodsC/usgs/data2/rsignell/models/ncep/CFS/ocnh.01.2013061100.201308.avrg.grib.00Z.grb2'\n",
      "nc=netCDF4.Dataset(url)\n",
      "temp = nc.variables['Potential_temperature_depth_below_sea_1_Month_Average']\n",
      "shape(temp)"
     ],
     "language": "python",
     "metadata": {},
     "outputs": [
      {
       "metadata": {},
       "output_type": "pyout",
       "prompt_number": 10,
       "text": [
        "(1, 40, 360, 720)"
       ]
      }
     ],
     "prompt_number": 10
    },
    {
     "cell_type": "code",
     "collapsed": false,
     "input": [],
     "language": "python",
     "metadata": {},
     "outputs": []
    }
   ],
   "metadata": {}
  }
 ]
}