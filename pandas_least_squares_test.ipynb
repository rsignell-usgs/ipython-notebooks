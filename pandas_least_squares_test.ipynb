{
 "metadata": {
  "name": "pandas_least_squares_test"
 },
 "nbformat": 3,
 "nbformat_minor": 0,
 "worksheets": [
  {
   "cells": [
    {
     "cell_type": "code",
     "collapsed": false,
     "input": [
      "from datetime import datetime\n",
      "import string\n",
      "\n",
      "import numpy as np\n",
      "\n",
      "from pandas.core.api import Series, DataFrame, DateRange\n",
      "from pandas.stats.api import ols\n",
      "\n",
      "N = 100\n",
      "\n",
      "start = datetime(2009, 9, 2)\n",
      "dateRange = DateRange(start, periods=N)\n",
      "\n",
      "\n",
      "def makeDataFrame():\n",
      "    data = DataFrame(np.random.randn(N, 7),\n",
      "                     columns=list(string.ascii_uppercase[:7]),\n",
      "                     index=dateRange)\n",
      "\n",
      "    return data\n",
      "\n",
      "\n",
      "def makeSeries():\n",
      "    return Series(np.random.randn(N), index=dateRange)\n",
      "\n",
      "#-------------------------------------------------------------------------------\n",
      "# Standard rolling linear regression\n",
      "\n",
      "X = makeDataFrame()\n",
      "Y = makeSeries()\n",
      "\n",
      "model = ols(y=Y, x=X)\n",
      "\n",
      "print model\n",
      "\n",
      "#-------------------------------------------------------------------------------\n",
      "# Panel regression\n",
      "\n",
      "data = {\n",
      "    'A': makeDataFrame(),\n",
      "    'B': makeDataFrame(),\n",
      "    'C': makeDataFrame()\n",
      "}\n",
      "\n",
      "Y = makeDataFrame()\n",
      "\n",
      "panelModel = ols(y=Y, x=data, window=50)\n",
      "\n",
      "model = ols(y=Y, x=data)\n",
      "\n",
      "print panelModel"
     ],
     "language": "python",
     "metadata": {},
     "outputs": [],
     "prompt_number": "*"
    },
    {
     "cell_type": "code",
     "collapsed": false,
     "input": [
      "import pandas as pd"
     ],
     "language": "python",
     "metadata": {},
     "outputs": [],
     "prompt_number": 1
    },
    {
     "cell_type": "code",
     "collapsed": false,
     "input": [
      "pd.__version__"
     ],
     "language": "python",
     "metadata": {},
     "outputs": [
      {
       "output_type": "pyout",
       "prompt_number": 2,
       "text": [
        "'0.11.0'"
       ]
      }
     ],
     "prompt_number": 2
    },
    {
     "cell_type": "code",
     "collapsed": false,
     "input": [],
     "language": "python",
     "metadata": {},
     "outputs": []
    }
   ],
   "metadata": {}
  }
 ]
}