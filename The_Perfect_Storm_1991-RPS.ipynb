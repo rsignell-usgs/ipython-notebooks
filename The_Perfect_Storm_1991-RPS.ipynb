{
 "metadata": {
  "name": "The_Perfect_Storm_1991-RPS"
 },
 "nbformat": 3,
 "nbformat_minor": 0,
 "worksheets": [
  {
   "cells": [
    {
     "cell_type": "markdown",
     "metadata": {},
     "source": [
      "#Data and Visualization Integration Via Web-based Resources \n",
      "###<a href=\"http://tw.rpi.edu/web/person/MassimoDiStefano\" target=\"_blank\">Massimo Di Stefano</a> \n",
      "###Software Engineer\n",
      "####Rensselaer Polytechnic Institute, Troy, NY\n",
      "####Woods Hole Oceanographic Institution, Woods Hole, MA\n",
      "<img src=\"http://epi.whoi.edu/esr/logo.png\"/> "
     ]
    },
    {
     "cell_type": "markdown",
     "metadata": {},
     "source": [
      "# 1991 The Perfect Storm\n",
      "<img src=\"http://www.ncdc.noaa.gov/img/satellite/satelliteseye/cyclones/pfctstorm91/Halstsubtrop.gif\" width='500'/> \n",
      "\n",
      "### Follow up from the Rich Signell talk\n",
      "            \n",
      "##### Dataset provided by Signell Richard - [USGS](http://geoport.whoi.edu/thredds/catalog/fmrc/NCEP/ww3/cfsr/10m/catalog.html?dataset=fmrc/NCEP/ww3/cfsr/10m/collection \"USGS Thredds Data Server\")"
     ]
    },
    {
     "cell_type": "heading",
     "level": 1,
     "metadata": {},
     "source": [
      "Background"
     ]
    },
    {
     "cell_type": "code",
     "collapsed": false,
     "input": [
      "from IPython.core.display import HTML\n",
      "HTML(\"<iframe src='http://www.ncdc.noaa.gov/oa/satellite/satelliteseye/cyclones/pfctstorm91/pfctstorm.html' width='700' height='600'></iframe>\")"
     ],
     "language": "python",
     "metadata": {},
     "outputs": [
      {
       "html": [
        "<iframe src='http://www.ncdc.noaa.gov/oa/satellite/satelliteseye/cyclones/pfctstorm91/pfctstorm.html' width='700' height='600'></iframe>"
       ],
       "metadata": {},
       "output_type": "pyout",
       "prompt_number": 1,
       "text": [
        "<IPython.core.display.HTML at 0x31f8910>"
       ]
      }
     ],
     "prompt_number": 1
    },
    {
     "cell_type": "code",
     "collapsed": false,
     "input": [
      "from IPython import parallel\n",
      "\n",
      "rc = parallel.Client()\n",
      "view = rc.load_balanced_view()\n",
      "\n",
      "\n"
     ],
     "language": "python",
     "metadata": {},
     "outputs": [],
     "prompt_number": 3
    },
    {
     "cell_type": "code",
     "collapsed": false,
     "input": [
      "%%px\n",
      "\n",
      "import sys\n",
      "import os\n",
      "from pylab import *\n",
      "import matplotlib\n",
      "#matplotlib.use('Agg')\n",
      "import netCDF4\n",
      "import datetime as dt\n",
      "\n",
      "import numpy.ma as ma\n",
      "from mpl_toolkits.basemap import Basemap\n",
      "\n",
      "matplotlib.get_backend()"
     ],
     "language": "python",
     "metadata": {},
     "outputs": [
      {
       "metadata": {},
       "output_type": "display_data",
       "text": [
        "\u001b[0;31mOut[0:2]: \u001b[0m'agg'"
       ]
      },
      {
       "metadata": {},
       "output_type": "display_data",
       "text": [
        "\u001b[0;31mOut[1:2]: \u001b[0m'agg'"
       ]
      },
      {
       "metadata": {},
       "output_type": "display_data",
       "text": [
        "\u001b[0;31mOut[2:2]: \u001b[0m'agg'"
       ]
      },
      {
       "metadata": {},
       "output_type": "display_data",
       "text": [
        "\u001b[0;31mOut[3:2]: \u001b[0m'agg'"
       ]
      }
     ],
     "prompt_number": 4
    },
    {
     "cell_type": "code",
     "collapsed": false,
     "input": [
      "import sys\n",
      "import os\n",
      "\n",
      "from pylab import *\n",
      "import netCDF4\n",
      "import datetime as dt\n",
      "\n",
      "import numpy.ma as ma\n",
      "from mpl_toolkits.basemap import Basemap"
     ],
     "language": "python",
     "metadata": {},
     "outputs": [],
     "prompt_number": 5
    },
    {
     "cell_type": "code",
     "collapsed": false,
     "input": [
      "def perdelta(start, end, delta):\n",
      "    curr = start\n",
      "    while curr < end:\n",
      "        yield curr\n",
      "        curr += delta\n",
      "        \n",
      "    \n",
      "def plotWave(args):\n",
      "    start = args[\"date\"]\n",
      "    url = args[\"url\"]\n",
      "    box = args[\"box\"]\n",
      "    vname = args[\"vname\"]\n",
      "    pvar = args[\"pvar\"]\n",
      "    uu = args[\"u\"]\n",
      "    vv = args[\"v\"]\n",
      "    directory = args[\"savepath\"]\n",
      "    nc = netCDF4.Dataset(url)\n",
      "    lat = nc.variables['lat'][:]\n",
      "    lon = nc.variables['lon'][:]\n",
      "    u = nc.variables[str(uu)]\n",
      "    v = nc.variables[str(vv)]\n",
      "    time_var = nc.variables[str(pvar)]\n",
      "    dtime = netCDF4.num2date(time_var[:],time_var.units)\n",
      "    istart = netCDF4.date2index(start,time_var,select='nearest')\n",
      "    if box is not None:\n",
      "        bi=(lon>=box[0])&(lon<=box[2])\n",
      "        bj=(lat>=box[1])&(lat<=box[3])\n",
      "        var = nc.variables[vname][istart,bj,bi]\n",
      "        uin = u[istart,bj,bi]\n",
      "        vin = v[istart,bj,bi]\n",
      "    else:\n",
      "        var = nc.variables[vname][istart,:,:]\n",
      "        uin = u[istart,:,:]\n",
      "        vin = v[istart,:,:]\n",
      "    hs = ma.masked_where(np.isnan(var),var)\n",
      "    figure(figsize=(12,12)) \n",
      "    m = Basemap(resolution='i', llcrnrlon=-100.0,llcrnrlat=0.0,urcrnrlon=-50.0,urcrnrlat=60.0, \\\n",
      "                lat_0=20.,lon_0=-60.,lat_ts=20.)\n",
      "    m.drawcoastlines(color='#6D5F47', linewidth=.4)\n",
      "    m.drawrivers(color='#3366FF', linewidth=.4)\n",
      "    m.fillcontinents(color='#99CC33',lake_color='#85A6D9')\n",
      "    if box is not None:\n",
      "        ff = plt.pcolormesh(lon[bi], lat[bj], hs, vmin=0, vmax=8)\n",
      "        plt.contour(lon[bi], lat[bj], hs, 20, colors='w', linestyles='-', linewidth=0.1)\n",
      "        #plt.barbs(lon[bi], lat[bj], uin, vin, length=5, barbcolor='k', flagcolor='r', linewidth=0.5)\n",
      "        lons, lats = np.meshgrid(lon[bi], lat[bj])\n",
      "        x, y = m(lons, lats)\n",
      "        plt.quiver(x[::5,::5], y[::5,::5], uin[::5,::5], vin[::5,::5], scale=200);\n",
      "    else :\n",
      "        ff = plt.pcolormesh(lon[:], lat[:], hs, vmin=0, vmax=8)\n",
      "        plt.contour(lon[:], lat[:], hs, 10, colors='w', linestyles='-', linewidth=0.1)\n",
      "        lons, lats = np.meshgrid(lon[:], lat[:])\n",
      "        x, y = m(lons, lats)\n",
      "        plt.quiver(x[::5,::5], y[::5,::5], uin[::5,::5], vin[::5,::5], scale=400);\n",
      "    #plt.colorbar()\n",
      "    parallels = np.arange(0.,60,5.)\n",
      "    meridians = np.arange(-100.,-50.,5.)\n",
      "    m.drawparallels(parallels,labels=[1,0,0,0],fontsize=10);\n",
      "    m.drawmeridians(meridians,labels=[0,0,0,1],fontsize=10);\n",
      "    cb = m.colorbar(ff,\"bottom\", size=\"4%\", pad=\"3%\")\n",
      "    cb.set_label('wave height (m)')\n",
      "    title('The Perfect Storm - %s' % start.strftime('%Y-%m-%d-%H-%M'))\n",
      "    name = str(pvar)+'_0000'+start.strftime('%Y%m%d%H%M')+'.png'\n",
      "    filesave = os.path.join(directory,name)\n",
      "    plt.savefig(filesave)\n",
      "    print 'processed %s' % start\n",
      "\n",
      "def gen_dates4Now(past,url, box, vname, pvar):\n",
      "    for result in perdelta(dt.datetime.now() - dt.timedelta(days=past), dt.datetime.now(), dt.timedelta(hours=1)):\n",
      "        yield {\"date\":result,\"url\":url, \"box\":box, \"vname\":vname, \"pvar\":pvar}\n",
      "        \n",
      "def gen_dates(tstart,tend,url, box, vname, pvar, u, v, tres, savepath):\n",
      "    day = tend.toordinal() - tstart.toordinal()\n",
      "    for result in perdelta(tend - dt.timedelta(days=day), tend, dt.timedelta(hours=tres)):\n",
      "        yield {\"date\":result,\"url\":url, \"box\":box, \"vname\":vname, \"pvar\":pvar, \"u\":u, \"v\":v, 'savepath':savepath}"
     ],
     "language": "python",
     "metadata": {},
     "outputs": [],
     "prompt_number": 5
    },
    {
     "cell_type": "code",
     "collapsed": false,
     "input": [
      "#url='http://geoport.whoi.edu/thredds/dodsC/fmrc/NCEP/ww3/cfsr/4m/best'\n",
      "url='http://geoport.whoi.edu/thredds/dodsC/fmrc/NCEP/ww3/cfsr/10m/best'\n",
      "box = None\n",
      "#box = [-71.5, 39.5, -63.0, 46.0]\n",
      "vname = 'Significant_height_of_combined_wind_waves_and_swell_surface'\n",
      "u = 'u-component_of_wind_surface'\n",
      "v = 'v-component_of_wind_surface'\n",
      "pvar='time'\n",
      "tres = 1\n",
      "savepath = '/usgs/data2/notebook/frames'\n",
      "tstart = dt.datetime(1991,10,30,12)\n",
      "tend = dt.datetime(1991,11,1,12)"
     ],
     "language": "python",
     "metadata": {},
     "outputs": [],
     "prompt_number": 6
    },
    {
     "cell_type": "code",
     "collapsed": false,
     "input": [
      "cd /usgs/data2/notebook/frames"
     ],
     "language": "python",
     "metadata": {},
     "outputs": [
      {
       "output_type": "stream",
       "stream": "stdout",
       "text": [
        "/usgs/data2/notebook/frames\n"
       ]
      }
     ],
     "prompt_number": 1
    },
    {
     "cell_type": "code",
     "collapsed": false,
     "input": [
      "results = view.map(plotWave, list(gen_dates(tstart, tend, url, box, vname, pvar, u, v, tres, savepath)), ordered=False)\n",
      "results"
     ],
     "language": "python",
     "metadata": {},
     "outputs": [
      {
       "metadata": {},
       "output_type": "pyout",
       "prompt_number": 8,
       "text": [
        "<AsyncMapResult: plotWave>"
       ]
      }
     ],
     "prompt_number": 8
    },
    {
     "cell_type": "code",
     "collapsed": false,
     "input": [
      "for r in results:\n",
      "    print r\n",
      "    sys.stdout.flush()"
     ],
     "language": "python",
     "metadata": {},
     "outputs": [
      {
       "output_type": "stream",
       "stream": "stdout",
       "text": [
        "None\n"
       ]
      },
      {
       "output_type": "stream",
       "stream": "stdout",
       "text": [
        "None\n"
       ]
      },
      {
       "output_type": "stream",
       "stream": "stdout",
       "text": [
        "None\n"
       ]
      },
      {
       "output_type": "stream",
       "stream": "stdout",
       "text": [
        "None\n"
       ]
      },
      {
       "output_type": "stream",
       "stream": "stdout",
       "text": [
        "None\n"
       ]
      },
      {
       "output_type": "stream",
       "stream": "stdout",
       "text": [
        "None\n"
       ]
      },
      {
       "output_type": "stream",
       "stream": "stdout",
       "text": [
        "None\n"
       ]
      },
      {
       "output_type": "stream",
       "stream": "stdout",
       "text": [
        "None\n"
       ]
      },
      {
       "output_type": "stream",
       "stream": "stdout",
       "text": [
        "None\n"
       ]
      },
      {
       "output_type": "stream",
       "stream": "stdout",
       "text": [
        "None\n"
       ]
      },
      {
       "output_type": "stream",
       "stream": "stdout",
       "text": [
        "None\n"
       ]
      },
      {
       "output_type": "stream",
       "stream": "stdout",
       "text": [
        "None\n"
       ]
      },
      {
       "output_type": "stream",
       "stream": "stdout",
       "text": [
        "None\n"
       ]
      },
      {
       "output_type": "stream",
       "stream": "stdout",
       "text": [
        "None\n"
       ]
      },
      {
       "output_type": "stream",
       "stream": "stdout",
       "text": [
        "None\n"
       ]
      },
      {
       "output_type": "stream",
       "stream": "stdout",
       "text": [
        "None\n"
       ]
      },
      {
       "output_type": "stream",
       "stream": "stdout",
       "text": [
        "None\n"
       ]
      },
      {
       "output_type": "stream",
       "stream": "stdout",
       "text": [
        "None\n"
       ]
      },
      {
       "output_type": "stream",
       "stream": "stdout",
       "text": [
        "None\n"
       ]
      },
      {
       "output_type": "stream",
       "stream": "stdout",
       "text": [
        "None\n"
       ]
      },
      {
       "output_type": "stream",
       "stream": "stdout",
       "text": [
        "None\n"
       ]
      },
      {
       "output_type": "stream",
       "stream": "stdout",
       "text": [
        "None\n"
       ]
      },
      {
       "output_type": "stream",
       "stream": "stdout",
       "text": [
        "None\n"
       ]
      },
      {
       "output_type": "stream",
       "stream": "stdout",
       "text": [
        "None\n"
       ]
      },
      {
       "output_type": "stream",
       "stream": "stdout",
       "text": [
        "None\n"
       ]
      },
      {
       "output_type": "stream",
       "stream": "stdout",
       "text": [
        "None\n"
       ]
      },
      {
       "output_type": "stream",
       "stream": "stdout",
       "text": [
        "None\n"
       ]
      },
      {
       "output_type": "stream",
       "stream": "stdout",
       "text": [
        "None\n"
       ]
      },
      {
       "output_type": "stream",
       "stream": "stdout",
       "text": [
        "None\n"
       ]
      },
      {
       "output_type": "stream",
       "stream": "stdout",
       "text": [
        "None\n"
       ]
      },
      {
       "output_type": "stream",
       "stream": "stdout",
       "text": [
        "None\n"
       ]
      },
      {
       "output_type": "stream",
       "stream": "stdout",
       "text": [
        "None\n"
       ]
      },
      {
       "output_type": "stream",
       "stream": "stdout",
       "text": [
        "None\n"
       ]
      },
      {
       "output_type": "stream",
       "stream": "stdout",
       "text": [
        "None\n"
       ]
      },
      {
       "output_type": "stream",
       "stream": "stdout",
       "text": [
        "None\n"
       ]
      },
      {
       "output_type": "stream",
       "stream": "stdout",
       "text": [
        "None\n"
       ]
      },
      {
       "output_type": "stream",
       "stream": "stdout",
       "text": [
        "None\n"
       ]
      },
      {
       "output_type": "stream",
       "stream": "stdout",
       "text": [
        "None\n"
       ]
      },
      {
       "output_type": "stream",
       "stream": "stdout",
       "text": [
        "None\n"
       ]
      },
      {
       "output_type": "stream",
       "stream": "stdout",
       "text": [
        "None\n"
       ]
      },
      {
       "output_type": "stream",
       "stream": "stdout",
       "text": [
        "None\n"
       ]
      },
      {
       "output_type": "stream",
       "stream": "stdout",
       "text": [
        "None\n"
       ]
      },
      {
       "output_type": "stream",
       "stream": "stdout",
       "text": [
        "None\n"
       ]
      },
      {
       "output_type": "stream",
       "stream": "stdout",
       "text": [
        "None\n"
       ]
      },
      {
       "output_type": "stream",
       "stream": "stdout",
       "text": [
        "None\n"
       ]
      },
      {
       "output_type": "stream",
       "stream": "stdout",
       "text": [
        "None\n"
       ]
      },
      {
       "output_type": "stream",
       "stream": "stdout",
       "text": [
        "None\n"
       ]
      },
      {
       "output_type": "stream",
       "stream": "stdout",
       "text": [
        "None\n"
       ]
      }
     ],
     "prompt_number": 9
    },
    {
     "cell_type": "code",
     "collapsed": false,
     "input": [
      "results.display_outputs()"
     ],
     "language": "python",
     "metadata": {},
     "outputs": [
      {
       "output_type": "stream",
       "stream": "stdout",
       "text": [
        "[stdout:3] processed 1991-10-30 12:00:00\n",
        "[stdout:2] processed 1991-10-30 13:00:00\n",
        "[stdout:1] processed 1991-10-30 14:00:00\n",
        "[stdout:0] processed 1991-10-30 15:00:00\n",
        "[stdout:1] processed 1991-10-30 16:00:00\n",
        "[stdout:3] processed 1991-10-30 17:00:00\n",
        "[stdout:0] processed 1991-10-30 18:00:00\n",
        "[stdout:2] processed 1991-10-30 19:00:00\n",
        "[stdout:1] processed 1991-10-30 20:00:00\n",
        "[stdout:3] processed 1991-10-30 21:00:00\n",
        "[stdout:0] processed 1991-10-30 22:00:00\n",
        "[stdout:2] processed 1991-10-30 23:00:00\n",
        "[stdout:3] processed 1991-10-31 00:00:00\n",
        "[stdout:0] processed 1991-10-31 01:00:00\n",
        "[stdout:2] processed 1991-10-31 02:00:00\n",
        "[stdout:1] processed 1991-10-31 03:00:00\n",
        "[stdout:0] processed 1991-10-31 04:00:00\n",
        "[stdout:1] processed 1991-10-31 05:00:00\n",
        "[stdout:2] processed 1991-10-31 06:00:00\n",
        "[stdout:3] processed 1991-10-31 07:00:00\n",
        "[stdout:0] processed 1991-10-31 08:00:00\n",
        "[stdout:1] processed 1991-10-31 09:00:00\n",
        "[stdout:3] processed 1991-10-31 10:00:00\n",
        "[stdout:2] processed 1991-10-31 11:00:00\n",
        "[stdout:0] processed 1991-10-31 12:00:00\n",
        "[stdout:1] processed 1991-10-31 13:00:00\n",
        "[stdout:3] processed 1991-10-31 14:00:00\n",
        "[stdout:2] processed 1991-10-31 15:00:00\n",
        "[stdout:0] processed 1991-10-31 16:00:00\n",
        "[stdout:1] processed 1991-10-31 17:00:00\n",
        "[stdout:3] processed 1991-10-31 18:00:00\n",
        "[stdout:2] processed 1991-10-31 19:00:00\n",
        "[stdout:0] processed 1991-10-31 20:00:00\n",
        "[stdout:1] processed 1991-10-31 21:00:00\n",
        "[stdout:3] processed 1991-10-31 22:00:00\n",
        "[stdout:2] processed 1991-10-31 23:00:00\n",
        "[stdout:0] processed 1991-11-01 00:00:00\n",
        "[stdout:3] processed 1991-11-01 01:00:00\n",
        "[stdout:2] processed 1991-11-01 02:00:00\n",
        "[stdout:1] processed 1991-11-01 03:00:00\n",
        "[stdout:0] processed 1991-11-01 04:00:00\n",
        "[stdout:3] processed 1991-11-01 05:00:00\n",
        "[stdout:2] processed 1991-11-01 06:00:00\n",
        "[stdout:1] processed 1991-11-01 07:00:00\n",
        "[stdout:0] processed 1991-11-01 08:00:00\n",
        "[stdout:3] processed 1991-11-01 09:00:00\n",
        "[stdout:1] processed 1991-11-01 10:00:00\n",
        "[stdout:2] processed 1991-11-01 11:00:00\n"
       ]
      }
     ],
     "prompt_number": 10
    },
    {
     "cell_type": "code",
     "collapsed": false,
     "input": [
      "#os.system('cat *.png | ffmpeg -r 24 -y -f image2pipe -c:v png -i - -c:v libx264 -preset ultrafast -qp 0 -movflags +faststart -pix_fmt yuv420p time.mkv')"
     ],
     "language": "python",
     "metadata": {},
     "outputs": [
      {
       "metadata": {},
       "output_type": "pyout",
       "prompt_number": 6,
       "text": [
        "256"
       ]
      }
     ],
     "prompt_number": 6
    },
    {
     "cell_type": "code",
     "collapsed": false,
     "input": [
      "os.system('mencoder 'mf://time_*.png' -mf type=png:fps=10 -ovc lavc -lavcopts vcodec=mpeg4 -oac copy -o time.mpg')"
     ],
     "language": "python",
     "metadata": {},
     "outputs": [],
     "prompt_number": "*"
    },
    {
     "cell_type": "code",
     "collapsed": false,
     "input": [
      "from IPython.core.display import HTML\n",
      "video = open(\"time.mpg\", \"rb\").read()\n",
      "video_encoded = video.encode(\"base64\")\n",
      "video_tag = '<video autoplay loop controls alt=\"test\" src=\"data:video/x-mpeg4;base64,{0}\">'.format(video_encoded)\n",
      "HTML(data=video_tag)"
     ],
     "language": "python",
     "metadata": {},
     "outputs": [],
     "prompt_number": "*"
    },
    {
     "cell_type": "code",
     "collapsed": false,
     "input": [
      "lines = !jist -p The_Perfect_Storm_1991.ipynb\n",
      "print lines[0].replace(\"https://gist.github.com\", \"http://nbviewer.ipython.org\")"
     ],
     "language": "python",
     "metadata": {},
     "outputs": []
    },
    {
     "cell_type": "code",
     "collapsed": false,
     "input": [
      "import os\n",
      "os.getcwd()"
     ],
     "language": "python",
     "metadata": {},
     "outputs": [
      {
       "metadata": {},
       "output_type": "pyout",
       "prompt_number": 18,
       "text": [
        "'/usgs/data2/notebook/frames'"
       ]
      }
     ],
     "prompt_number": 18
    },
    {
     "cell_type": "code",
     "collapsed": false,
     "input": [],
     "language": "python",
     "metadata": {},
     "outputs": []
    }
   ],
   "metadata": {}
  }
 ]
}