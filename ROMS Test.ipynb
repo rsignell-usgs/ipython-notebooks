{
 "metadata": {
  "name": "ROMS Test"
 },
 "nbformat": 3,
 "nbformat_minor": 0,
 "worksheets": [
  {
   "cells": [
    {
     "cell_type": "code",
     "collapsed": false,
     "input": [
      "import numpy as np\n",
      "import matplotlib.pyplot as plt\n",
      "from mpl_toolkits.basemap import Basemap\n",
      "import netCDF4"
     ],
     "language": "python",
     "metadata": {},
     "outputs": [],
     "prompt_number": 1
    },
    {
     "cell_type": "code",
     "collapsed": false,
     "input": [
      "tidx = -1       # just get the final frame, for now.\n",
      "subsample = 9  # roughly every third point in each direction (3**2 = 9)\n",
      "scale = 0.1\n",
      "url = 'http://testbedapps-dev.sura.org/thredds/dodsC/alldata/Shelf_Hypoxia/tamu/roms/tamu_roms.nc'"
     ],
     "language": "python",
     "metadata": {},
     "outputs": [],
     "prompt_number": 2
    },
    {
     "cell_type": "code",
     "collapsed": false,
     "input": [
      "nc = netCDF4.Dataset(url)\n",
      "\n",
      "basemap = Basemap(llcrnrlon=-95.1,\n",
      "                  llcrnrlat=27.25,\n",
      "                  urcrnrlon=-87.5,\n",
      "                  urcrnrlat=30.95,\n",
      "                  projection='lcc',\n",
      "                  lat_0=30.0,\n",
      "                  lon_0=-90.0,\n",
      "                  resolution ='i',\n",
      "                  area_thresh=0.)"
     ],
     "language": "python",
     "metadata": {},
     "outputs": [],
     "prompt_number": 3
    },
    {
     "cell_type": "code",
     "collapsed": false,
     "input": [
      "def shrink(a,b):\n",
      "    \"\"\"Return array shrunk to fit a specified shape by triming or averaging.\n",
      "    \n",
      "    a = shrink(array, shape)\n",
      "    \n",
      "    array is an numpy ndarray, and shape is a tuple (e.g., from\n",
      "    array.shape). a is the input array shrunk such that its maximum\n",
      "    dimensions are given by shape. If shape has more dimensions than\n",
      "    array, the last dimensions of shape are fit.\n",
      "    \n",
      "    as, bs = shrink(a, b)\n",
      "    \n",
      "    If the second argument is also an array, both a and b are shrunk to\n",
      "    the dimensions of each other. The input arrays must have the same\n",
      "    number of dimensions, and the resulting arrays will have the same\n",
      "    shape.\n",
      "    Example\n",
      "    -------\n",
      "    \n",
      "    >>> shrink(rand(10, 10), (5, 9, 18)).shape\n",
      "    (9, 10)\n",
      "    >>> map(shape, shrink(rand(10, 10, 10), rand(5, 9, 18)))        \n",
      "    [(5, 9, 10), (5, 9, 10)]   \n",
      "       \n",
      "    \"\"\"\n",
      "\n",
      "    if isinstance(b, np.ndarray):\n",
      "        if not len(a.shape) == len(b.shape):\n",
      "            raise Exception, \\\n",
      "                  'input arrays must have the same number of dimensions'\n",
      "        a = shrink(a,b.shape)\n",
      "        b = shrink(b,a.shape)\n",
      "        return (a, b)\n",
      "\n",
      "    if isinstance(b, int):\n",
      "        b = (b,)\n",
      "\n",
      "    if len(a.shape) == 1:                # 1D array is a special case\n",
      "        dim = b[-1]\n",
      "        while a.shape[0] > dim:          # only shrink a\n",
      "            if (dim - a.shape[0]) >= 2:  # trim off edges evenly\n",
      "                a = a[1:-1]\n",
      "            else:                        # or average adjacent cells\n",
      "                a = 0.5*(a[1:] + a[:-1])\n",
      "    else:\n",
      "        for dim_idx in range(-(len(a.shape)),0):\n",
      "            dim = b[dim_idx]\n",
      "            a = a.swapaxes(0,dim_idx)        # put working dim first\n",
      "            while a.shape[0] > dim:          # only shrink a\n",
      "                if (a.shape[0] - dim) >= 2:  # trim off edges evenly\n",
      "                    a = a[1:-1,:]\n",
      "                if (a.shape[0] - dim) == 1:  # or average adjacent cells\n",
      "                    a = 0.5*(a[1:,:] + a[:-1,:])\n",
      "            a = a.swapaxes(0,dim_idx)        # swap working dim back\n",
      "\n",
      "    return a"
     ],
     "language": "python",
     "metadata": {},
     "outputs": [],
     "prompt_number": 4
    },
    {
     "cell_type": "code",
     "collapsed": false,
     "input": [
      "def rot2d(x, y, ang):\n",
      "    '''rotate vectors by geometric angle'''\n",
      "    xr = x*np.cos(ang) - y*np.sin(ang)\n",
      "    yr = x*np.sin(ang) + y*np.cos(ang)\n",
      "    return xr, yr"
     ],
     "language": "python",
     "metadata": {},
     "outputs": [],
     "prompt_number": "*"
    },
    {
     "cell_type": "code",
     "collapsed": false,
     "input": [
      "mask = nc.variables['mask_rho'][:]\n",
      "lon_rho = nc.variables['lon_rho'][:]\n",
      "lat_rho = nc.variables['lat_rho'][:]\n",
      "anglev = nc.variables['angle'][:]\n",
      "\n",
      "x_rho, y_rho = basemap(lon_rho, lat_rho)\n",
      "\n",
      "u = nc.variables['u'][tidx, -1, :, :]\n",
      "v = nc.variables['v'][tidx, -1, :, :]\n",
      "\n",
      "u = shrink(u, mask[1:-1, 1:-1].shape)\n",
      "v = shrink(v, mask[1:-1, 1:-1].shape)\n",
      "\n",
      "u, v = rot2d(u, v, anglev[1:-1, 1:-1])\n",
      "\n",
      "# some code to plot random points.\n",
      "idx, idy = np.where(mask[1:-1, 1:-1] == 1.0)\n",
      "idv = np.arange(len(idx))\n",
      "np.random.shuffle(idv)\n",
      "Nvec = int(len(idx) / subsample)\n",
      "idv = idv[:Nvec]\n",
      "idx = idx[idv]\n",
      "idy = idy[idv]\n",
      "\n"
     ],
     "language": "python",
     "metadata": {},
     "outputs": [],
     "prompt_number": "*"
    },
    {
     "cell_type": "code",
     "collapsed": false,
     "input": [
      "figure = plt.figure(figsize=(16,9))\n",
      "ax = figure.add_subplot(111)\n",
      "\n",
      "basemap.drawcoastlines()\n",
      "basemap.fillcontinents()\n",
      "\n",
      "q = ax.quiver( x_rho[idx, idy], y_rho[idx,idy], \n",
      "            u[idx,  idy], v[idx, idy],\n",
      "            scale=1.0/scale, pivot='middle', zorder=1e35, width=0.003)\n",
      "\n",
      "plt.quiverkey(q, 0.85, 0.07, 1.0, label=r'1 m s$^{-1}$', coordinates='figure')\n",
      "\n"
     ],
     "language": "python",
     "metadata": {},
     "outputs": [],
     "prompt_number": "*"
    },
    {
     "cell_type": "code",
     "collapsed": true,
     "input": [],
     "language": "python",
     "metadata": {},
     "outputs": [],
     "prompt_number": "*"
    }
   ],
   "metadata": {}
  }
 ]
}