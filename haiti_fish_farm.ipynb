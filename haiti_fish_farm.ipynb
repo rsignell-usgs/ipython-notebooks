{
 "metadata": {
  "name": "haiti_fish_farm"
 },
 "nbformat": 3,
 "nbformat_minor": 0,
 "worksheets": [
  {
   "cells": [
    {
     "cell_type": "code",
     "collapsed": false,
     "input": [
      "# get NO3 and CHL data from MyOcean \n",
      "from IPython.core.display import HTML\n",
      "HTML('<iframe src=http://resources.myocean.eu/?'\n",
      "     'option=com_csw&view=details&product_id=GLOBAL_ANALYSIS_BIO_001_008_a# '\n",
      "     'width=700 height=400></iframe>')"
     ],
     "language": "python",
     "metadata": {},
     "outputs": [
      {
       "html": [
        "<iframe src=http://resources.myocean.eu/?option=com_csw&view=details&product_id=GLOBAL_ANALYSIS_BIO_001_008_a# width=700 height=400></iframe>"
       ],
       "metadata": {},
       "output_type": "pyout",
       "prompt_number": 22,
       "text": [
        "<IPython.core.display.HTML at 0x3a68350>"
       ]
      }
     ],
     "prompt_number": 22
    },
    {
     "cell_type": "code",
     "collapsed": false,
     "input": [
      "import os\n",
      "os.system('python /home/rsignell/python/motu-client-python/motu-client.py -u rsignell' \n",
      "          '-m http://atoll.mercator-ocean.fr/mfcglo-mercator-gateway-servlet/Motu '\n",
      "          '-s http://purl.org/myocean/ontology/service/database#GLOBAL_ANALYSIS_BIO_001_008_a-TDS '\n",
      "          '-d global-analysis-bio-001-008-a -x -75.3 -X -67.0 -y 17.0 -Y 20.0 -t \"2013-05-04 12:00:00\" -T \"2013-05-05 12:00:00\" '\n",
      "          '-z 0.49 -Z 5727.92 -v NO3 -v CHL -o /usgs/data2/notebook/data -f foo2.nc')"
     ],
     "language": "python",
     "metadata": {},
     "outputs": []
    },
    {
     "cell_type": "code",
     "collapsed": false,
     "input": [
      "import iris\n",
      "import iris.plot as iplt"
     ],
     "language": "python",
     "metadata": {},
     "outputs": [],
     "prompt_number": 14
    },
    {
     "cell_type": "code",
     "collapsed": false,
     "input": [
      "cubes = iris.load('/usgs/data2/notebook/data/foo2.nc')\n"
     ],
     "language": "python",
     "metadata": {},
     "outputs": [],
     "prompt_number": 12
    },
    {
     "cell_type": "code",
     "collapsed": false,
     "input": [
      "print cubes"
     ],
     "language": "python",
     "metadata": {},
     "outputs": [
      {
       "output_type": "stream",
       "stream": "stdout",
       "text": [
        "0: mass_concentration_of_chlorophyll_in_sea_water / (mg/m^3) (time: 1; depth: 50; latitude: 7; longitude: 18)\n",
        "1: mole_concentration_of_nitrate_in_sea_water / (mmol/m^3) (time: 1; depth: 50; latitude: 7; longitude: 18)\n"
       ]
      }
     ],
     "prompt_number": 13
    },
    {
     "cell_type": "code",
     "collapsed": false,
     "input": [
      "print cubes[1]"
     ],
     "language": "python",
     "metadata": {},
     "outputs": [
      {
       "output_type": "stream",
       "stream": "stdout",
       "text": [
        "mole_concentration_of_nitrate_in_sea_water / (mmol/m^3) (time: 1; depth: 50; latitude: 7; longitude: 18)\n",
        "     Dimension coordinates:\n",
        "          time                                               x         -             -             -\n",
        "          depth                                              -         x             -             -\n",
        "          latitude                                           -         -             x             -\n",
        "          longitude                                          -         -             -             x\n",
        "     Attributes:\n",
        "          Conventions: CF-1.0\n",
        "          _CoordinateAxes: time_counter depth latitude longitude \n",
        "          history: Data extracted from dataset http://atoll-mercator.vlandata.cls.fr:4408...\n",
        "          institution: MERCATOR OCEAN\n",
        "          julian_day_unit: hours since 1950-01-01 00:00:00\n",
        "          latitude_max: 20.0\n",
        "          latitude_min: 17.0\n",
        "          longitude_max: -67.0\n",
        "          longitude_min: -75.5\n",
        "          references: http://www.mercator-ocean.fr\n",
        "          source: MERCATOR BIOMER1V2R1\n",
        "          time_max: 555228.0\n",
        "          time_min: 555228.0\n",
        "          title: CLASS1 MyOcean BIOMER1V2R1\n",
        "          unit_long: millimoles of Nitrate per cubic meter\n",
        "          z_max: 5727.91699219\n",
        "          z_min: 0.494024991989\n",
        "     Cell methods:\n",
        "          mean: area\n"
       ]
      }
     ],
     "prompt_number": 23
    },
    {
     "cell_type": "code",
     "collapsed": false,
     "input": [
      "slice=cubes[1][0,0,:,:]"
     ],
     "language": "python",
     "metadata": {},
     "outputs": [],
     "prompt_number": 25
    },
    {
     "cell_type": "code",
     "collapsed": false,
     "input": [
      "print slice"
     ],
     "language": "python",
     "metadata": {},
     "outputs": [
      {
       "output_type": "stream",
       "stream": "stdout",
       "text": [
        "mole_concentration_of_nitrate_in_sea_water / (mmol/m^3) (latitude: 7; longitude: 18)\n",
        "     Dimension coordinates:\n",
        "          latitude                                               x             -\n",
        "          longitude                                              -             x\n",
        "     Scalar coordinates:\n",
        "          depth: 0.494025 m\n",
        "          time: 2013-05-04 12:00:00\n",
        "     Attributes:\n",
        "          Conventions: CF-1.0\n",
        "          _CoordinateAxes: time_counter depth latitude longitude \n",
        "          history: Data extracted from dataset http://atoll-mercator.vlandata.cls.fr:4408...\n",
        "          institution: MERCATOR OCEAN\n",
        "          julian_day_unit: hours since 1950-01-01 00:00:00\n",
        "          latitude_max: 20.0\n",
        "          latitude_min: 17.0\n",
        "          longitude_max: -67.0\n",
        "          longitude_min: -75.5\n",
        "          references: http://www.mercator-ocean.fr\n",
        "          source: MERCATOR BIOMER1V2R1\n",
        "          time_max: 555228.0\n",
        "          time_min: 555228.0\n",
        "          title: CLASS1 MyOcean BIOMER1V2R1\n",
        "          unit_long: millimoles of Nitrate per cubic meter\n",
        "          z_max: 5727.91699219\n",
        "          z_min: 0.494024991989\n",
        "     Cell methods:\n",
        "          mean: area\n"
       ]
      }
     ],
     "prompt_number": 26
    },
    {
     "cell_type": "code",
     "collapsed": false,
     "input": [
      "iplt.contourf(slice)"
     ],
     "language": "python",
     "metadata": {},
     "outputs": [
      {
       "metadata": {},
       "output_type": "pyout",
       "prompt_number": 28,
       "text": [
        "<matplotlib.contour.QuadContourSet instance at 0x3be67a0>"
       ]
      },
      {
       "metadata": {},
       "output_type": "display_data",
       "png": "[encoded data removed]",
       "text": [
        "<matplotlib.figure.Figure at 0x3a65d50>"
       ]
      }
     ],
     "prompt_number": 28
    },
    {
     "cell_type": "code",
     "collapsed": false,
     "input": [],
     "language": "python",
     "metadata": {},
     "outputs": []
    }
   ],
   "metadata": {}
  }
 ]
}