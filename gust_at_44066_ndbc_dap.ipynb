{
 "metadata": {
  "name": "gust_at_44066_ndbc_dap"
 },
 "nbformat": 3,
 "nbformat_minor": 0,
 "worksheets": [
  {
   "cells": [
    {
     "cell_type": "code",
     "collapsed": false,
     "input": [
      "import netCDF4\n",
      "import pandas as pd\n",
      "import datetime as dt"
     ],
     "language": "python",
     "metadata": {},
     "outputs": [],
     "prompt_number": 18
    },
    {
     "cell_type": "code",
     "collapsed": false,
     "input": [
      "url='http://dods.ndbc.noaa.gov/thredds/dodsC/data/pwind/44066/44066p9999.nc'\n",
      "nc = netCDF4.Dataset(url).variables\n",
      "print nc.keys()\n",
      "print nc['gust_spd']"
     ],
     "language": "python",
     "metadata": {},
     "outputs": [
      {
       "output_type": "stream",
       "stream": "stdout",
       "text": [
        "[u'time', u'latitude', u'longitude', u'gust_dir', u'gust_spd', u'gust_time']\n",
        "<type 'netCDF4.Variable'>\n",
        "float32 gust_spd(u'time', u'latitude', u'longitude')\n",
        "    long_name: Gust Speed\n",
        "    short_name: gsp\n",
        "    standard_name: gust_speed\n",
        "    units: meters/second\n",
        "    _FillValue: 99.0\n",
        "unlimited dimensions = (u'time',)\n",
        "current size = (16050, 1, 1)\n",
        "\n"
       ]
      }
     ],
     "prompt_number": 19
    },
    {
     "cell_type": "code",
     "collapsed": false,
     "input": [
      "time_var = nc['time']\n",
      "jd = netCDF4.num2date(time_var[:],time_var.units)\n",
      "start = dt.datetime(2013,6,13,10,0,0)\n",
      "stop = dt.datetime(2013,6,14,0,0,0)\n",
      "istart = netCDF4.date2index(start,time_var,select='nearest')\n",
      "istop = netCDF4.date2index(stop,time_var,select='nearest')\n",
      "gust = nc['gust_spd'][istart:istop,:,:].flatten()\n",
      "jd = jd[istart:istop]\n",
      "\n",
      "\n"
     ],
     "language": "python",
     "metadata": {},
     "outputs": [],
     "prompt_number": 22
    },
    {
     "cell_type": "code",
     "collapsed": false,
     "input": [
      "df = pd.Series(gust[:],index=jd)\n",
      "df.plot(figsize=(12,4),style='ro')"
     ],
     "language": "python",
     "metadata": {},
     "outputs": [
      {
       "metadata": {},
       "output_type": "pyout",
       "prompt_number": 25,
       "text": [
        "<matplotlib.axes.AxesSubplot at 0x30d9ad0>"
       ]
      },
      {
       "metadata": {},
       "output_type": "display_data",
       "png": "[encoded data removed]",
       "text": [
        "<matplotlib.figure.Figure at 0x30a9310>"
       ]
      }
     ],
     "prompt_number": 25
    },
    {
     "cell_type": "code",
     "collapsed": false,
     "input": [
      "gust"
     ],
     "language": "python",
     "metadata": {},
     "outputs": [
      {
       "metadata": {},
       "output_type": "pyout",
       "prompt_number": 24,
       "text": [
        "masked_array(data = [-- -- -- -- -- 5.0 -- -- -- -- -- 7.0 -- -- -- -- -- 6.0 -- -- -- -- --\n",
        " 8.0 -- -- -- -- -- 9.0 -- -- -- -- -- 10.0 -- -- -- -- -- 27.0 -- -- -- --\n",
        " -- 52.0 -- -- -- -- -- 6.0 -- -- -- -- -- 9.0 -- -- -- -- -- 7.0 -- -- --\n",
        " -- -- 7.0],\n",
        "             mask = [ True  True  True  True  True False  True  True  True  True  True False\n",
        "  True  True  True  True  True False  True  True  True  True  True False\n",
        "  True  True  True  True  True False  True  True  True  True  True False\n",
        "  True  True  True  True  True False  True  True  True  True  True False\n",
        "  True  True  True  True  True False  True  True  True  True  True False\n",
        "  True  True  True  True  True False  True  True  True  True  True False],\n",
        "       fill_value = 99.0)\n"
       ]
      }
     ],
     "prompt_number": 24
    },
    {
     "cell_type": "code",
     "collapsed": false,
     "input": [],
     "language": "python",
     "metadata": {},
     "outputs": []
    }
   ],
   "metadata": {}
  }
 ]
}