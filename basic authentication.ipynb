{
 "metadata": {
  "name": "basic authentication"
 },
 "nbformat": 3,
 "nbformat_minor": 0,
 "worksheets": [
  {
   "cells": [
    {
     "cell_type": "code",
     "collapsed": false,
     "input": [
      "import urllib2, base64\n",
      "import json"
     ],
     "language": "python",
     "metadata": {},
     "outputs": [],
     "prompt_number": 1
    },
    {
     "cell_type": "code",
     "collapsed": false,
     "input": [
      "url='https://enlighten.enphaseenergy.com/systems/15610/devices/395315/graph_widget.json?timeframe=recent'\n",
      "username='rsignell@usgs.gov'\n",
      "password='4U10PXWU55'"
     ],
     "language": "python",
     "metadata": {},
     "outputs": []
    },
    {
     "cell_type": "code",
     "collapsed": false,
     "input": [],
     "language": "python",
     "metadata": {},
     "outputs": []
    },
    {
     "cell_type": "code",
     "collapsed": false,
     "input": [
      "request = urllib2.Request(url)\n",
      "base64string = base64.encodestring('%s:%s' % (username, password)).replace('\\n', '')\n",
      "request.add_header(\"Authorization\", \"Basic %s\" % base64string)   \n",
      "result = urllib2.urlopen(request)"
     ],
     "language": "python",
     "metadata": {},
     "outputs": []
    },
    {
     "cell_type": "code",
     "collapsed": false,
     "input": [
      "json=result.read()"
     ],
     "language": "python",
     "metadata": {},
     "outputs": [],
     "prompt_number": 10
    },
    {
     "cell_type": "code",
     "collapsed": false,
     "input": [
      "print(json)"
     ],
     "language": "python",
     "metadata": {},
     "outputs": [
      {
       "output_type": "stream",
       "stream": "stdout",
       "text": [
        "<!DOCTYPE html>\n",
        "<html lang=\"en-US\">\n",
        "  <head>\n",
        "    <meta http-equiv=\"X-UA-Compatible\" content=\"IE=Edge,chrome=IE8\">\n",
        "    <meta charset=\"UTF-8\">\n",
        "    <meta name=\"csrf-param\" content=\"authenticity_token\"/>\n",
        "<meta name=\"csrf-token\" content=\"sTFo2xxhWX&#47;FMSa49ws9ZWjXrcdA3JV+3NKrRw&#47;6H7s=\"/>\n",
        "    <title>Enphase Energy - Enlighten | Sign in to Enlighten</title>\n",
        "    <meta http-equiv=\"Content-Type\" content=\"text/html;charset=UTF-8\" />\n",
        "    <meta name=\"format-detection\" content=\"telephone=no\" >\n",
        "    <link rel=\"apple-touch-icon-precomposed\" href=\"/images/mobile/enphase_touch-icon-precomposed.png\"/>\n",
        "    <link rel=\"apple-touch-icon-precomposed\" sizes=\"72x72\" href=\"/images/mobile/enphase_touch-ipad-precomposed.png\" />\n",
        "    <link rel=\"apple-touch-icon-precomposed\" sizes=\"114x114\" href=\"t/images/mobile/enphase_touch-iphone4-precomposed.png\" />\n",
        "    <meta name=\"description\" content=\"Enphase Enlighten -- the world&#x27;s most advanced solar monitoring tool.\">\n",
        "    <meta name=\"format-detection\" content=\"telephone=no\" />\n",
        "    <!--[if (!IE)|(gte IE 8)]><!-->\n",
        "<link href=\"https://assets1.enphaseenergy.com/assets/e3_common-datauri.css?1366169259\" media=\"screen\" rel=\"stylesheet\" type=\"text/css\" />\n",
        "<!--<![endif]-->\n",
        "<!--[if lte IE 7]>\n",
        "<link href=\"https://assets1.enphaseenergy.com/assets/e3_common.css?1366169259\" media=\"screen\" rel=\"stylesheet\" type=\"text/css\" />\n",
        "<![endif]-->\n",
        "    <!--[if (!IE)|(gte IE 8)]><!-->\n",
        "<link href=\"https://assets1.enphaseenergy.com/assets/public-datauri.css?1366169259\" media=\"screen\" rel=\"stylesheet\" type=\"text/css\" />\n",
        "<!--<![endif]-->\n",
        "<!--[if lte IE 7]>\n",
        "<link href=\"https://assets1.enphaseenergy.com/assets/public.css?1366169259\" media=\"screen\" rel=\"stylesheet\" type=\"text/css\" />\n",
        "<![endif]-->\n",
        "    <!--[if (!IE)|(gte IE 8)]><!-->\n",
        "<link href=\"https://assets1.enphaseenergy.com/assets/e3_print-datauri.css?1349151987\" media=\"print\" rel=\"stylesheet\" type=\"text/css\" />\n",
        "<!--<![endif]-->\n",
        "<!--[if lte IE 7]>\n",
        "<link href=\"https://assets1.enphaseenergy.com/assets/e3_print.css?1349151987\" media=\"print\" rel=\"stylesheet\" type=\"text/css\" />\n",
        "<![endif]-->\n",
        "    <script type=\"text/javascript\" src=\"https://ajax.googleapis.com/ajax/libs/jquery/1.6.4/jquery.min.js\"></script>\n",
        "    <!--[if lt IE 9]>\n",
        "        <link rel=\"stylesheet\" href=\"/stylesheets/e3/e3_ie8.css\" media=\"screen\" type=\"text/css\" />\n",
        "        <script type=\"text/javascript\" src=\"/javascripts/e3_ie_css3-mediaqueries.js\"></script>\n",
        "    <![endif]-->\n",
        "    <!--[if lt IE 8]>\n",
        "        <script type=\"text/javascript\" src=\"/javascripts/e3_ie7.js\"></script>\n",
        "    <![endif]-->\n",
        "    <!--[if gte IE 9]>\n",
        "        <link rel=\"stylesheet\" href=\"/stylesheets/e3/e3_ie9.css\" media=\"screen\" type=\"text/css\" />\n",
        "    <![endif]-->\n",
        "    \n",
        "  <script type=\"text/javascript\">var NREUMQ=NREUMQ||[];NREUMQ.push([\"mark\",\"firstbyte\",new Date().getTime()]);</script></head>\n",
        "  <body>\n",
        "    \n",
        "        \n",
        "\n",
        "<div id='header_container'>\n",
        "  <div id='header'>\n",
        "        <a href=\"/login\" class=\"enl_logo\" id=\"left_logo\"></a>\n",
        "    \n",
        "    <div id='user_display'>\n",
        "      <div  id=\"nav_account\" class=\"user_link flyout_init\">\n",
        "        <div class=\"arrow_down\"><span class=\"navbar\">Language</span></div>\n",
        "\n",
        "        <div id=\"account_flyout\" >\n",
        "\n",
        "          <ul id=\"language_info\">\n",
        "      <li><a href=\"/?locale=en-US\" class=\"lang_active selected\">English</a></li>\n",
        "      <li><a href=\"/?locale=fr\" class=\"\">Fran\u00e7ais</a></li>\n",
        "      <li><a href=\"/?locale=it\" class=\"\">Italiano</a></li>\n",
        "</ul>\n",
        "          <ul id=\"user_logout\" class=\"link_group\">\n",
        "            <li></li></ul>\n",
        "        </div>\n",
        "      </div>\n",
        "    </div>\n",
        "  </div>\n",
        "</div>\n",
        "\n",
        "\n",
        "        <div class=\"page\"></div>\n",
        "        <div class='page'>\n",
        "        <div class=\"page\" id=\"login\">\n",
        "    <div id=\"marketing_img\">\n",
        "      <div id='public-system-content'>Want to see Enphase in action? <a href='/public_systems'>View public systems</a></div>\n",
        "    </div>\n",
        "    <form accept-charset=\"UTF-8\" action=\"/login/login\" method=\"post\"><div style=\"margin:0;padding:0;display:inline\"><input name=\"utf8\" type=\"hidden\" value=\"&#x2713;\" /><input name=\"authenticity_token\" type=\"hidden\" value=\"sTFo2xxhWX/FMSa49ws9ZWjXrcdA3JV+3NKrRw/6H7s=\" /></div>\n",
        "    <div id='login_box_container'>\n",
        "    \n",
        "\n",
        "<!--[form:user]-->\n",
        "<label for=\"user_email\">Email:</label>\n",
        "<input autocorrect=\"on\" class=\"login_text_field\" id=\"user_email\" name=\"user[email]\" size=\"30\" type=\"text\" />\n",
        "<label for=\"user_password\">Password:</label><input autocorrect=\"off\" class=\"login_text_field\" id=\"user_password\" name=\"user[password]\" onkeypress=\"capLock(event, false)\" size=\"30\" type=\"password\" />\n",
        "<div id=\"caps_lock_warning\" class=\"ui-state-error ui-corner-all\"><span class=\"ui-icon ui-icon-alert\" style=\"float: left; margin-right: .3em;\"></span>Caps Lock is on</div>\n",
        "<!--[eoform:user]-->\n",
        "\n",
        "\n",
        "    <p id='forgot_password'><a href=\"/forgot_password\">Forgot your password?</a></p>\n",
        "    <label for=\"submit\" class=\"butn\"><input id=\"submit\" name=\"commit\" type=\"submit\" value=\"Sign In\" /></label>\n",
        "    <p id=\"new_user\">Installing your first Enphase system? <a href='/users/new'>Sign up for Enlighten</a></p>\n",
        "    </div>\n",
        "</form></div>\n",
        "<div class=\"clear\"></div>\n",
        "<p id=\"recommended-browsers\">Enlighten is compatible with the following browsers: Chrome 5 or higher, Firefox 11 or higher, Internet Explorer 8 or higher, Safari 5 or higher.</p>\n",
        "<script type=\"text/javascript\">\n",
        "$(document).ready(function() {\n",
        "    $('#user_email').focus();\n",
        "    $(\"#submit\").button();\n",
        "    $(\"#register\").button();\n",
        "});\n",
        "</script>\n",
        "        </div><div class='clear'></div>\n",
        "        <div id='footer_container'>\n",
        "  <footer id='footer'>\n",
        "    <a href=\"http://enphase.com/\" class=\"img\" id=\"enphase_logo\" target=\"blank\" title=\"Visit the Enphase Energy website\"></a>\n",
        "    <section id='copyright'>\n",
        "      &copy;2008-2013 Enphase Energy Inc. All rights reserved. <a href=\"http://enphase.com/privacy\" target=\"blank\">Privacy</a> | <a href=\"http://enphase.com/terms\" target=\"blank\">Terms</a>\n",
        "      | <a href=\"http://community.enphaseenergy.com\" target=\"blank\">Community</a>\n",
        "    </section>\n",
        "  </footer>\n",
        "\n",
        "  \n",
        "  <script type=\"text/javascript\">\n",
        "  var _gaq = _gaq || [];\n",
        "  setTimeout(function() {_gaq.push(['_setAccount', 'UA-2434165-3'])},0);\n",
        "  setTimeout(function() {_gaq.push(['_trackPageview'])},0);\n",
        "  (function() {\n",
        "    var ga = document.createElement('script'); ga.type = 'text/javascript'; ga.async = true;\n",
        "    ga.src = ('https:' == document.location.protocol ? 'https://ssl' : 'http://www') + '.google-analytics.com/ga.js';\n",
        "    var s = document.getElementsByTagName('script')[0]; s.parentNode.insertBefore(ga, s);\n",
        "  })();\n",
        "</script>\n",
        "  \n",
        "</div>\n",
        "\n",
        "\n",
        "    <script src=\"https://assets1.enphaseenergy.com/assets/e3_basic.js?1366169259\" type=\"text/javascript\"></script>\n",
        "    <script type=\"text/javascript\">\n",
        "     $(function() {\n",
        "       I18n.defaultLocale = 'en-US';\n",
        "       I18n.locale = \"en-US\";\n",
        "       I18n.fallbacks = true;\n",
        "     });\n",
        "    </script>\n",
        "        <script src=\"https://assets1.enphaseenergy.com/javascripts/views/login.js?1366169280\" type=\"text/javascript\"></script>\n",
        "\n",
        "  <script type=\"text/javascript\">if (!NREUMQ.f) { NREUMQ.f=function() {\n",
        "NREUMQ.push([\"load\",new Date().getTime()]);\n",
        "var e=document.createElement(\"script\");\n",
        "e.type=\"text/javascript\";\n",
        "e.src=((\"http:\"===document.location.protocol)?\"http:\":\"https:\") + \"//\" +\n",
        "  \"d1ros97qkrwjf5.cloudfront.net/42/eum/rum.js\";\n",
        "document.body.appendChild(e);\n",
        "if(NREUMQ.a)NREUMQ.a();\n",
        "};\n",
        "NREUMQ.a=window.onload;window.onload=NREUMQ.f;\n",
        "};\n",
        "NREUMQ.push([\"nrfj\",\"beacon-1.newrelic.com\",\"dec8e4c9b0\",\"267719\",\"JloPTUNYCFRUQU4JWgJcDxZYWQBdSQ==\",0,18,new Date().getTime(),\"\",\"\",\"\",\"\",\"\"]);</script></body>\n",
        "</html>\n",
        "\n"
       ]
      }
     ],
     "prompt_number": 12
    },
    {
     "cell_type": "code",
     "collapsed": false,
     "input": [
      "print result"
     ],
     "language": "python",
     "metadata": {},
     "outputs": [
      {
       "output_type": "stream",
       "stream": "stdout",
       "text": [
        "<addinfourl at 39832752 whose fp = <socket._fileobject object at 0x2d636d0>>\n"
       ]
      }
     ],
     "prompt_number": 3
    },
    {
     "cell_type": "code",
     "collapsed": false,
     "input": [
      "try:\n",
      "    urllib2.urlopen(urllib2.Request(url))\n",
      "except urllib2.HTTPError, e:\n",
      "    print e.headers\n",
      "    print e.headers.has_key('WWW-Authenticate')"
     ],
     "language": "python",
     "metadata": {},
     "outputs": [],
     "prompt_number": 4
    },
    {
     "cell_type": "code",
     "collapsed": false,
     "input": [
      "request"
     ],
     "language": "python",
     "metadata": {},
     "outputs": [
      {
       "output_type": "pyout",
       "prompt_number": 5,
       "text": [
        "<urllib2.Request instance at 0x2e7e3b0>"
       ]
      }
     ],
     "prompt_number": 5
    },
    {
     "cell_type": "code",
     "collapsed": false,
     "input": [],
     "language": "python",
     "metadata": {},
     "outputs": []
    }
   ],
   "metadata": {}
  }
 ]
}