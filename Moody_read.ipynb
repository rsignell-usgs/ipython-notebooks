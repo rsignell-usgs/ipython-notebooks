{
 "metadata": {
  "name": "Moody_read"
 },
 "nbformat": 3,
 "nbformat_minor": 0,
 "worksheets": [
  {
   "cells": [
    {
     "cell_type": "code",
     "collapsed": false,
     "input": [
      "import pandas as pd"
     ],
     "language": "python",
     "metadata": {},
     "outputs": [],
     "prompt_number": 1
    },
    {
     "cell_type": "code",
     "collapsed": false,
     "input": [
      "csv_file='/usgs/data2/notebook/table5_M2.csv'\n",
      "df = pd.read_csv(csv_file,index_col='Station')"
     ],
     "language": "python",
     "metadata": {},
     "outputs": [],
     "prompt_number": 2
    },
    {
     "cell_type": "code",
     "collapsed": false,
     "input": [
      "df.head()"
     ],
     "language": "python",
     "metadata": {},
     "outputs": [
      {
       "html": [
        "<pre>\n",
        "&ltclass 'pandas.core.frame.DataFrame'&gt\n",
        "Index: 5 entries, SS10 to SS8\n",
        "Data columns (total 23 columns):\n",
        "Length         5  non-null values\n",
        "Depth          5  non-null values\n",
        "Bottom         5  non-null values\n",
        "E              5  non-null values\n",
        "E_Error        5  non-null values\n",
        "EP             5  non-null values\n",
        "EP_Error       5  non-null values\n",
        "N              5  non-null values\n",
        "N_Error        5  non-null values\n",
        "NP             5  non-null values\n",
        "NP_Error       5  non-null values\n",
        "UMAG           5  non-null values\n",
        "UMAG_Error     5  non-null values\n",
        "UMIN           5  non-null values\n",
        "UMIN_ERROR     5  non-null values\n",
        "PHA            5  non-null values\n",
        "PHA_Error      5  non-null values\n",
        "Orien          5  non-null values\n",
        "Orien_Error    5  non-null values\n",
        "Lat_deg        5  non-null values\n",
        "Lat_min        5  non-null values\n",
        "Lon_deg        5  non-null values\n",
        "Lon_min        5  non-null values\n",
        "dtypes: float64(20), int64(3)\n",
        "</pre>"
       ],
       "output_type": "pyout",
       "prompt_number": 3,
       "text": [
        "         Length  Depth  Bottom    E  E_Error   EP  EP_Error    N  N_Error  \\\n",
        "Station                                                                     \n",
        "SS10         32    200    1400  1.3        0  178         0  1.6        0   \n",
        "SS10         22    500    1100  3.0        0   65         0  2.5        0   \n",
        "SS10         12   1500     100  0.3        0  329         0  2.6        0   \n",
        "SS2A         35    555     245  4.2        0  192         0  4.7        0   \n",
        "SS8           5    200    1350  5.0        0  147         0  3.7        0   \n",
        "\n",
        "          NP  NP_Error  UMAG  UMAG_Error  UMIN  UMIN_ERROR  PHA  PHA_Error  \\\n",
        "Station                                                                      \n",
        "SS10      68         0   1.7           0   1.1           0   48          0   \n",
        "SS10     320         0   3.2           0   2.3           0  266          0   \n",
        "SS10     194         0   2.6           0   0.2           0  194          0   \n",
        "SS2A     126         0   5.3           0   3.4           0  152          0   \n",
        "SS8       73         0   5.2           0   3.4           0  133          0   \n",
        "\n",
        "         Orien  Orien_Error  Lat_deg  Lat_min  Lon_deg  Lon_min  \n",
        "Station                                                          \n",
        "SS10       331            0       43       34       59        4  \n",
        "SS10       297            0       43       34       59        4  \n",
        "SS10       355            0       43       34       59        4  \n",
        "SS2A        37            0       42       52       62        0  \n",
        "SS8         69            0       42       37       62        5  "
       ]
      }
     ],
     "prompt_number": 3
    }
   ],
   "metadata": {}
  }
 ]
}