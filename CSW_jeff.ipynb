{
 "metadata": {
  "name": "CSW_jeff"
 },
 "nbformat": 3,
 "nbformat_minor": 0,
 "worksheets": [
  {
   "cells": [
    {
     "cell_type": "heading",
     "level": 1,
     "metadata": {},
     "source": [
      "Exploring CSW access in Python using OWSLib"
     ]
    },
    {
     "cell_type": "code",
     "collapsed": false,
     "input": [
      "from owslib.csw import CatalogueServiceWeb\n",
      "from owslib.etree import etree"
     ],
     "language": "python",
     "metadata": {},
     "outputs": [],
     "prompt_number": 1
    },
    {
     "cell_type": "code",
     "collapsed": false,
     "input": [
      "def service_urls(records,service_string=None):\n",
      "    urls=[]\n",
      "    for key,rec in records.iteritems():\n",
      "        #create a generator object, and iterate through it until the match is found\n",
      "        #if not found, gets the default value (here \"none\")\n",
      "        url = next((d['url'] for d in rec.references if d['scheme'] == service_string), None)\n",
      "        if url is not None:\n",
      "            urls.append(url)\n",
      "    return urls"
     ],
     "language": "python",
     "metadata": {},
     "outputs": [],
     "prompt_number": 2
    },
    {
     "cell_type": "markdown",
     "metadata": {},
     "source": [
      "#1. Search NODC Geoportal for NCOM"
     ]
    },
    {
     "cell_type": "code",
     "collapsed": false,
     "input": [
      "# NODC CSW\n",
      "endpoint = 'http://www.nodc.noaa.gov/geoportal/csw'   # NODC Geoportal: granule level\n",
      "\n",
      "csw = CatalogueServiceWeb(endpoint, lang='en-US', version='2.0.2', timeout=30)\n",
      "csw.version"
     ],
     "language": "python",
     "metadata": {},
     "outputs": [
      {
       "output_type": "pyout",
       "prompt_number": 3,
       "text": [
        "'2.0.2'"
       ]
      }
     ],
     "prompt_number": 3
    },
    {
     "cell_type": "code",
     "collapsed": false,
     "input": [
      "#bbox=[-141,42,-52,84]\n",
      "bbox=[-71.5, 39.5, -63.0, 46]\n",
      "csw.getrecords(keywords=['NCOM'],bbox=bbox,maxrecords=10,esn='full')\n",
      "csw.results"
     ],
     "language": "python",
     "metadata": {},
     "outputs": [
      {
       "output_type": "pyout",
       "prompt_number": 4,
       "text": [
        "{'matches': 2, 'nextrecord': 0, 'returned': 2}"
       ]
      }
     ],
     "prompt_number": 4
    },
    {
     "cell_type": "code",
     "collapsed": false,
     "input": [
      "for rec,item in csw.records.iteritems():\n",
      "    print item.title"
     ],
     "language": "python",
     "metadata": {},
     "outputs": [
      {
       "output_type": "stream",
       "stream": "stdout",
       "text": [
        "NCOM Region 1 Aggregation/Best Time Series\n",
        "Clean Catalog for NCOM forecast models/NCOM Region 1 Aggregation/NCOM Region 1 Best Time Series\n"
       ]
      }
     ],
     "prompt_number": 5
    },
    {
     "cell_type": "code",
     "collapsed": false,
     "input": [
      "sample_rec=csw.records[csw.records.keys()[0]]\n",
      "sample_rec.references"
     ],
     "language": "python",
     "metadata": {},
     "outputs": [
      {
       "output_type": "pyout",
       "prompt_number": 6,
       "text": [
        "[{'scheme': 'urn:x-esri:specification:ServiceType:ArcIMS:Metadata:Document',\n",
        "  'url': 'http://www.nodc.noaa.gov/geoportal/csw?getxml=%7B99CB524F-EA88-49F7-8C4C-7BB5077E052A%7D'},\n",
        " {'scheme': 'urn:x-esri:specification:ServiceType:OPeNDAP',\n",
        "  'url': 'http://ecowatch.ncddc.noaa.gov/thredds/dodsC/ncom/ncom_reg1_agg/NCOM_Region_1_Aggregation_best.ncd'},\n",
        " {'scheme': 'urn:x-esri:specification:ServiceType:WCS',\n",
        "  'url': 'http://ecowatch.ncddc.noaa.gov/thredds/wcs/ncom/ncom_reg1_agg/NCOM_Region_1_Aggregation_best.ncd?service=WCS&version=1.0.0&request=GetCapabilities'},\n",
        " {'scheme': 'urn:x-esri:specification:ServiceType:WCT',\n",
        "  'url': 'http://www.ncdc.noaa.gov/oa/wct/wct-jnlp-beta.php?singlefile=http://ecowatch.ncddc.noaa.gov/thredds/dodsC/ncom/ncom_reg1_agg/NCOM_Region_1_Aggregation_best.ncd'}]"
       ]
      }
     ],
     "prompt_number": 6
    },
    {
     "cell_type": "code",
     "collapsed": false,
     "input": [
      "dap_urls = service_urls(csw.records,service_string='urn:x-esri:specification:ServiceType:OPeNDAP')\n",
      "print dap_urls"
     ],
     "language": "python",
     "metadata": {},
     "outputs": [
      {
       "output_type": "stream",
       "stream": "stdout",
       "text": [
        "['http://ecowatch.ncddc.noaa.gov/thredds/dodsC/ncom/ncom_reg1_agg/NCOM_Region_1_Aggregation_best.ncd']\n"
       ]
      }
     ],
     "prompt_number": 7
    },
    {
     "cell_type": "markdown",
     "metadata": {},
     "source": [
      "#2. Search NGDC Geoportal for NCOM"
     ]
    },
    {
     "cell_type": "code",
     "collapsed": false,
     "input": [
      "# NGDC CSW\n",
      "\n",
      "endpoint = 'http://www.ngdc.noaa.gov/geoportal/csw' # NGDC Geoportal\n",
      "\n",
      "csw = CatalogueServiceWeb(endpoint, lang='en-US', version='2.0.2', timeout=30)\n",
      "csw.version"
     ],
     "language": "python",
     "metadata": {},
     "outputs": [
      {
       "output_type": "pyout",
       "prompt_number": 8,
       "text": [
        "'2.0.2'"
       ]
      }
     ],
     "prompt_number": 8
    },
    {
     "cell_type": "code",
     "collapsed": false,
     "input": [
      "#bbox=[-141,42,-52,84]\n",
      "bbox=[-71.5, 39.5, -63.0, 46]\n",
      "csw.getrecords(keywords=['NCOM'],bbox=bbox,maxrecords=10,esn='full')\n",
      "csw.results"
     ],
     "language": "python",
     "metadata": {},
     "outputs": [
      {
       "output_type": "pyout",
       "prompt_number": 9,
       "text": [
        "{'matches': 1, 'nextrecord': 0, 'returned': 1}"
       ]
      }
     ],
     "prompt_number": 9
    },
    {
     "cell_type": "code",
     "collapsed": false,
     "input": [
      "for rec,item in csw.records.iteritems():\n",
      "    print item.title"
     ],
     "language": "python",
     "metadata": {},
     "outputs": [
      {
       "output_type": "stream",
       "stream": "stdout",
       "text": [
        "NCOM Region 1 Aggregation/Best Time Series\n"
       ]
      }
     ],
     "prompt_number": 10
    },
    {
     "cell_type": "code",
     "collapsed": false,
     "input": [
      "sample_rec=csw.records[csw.records.keys()[0]]\n",
      "sample_rec.references"
     ],
     "language": "python",
     "metadata": {},
     "outputs": [
      {
       "output_type": "pyout",
       "prompt_number": 11,
       "text": [
        "[{'scheme': 'urn:x-esri:specification:ServiceType:ArcIMS:Metadata:Onlink',\n",
        "  'url': 'http://ecowatch.ncddc.noaa.gov/thredds/dodsC/ncom/ncom_reg1_agg/NCOM_Region_1_Aggregation_best.ncd.html'},\n",
        " {'scheme': 'urn:x-esri:specification:ServiceType:ArcIMS:Metadata:Document',\n",
        "  'url': 'http://www.ngdc.noaa.gov/geoportal/csw?getxml=%7B9F1F1A05-13B5-4777-8470-9D4F77FE14E8%7D'},\n",
        " {'scheme': 'urn:x-esri:specification:ServiceType:wms:url',\n",
        "  'url': 'http://ecowatch.ncddc.noaa.gov/thredds/wms/ncom/ncom_reg1_agg/NCOM_Region_1_Aggregation_best.ncd?service=WMS&version=1.3.0&request=GetCapabilities'},\n",
        " {'scheme': 'urn:x-esri:specification:ServiceType:wct:url',\n",
        "  'url': 'http://www.ncdc.noaa.gov/oa/wct/wct-jnlp-beta.php?singlefile=http://ecowatch.ncddc.noaa.gov/thredds/dodsC/ncom/ncom_reg1_agg/NCOM_Region_1_Aggregation_best.ncd'},\n",
        " {'scheme': 'urn:x-esri:specification:ServiceType:odp:url',\n",
        "  'url': 'http://ecowatch.ncddc.noaa.gov/thredds/dodsC/ncom/ncom_reg1_agg/NCOM_Region_1_Aggregation_best.ncd'},\n",
        " {'scheme': 'urn:x-esri:specification:ServiceType:download:url',\n",
        "  'url': 'http://www.ncdc.noaa.gov/oa/wct/wct-jnlp-beta.php?singlefile=http://ecowatch.ncddc.noaa.gov/thredds/dodsC/ncom/ncom_reg1_agg/NCOM_Region_1_Aggregation_best.ncd'}]"
       ]
      }
     ],
     "prompt_number": 11
    },
    {
     "cell_type": "code",
     "collapsed": false,
     "input": [
      "dap_urls = service_urls(csw.records,service_string='urn:x-esri:specification:ServiceType:odp:url')\n",
      "print dap_urls"
     ],
     "language": "python",
     "metadata": {},
     "outputs": [
      {
       "output_type": "stream",
       "stream": "stdout",
       "text": [
        "['http://ecowatch.ncddc.noaa.gov/thredds/dodsC/ncom/ncom_reg1_agg/NCOM_Region_1_Aggregation_best.ncd']\n"
       ]
      }
     ],
     "prompt_number": 12
    }
   ],
   "metadata": {}
  }
 ]
}