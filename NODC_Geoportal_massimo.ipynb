{
 "metadata": {
  "name": "NODC_Geoportal_massimo"
 },
 "nbformat": 3,
 "nbformat_minor": 0,
 "worksheets": [
  {
   "cells": [
    {
     "cell_type": "code",
     "collapsed": false,
     "input": [
      "#massimo's version\n",
      "from owslib.csw import CatalogueServiceWeb"
     ],
     "language": "python",
     "metadata": {},
     "outputs": [],
     "prompt_number": 1
    },
    {
     "cell_type": "code",
     "collapsed": false,
     "input": [
      "endpoint = 'http://www.nodc.noaa.gov/geoportal/csw'\n",
      "bbox = [-71.5, 39.5, -63.0, 46]\n",
      "keywords = ['temperature']\n",
      "maxrecords = 20\n",
      "service_type = 'opendap'\n",
      "\n",
      "def getResource(endpoint = 'http://www.nodc.noaa.gov/geoportal/csw', bbox=None, keywords=None, maxrecords=1, service_type='opendap', verbose=None):\n",
      "    if service_type == 'opendap':\n",
      "        service_string='urn:x-esri:specification:ServiceType:OPeNDAP'\n",
      "    if service_type == 'wms':\n",
      "        service_string='urn:x-esri:specification:ServiceType:WMS'\n",
      "    csw = CatalogueServiceWeb(endpoint,timeout=30)\n",
      "    if keywords is not None:\n",
      "        csw.getrecords(keywords=keywords, bbox=bbox, maxrecords=maxrecords)\n",
      "    else :\n",
      "        csw.getrecords(bbox=bbox, maxrecords=maxrecords)\n",
      "    csw.records.keys()\n",
      "    result = {}\n",
      "    for i in csw.records.keys():\n",
      "        records=csw.records[i]\n",
      "        resource = {}\n",
      "        for key,rec in csw.records.iteritems():\n",
      "            url = next((d['url'] for d in rec.references if d['scheme'] == service_string), None)\n",
      "            if url is not None:\n",
      "                resource[rec.title] = url\n",
      "        result[i] = resource\n",
      "    if verbose is not None:\n",
      "        print 'endpoint: ', endpoint, '\\n' , 'bbox: ', bbox, '\\n' , 'keywords: ', keywords, '\\n', 'maxrecords: ', maxrecords , '\\n', 'service_type: ' , service_type\n",
      "    return result"
     ],
     "language": "python",
     "metadata": {},
     "outputs": [],
     "prompt_number": 2
    },
    {
     "cell_type": "code",
     "collapsed": false,
     "input": [
      "res = getResource(endpoint=endpoint, bbox=bbox, keywords=keywords, maxrecords=maxrecords, verbose=True)"
     ],
     "language": "python",
     "metadata": {},
     "outputs": [
      {
       "output_type": "stream",
       "stream": "stdout",
       "text": [
        "endpoint:  http://www.nodc.noaa.gov/geoportal/csw \n",
        "bbox:  [-71.5, 39.5, -63.0, 46] \n",
        "keywords:  ['temperature'] \n",
        "maxrecords:  20 \n",
        "service_type:  opendap\n"
       ]
      }
     ],
     "prompt_number": 3
    },
    {
     "cell_type": "code",
     "collapsed": false,
     "input": [
      "print res.keys()"
     ],
     "language": "python",
     "metadata": {},
     "outputs": [
      {
       "output_type": "stream",
       "stream": "stdout",
       "text": [
        "['PSDgriddedData/cru/crutem4/var/air.mon.anom.nc', 'PSDgriddedData/cru/hadcrut3/std/air.mon.anom.biased2.5.nc', 'PSDgriddedData/cru/hadcrut3/std/air.mon.anom.mserror.nc', 'PSDgriddedData/cru/crutem3/std/air.mon.anom.samplingerror.nc', 'ghrsst.cfg.aggregation.fullAgg.aggregate__ghrsst_L4_GLOB_EUR_ODYSSEA.ncml', 'PSDgriddedData/cru/crutem4/std/air.mon.anom.nc', 'PSDgriddedData/cru/crutem3/std/air.mon.anom.nc', 'PSDgriddedData/cru/crutem4/std/air.mon.anom.stationerror.nc', 'PSDgriddedData/cru/crutem4/std/air.mon.anom.biased97.5.nc', 'PSDgriddedData/cru/crutem3/std/air.mon.anom.biased2.5.nc', 'satellite.G1.ssta.1day', 'PSDgriddedData/cru/crutem4/std/air.mon.anom.nobs.nc', 'HadleyCenter.HadISST', 'PSDgriddedData/cru/hadcrut3/std/air.mon.anom.biased97.5.nc', 'PSDgriddedData/cru/crutem3/std/air.mon.anom.biased97.5.nc', 'PSDgriddedData/cru/crutem4/std/air.mon.anom.biased2.5.nc', 'PSDgriddedData/cru/crutem4/std/air.mon.anom.samplingerror.nc', 'PSDgriddedData/cru/crutem3/std/air.mon.anom.stationerror.nc', 'satellite.GR.ssta.1day', 'PSDgriddedData/cru/crutem3/std/air.mon.anom.nobs.nc']\n"
       ]
      }
     ],
     "prompt_number": 4
    },
    {
     "cell_type": "code",
     "collapsed": false,
     "input": [
      "print res"
     ],
     "language": "python",
     "metadata": {},
     "outputs": [
      {
       "output_type": "stream",
       "stream": "stdout",
       "text": [
        "{'PSDgriddedData/cru/crutem4/var/air.mon.anom.nc': {'Analysed foundation sea surface temperature, global': 'http://oceanwatch.pfeg.noaa.gov/thredds/dodsC/satellite/GR/ssta/1day', 'Monthly version of HadISST sea surface temperature component': 'http://oceanwatch.pfeg.noaa.gov/thredds/dodsC/HadleyCenter/HadISST', 'Global Sea Surface Temperature Analysis': 'http://data.nodc.noaa.gov/thredds/dodsC/ghrsst/cfg/aggregation/fullAgg/aggregate__ghrsst_L4_GLOB_EUR_ODYSSEA.ncml', 'CRUTEM3 Air Temperature Anomaly': 'http://www.esrl.noaa.gov/psd/thredds/dodsC/Datasets/cru/crutem3/std/air.mon.anom.nobs.nc'}, 'PSDgriddedData/cru/hadcrut3/std/air.mon.anom.biased2.5.nc': {'Analysed foundation sea surface temperature, global': 'http://oceanwatch.pfeg.noaa.gov/thredds/dodsC/satellite/GR/ssta/1day', 'Monthly version of HadISST sea surface temperature component': 'http://oceanwatch.pfeg.noaa.gov/thredds/dodsC/HadleyCenter/HadISST', 'Global Sea Surface Temperature Analysis': 'http://data.nodc.noaa.gov/thredds/dodsC/ghrsst/cfg/aggregation/fullAgg/aggregate__ghrsst_L4_GLOB_EUR_ODYSSEA.ncml', 'CRUTEM3 Air Temperature Anomaly': 'http://www.esrl.noaa.gov/psd/thredds/dodsC/Datasets/cru/crutem3/std/air.mon.anom.nobs.nc'}, 'PSDgriddedData/cru/hadcrut3/std/air.mon.anom.mserror.nc': {'Analysed foundation sea surface temperature, global': 'http://oceanwatch.pfeg.noaa.gov/thredds/dodsC/satellite/GR/ssta/1day', 'Monthly version of HadISST sea surface temperature component': 'http://oceanwatch.pfeg.noaa.gov/thredds/dodsC/HadleyCenter/HadISST', 'Global Sea Surface Temperature Analysis': 'http://data.nodc.noaa.gov/thredds/dodsC/ghrsst/cfg/aggregation/fullAgg/aggregate__ghrsst_L4_GLOB_EUR_ODYSSEA.ncml', 'CRUTEM3 Air Temperature Anomaly': 'http://www.esrl.noaa.gov/psd/thredds/dodsC/Datasets/cru/crutem3/std/air.mon.anom.nobs.nc'}, 'PSDgriddedData/cru/crutem3/std/air.mon.anom.samplingerror.nc': {'Analysed foundation sea surface temperature, global': 'http://oceanwatch.pfeg.noaa.gov/thredds/dodsC/satellite/GR/ssta/1day', 'Monthly version of HadISST sea surface temperature component': 'http://oceanwatch.pfeg.noaa.gov/thredds/dodsC/HadleyCenter/HadISST', 'Global Sea Surface Temperature Analysis': 'http://data.nodc.noaa.gov/thredds/dodsC/ghrsst/cfg/aggregation/fullAgg/aggregate__ghrsst_L4_GLOB_EUR_ODYSSEA.ncml', 'CRUTEM3 Air Temperature Anomaly': 'http://www.esrl.noaa.gov/psd/thredds/dodsC/Datasets/cru/crutem3/std/air.mon.anom.nobs.nc'}, 'ghrsst.cfg.aggregation.fullAgg.aggregate__ghrsst_L4_GLOB_EUR_ODYSSEA.ncml': {'Analysed foundation sea surface temperature, global': 'http://oceanwatch.pfeg.noaa.gov/thredds/dodsC/satellite/GR/ssta/1day', 'Monthly version of HadISST sea surface temperature component': 'http://oceanwatch.pfeg.noaa.gov/thredds/dodsC/HadleyCenter/HadISST', 'Global Sea Surface Temperature Analysis': 'http://data.nodc.noaa.gov/thredds/dodsC/ghrsst/cfg/aggregation/fullAgg/aggregate__ghrsst_L4_GLOB_EUR_ODYSSEA.ncml', 'CRUTEM3 Air Temperature Anomaly': 'http://www.esrl.noaa.gov/psd/thredds/dodsC/Datasets/cru/crutem3/std/air.mon.anom.nobs.nc'}, 'PSDgriddedData/cru/crutem4/std/air.mon.anom.nc': {'Analysed foundation sea surface temperature, global': 'http://oceanwatch.pfeg.noaa.gov/thredds/dodsC/satellite/GR/ssta/1day', 'Monthly version of HadISST sea surface temperature component': 'http://oceanwatch.pfeg.noaa.gov/thredds/dodsC/HadleyCenter/HadISST', 'Global Sea Surface Temperature Analysis': 'http://data.nodc.noaa.gov/thredds/dodsC/ghrsst/cfg/aggregation/fullAgg/aggregate__ghrsst_L4_GLOB_EUR_ODYSSEA.ncml', 'CRUTEM3 Air Temperature Anomaly': 'http://www.esrl.noaa.gov/psd/thredds/dodsC/Datasets/cru/crutem3/std/air.mon.anom.nobs.nc'}, 'PSDgriddedData/cru/crutem3/std/air.mon.anom.nc': {'Analysed foundation sea surface temperature, global': 'http://oceanwatch.pfeg.noaa.gov/thredds/dodsC/satellite/GR/ssta/1day', 'Monthly version of HadISST sea surface temperature component': 'http://oceanwatch.pfeg.noaa.gov/thredds/dodsC/HadleyCenter/HadISST', 'Global Sea Surface Temperature Analysis': 'http://data.nodc.noaa.gov/thredds/dodsC/ghrsst/cfg/aggregation/fullAgg/aggregate__ghrsst_L4_GLOB_EUR_ODYSSEA.ncml', 'CRUTEM3 Air Temperature Anomaly': 'http://www.esrl.noaa.gov/psd/thredds/dodsC/Datasets/cru/crutem3/std/air.mon.anom.nobs.nc'}, 'PSDgriddedData/cru/crutem4/std/air.mon.anom.stationerror.nc': {'Analysed foundation sea surface temperature, global': 'http://oceanwatch.pfeg.noaa.gov/thredds/dodsC/satellite/GR/ssta/1day', 'Monthly version of HadISST sea surface temperature component': 'http://oceanwatch.pfeg.noaa.gov/thredds/dodsC/HadleyCenter/HadISST', 'Global Sea Surface Temperature Analysis': 'http://data.nodc.noaa.gov/thredds/dodsC/ghrsst/cfg/aggregation/fullAgg/aggregate__ghrsst_L4_GLOB_EUR_ODYSSEA.ncml', 'CRUTEM3 Air Temperature Anomaly': 'http://www.esrl.noaa.gov/psd/thredds/dodsC/Datasets/cru/crutem3/std/air.mon.anom.nobs.nc'}, 'PSDgriddedData/cru/crutem4/std/air.mon.anom.biased97.5.nc': {'Analysed foundation sea surface temperature, global': 'http://oceanwatch.pfeg.noaa.gov/thredds/dodsC/satellite/GR/ssta/1day', 'Monthly version of HadISST sea surface temperature component': 'http://oceanwatch.pfeg.noaa.gov/thredds/dodsC/HadleyCenter/HadISST', 'Global Sea Surface Temperature Analysis': 'http://data.nodc.noaa.gov/thredds/dodsC/ghrsst/cfg/aggregation/fullAgg/aggregate__ghrsst_L4_GLOB_EUR_ODYSSEA.ncml', 'CRUTEM3 Air Temperature Anomaly': 'http://www.esrl.noaa.gov/psd/thredds/dodsC/Datasets/cru/crutem3/std/air.mon.anom.nobs.nc'}, 'PSDgriddedData/cru/crutem3/std/air.mon.anom.biased2.5.nc': {'Analysed foundation sea surface temperature, global': 'http://oceanwatch.pfeg.noaa.gov/thredds/dodsC/satellite/GR/ssta/1day', 'Monthly version of HadISST sea surface temperature component': 'http://oceanwatch.pfeg.noaa.gov/thredds/dodsC/HadleyCenter/HadISST', 'Global Sea Surface Temperature Analysis': 'http://data.nodc.noaa.gov/thredds/dodsC/ghrsst/cfg/aggregation/fullAgg/aggregate__ghrsst_L4_GLOB_EUR_ODYSSEA.ncml', 'CRUTEM3 Air Temperature Anomaly': 'http://www.esrl.noaa.gov/psd/thredds/dodsC/Datasets/cru/crutem3/std/air.mon.anom.nobs.nc'}, 'satellite.G1.ssta.1day': {'Analysed foundation sea surface temperature, global': 'http://oceanwatch.pfeg.noaa.gov/thredds/dodsC/satellite/GR/ssta/1day', 'Monthly version of HadISST sea surface temperature component': 'http://oceanwatch.pfeg.noaa.gov/thredds/dodsC/HadleyCenter/HadISST', 'Global Sea Surface Temperature Analysis': 'http://data.nodc.noaa.gov/thredds/dodsC/ghrsst/cfg/aggregation/fullAgg/aggregate__ghrsst_L4_GLOB_EUR_ODYSSEA.ncml', 'CRUTEM3 Air Temperature Anomaly': 'http://www.esrl.noaa.gov/psd/thredds/dodsC/Datasets/cru/crutem3/std/air.mon.anom.nobs.nc'}, 'PSDgriddedData/cru/crutem4/std/air.mon.anom.nobs.nc': {'Analysed foundation sea surface temperature, global': 'http://oceanwatch.pfeg.noaa.gov/thredds/dodsC/satellite/GR/ssta/1day', 'Monthly version of HadISST sea surface temperature component': 'http://oceanwatch.pfeg.noaa.gov/thredds/dodsC/HadleyCenter/HadISST', 'Global Sea Surface Temperature Analysis': 'http://data.nodc.noaa.gov/thredds/dodsC/ghrsst/cfg/aggregation/fullAgg/aggregate__ghrsst_L4_GLOB_EUR_ODYSSEA.ncml', 'CRUTEM3 Air Temperature Anomaly': 'http://www.esrl.noaa.gov/psd/thredds/dodsC/Datasets/cru/crutem3/std/air.mon.anom.nobs.nc'}, 'HadleyCenter.HadISST': {'Analysed foundation sea surface temperature, global': 'http://oceanwatch.pfeg.noaa.gov/thredds/dodsC/satellite/GR/ssta/1day', 'Monthly version of HadISST sea surface temperature component': 'http://oceanwatch.pfeg.noaa.gov/thredds/dodsC/HadleyCenter/HadISST', 'Global Sea Surface Temperature Analysis': 'http://data.nodc.noaa.gov/thredds/dodsC/ghrsst/cfg/aggregation/fullAgg/aggregate__ghrsst_L4_GLOB_EUR_ODYSSEA.ncml', 'CRUTEM3 Air Temperature Anomaly': 'http://www.esrl.noaa.gov/psd/thredds/dodsC/Datasets/cru/crutem3/std/air.mon.anom.nobs.nc'}, 'PSDgriddedData/cru/hadcrut3/std/air.mon.anom.biased97.5.nc': {'Analysed foundation sea surface temperature, global': 'http://oceanwatch.pfeg.noaa.gov/thredds/dodsC/satellite/GR/ssta/1day', 'Monthly version of HadISST sea surface temperature component': 'http://oceanwatch.pfeg.noaa.gov/thredds/dodsC/HadleyCenter/HadISST', 'Global Sea Surface Temperature Analysis': 'http://data.nodc.noaa.gov/thredds/dodsC/ghrsst/cfg/aggregation/fullAgg/aggregate__ghrsst_L4_GLOB_EUR_ODYSSEA.ncml', 'CRUTEM3 Air Temperature Anomaly': 'http://www.esrl.noaa.gov/psd/thredds/dodsC/Datasets/cru/crutem3/std/air.mon.anom.nobs.nc'}, 'PSDgriddedData/cru/crutem3/std/air.mon.anom.biased97.5.nc': {'Analysed foundation sea surface temperature, global': 'http://oceanwatch.pfeg.noaa.gov/thredds/dodsC/satellite/GR/ssta/1day', 'Monthly version of HadISST sea surface temperature component': 'http://oceanwatch.pfeg.noaa.gov/thredds/dodsC/HadleyCenter/HadISST', 'Global Sea Surface Temperature Analysis': 'http://data.nodc.noaa.gov/thredds/dodsC/ghrsst/cfg/aggregation/fullAgg/aggregate__ghrsst_L4_GLOB_EUR_ODYSSEA.ncml', 'CRUTEM3 Air Temperature Anomaly': 'http://www.esrl.noaa.gov/psd/thredds/dodsC/Datasets/cru/crutem3/std/air.mon.anom.nobs.nc'}, 'PSDgriddedData/cru/crutem4/std/air.mon.anom.biased2.5.nc': {'Analysed foundation sea surface temperature, global': 'http://oceanwatch.pfeg.noaa.gov/thredds/dodsC/satellite/GR/ssta/1day', 'Monthly version of HadISST sea surface temperature component': 'http://oceanwatch.pfeg.noaa.gov/thredds/dodsC/HadleyCenter/HadISST', 'Global Sea Surface Temperature Analysis': 'http://data.nodc.noaa.gov/thredds/dodsC/ghrsst/cfg/aggregation/fullAgg/aggregate__ghrsst_L4_GLOB_EUR_ODYSSEA.ncml', 'CRUTEM3 Air Temperature Anomaly': 'http://www.esrl.noaa.gov/psd/thredds/dodsC/Datasets/cru/crutem3/std/air.mon.anom.nobs.nc'}, 'PSDgriddedData/cru/crutem4/std/air.mon.anom.samplingerror.nc': {'Analysed foundation sea surface temperature, global': 'http://oceanwatch.pfeg.noaa.gov/thredds/dodsC/satellite/GR/ssta/1day', 'Monthly version of HadISST sea surface temperature component': 'http://oceanwatch.pfeg.noaa.gov/thredds/dodsC/HadleyCenter/HadISST', 'Global Sea Surface Temperature Analysis': 'http://data.nodc.noaa.gov/thredds/dodsC/ghrsst/cfg/aggregation/fullAgg/aggregate__ghrsst_L4_GLOB_EUR_ODYSSEA.ncml', 'CRUTEM3 Air Temperature Anomaly': 'http://www.esrl.noaa.gov/psd/thredds/dodsC/Datasets/cru/crutem3/std/air.mon.anom.nobs.nc'}, 'PSDgriddedData/cru/crutem3/std/air.mon.anom.stationerror.nc': {'Analysed foundation sea surface temperature, global': 'http://oceanwatch.pfeg.noaa.gov/thredds/dodsC/satellite/GR/ssta/1day', 'Monthly version of HadISST sea surface temperature component': 'http://oceanwatch.pfeg.noaa.gov/thredds/dodsC/HadleyCenter/HadISST', 'Global Sea Surface Temperature Analysis': 'http://data.nodc.noaa.gov/thredds/dodsC/ghrsst/cfg/aggregation/fullAgg/aggregate__ghrsst_L4_GLOB_EUR_ODYSSEA.ncml', 'CRUTEM3 Air Temperature Anomaly': 'http://www.esrl.noaa.gov/psd/thredds/dodsC/Datasets/cru/crutem3/std/air.mon.anom.nobs.nc'}, 'satellite.GR.ssta.1day': {'Analysed foundation sea surface temperature, global': 'http://oceanwatch.pfeg.noaa.gov/thredds/dodsC/satellite/GR/ssta/1day', 'Monthly version of HadISST sea surface temperature component': 'http://oceanwatch.pfeg.noaa.gov/thredds/dodsC/HadleyCenter/HadISST', 'Global Sea Surface Temperature Analysis': 'http://data.nodc.noaa.gov/thredds/dodsC/ghrsst/cfg/aggregation/fullAgg/aggregate__ghrsst_L4_GLOB_EUR_ODYSSEA.ncml', 'CRUTEM3 Air Temperature Anomaly': 'http://www.esrl.noaa.gov/psd/thredds/dodsC/Datasets/cru/crutem3/std/air.mon.anom.nobs.nc'}, 'PSDgriddedData/cru/crutem3/std/air.mon.anom.nobs.nc': {'Analysed foundation sea surface temperature, global': 'http://oceanwatch.pfeg.noaa.gov/thredds/dodsC/satellite/GR/ssta/1day', 'Monthly version of HadISST sea surface temperature component': 'http://oceanwatch.pfeg.noaa.gov/thredds/dodsC/HadleyCenter/HadISST', 'Global Sea Surface Temperature Analysis': 'http://data.nodc.noaa.gov/thredds/dodsC/ghrsst/cfg/aggregation/fullAgg/aggregate__ghrsst_L4_GLOB_EUR_ODYSSEA.ncml', 'CRUTEM3 Air Temperature Anomaly': 'http://www.esrl.noaa.gov/psd/thredds/dodsC/Datasets/cru/crutem3/std/air.mon.anom.nobs.nc'}}\n"
       ]
      }
     ],
     "prompt_number": 5
    },
    {
     "cell_type": "code",
     "collapsed": false,
     "input": [
      "print res[res.keys()[0]]"
     ],
     "language": "python",
     "metadata": {},
     "outputs": [
      {
       "output_type": "stream",
       "stream": "stdout",
       "text": [
        "{'Analysed foundation sea surface temperature, global': 'http://oceanwatch.pfeg.noaa.gov/thredds/dodsC/satellite/GR/ssta/1day', 'Monthly version of HadISST sea surface temperature component': 'http://oceanwatch.pfeg.noaa.gov/thredds/dodsC/HadleyCenter/HadISST', 'Global Sea Surface Temperature Analysis': 'http://data.nodc.noaa.gov/thredds/dodsC/ghrsst/cfg/aggregation/fullAgg/aggregate__ghrsst_L4_GLOB_EUR_ODYSSEA.ncml', 'CRUTEM3 Air Temperature Anomaly': 'http://www.esrl.noaa.gov/psd/thredds/dodsC/Datasets/cru/crutem3/std/air.mon.anom.nobs.nc'}\n"
       ]
      }
     ],
     "prompt_number": 6
    },
    {
     "cell_type": "code",
     "collapsed": false,
     "input": [],
     "language": "python",
     "metadata": {},
     "outputs": []
    }
   ],
   "metadata": {}
  }
 ]
}