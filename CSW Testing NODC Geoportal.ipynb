{
 "metadata": {
  "name": "CSW Testing NODC Geoportal"
 },
 "nbformat": 3,
 "nbformat_minor": 0,
 "worksheets": [
  {
   "cells": [
    {
     "cell_type": "heading",
     "level": 1,
     "metadata": {},
     "source": [
      "Exploring CSW access in Python using OWSLib with NODC Geoportal"
     ]
    },
    {
     "cell_type": "code",
     "collapsed": false,
     "input": [
      "from IPython.core.display import HTML\n",
      "HTML('<iframe src=http://www.nodc.noaa.gov/geoportal/ width=900 height=280></iframe>')"
     ],
     "language": "python",
     "metadata": {},
     "outputs": [],
     "prompt_number": "*"
    },
    {
     "cell_type": "code",
     "collapsed": false,
     "input": [
      "from owslib.csw import CatalogueServiceWeb"
     ],
     "language": "python",
     "metadata": {},
     "outputs": [],
     "prompt_number": "*"
    },
    {
     "cell_type": "code",
     "collapsed": false,
     "input": [
      "# connect to CSW, explore it's properties\n",
      "endpoint = 'http://www.ngdc.noaa.gov/geoportal/csw' # NGDC Geoportal\n",
      "#endpoint = 'http://data.nodc.noaa.gov/geoportal/csw'  # NODC Geoportal: collection level\n",
      "    \n",
      "#endpoint = 'http://geodiscover.cgdi.ca/wes/serviceManagerCSW/csw'  # NRCAN CUSTOM\n",
      "#endpoint = 'http://geoport.whoi.edu/gi-cat/services/cswiso' # USGS Woods Hole GI_CAT\n",
      "#endpoint = 'http://cida.usgs.gov/gdp/geonetwork/srv/en/csw' # USGS CIDA Geonetwork\n",
      "#endpoint = 'http://www.nodc.noaa.gov/geoportal/csw'   # NODC Geoportal: granule level\n",
      "\n",
      "csw = CatalogueServiceWeb(endpoint,timeout=30)\n",
      "csw.version"
     ],
     "language": "python",
     "metadata": {},
     "outputs": [
      {
       "output_type": "pyout",
       "prompt_number": 3,
       "text": [
        "'2.0.2'"
       ]
      }
     ],
     "prompt_number": 3
    },
    {
     "cell_type": "code",
     "collapsed": false,
     "input": [
      "[op.name for op in csw.operations]"
     ],
     "language": "python",
     "metadata": {},
     "outputs": [
      {
       "output_type": "pyout",
       "prompt_number": 4,
       "text": [
        "['GetCapabilities',\n",
        " 'DescribeRecord',\n",
        " 'GetRecords',\n",
        " 'GetRecordById',\n",
        " 'Transaction']"
       ]
      }
     ],
     "prompt_number": 4
    },
    {
     "cell_type": "code",
     "collapsed": false,
     "input": [
      "#bbox=[-141,42,-52,84]\n",
      "bbox=[-71.5, 39.5, -63.0, 46]\n",
      "csw.getrecords(keywords=['temperature'],bbox=bbox,maxrecords=20)\n",
      "#csw.getrecords(keywords=['sea_water_temperature'],maxrecords=20)\n",
      "csw.results"
     ],
     "language": "python",
     "metadata": {},
     "outputs": [
      {
       "output_type": "pyout",
       "prompt_number": 5,
       "text": [
        "{'matches': 147330, 'nextrecord': 21, 'returned': 20}"
       ]
      }
     ],
     "prompt_number": 5
    },
    {
     "cell_type": "code",
     "collapsed": false,
     "input": [
      "for rec,item in csw.records.iteritems():\n",
      "    print item.title"
     ],
     "language": "python",
     "metadata": {},
     "outputs": [
      {
       "output_type": "stream",
       "stream": "stdout",
       "text": [
        "CRUTEM4 Air Temperature Dataset\n",
        "HADCRUT3 Combined Air Temperature/SST Anomaly\n",
        "HADCRUT3 Combined Air Temperature/SST Anomaly\n",
        "CRUTEM3 Air Temperature Anomaly\n",
        "Global Sea Surface Temperature Analysis\n",
        "CRUTEM4 Air Temperature Dataset\n",
        "CRUTEM3 Air Temperature Anomaly\n",
        "CRUTEM4 Air Temperature Dataset\n",
        "CRUTEM4 Air Temperature Dataset\n",
        "CRUTEM3 Air Temperature Anomaly\n",
        "CRUTEM3 Air Temperature Anomaly\n",
        "Analysed foundation sea surface temperature, global\n",
        "Monthly version of HadISST sea surface temperature component\n",
        "HADCRUT3 Combined Air Temperature/SST Anomaly\n",
        "CRUTEM3 Air Temperature Anomaly\n",
        "CRUTEM4 Air Temperature Dataset\n",
        "CRUTEM4 Air Temperature Dataset\n",
        "CRUTEM4 Air Temperature Dataset\n",
        "Analysed foundation sea surface temperature, global\n",
        "CRUTEM3 Air Temperature Anomaly\n"
       ]
      }
     ],
     "prompt_number": 6
    },
    {
     "cell_type": "code",
     "collapsed": false,
     "input": [
      "print(csw.records.keys())"
     ],
     "language": "python",
     "metadata": {},
     "outputs": [
      {
       "output_type": "stream",
       "stream": "stdout",
       "text": [
        "['PSDgriddedData/cru/crutem4/var/air.mon.anom.nc', 'PSDgriddedData/cru/hadcrut3/std/air.mon.anom.biased2.5.nc', 'PSDgriddedData/cru/hadcrut3/std/air.mon.anom.mserror.nc', 'PSDgriddedData/cru/crutem3/std/air.mon.anom.samplingerror.nc', 'ghrsst.cfg.aggregation.fullAgg.aggregate__ghrsst_L4_GLOB_EUR_ODYSSEA.ncml', 'PSDgriddedData/cru/crutem4/std/air.mon.anom.nc', 'PSDgriddedData/cru/crutem3/std/air.mon.anom.nc', 'PSDgriddedData/cru/crutem4/std/air.mon.anom.stationerror.nc', 'PSDgriddedData/cru/crutem4/std/air.mon.anom.biased97.5.nc', 'PSDgriddedData/cru/crutem3/std/air.mon.anom.biased2.5.nc', 'PSDgriddedData/cru/crutem3/std/air.mon.anom.stationerror.nc', 'satellite.G1.ssta.1day', 'HadleyCenter.HadISST', 'PSDgriddedData/cru/hadcrut3/std/air.mon.anom.biased97.5.nc', 'PSDgriddedData/cru/crutem3/std/air.mon.anom.biased97.5.nc', 'PSDgriddedData/cru/crutem4/std/air.mon.anom.biased2.5.nc', 'PSDgriddedData/cru/crutem4/std/air.mon.anom.samplingerror.nc', 'PSDgriddedData/cru/crutem4/std/air.mon.anom.nobs.nc', 'satellite.GR.ssta.1day', 'PSDgriddedData/cru/crutem3/std/air.mon.anom.nobs.nc']\n"
       ]
      }
     ],
     "prompt_number": 7
    },
    {
     "cell_type": "code",
     "collapsed": false,
     "input": [
      "# choose a sample record\n",
      "a=csw.records['satellite.G1.ssta.1day']"
     ],
     "language": "python",
     "metadata": {},
     "outputs": [],
     "prompt_number": 8
    },
    {
     "cell_type": "code",
     "collapsed": false,
     "input": [
      "print a.title"
     ],
     "language": "python",
     "metadata": {},
     "outputs": [
      {
       "output_type": "stream",
       "stream": "stdout",
       "text": [
        "Analysed foundation sea surface temperature, global\n"
       ]
      }
     ],
     "prompt_number": 9
    },
    {
     "cell_type": "code",
     "collapsed": false,
     "input": [
      "# unfortunately the \"uris\" property is empty\n",
      "print a.uris"
     ],
     "language": "python",
     "metadata": {},
     "outputs": [
      {
       "output_type": "stream",
       "stream": "stdout",
       "text": [
        "[]\n"
       ]
      }
     ],
     "prompt_number": 10
    },
    {
     "cell_type": "code",
     "collapsed": false,
     "input": [
      "# yet I can see the URIs here:\n",
      "print a.xml"
     ],
     "language": "python",
     "metadata": {},
     "outputs": [
      {
       "output_type": "stream",
       "stream": "stdout",
       "text": [
        "<csw:SummaryRecord xmlns:csw=\"http://www.opengis.net/cat/csw/2.0.2\" xmlns:dc=\"http://purl.org/dc/elements/1.1/\" xmlns:dcmiBox=\"http://dublincore.org/documents/2000/07/11/dcmi-box/\" xmlns:dct=\"http://purl.org/dc/terms/\" xmlns:gml=\"http://www.opengis.net/gml\" xmlns:ows=\"http://www.opengis.net/ows\" xmlns:xsd=\"http://www.w3.org/2001/XMLSchema\">\n",
        "<dc:identifier scheme=\"urn:x-esri:specification:ServiceType:ArcIMS:Metadata:FileID\">satellite.G1.ssta.1day</dc:identifier>\n",
        "<dc:identifier scheme=\"urn:x-esri:specification:ServiceType:ArcIMS:Metadata:DocID\">{152D8C15-039C-4520-A7E6-CC39E5D6E8DB}</dc:identifier>\n",
        "<dc:title>Analysed foundation sea surface temperature, global</dc:title>\n",
        "<dc:type scheme=\"urn:x-esri:specification:ServiceType:ArcIMS:Metadata:ContentType\">downloadableData</dc:type>\n",
        "<dc:type scheme=\"urn:x-esri:specification:ServiceType:ArcIMS:Metadata:ContentType\">liveData</dc:type>\n",
        "<dc:subject>NOAA CoastWatch, West Coast Node</dc:subject>\n",
        "<dc:subject>sea_surface_temperature</dc:subject>\n",
        "<dc:subject>latitude</dc:subject>\n",
        "<dc:subject>longitude</dc:subject>\n",
        "<dc:subject>time</dc:subject>\n",
        "<dc:subject>climatologyMeteorologyAtmosphere</dc:subject>\n",
        "<dct:modified>2013-04-07T05:42:48+00:00</dct:modified>\n",
        "<dct:abstract>The through-cloud capabilities of microwave radiometers provide a valuable picture of global sea surface temperature (SST). To utilize this, scientists at Remote Sensing Systems have calculated a daily, Optimally Interpolated (OI) SST product at quarter degree (~25 kilometer) resolution. This product is ideal for research activities in which a complete, daily SST map is more desirable than one with missing data due to orbital gaps or environmental conditions precluding SST retrieval. Improved global daily NRT SSTs should be useful for a wide range of scientific and operational activities. The addition of SST derived from Ifrared (IR) measurements allows higher spatial resolution, and SST near land.However, IR input is less accurate than MW due to cloud contamination. Blending MW and IR enables greater coverage and higher accuracy than IR only SSTs, but current OI does not completely eliminate cloud contamination inherent to IR SSTs</dct:abstract>\n",
        "<dct:references scheme=\"urn:x-esri:specification:ServiceType:ArcIMS:Metadata:Document\">http://www.nodc.noaa.gov/geoportal/csw?getxml=%7B152D8C15-039C-4520-A7E6-CC39E5D6E8DB%7D</dct:references>\n",
        "<dct:references scheme=\"urn:x-esri:specification:ServiceType:OPeNDAP\">http://oceanwatch.pfeg.noaa.gov/thredds/dodsC/satellite/G1/ssta/1day</dct:references>\n",
        "<dct:references scheme=\"urn:x-esri:specification:ServiceType:WCS\">http://oceanwatch.pfeg.noaa.gov/thredds/wcs/satellite/G1/ssta/1day?service=WCS&amp;version=1.0.0&amp;request=GetCapabilities</dct:references>\n",
        "<dct:references scheme=\"urn:x-esri:specification:ServiceType:WCT\">http://www.ncdc.noaa.gov/oa/wct/wct-jnlp-beta.php?singlefile=http://oceanwatch.pfeg.noaa.gov/thredds/dodsC/satellite/G1/ssta/1day</dct:references>\n",
        "<ows:WGS84BoundingBox>\n",
        "<ows:LowerCorner>-179.9560546875 -89.9560546875</ows:LowerCorner>\n",
        "<ows:UpperCorner>179.9560546875 89.9560546875</ows:UpperCorner>\n",
        "</ows:WGS84BoundingBox>\n",
        "<ows:BoundingBox>\n",
        "<ows:LowerCorner>-179.9560546875 -89.9560546875</ows:LowerCorner>\n",
        "<ows:UpperCorner>179.9560546875 89.9560546875</ows:UpperCorner>\n",
        "</ows:BoundingBox>\n",
        "</csw:SummaryRecord>\n",
        "\n"
       ]
      }
     ],
     "prompt_number": 11
    },
    {
     "cell_type": "code",
     "collapsed": false,
     "input": [
      "# lets look at the references\n",
      "a.references"
     ],
     "language": "python",
     "metadata": {},
     "outputs": [
      {
       "output_type": "pyout",
       "prompt_number": 12,
       "text": [
        "[{'scheme': 'urn:x-esri:specification:ServiceType:ArcIMS:Metadata:Document',\n",
        "  'url': 'http://www.nodc.noaa.gov/geoportal/csw?getxml=%7B152D8C15-039C-4520-A7E6-CC39E5D6E8DB%7D'},\n",
        " {'scheme': 'urn:x-esri:specification:ServiceType:OPeNDAP',\n",
        "  'url': 'http://oceanwatch.pfeg.noaa.gov/thredds/dodsC/satellite/G1/ssta/1day'},\n",
        " {'scheme': 'urn:x-esri:specification:ServiceType:WCS',\n",
        "  'url': 'http://oceanwatch.pfeg.noaa.gov/thredds/wcs/satellite/G1/ssta/1day?service=WCS&version=1.0.0&request=GetCapabilities'},\n",
        " {'scheme': 'urn:x-esri:specification:ServiceType:WCT',\n",
        "  'url': 'http://www.ncdc.noaa.gov/oa/wct/wct-jnlp-beta.php?singlefile=http://oceanwatch.pfeg.noaa.gov/thredds/dodsC/satellite/G1/ssta/1day'}]"
       ]
      }
     ],
     "prompt_number": 12
    },
    {
     "cell_type": "code",
     "collapsed": false,
     "input": [
      "# get specific ServiceType URL from records\n",
      "def service_urls(records,service_string='urn:x-esri:specification:ServiceType:OPeNDAP'):\n",
      "    urls=[]\n",
      "    for key,rec in records.iteritems():\n",
      "        #create a generator object, and iterate through it until the match is found\n",
      "        #if not found, gets the default value (here \"none\")\n",
      "        url = next((d['url'] for d in rec.references if d['scheme'] == service_string), None)\n",
      "        if url is not None:\n",
      "            urls.append(url)\n",
      "    return urls"
     ],
     "language": "python",
     "metadata": {},
     "outputs": [],
     "prompt_number": 13
    },
    {
     "cell_type": "code",
     "collapsed": false,
     "input": [
      "dap_urls = service_urls(csw.records,service_string='urn:x-esri:specification:ServiceType:OPeNDAP')\n",
      "print dap_urls"
     ],
     "language": "python",
     "metadata": {},
     "outputs": [
      {
       "output_type": "stream",
       "stream": "stdout",
       "text": [
        "['http://www.esrl.noaa.gov/psd/thredds/dodsC/Datasets/cru/crutem3/std/air.mon.anom.samplingerror.nc', 'http://data.nodc.noaa.gov/thredds/dodsC/ghrsst/cfg/aggregation/fullAgg/aggregate__ghrsst_L4_GLOB_EUR_ODYSSEA.ncml', 'http://www.esrl.noaa.gov/psd/thredds/dodsC/Datasets/cru/crutem3/std/air.mon.anom.nc', 'http://www.esrl.noaa.gov/psd/thredds/dodsC/Datasets/cru/crutem3/std/air.mon.anom.biased2.5.nc', 'http://www.esrl.noaa.gov/psd/thredds/dodsC/Datasets/cru/crutem3/std/air.mon.anom.stationerror.nc', 'http://oceanwatch.pfeg.noaa.gov/thredds/dodsC/satellite/G1/ssta/1day', 'http://oceanwatch.pfeg.noaa.gov/thredds/dodsC/HadleyCenter/HadISST', 'http://www.esrl.noaa.gov/psd/thredds/dodsC/Datasets/cru/crutem3/std/air.mon.anom.biased97.5.nc', 'http://oceanwatch.pfeg.noaa.gov/thredds/dodsC/satellite/GR/ssta/1day', 'http://www.esrl.noaa.gov/psd/thredds/dodsC/Datasets/cru/crutem3/std/air.mon.anom.nobs.nc']\n"
       ]
      }
     ],
     "prompt_number": 14
    },
    {
     "cell_type": "code",
     "collapsed": false,
     "input": [
      "# find all the WMS ServiceType URLs\n",
      "wms_urls = service_urls(csw.records,service_string='urn:x-esri:specification:ServiceType:WMS')\n",
      "print wms_urls"
     ],
     "language": "python",
     "metadata": {},
     "outputs": [
      {
       "output_type": "stream",
       "stream": "stdout",
       "text": [
        "['http://www.esrl.noaa.gov/psd/thredds/wms/Datasets/cru/crutem4/var/air.mon.anom.nc?service=WMS&version=1.3.0&request=GetCapabilities', 'http://www.esrl.noaa.gov/psd/thredds/wms/Datasets/cru/hadcrut3/std/air.mon.anom.biased2.5.nc?service=WMS&version=1.3.0&request=GetCapabilities', 'http://www.esrl.noaa.gov/psd/thredds/wms/Datasets/cru/hadcrut3/std/air.mon.anom.mserror.nc?service=WMS&version=1.3.0&request=GetCapabilities', 'http://www.esrl.noaa.gov/psd/thredds/wms/Datasets/cru/crutem4/std/air.mon.anom.nc?service=WMS&version=1.3.0&request=GetCapabilities', 'http://www.esrl.noaa.gov/psd/thredds/wms/Datasets/cru/crutem4/std/air.mon.anom.stationerror.nc?service=WMS&version=1.3.0&request=GetCapabilities', 'http://www.esrl.noaa.gov/psd/thredds/wms/Datasets/cru/crutem4/std/air.mon.anom.biased97.5.nc?service=WMS&version=1.3.0&request=GetCapabilities', 'http://www.esrl.noaa.gov/psd/thredds/wms/Datasets/cru/hadcrut3/std/air.mon.anom.biased97.5.nc?service=WMS&version=1.3.0&request=GetCapabilities', 'http://www.esrl.noaa.gov/psd/thredds/wms/Datasets/cru/crutem4/std/air.mon.anom.biased2.5.nc?service=WMS&version=1.3.0&request=GetCapabilities', 'http://www.esrl.noaa.gov/psd/thredds/wms/Datasets/cru/crutem4/std/air.mon.anom.samplingerror.nc?service=WMS&version=1.3.0&request=GetCapabilities', 'http://www.esrl.noaa.gov/psd/thredds/wms/Datasets/cru/crutem4/std/air.mon.anom.nobs.nc?service=WMS&version=1.3.0&request=GetCapabilities']\n"
       ]
      }
     ],
     "prompt_number": 15
    },
    {
     "cell_type": "code",
     "collapsed": false,
     "input": [
      "a.uris"
     ],
     "language": "python",
     "metadata": {},
     "outputs": [
      {
       "output_type": "pyout",
       "prompt_number": 18,
       "text": [
        "[]"
       ]
      }
     ],
     "prompt_number": 18
    },
    {
     "cell_type": "code",
     "collapsed": false,
     "input": [
      "type a.uris"
     ],
     "language": "python",
     "metadata": {},
     "outputs": [
      {
       "ename": "SyntaxError",
       "evalue": "invalid syntax (<ipython-input-19-0d160135903d>, line 1)",
       "output_type": "pyerr",
       "traceback": [
        "\u001b[1;36m  File \u001b[1;32m\"<ipython-input-19-0d160135903d>\"\u001b[1;36m, line \u001b[1;32m1\u001b[0m\n\u001b[1;33m    type a.uris\u001b[0m\n\u001b[1;37m         ^\u001b[0m\n\u001b[1;31mSyntaxError\u001b[0m\u001b[1;31m:\u001b[0m invalid syntax\n"
       ]
      }
     ],
     "prompt_number": 19
    },
    {
     "cell_type": "code",
     "collapsed": false,
     "input": [
      "type(a.uris)"
     ],
     "language": "python",
     "metadata": {},
     "outputs": [
      {
       "output_type": "pyout",
       "prompt_number": 20,
       "text": [
        "list"
       ]
      }
     ],
     "prompt_number": 20
    },
    {
     "cell_type": "code",
     "collapsed": false,
     "input": [],
     "language": "python",
     "metadata": {},
     "outputs": []
    }
   ],
   "metadata": {}
  }
 ]
}