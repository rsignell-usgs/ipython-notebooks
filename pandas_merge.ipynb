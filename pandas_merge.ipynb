{
 "metadata": {
  "name": "pandas_merge"
 },
 "nbformat": 3,
 "nbformat_minor": 0,
 "worksheets": [
  {
   "cells": [
    {
     "cell_type": "code",
     "collapsed": false,
     "input": "import pandas as pd",
     "language": "python",
     "metadata": {},
     "outputs": [],
     "prompt_number": 1
    },
    {
     "cell_type": "code",
     "collapsed": false,
     "input": "cd c:/users/rsignell/downloads    ",
     "language": "python",
     "metadata": {},
     "outputs": [
      {
       "output_type": "stream",
       "stream": "stdout",
       "text": "c:\\users\\rsignell\\downloads\n"
      }
     ],
     "prompt_number": 2
    },
    {
     "cell_type": "code",
     "collapsed": false,
     "input": "df = pd.read_csv('SS_data_edited.txt',delim_whitespace=True,\n    index_col='sample_dt',parse_dates=True,skiprows=[1],\n    usecols=['sample_dt','agency_cd','site_no','body_part_id'])",
     "language": "python",
     "metadata": {},
     "outputs": [],
     "prompt_number": 3
    },
    {
     "cell_type": "code",
     "collapsed": false,
     "input": "df.head()",
     "language": "python",
     "metadata": {},
     "outputs": [
      {
       "html": "<div style=\"max-height:1000px;max-width:1500px;overflow:auto;\">\n<table border=\"1\" class=\"dataframe\">\n  <thead>\n    <tr style=\"text-align: right;\">\n      <th></th>\n      <th>agency_cd</th>\n      <th>site_no</th>\n      <th>body_part_id</th>\n    </tr>\n    <tr>\n      <th>sample_dt</th>\n      <th></th>\n      <th></th>\n      <th></th>\n    </tr>\n  </thead>\n  <tbody>\n    <tr>\n      <th>1995-01-26</th>\n      <td> USGS</td>\n      <td> 9010500</td>\n      <td>  1</td>\n    </tr>\n    <tr>\n      <th>1995-02-23</th>\n      <td> USGS</td>\n      <td> 9010500</td>\n      <td>  1</td>\n    </tr>\n    <tr>\n      <th>1995-03-17</th>\n      <td> USGS</td>\n      <td> 9010500</td>\n      <td>  0</td>\n    </tr>\n    <tr>\n      <th>1995-04-07</th>\n      <td> USGS</td>\n      <td> 9010500</td>\n      <td>  5</td>\n    </tr>\n    <tr>\n      <th>1995-06-07</th>\n      <td> USGS</td>\n      <td> 9010500</td>\n      <td> 26</td>\n    </tr>\n  </tbody>\n</table>\n</div>",
       "output_type": "pyout",
       "prompt_number": 4,
       "text": "           agency_cd  site_no  body_part_id\nsample_dt                                  \n1995-01-26      USGS  9010500             1\n1995-02-23      USGS  9010500             1\n1995-03-17      USGS  9010500             0\n1995-04-07      USGS  9010500             5\n1995-06-07      USGS  9010500            26"
      }
     ],
     "prompt_number": 4
    },
    {
     "cell_type": "code",
     "collapsed": false,
     "input": "stations=df['site_no'].unique()\nprint stations",
     "language": "python",
     "metadata": {},
     "outputs": [
      {
       "output_type": "stream",
       "stream": "stdout",
       "text": "[9010500 9033300]\n"
      }
     ],
     "prompt_number": 5
    },
    {
     "cell_type": "code",
     "collapsed": false,
     "input": "def read_flowfile(infile):\n    df = pd.read_csv(infile,delim_whitespace=True,index_col='sample_dt',\n            parse_dates=True,skiprows=28,\n            names=('agency_cd','site_no','sample_dt','Q','Qcd'),compression='gzip')\n    return df",
     "language": "python",
     "metadata": {},
     "outputs": [],
     "prompt_number": 6
    },
    {
     "cell_type": "code",
     "collapsed": false,
     "input": "for station in stations:\n    infile = '0%d.rdb.gz' % station\n    outfile = '%d_sed.csv' % station\n    print 'reading %s ' % infile\n    leftDF = read_flowfile(infile)\n    rightDF = df[df['site_no']==station]\n    newDF = pd.merge(leftDF,rightDF,on=['agency_cd','site_no'],\n                left_index=True,right_index=True,how='outer')\n    newDF.to_csv(outfile)\n    print 'writing %s ' % outfile",
     "language": "python",
     "metadata": {},
     "outputs": [
      {
       "output_type": "stream",
       "stream": "stdout",
       "text": "reading 09010500.rdb.gz \nwriting 9010500_sed.csv "
      },
      {
       "output_type": "stream",
       "stream": "stdout",
       "text": "\nreading 09033300.rdb.gz \nwriting 9033300_sed.csv "
      },
      {
       "output_type": "stream",
       "stream": "stdout",
       "text": "\n"
      }
     ],
     "prompt_number": 7
    },
    {
     "cell_type": "code",
     "collapsed": false,
     "input": "newDF.head(20)",
     "language": "python",
     "metadata": {},
     "outputs": [
      {
       "html": "<div style=\"max-height:1000px;max-width:1500px;overflow:auto;\">\n<table border=\"1\" class=\"dataframe\">\n  <thead>\n    <tr style=\"text-align: right;\">\n      <th></th>\n      <th>agency_cd</th>\n      <th>site_no</th>\n      <th>Q</th>\n      <th>Qcd</th>\n      <th>body_part_id</th>\n    </tr>\n    <tr>\n      <th>sample_dt</th>\n      <th></th>\n      <th></th>\n      <th></th>\n      <th></th>\n      <th></th>\n    </tr>\n  </thead>\n  <tbody>\n    <tr>\n      <th>1998-08-20</th>\n      <td> USGS</td>\n      <td> 9033300</td>\n      <td> NaN</td>\n      <td> NaN</td>\n      <td>  5</td>\n    </tr>\n    <tr>\n      <th>1998-09-03</th>\n      <td> USGS</td>\n      <td> 9033300</td>\n      <td> NaN</td>\n      <td> NaN</td>\n      <td>  6</td>\n    </tr>\n    <tr>\n      <th>1998-10-01</th>\n      <td> USGS</td>\n      <td> 9033300</td>\n      <td>  36</td>\n      <td>   A</td>\n      <td>NaN</td>\n    </tr>\n    <tr>\n      <th>1998-10-02</th>\n      <td> USGS</td>\n      <td> 9033300</td>\n      <td>  57</td>\n      <td>   A</td>\n      <td>NaN</td>\n    </tr>\n    <tr>\n      <th>1998-10-03</th>\n      <td> USGS</td>\n      <td> 9033300</td>\n      <td>  49</td>\n      <td>   A</td>\n      <td>NaN</td>\n    </tr>\n    <tr>\n      <th>1998-10-04</th>\n      <td> USGS</td>\n      <td> 9033300</td>\n      <td>  62</td>\n      <td>   A</td>\n      <td>NaN</td>\n    </tr>\n    <tr>\n      <th>1998-10-05</th>\n      <td> USGS</td>\n      <td> 9033300</td>\n      <td>  49</td>\n      <td>   A</td>\n      <td>NaN</td>\n    </tr>\n    <tr>\n      <th>1998-10-06</th>\n      <td> USGS</td>\n      <td> 9033300</td>\n      <td>  43</td>\n      <td>   A</td>\n      <td>NaN</td>\n    </tr>\n    <tr>\n      <th>1998-10-07</th>\n      <td> USGS</td>\n      <td> 9033300</td>\n      <td>  42</td>\n      <td>   A</td>\n      <td>NaN</td>\n    </tr>\n    <tr>\n      <th>1998-10-08</th>\n      <td> USGS</td>\n      <td> 9033300</td>\n      <td>  46</td>\n      <td>   A</td>\n      <td>  5</td>\n    </tr>\n    <tr>\n      <th>1998-10-09</th>\n      <td> USGS</td>\n      <td> 9033300</td>\n      <td>  46</td>\n      <td>   A</td>\n      <td>NaN</td>\n    </tr>\n    <tr>\n      <th>1998-10-10</th>\n      <td> USGS</td>\n      <td> 9033300</td>\n      <td>  43</td>\n      <td>   A</td>\n      <td>NaN</td>\n    </tr>\n    <tr>\n      <th>1998-10-11</th>\n      <td> USGS</td>\n      <td> 9033300</td>\n      <td>  41</td>\n      <td>   A</td>\n      <td>NaN</td>\n    </tr>\n    <tr>\n      <th>1998-10-12</th>\n      <td> USGS</td>\n      <td> 9033300</td>\n      <td>  39</td>\n      <td>   A</td>\n      <td>NaN</td>\n    </tr>\n    <tr>\n      <th>1998-10-13</th>\n      <td> USGS</td>\n      <td> 9033300</td>\n      <td>  38</td>\n      <td>   A</td>\n      <td>NaN</td>\n    </tr>\n    <tr>\n      <th>1998-10-14</th>\n      <td> USGS</td>\n      <td> 9033300</td>\n      <td>  40</td>\n      <td>   A</td>\n      <td>NaN</td>\n    </tr>\n    <tr>\n      <th>1998-10-15</th>\n      <td> USGS</td>\n      <td> 9033300</td>\n      <td>  38</td>\n      <td>   A</td>\n      <td>NaN</td>\n    </tr>\n    <tr>\n      <th>1998-10-16</th>\n      <td> USGS</td>\n      <td> 9033300</td>\n      <td>  37</td>\n      <td>   A</td>\n      <td>NaN</td>\n    </tr>\n    <tr>\n      <th>1998-10-17</th>\n      <td> USGS</td>\n      <td> 9033300</td>\n      <td>  42</td>\n      <td>   A</td>\n      <td>NaN</td>\n    </tr>\n    <tr>\n      <th>1998-10-18</th>\n      <td> USGS</td>\n      <td> 9033300</td>\n      <td>  41</td>\n      <td>   A</td>\n      <td>NaN</td>\n    </tr>\n  </tbody>\n</table>\n</div>",
       "output_type": "pyout",
       "prompt_number": 8,
       "text": "           agency_cd  site_no    Q  Qcd  body_part_id\nsample_dt                                            \n1998-08-20      USGS  9033300  NaN  NaN             5\n1998-09-03      USGS  9033300  NaN  NaN             6\n1998-10-01      USGS  9033300   36    A           NaN\n1998-10-02      USGS  9033300   57    A           NaN\n1998-10-03      USGS  9033300   49    A           NaN\n1998-10-04      USGS  9033300   62    A           NaN\n1998-10-05      USGS  9033300   49    A           NaN\n1998-10-06      USGS  9033300   43    A           NaN\n1998-10-07      USGS  9033300   42    A           NaN\n1998-10-08      USGS  9033300   46    A             5\n1998-10-09      USGS  9033300   46    A           NaN\n1998-10-10      USGS  9033300   43    A           NaN\n1998-10-11      USGS  9033300   41    A           NaN\n1998-10-12      USGS  9033300   39    A           NaN\n1998-10-13      USGS  9033300   38    A           NaN\n1998-10-14      USGS  9033300   40    A           NaN\n1998-10-15      USGS  9033300   38    A           NaN\n1998-10-16      USGS  9033300   37    A           NaN\n1998-10-17      USGS  9033300   42    A           NaN\n1998-10-18      USGS  9033300   41    A           NaN"
      }
     ],
     "prompt_number": 8
    },
    {
     "cell_type": "code",
     "collapsed": false,
     "input": "",
     "language": "python",
     "metadata": {},
     "outputs": [],
     "prompt_number": 8
    }
   ],
   "metadata": {}
  }
 ]
}