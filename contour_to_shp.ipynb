{
 "metadata": {
  "name": "contour_to_shp"
 },
 "nbformat": 3,
 "nbformat_minor": 0,
 "worksheets": [
  {
   "cells": [
    {
     "cell_type": "code",
     "collapsed": false,
     "input": [
      "from pylab import *\n",
      "import collections\n",
      "\n",
      "import matplotlib.tri as Tri\n",
      "from shapely import geometry\n",
      "import wkb2shp\n",
      "import netCDF4\n",
      "import datetime\n",
      "import time"
     ],
     "language": "python",
     "metadata": {},
     "outputs": [],
     "prompt_number": 4
    },
    {
     "cell_type": "code",
     "collapsed": false,
     "input": [
      "titl='ADCIRC';\n",
      "url='http://testbedapps-dev.sura.org/thredds/dodsC/auto/in.und.adcirc.ike.ultralite.lr.vardrag.wave.2d'\n",
      "vname='zeta'\n",
      "start=datetime.datetime(2008, 9, 13, 6, 0, 0)"
     ],
     "language": "python",
     "metadata": {},
     "outputs": [],
     "prompt_number": 5
    },
    {
     "cell_type": "code",
     "collapsed": false,
     "input": [
      "time0=time.time()\n",
      "nc=netCDF4.Dataset(url).variables\n",
      "nc.keys()\n",
      "lon = nc['x'][:]\n",
      "lat = nc['y'][:]\n",
      "nv = nc['element'][:,:] -1\n",
      "time_var = nc['time']\n",
      "dtime = netCDF4.num2date(time_var[:],time_var.units)\n",
      "istart = netCDF4.date2index(start,time_var,select='nearest')\n",
      "var = nc[vname][istart,:]    \n",
      "print 'elapsed time= %d seconds' % (time.time()-time0)"
     ],
     "language": "python",
     "metadata": {},
     "outputs": [
      {
       "output_type": "stream",
       "stream": "stdout",
       "text": [
        "elapsed time= 17 seconds\n"
       ]
      }
     ],
     "prompt_number": 6
    },
    {
     "cell_type": "code",
     "collapsed": false,
     "input": [
      "tri = Tri.Triangulation(lon,lat, triangles=nv)"
     ],
     "language": "python",
     "metadata": {},
     "outputs": [],
     "prompt_number": 7
    },
    {
     "cell_type": "code",
     "collapsed": false,
     "input": [
      "figure(figsize=(10,10))\n",
      "subplot(111,aspect=(1.0/cos(mean(lat)*pi/180.0)))\n",
      "levels = linspace(0.,5.,11)\n",
      "contour = tricontourf(tri, var,levels=levels,shading='faceted')\n",
      "colorbar(orientation='horizontal')"
     ],
     "language": "python",
     "metadata": {},
     "outputs": [
      {
       "output_type": "pyout",
       "prompt_number": 11,
       "text": [
        "<matplotlib.colorbar.Colorbar instance at 0x562f998>"
       ]
      },
      {
       "output_type": "display_data",
       "png": "[encoded data removed]",
       "text": [
        "<matplotlib.figure.Figure at 0x3a72690>"
       ]
      }
     ],
     "prompt_number": 11
    },
    {
     "cell_type": "code",
     "collapsed": false,
     "input": [
      "geoms = []\n",
      "vals = [] # tuples of vmin,vmax\n",
      "\n",
      "for colli,coll in enumerate(contour.collections):\n",
      "    vmin,vmax = contour.levels[colli:colli+2]\n",
      "    \n",
      "    for p in coll.get_paths():\n",
      "        p.simplify_threshold = 0.0\n",
      "        polys = p.to_polygons()\n",
      "        \n",
      "        geoms.append( geometry.Polygon(polys[0],polys[1:] ) )\n",
      "        vals.append( (vmin,vmax) )\n",
      "         \n",
      "wkb2shp.wkb2shp(\"contour-output.shp\", geoms, overwrite=True,\n",
      "                fields =array( vals, dtype=[('min',float64),\n",
      "                                            ('max',float64)] ))"
     ],
     "language": "python",
     "metadata": {},
     "outputs": [
      {
       "output_type": "stream",
       "stream": "stdout",
       "text": [
        "Removing the old to make way for the new\n"
       ]
      }
     ],
     "prompt_number": 9
    }
   ],
   "metadata": {}
  }
 ]
}