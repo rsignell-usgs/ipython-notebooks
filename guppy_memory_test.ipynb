{
 "metadata": {
  "name": "guppy_memory_test"
 },
 "nbformat": 3,
 "nbformat_minor": 0,
 "worksheets": [
  {
   "cells": [
    {
     "cell_type": "code",
     "collapsed": false,
     "input": [
      "from guppy import hpy"
     ],
     "language": "python",
     "metadata": {},
     "outputs": [],
     "prompt_number": 1
    },
    {
     "cell_type": "code",
     "collapsed": false,
     "input": [
      "h=hpy()"
     ],
     "language": "python",
     "metadata": {},
     "outputs": [],
     "prompt_number": 2
    },
    {
     "cell_type": "code",
     "collapsed": false,
     "input": [
      "h.heap()"
     ],
     "language": "python",
     "metadata": {},
     "outputs": [
      {
       "output_type": "pyout",
       "prompt_number": 3,
       "text": [
        "Partition of a set of 228215 objects. Total size = 31067440 bytes.\n",
        " Index  Count   %     Size   % Cumulative  % Kind (class / dict of class)\n",
        "     0  95889  42 11027040  35  11027040  35 str\n",
        "     1  57086  25  5102664  16  16129704  52 tuple\n",
        "     2    640   0  2083072   7  18212776  59 dict of module\n",
        "     3  14185   6  1815680   6  20028456  64 types.CodeType\n",
        "     4   1790   1  1783760   6  21812216  70 dict (no owner)\n",
        "     5  14003   6  1680360   5  23492576  76 function\n",
        "     6   1609   1  1452544   5  24945120  80 type\n",
        "     7   1609   1  1345240   4  26290360  85 dict of type\n",
        "     8    488   0   491456   2  26781816  86 dict of class\n",
        "     9   2306   1   373584   1  27155400  87 list\n",
        "<722 more rows. Type e.g. '_.more' to view.>"
       ]
      }
     ],
     "prompt_number": 3
    },
    {
     "cell_type": "code",
     "collapsed": false,
     "input": [],
     "language": "python",
     "metadata": {},
     "outputs": []
    }
   ],
   "metadata": {}
  }
 ]
}