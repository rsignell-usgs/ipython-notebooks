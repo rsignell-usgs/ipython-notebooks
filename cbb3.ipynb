{
 "metadata": {
  "name": "cbb3"
 },
 "nbformat": 3,
 "nbformat_minor": 0,
 "worksheets": [
  {
   "cells": [
    {
     "cell_type": "code",
     "collapsed": false,
     "input": [
      "# import some modules using standard naming conventions\n",
      "from pylab import *\n",
      "import pandas as pd\n",
      "from IPython.core.display import HTML\n",
      "from matplotlib.dates import MonthLocator,DateFormatter\n",
      "\n",
      "# full path name of spreadsheet file from Coalition for Buzzards Bay\n",
      "#xls_path='/usgs/data2/notebook/Falmouth_data.xlsx'\n",
      "#xls_path='D:\\crs\\docs\\personal\\science_project\\Falmouth data for Sarah and Lily_mod.xlsx'\n",
      "xls_path='/usgs/data2/notebook/Falmouth_data_for_Sarah_and_Lily_mod.xlsx'\n",
      "# use the panda ExcelFile method to make an object out of the xls file\n",
      "xls_file = pd.ExcelFile(xls_path)\n",
      "\n",
      "# this version makes a time series and removes some weird values \n",
      "asn = xls_file.parse('all stations, raw nutrients',index_col='Date',parse_dates=True,\n",
      "    na_values=['?',None,'NS','no sample left','Sample Destroyed','machine error','#VALUE!'])\n",
      "asn.index=pd.to_datetime(asn.index)\n",
      "\n",
      "# this version just reads it in\n",
      "#asn = xls_file.parse('all stations, raw nutrients') # simpler version\n",
      "\n",
      "# this version makes the index 'Date', but does not make the DataFrame a time series\n",
      "#asn = xls_file.parse('all stations, raw nutrients',\n",
      "#    na_values=['?',None,'NS','no sample left','Sample Destroyed','machine error','#VALUE!'])\n",
      "#asn.set_index('Date',drop='false')\n"
     ],
     "language": "python",
     "metadata": {},
     "outputs": [
      {
       "output_type": "stream",
       "stream": "stdout",
       "text": [
        "'all stations, raw nutrients'!$1:$1 True\n",
        "'CBB WF2 nutrient data'!$4:$6 True\n"
       ]
      }
     ],
     "prompt_number": 77
    },
    {
     "cell_type": "code",
     "collapsed": false,
     "input": [
      "# define a function that looks in column var of a and replaces lim with val\n",
      "def convert_detection_limit(a,var,lim,val):\n",
      "    try:\n",
      "        a[var][where(a[var]==lim)[0]] = val\n",
      "    except:\n",
      "        print 'No detection values found for %s' % var\n",
      "    return a\n",
      "\n",
      "# for example, fix detction limits for 4 nutrients\n",
      "asn=convert_detection_limit(asn,'PO4 uM','<0.1',0.05)\n",
      "asn=convert_detection_limit(asn,'NH4 uM','<0.1',0.05)\n",
      "asn=convert_detection_limit(asn,'NO3 uM','<0.05',0.025)\n",
      "asn=convert_detection_limit(asn,'Pheo ug/L','<0.05',0.025)"
     ],
     "language": "python",
     "metadata": {},
     "outputs": [],
     "prompt_number": 78
    },
    {
     "cell_type": "code",
     "collapsed": false,
     "input": [
      "# try to use same function to remove S from sample depths\n",
      "asn=convert_detection_limit(asn,'Depth (m)','S',0.0)\n",
      "asn=convert_detection_limit(asn,'Depth (m)','1M',1.0)"
     ],
     "language": "python",
     "metadata": {},
     "outputs": [],
     "prompt_number": 79
    },
    {
     "cell_type": "code",
     "collapsed": false,
     "input": [
      "asn.ix[0:4,8:10].head()"
     ],
     "language": "python",
     "metadata": {},
     "outputs": [
      {
       "html": [
        "<div style=\"max-height:1000px;max-width:1500px;overflow:auto;\">\n",
        "<table border=\"1\" class=\"dataframe\">\n",
        "  <thead>\n",
        "    <tr style=\"text-align: right;\">\n",
        "      <th></th>\n",
        "      <th>Secchi m</th>\n",
        "      <th>Total depth m</th>\n",
        "    </tr>\n",
        "  </thead>\n",
        "  <tbody>\n",
        "    <tr>\n",
        "      <th>1993-07-15</th>\n",
        "      <td> NaN</td>\n",
        "      <td> 3.7</td>\n",
        "    </tr>\n",
        "    <tr>\n",
        "      <th>1993-07-15</th>\n",
        "      <td> NaN</td>\n",
        "      <td> 3.7</td>\n",
        "    </tr>\n",
        "    <tr>\n",
        "      <th>1993-08-01</th>\n",
        "      <td> NaN</td>\n",
        "      <td> 3.5</td>\n",
        "    </tr>\n",
        "    <tr>\n",
        "      <th>1993-08-01</th>\n",
        "      <td> NaN</td>\n",
        "      <td> 3.5</td>\n",
        "    </tr>\n",
        "  </tbody>\n",
        "</table>\n",
        "</div>"
       ],
       "metadata": {},
       "output_type": "pyout",
       "prompt_number": 80,
       "text": [
        "           Secchi m Total depth m\n",
        "1993-07-15      NaN           3.7\n",
        "1993-07-15      NaN           3.7\n",
        "1993-08-01      NaN           3.5\n",
        "1993-08-01      NaN           3.5"
       ]
      }
     ],
     "prompt_number": 80
    },
    {
     "cell_type": "code",
     "collapsed": false,
     "input": [
      "asn.tail()"
     ],
     "language": "python",
     "metadata": {},
     "outputs": [
      {
       "html": [
        "<pre>\n",
        "&ltclass 'pandas.core.frame.DataFrame'&gt\n",
        "DatetimeIndex: 5 entries, 0001-255-255 00:00:00 to 0001-255-255 00:00:00\n",
        "Columns: 242 entries, Embayment to None.210\n",
        "dtypes: float64(214), object(28)\n",
        "</pre>"
       ],
       "metadata": {},
       "output_type": "pyout",
       "prompt_number": 36,
       "text": [
        "<class 'pandas.core.frame.DataFrame'>\n",
        "DatetimeIndex: 5 entries, 0001-255-255 00:00:00 to 0001-255-255 00:00:00\n",
        "Columns: 242 entries, Embayment to None.210\n",
        "dtypes: float64(214), object(28)"
       ]
      }
     ],
     "prompt_number": 36
    },
    {
     "cell_type": "code",
     "collapsed": false,
     "input": [
      "# find the rows for QH2\n",
      "#find all the data at station \n",
      "qh2=asn[asn['Station']=='QH2'] #quissett harbor, qh2\n",
      "mg4=asn[asn['Station']=='MG4'] #megansett harbor, mg4\n",
      "# subtract the mean Nitrate conc and plot\n",
      "qh2m = qh2['NO3 uM'] - qh2['NO3 uM'].mean()\n",
      "qh2m.plot(linestyle='none',marker='o')\n",
      "# print just a few columns and render as HTML\n",
      "new=mg4.reindex(columns=['Embayment','Station','Depth (m)','Temp C','Salt ppt','PO4 uM','POM uM','TDN uM'])\n",
      "HTML(new[1:5].to_html())\n",
      "#TODO - Also Remove 999 and <xx from columns"
     ],
     "language": "python",
     "metadata": {},
     "outputs": [
      {
       "html": [
        "<table border=\"1\" class=\"dataframe\">\n",
        "  <thead>\n",
        "    <tr style=\"text-align: right;\">\n",
        "      <th></th>\n",
        "      <th>Embayment</th>\n",
        "      <th>Station</th>\n",
        "      <th>Depth (m)</th>\n",
        "      <th>Temp C</th>\n",
        "      <th>Salt ppt</th>\n",
        "      <th>PO4 uM</th>\n",
        "      <th>POM uM</th>\n",
        "      <th>TDN uM</th>\n",
        "    </tr>\n",
        "  </thead>\n",
        "  <tbody>\n",
        "    <tr>\n",
        "      <th>1992-09-10</th>\n",
        "      <td> MEGANSETT HARBOR</td>\n",
        "      <td> MG4</td>\n",
        "      <td> 0.15</td>\n",
        "      <td>NaN</td>\n",
        "      <td> 30.7</td>\n",
        "      <td> 0.4962779</td>\n",
        "      <td>  3.48496</td>\n",
        "      <td> 11.7205</td>\n",
        "    </tr>\n",
        "    <tr>\n",
        "      <th>1992-09-16</th>\n",
        "      <td> MEGANSETT HARBOR</td>\n",
        "      <td> MG4</td>\n",
        "      <td> 0.15</td>\n",
        "      <td>NaN</td>\n",
        "      <td> 29.7</td>\n",
        "      <td> 0.5571862</td>\n",
        "      <td> 3.910275</td>\n",
        "      <td> 13.0195</td>\n",
        "    </tr>\n",
        "    <tr>\n",
        "      <th>1992-09-16</th>\n",
        "      <td> MEGANSETT HARBOR</td>\n",
        "      <td> MG4</td>\n",
        "      <td>  999</td>\n",
        "      <td>NaN</td>\n",
        "      <td> 29.7</td>\n",
        "      <td> 0.5571862</td>\n",
        "      <td> 3.965878</td>\n",
        "      <td> 15.9115</td>\n",
        "    </tr>\n",
        "    <tr>\n",
        "      <th>1993-07-14</th>\n",
        "      <td> MEGANSETT HARBOR</td>\n",
        "      <td> MG4</td>\n",
        "      <td>  999</td>\n",
        "      <td>NaN</td>\n",
        "      <td> 31.7</td>\n",
        "      <td> 0.4228856</td>\n",
        "      <td>  5.97483</td>\n",
        "      <td> 10.4845</td>\n",
        "    </tr>\n",
        "  </tbody>\n",
        "</table>"
       ],
       "metadata": {},
       "output_type": "pyout",
       "prompt_number": 37,
       "text": [
        "<IPython.core.display.HTML at 0x5be2050>"
       ]
      },
      {
       "metadata": {},
       "output_type": "display_data",
       "png": "[encoded data removed]",
       "text": [
        "<matplotlib.figure.Figure at 0x5be2210>"
       ]
      }
     ],
     "prompt_number": 37
    },
    {
     "cell_type": "code",
     "collapsed": false,
     "input": [],
     "language": "python",
     "metadata": {},
     "outputs": [],
     "prompt_number": 37
    },
    {
     "cell_type": "code",
     "collapsed": false,
     "input": [
      "figure # if you don't use this, the xlabel and ylabel commands won't work\n",
      "plot(qh2['POM uM'],qh2['NO3 uM'],linestyle='none',marker='o')\n",
      "xlabel('POM uM')\n",
      "ylabel('NO3 uM')\n",
      "title('Scatter plot')"
     ],
     "language": "python",
     "metadata": {},
     "outputs": [
      {
       "metadata": {},
       "output_type": "pyout",
       "prompt_number": 38,
       "text": [
        "<matplotlib.text.Text at 0x5bf5a50>"
       ]
      },
      {
       "metadata": {},
       "output_type": "display_data",
       "png": "[encoded data removed]",
       "text": [
        "<matplotlib.figure.Figure at 0x53c4d90>"
       ]
      }
     ],
     "prompt_number": 38
    },
    {
     "cell_type": "code",
     "collapsed": false,
     "input": [
      "# plot the first 31 rows of column labelled 'Salt ppt'\n",
      "asn['Salt ppt'][0:30].plot()"
     ],
     "language": "python",
     "metadata": {},
     "outputs": [
      {
       "metadata": {},
       "output_type": "pyout",
       "prompt_number": 39,
       "text": [
        "<matplotlib.axes.AxesSubplot at 0x3f47490>"
       ]
      },
      {
       "metadata": {},
       "output_type": "display_data",
       "png": "[encoded data removed]",
       "text": [
        "<matplotlib.figure.Figure at 0x5bc6410>"
       ]
      }
     ],
     "prompt_number": 39
    },
    {
     "cell_type": "code",
     "collapsed": true,
     "input": [
      "# These are the values used to calculate the Buzz. Bay Env. Index\n",
      "#Oxygen saturation (mn of lowest 20%)\t 40  %\t90 %\n",
      "#Transparency\t                         0.6 m    3 m\n",
      "#Chlorophyll\t                          10  ug/l 3 ug/l\n",
      "#DIN                                      10  uM   1 uM\n",
      "#Total Organic N                          0.6 ppm 0.28 ppm\n",
      "\n",
      "# Define a function to calculate index for transparency\n",
      "def bbei(val):\n",
      "    val_0 = 0.6\n",
      "    val_100 = 3.0\n",
      "    # calculate according to formula\n",
      "    score = (log(val)-log(val_0))/(log(val_100)-log(val_0))\n",
      "    # limit score to be between 0 and 1\n",
      "    score = min(score,1.0)\n",
      "    score = max(score,0.0)\n",
      "    return score\n",
      "\n",
      "print(bbei(2))"
     ],
     "language": "python",
     "metadata": {},
     "outputs": [
      {
       "output_type": "stream",
       "stream": "stdout",
       "text": [
        "0.748070363587\n"
       ]
      }
     ],
     "prompt_number": 40
    },
    {
     "cell_type": "code",
     "collapsed": false,
     "input": [
      "# More general function for several parameters\n",
      "def bbei(val,param):\n",
      "    # First test the first character of param to see\n",
      "    # what kind of measurement, the assing values\n",
      "    if(param[0].lower()=='o'):\n",
      "        # limits for Oxygen saturation\n",
      "        val_0 = 40.0\n",
      "        val_100 = 90.0\n",
      "    elif(param[0].lower()=='t'):\n",
      "        # limits for Transparency (secchi depth)\n",
      "        val_0 = 0.6\n",
      "        val_100 = 3.0\n",
      "    elif(param[0].lower()=='c'):\n",
      "        # limits for Chlorophyll\n",
      "        val_0 = 10.0\n",
      "        val_100 = 3.0\n",
      "    elif(param[0].lower()=='d'):\n",
      "        # limits for DIN\n",
      "        val_0 = 10.0\n",
      "        val_100 = 1.0\n",
      "    elif(param[0].lower()=='t'):\n",
      "        # limits for Total organic N\n",
      "        val_0 = 0.6\n",
      "        val_100 = 0.28\n",
      "    # calculate index, limit to between 0 and 1, and return\n",
      "    return max(min( (log(val)-log(val_0))/(log(val_100)-log(val_0)) ,1),0)\n",
      "\n",
      "print(bbei(2,param='DIN'))"
     ],
     "language": "python",
     "metadata": {},
     "outputs": [
      {
       "output_type": "stream",
       "stream": "stdout",
       "text": [
        "0.698970004336\n"
       ]
      }
     ],
     "prompt_number": 41
    },
    {
     "cell_type": "code",
     "collapsed": false,
     "input": [
      "# multiple scatter plots on the same page\n",
      "figure\n",
      "subplot(121)\n",
      "plot( qh2['DIN uM'],qh2['TON uM'],linestyle='none',marker='o')\n",
      "ylabel('TON uM')\n",
      "xlabel('DIN uM')\n",
      "subplot(122)\n",
      "plot( qh2['TDN uM'],qh2['TON uM'],linestyle='none',marker='o')\n",
      "xlabel('TDN uM')"
     ],
     "language": "python",
     "metadata": {},
     "outputs": [
      {
       "metadata": {},
       "output_type": "pyout",
       "prompt_number": 42,
       "text": [
        "<matplotlib.text.Text at 0x603dd50>"
       ]
      },
      {
       "metadata": {},
       "output_type": "display_data",
       "png": "[encoded data removed]",
       "text": [
        "<matplotlib.figure.Figure at 0x5be1dd0>"
       ]
      }
     ],
     "prompt_number": 42
    },
    {
     "cell_type": "code",
     "collapsed": false,
     "input": [
      "# include three Stations\n",
      "wf=asn[asn['Station'].isin(['WF5','WF5pw','WF5pw/CBBWF2'])]\n",
      "figure(figsize=(12,5))\n",
      "wf['POM uM'].plot(linestyle='none',marker='o')\n"
     ],
     "language": "python",
     "metadata": {},
     "outputs": [
      {
       "metadata": {},
       "output_type": "pyout",
       "prompt_number": 43,
       "text": [
        "<matplotlib.axes.AxesSubplot at 0x5be1ed0>"
       ]
      },
      {
       "metadata": {},
       "output_type": "display_data",
       "png": "[encoded data removed]",
       "text": [
        "<matplotlib.figure.Figure at 0x5be1d50>"
       ]
      }
     ],
     "prompt_number": 43
    },
    {
     "cell_type": "code",
     "collapsed": false,
     "input": [
      "type(wf['POM uM'])"
     ],
     "language": "python",
     "metadata": {},
     "outputs": [
      {
       "metadata": {},
       "output_type": "pyout",
       "prompt_number": 44,
       "text": [
        "pandas.core.series.TimeSeries"
       ]
      }
     ],
     "prompt_number": 44
    },
    {
     "cell_type": "code",
     "collapsed": false,
     "input": [
      "wf.values"
     ],
     "language": "python",
     "metadata": {},
     "outputs": [
      {
       "metadata": {},
       "output_type": "pyout",
       "prompt_number": 45,
       "text": [
        "array([[West Falmouth Hbr, WF5pw, Snug, ..., nan, nan, nan],\n",
        "       [West Falmouth Hbr, WF5pw, Snug, ..., nan, nan, nan],\n",
        "       [West Falmouth Hbr, WF5pw, Snug, ..., nan, nan, nan],\n",
        "       ..., \n",
        "       [West Falmouth, WF5pw/CBBWF2, Snug, ..., nan, nan, nan],\n",
        "       [West Falmouth, WF5pw/CBBWF2, Snug, ..., nan, nan, nan],\n",
        "       [West Falmouth, WF5pw/CBBWF2, Snug, ..., nan, nan, nan]], dtype=object)"
       ]
      }
     ],
     "prompt_number": 45
    },
    {
     "cell_type": "code",
     "collapsed": false,
     "input": [
      "wfd=wf[wf['Depth (m)'] >= 0.5]\n",
      "wfd['Depth (m)'].values"
     ],
     "language": "python",
     "metadata": {},
     "outputs": [
      {
       "metadata": {},
       "output_type": "pyout",
       "prompt_number": 46,
       "text": [
        "array([1.0, 1.0, 1.0, 1.0, 1.0, 1.0, 1.0, 1.0, 1.0, 1.0, 1.0, 1.0, 1.0,\n",
        "       1.0, 1.0, 1.0, 1.0, 1.0, 1.0, 1.0, 1.0, 1.0, 1.0, 1.0, 0.52, 1.0,\n",
        "       1.0, 1.0, 1.0, 1.0, 1.0, 1.0, 1.0, 1.0, 1.2, 1.0, 1.0, 1.0, 1.0,\n",
        "       1.0, 1.0, 1.0], dtype=object)"
       ]
      }
     ],
     "prompt_number": 46
    },
    {
     "cell_type": "code",
     "collapsed": false,
     "input": [
      "# print just a few columns and render as HTML\n",
      "new=wfd.reindex(columns=['Embayment','Station','Depth (m)','Temp C','Salt ppt','NO3 uM','PO4 uM','POM uM','TDN uM'])\n",
      "HTML(new[100: ].to_html())"
     ],
     "language": "python",
     "metadata": {},
     "outputs": [
      {
       "html": [
        "<table border=\"1\" class=\"dataframe\">\n",
        "  <tbody>\n",
        "    <tr>\n",
        "      <td>&lt;class 'pandas.tseries.index.DatetimeIndex'&gt;\n",
        "Length: 0, Freq: None, Timezone: None</td>\n",
        "      <td>Empty DataFrame</td>\n",
        "    </tr>\n",
        "  </tbody>\n",
        "</table>"
       ],
       "metadata": {},
       "output_type": "pyout",
       "prompt_number": 47,
       "text": [
        "<IPython.core.display.HTML at 0x5fb2990>"
       ]
      }
     ],
     "prompt_number": 47
    },
    {
     "cell_type": "code",
     "collapsed": false,
     "input": [
      "model = pd.ols(x=wf['Year'],y=wf['NH4 uM'])\n",
      "model"
     ],
     "language": "python",
     "metadata": {},
     "outputs": [
      {
       "metadata": {},
       "output_type": "pyout",
       "prompt_number": 48,
       "text": [
        "\n",
        "-------------------------Summary of Regression Analysis-------------------------\n",
        "\n",
        "Formula: Y ~ <x> + <intercept>\n",
        "\n",
        "Number of Observations:         295\n",
        "Number of Degrees of Freedom:   2\n",
        "\n",
        "R-squared:         0.0071\n",
        "Adj R-squared:     0.0037\n",
        "\n",
        "Rmse:              1.1210\n",
        "\n",
        "F-stat (1, 293):     2.0941, p-value:     0.1489\n",
        "\n",
        "Degrees of Freedom: model 1, resid 293\n",
        "\n",
        "-----------------------Summary of Estimated Coefficients------------------------\n",
        "      Variable       Coef    Std Err     t-stat    p-value    CI 2.5%   CI 97.5%\n",
        "--------------------------------------------------------------------------------\n",
        "             x     0.0162     0.0112       1.45     0.1489    -0.0057     0.0381\n",
        "     intercept   -31.1477    22.3587      -1.39     0.1646   -74.9708    12.6753\n",
        "---------------------------------End of Summary---------------------------------\n"
       ]
      }
     ],
     "prompt_number": 48
    },
    {
     "cell_type": "code",
     "collapsed": false,
     "input": [
      "figure(figsize=(12,5))\n",
      "model.y_fitted.plot(marker='x')\n",
      "wf['NH4 uM'].plot(linestyle='none',marker='o',title='NH4 (uM) in West Falmouth Harbor')\n"
     ],
     "language": "python",
     "metadata": {},
     "outputs": [
      {
       "metadata": {},
       "output_type": "pyout",
       "prompt_number": 49,
       "text": [
        "<matplotlib.axes.AxesSubplot at 0x5fc6e50>"
       ]
      },
      {
       "metadata": {},
       "output_type": "display_data",
       "png": "[encoded data removed]",
       "text": [
        "<matplotlib.figure.Figure at 0x5fb2450>"
       ]
      }
     ],
     "prompt_number": 49
    },
    {
     "cell_type": "code",
     "collapsed": false,
     "input": [
      "wf_month=wf.groupby(lambda x: x.month).mean()"
     ],
     "language": "python",
     "metadata": {},
     "outputs": [],
     "prompt_number": 64
    },
    {
     "cell_type": "code",
     "collapsed": false,
     "input": [
      "wf_month['DO mg/L'].head()"
     ],
     "language": "python",
     "metadata": {},
     "outputs": [
      {
       "metadata": {},
       "output_type": "pyout",
       "prompt_number": 69,
       "text": [
        "7    5.905087\n",
        "8    5.617639\n",
        "Name: DO mg/L, dtype: float64"
       ]
      }
     ],
     "prompt_number": 69
    },
    {
     "cell_type": "code",
     "collapsed": false,
     "input": [
      "asn['Station'].unique()"
     ],
     "language": "python",
     "metadata": {},
     "outputs": [
      {
       "metadata": {},
       "output_type": "pyout",
       "prompt_number": 52,
       "text": [
        "array([QH2, QH1, QH3, LSM1, GPP1, FLP1, MAC1, WF1pw, WF1, WF1pw/CBBWF2,\n",
        "       WF5pw, WF5, WF5pw/CBBWF2, WF2pw, WF2, WF2pw/CBBWF4, WF3pw, WF3,\n",
        "       WF3pw/CBBWF5, WF4pw, WF4, WF4pw/CBBWF1, WF6pw, WF6, WF6pw/CBBWF3,\n",
        "       WF7pw, WF7, WF7pw/CBBWF9, WF8pw, WF8, nan, HB2, WH1, WH2, WH3, FC1,\n",
        "       RH1, SQ2, SQ1, MG1, MG2, MG3, MG4, CBB1, MB1], dtype=object)"
       ]
      }
     ],
     "prompt_number": 52
    },
    {
     "cell_type": "code",
     "collapsed": false,
     "input": [
      "asn['Embayment'].unique()"
     ],
     "language": "python",
     "metadata": {},
     "outputs": [
      {
       "metadata": {},
       "output_type": "pyout",
       "prompt_number": 53,
       "text": [
        "array([QUISSETT HARBOR, Little Sipp Marsh, GUNNING POINT POND, Flume Pond,\n",
        "       Mashapaquit Creek, West Falmouth Hbr, West Falmouth, HERRING BROOK,\n",
        "       Wild Harbor, nan, Wild Harbor River, Fiddler Cove, Rands Harbor,\n",
        "       SQUETEAGUE HARBOR, MEGANSETT HARBOR, CBB BUOY, Manomet Bay], dtype=object)"
       ]
      }
     ],
     "prompt_number": 53
    },
    {
     "cell_type": "code",
     "collapsed": false,
     "input": [
      "pd.__version__"
     ],
     "language": "python",
     "metadata": {},
     "outputs": [
      {
       "metadata": {},
       "output_type": "pyout",
       "prompt_number": 72,
       "text": [
        "'0.11.0'"
       ]
      }
     ],
     "prompt_number": 72
    },
    {
     "cell_type": "code",
     "collapsed": false,
     "input": [],
     "language": "python",
     "metadata": {},
     "outputs": []
    }
   ],
   "metadata": {}
  }
 ]
}