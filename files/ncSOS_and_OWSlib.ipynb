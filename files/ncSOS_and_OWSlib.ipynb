{
 "metadata": {
  "name": "ncSOS_and_OWSlib"
 },
 "nbformat": 3,
 "nbformat_minor": 0,
 "worksheets": [
  {
   "cells": [
    {
     "cell_type": "heading",
     "level": 1,
     "metadata": {},
     "source": "Accessing ncSOS with OWSLib"
    },
    {
     "cell_type": "markdown",
     "metadata": {},
     "source": "We have an ncSOS server with a [get observation example that works](http://geoport-dev.whoi.edu/thredds/sos/usgs/data2/notebook/1211-A1H.cdf?service=SOS&version=1.0.0&request=GetObservation&responseFormat=text%2Fxml%3Bsubtype%3D%22om%2F1.0.0%22&offering=1211-A1H&observedProperty=u_1205&procedure=urn:ioos:station:gov.usgs:1211-A1H):\n```\nhttp://geoport-dev.whoi.edu/thredds/sos/usgs/data2/notebook/1211-A1H.cdf?service=SOS&version=1.0.0&request=GetObservation&responseFormat=text%2Fxml%3Bsubtype%3D%22om%2F1.0.0%22&offering=1211-A1H&observedProperty=u_1205&procedure=urn:ioos:station:gov.usgs:1211-A1H\n```\nBut can we formulate, request and process this same query (and others like it) using OWSlib?  "
    },
    {
     "cell_type": "code",
     "collapsed": false,
     "input": "from owslib.sos import SensorObservationService\n#import pdb",
     "language": "python",
     "metadata": {},
     "outputs": [],
     "prompt_number": 1
    },
    {
     "cell_type": "code",
     "collapsed": false,
     "input": "url = 'http://sdf.ndbc.noaa.gov/sos/server.php?request=GetCapabilities&service=SOS&version=1.0.0'\nndbc = SensorObservationService(url)",
     "language": "python",
     "metadata": {},
     "outputs": [],
     "prompt_number": 2
    },
    {
     "cell_type": "code",
     "collapsed": false,
     "input": "# usgs woods hole\n# buoy data (single current meter)\nurl='http://geoport-dev.whoi.edu/thredds/sos/usgs/data2/notebook/1211-A1H.cdf'\nusgs = SensorObservationService(url)\ncontents = usgs.contents",
     "language": "python",
     "metadata": {},
     "outputs": [],
     "prompt_number": 3
    },
    {
     "cell_type": "code",
     "collapsed": false,
     "input": "usgs.contents",
     "language": "python",
     "metadata": {},
     "outputs": [
      {
       "metadata": {},
       "output_type": "pyout",
       "prompt_number": 4,
       "text": "{'1211-A1H': <owslib.swe.observation.sos100.SosObservationOffering at 0x537ed10>,\n 'network-all': <owslib.swe.observation.sos100.SosObservationOffering at 0x537ec10>}"
      }
     ],
     "prompt_number": 4
    },
    {
     "cell_type": "code",
     "collapsed": false,
     "input": "off = usgs.offerings[1]\noff.name",
     "language": "python",
     "metadata": {},
     "outputs": [
      {
       "metadata": {},
       "output_type": "pyout",
       "prompt_number": 5,
       "text": "'urn:ioos:station:gov.usgs:1211-A1H'"
      }
     ],
     "prompt_number": 5
    },
    {
     "cell_type": "code",
     "collapsed": false,
     "input": "off.response_formats",
     "language": "python",
     "metadata": {},
     "outputs": [
      {
       "metadata": {},
       "output_type": "pyout",
       "prompt_number": 6,
       "text": "['text/xml;subtype=\"om/1.0.0\"',\n 'text/xml;subtype=\"om/1.0.0/profiles/ioos_sos/1.0\"']"
      }
     ],
     "prompt_number": 6
    },
    {
     "cell_type": "code",
     "collapsed": false,
     "input": "off.observed_properties",
     "language": "python",
     "metadata": {},
     "outputs": [
      {
       "metadata": {},
       "output_type": "pyout",
       "prompt_number": 7,
       "text": "['u_1205', 'v_1206', 'CD_310', 'CS_300', 'upr_4001']"
      }
     ],
     "prompt_number": 7
    },
    {
     "cell_type": "code",
     "collapsed": false,
     "input": "# the get observation request below works.  How can we recreate this using OWSLib?\n# http://geoport-dev.whoi.edu/thredds/sos/usgs/data2/notebook/1211-A1H.cdf?service=SOS&version=1.0.0&request=GetObservation&responseFormat=text%2Fxml%3Bsubtype%3D%22om%2F1.0.0%22&offering=1211-A1H&observedProperty=u_1205&procedure=urn:ioos:station:gov.usgs:1211-A1H",
     "language": "python",
     "metadata": {},
     "outputs": [],
     "prompt_number": 9
    },
    {
     "cell_type": "code",
     "collapsed": false,
     "input": "# try this \nresponse = usgs.get_observation(offerings=['urn:ioos:station:gov.usgs:1211-A1H'],\n                                 responseFormat='text/xml;subtype=\"om/1.0.0\"',\n                                 observedProperties=['u_1205'])",
     "language": "python",
     "metadata": {},
     "outputs": [],
     "prompt_number": 19
    },
    {
     "cell_type": "code",
     "collapsed": false,
     "input": "print response",
     "language": "python",
     "metadata": {},
     "outputs": [
      {
       "output_type": "stream",
       "stream": "stdout",
       "text": "None\n"
      }
     ],
     "prompt_number": 15
    },
    {
     "cell_type": "code",
     "collapsed": false,
     "input": "# crap, the above didn't work.  Okay, try adding a time range:\n# pick a start & stop time\nstart = '1976-12-302T00:00:00Z'\nstop = '1977-01-07T00:00:00Z'\n# issue the SOS get_obs request\nresponse = usgs.get_observation(offerings=['urn:ioos:station:gov.usgs:1211-A1H'],\n                                 responseFormat='text/xml;subtype=\"om/1.0.0\"',\n                                 observedProperties=['u_1205'],\n                                 eventTime='%s/%s' % (start,stop))",
     "language": "python",
     "metadata": {},
     "outputs": [],
     "prompt_number": 20
    },
    {
     "cell_type": "code",
     "collapsed": false,
     "input": "print response",
     "language": "python",
     "metadata": {},
     "outputs": [
      {
       "output_type": "stream",
       "stream": "stdout",
       "text": "None\n"
      }
     ],
     "prompt_number": 16
    },
    {
     "cell_type": "code",
     "collapsed": false,
     "input": "# crap, that didn't work either.",
     "language": "python",
     "metadata": {},
     "outputs": []
    },
    {
     "cell_type": "code",
     "collapsed": false,
     "input": "# usgs woods hole ADCP data\n# url='http://geoport-dev.whoi.edu/thredds/sos/usgs/data2/notebook/9111aqd-a.nc'\n# adcp = SensorObservationService(url)\n",
     "language": "python",
     "metadata": {},
     "outputs": [],
     "prompt_number": 17
    },
    {
     "cell_type": "code",
     "collapsed": false,
     "input": "",
     "language": "python",
     "metadata": {},
     "outputs": []
    }
   ],
   "metadata": {}
  }
 ]
}