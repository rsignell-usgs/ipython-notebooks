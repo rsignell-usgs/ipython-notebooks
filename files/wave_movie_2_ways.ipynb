{
 "metadata": {
  "name": "wave_movie_2_ways"
 },
 "nbformat": 3,
 "nbformat_minor": 0,
 "worksheets": [
  {
   "cells": [
    {
     "cell_type": "markdown",
     "metadata": {},
     "source": [
      "#1. Making a movie using python multiprocessing"
     ]
    },
    {
     "cell_type": "code",
     "collapsed": false,
     "input": [
      "import sys\n",
      "import os\n",
      "import glob\n",
      "from multiprocessing import Pool,cpu_count\n",
      "\n",
      "from pylab import *\n",
      "import netCDF4\n",
      "import datetime as dt\n",
      "import numpy.ma as ma\n",
      "\n",
      "from datetime import date, datetime, timedelta\n",
      "from visvis import movieWrite\n",
      "\n",
      "from PIL import Image"
     ],
     "language": "python",
     "metadata": {},
     "outputs": [],
     "prompt_number": 1
    },
    {
     "cell_type": "code",
     "collapsed": false,
     "input": [
      "NUM_PROCESSES = 6"
     ],
     "language": "python",
     "metadata": {},
     "outputs": [],
     "prompt_number": 2
    },
    {
     "cell_type": "code",
     "collapsed": false,
     "input": [
      "def perdelta(start, end, delta):\n",
      "\tcurr = start\n",
      "\twhile curr < end:\n",
      "\t\tyield curr\n",
      "\t\tcurr += delta"
     ],
     "language": "python",
     "metadata": {},
     "outputs": [],
     "prompt_number": 3
    },
    {
     "cell_type": "code",
     "collapsed": false,
     "input": [
      "def plotWave(args):\n",
      "    url = args['url']\n",
      "    box = args['box']\n",
      "    name = args['title']\n",
      "    start = args['date']\n",
      "    vname = args['vname']\n",
      "    imname = 'input_0000'+start.strftime('%Y%m%d%H%M')+'.png'\n",
      "    nc = netCDF4.Dataset(url)\n",
      "    lat = nc.variables['lat'][:]\n",
      "    lon = nc.variables['lon'][:]\n",
      "    time_var = nc.variables['time']\n",
      "    dtime = netCDF4.num2date(time_var[:],time_var.units)\n",
      "    bi=(lon>=box[0])&(lon<=box[2])\n",
      "    bj=(lat>=box[1])&(lat<=box[3])\n",
      "    istart = netCDF4.date2index(start,time_var,select='nearest')\n",
      "    var = nc.variables[vname][istart,bj,bi]\n",
      "    hs = ma.masked_invalid(var)\n",
      "    plt.figure(figsize=(8,8)) \n",
      "    plt.pcolormesh(lon[bi], lat[bj], hs, vmin=0, vmax=3)\n",
      "    #print imname\n",
      "    plt.title('%s %s' %(name, start.strftime('%Y/%m/%d %H:%M')) )\n",
      "    plt.savefig(imname)"
     ],
     "language": "python",
     "metadata": {},
     "outputs": [],
     "prompt_number": 4
    },
    {
     "cell_type": "code",
     "collapsed": false,
     "input": [
      "def gen_dates(nc,vname,past,box,title):\n",
      "\t#print url\n",
      "\tfor result in perdelta(datetime.utcnow() - timedelta(days=past), datetime.utcnow(), timedelta(hours=1)):\n",
      "#\t\tprint \"gen_dates:\",type(result),result\n",
      "\t\tyield {'url':url, 'vname':vname, 'date':result, 'box':box, 'title':title}"
     ],
     "language": "python",
     "metadata": {},
     "outputs": [],
     "prompt_number": 5
    },
    {
     "cell_type": "code",
     "collapsed": false,
     "input": [
      "def makeGOMmovie(url,vname,days,box,title=\"\"):\n",
      "    print url\n",
      "    pool = Pool(processes=4)\n",
      "    results = pool.imap_unordered(plotWave, gen_dates(url,vname,days,box,title), 100)\n",
      "    pool.close()\n",
      "    pool.join()"
     ],
     "language": "python",
     "metadata": {},
     "outputs": [],
     "prompt_number": 6
    },
    {
     "cell_type": "code",
     "collapsed": false,
     "input": [
      "cd /usgs/data2/notebook/frames"
     ],
     "language": "python",
     "metadata": {},
     "outputs": [
      {
       "output_type": "stream",
       "stream": "stdout",
       "text": [
        "/usgs/data2/notebook/frames\n"
       ]
      }
     ],
     "prompt_number": 13
    },
    {
     "cell_type": "code",
     "collapsed": false,
     "input": [
      "url='http://thredds.ucar.edu/thredds/dodsC/grib/NCEP/WW3/Coastal_US_East_Coast/best'\n",
      "box = [-71.5,39.5,-63.,46.]\n",
      "days = 1\n",
      "vname = 'Significant_height_of_combined_wind_waves_and_swell_surface'\n",
      "title = 'Wave Height in the Gulf of Maine'"
     ],
     "language": "python",
     "metadata": {},
     "outputs": [],
     "prompt_number": 14
    },
    {
     "cell_type": "code",
     "collapsed": false,
     "input": [
      "makeGOMmovie(url,vname,days,box,title)"
     ],
     "language": "python",
     "metadata": {},
     "outputs": [
      {
       "output_type": "stream",
       "stream": "stdout",
       "text": [
        "http://thredds.ucar.edu/thredds/dodsC/grib/NCEP/WW3/Coastal_US_East_Coast/best\n"
       ]
      }
     ],
     "prompt_number": 15
    },
    {
     "cell_type": "code",
     "collapsed": false,
     "input": [
      "IMGS = []\n",
      "imgs = glob.glob(\"*.png\")\n",
      "print imgs\n",
      "for im in imgs:\n",
      "    IMGS.append(Image.open(im))\n",
      "movieWrite(\"/var/www/images/latest.gif\",IMGS)"
     ],
     "language": "python",
     "metadata": {},
     "outputs": [
      {
       "output_type": "stream",
       "stream": "stdout",
       "text": [
        "['input_0000201305202009.png', 'input_0000201305202109.png', 'input_0000201305202209.png', 'input_0000201305202309.png', 'input_0000201305210009.png', 'input_0000201305210109.png', 'input_0000201305210209.png', 'input_0000201305210309.png', 'input_0000201305210409.png', 'input_0000201305210509.png', 'input_0000201305210609.png', 'input_0000201305210709.png', 'input_0000201305210809.png', 'input_0000201305210909.png', 'input_0000201305211009.png', 'input_0000201305211109.png', 'input_0000201305211209.png', 'input_0000201305211309.png', 'input_0000201305211409.png', 'input_0000201305211509.png', 'input_0000201305211609.png', 'input_0000201305211709.png', 'input_0000201305211809.png', 'input_0000201305211909.png', 'input_0000201305212009.png']\n",
        "Wrote 25 frames to GIF in 2.09 seconds (83 ms/frame)"
       ]
      },
      {
       "output_type": "stream",
       "stream": "stdout",
       "text": [
        "\n"
       ]
      }
     ],
     "prompt_number": 17
    },
    {
     "cell_type": "code",
     "collapsed": false,
     "input": [
      "from IPython.core.display import HTML\n",
      "HTML('<img src=\"http://geoport.whoi.edu/images/latest.gif\" />')"
     ],
     "language": "python",
     "metadata": {},
     "outputs": [
      {
       "html": [
        "<img src=\"http://geoport.whoi.edu/images/latest.gif\" />"
       ],
       "output_type": "pyout",
       "prompt_number": 18,
       "text": [
        "<IPython.core.display.HTML at 0x4c76510>"
       ]
      }
     ],
     "prompt_number": 18
    },
    {
     "cell_type": "markdown",
     "metadata": {},
     "source": [
      "#2. Making a movie using Ipython parallel"
     ]
    },
    {
     "cell_type": "code",
     "collapsed": false,
     "input": [
      "from IPython import parallel"
     ],
     "language": "python",
     "metadata": {},
     "outputs": [],
     "prompt_number": 21
    },
    {
     "cell_type": "code",
     "collapsed": false,
     "input": [
      "rc = parallel.Client()\n",
      "rc.block=True\n",
      "rc.ids"
     ],
     "language": "python",
     "metadata": {},
     "outputs": [
      {
       "output_type": "pyout",
       "prompt_number": 22,
       "text": [
        "[0, 1, 2, 3]"
       ]
      }
     ],
     "prompt_number": 22
    },
    {
     "cell_type": "code",
     "collapsed": false,
     "input": [
      "view=rc.load_balanced_view()\n",
      "myArgs=gen_dates(url, vname,days,box,title=\"\")"
     ],
     "language": "python",
     "metadata": {},
     "outputs": [],
     "prompt_number": 24
    },
    {
     "cell_type": "code",
     "collapsed": false,
     "input": [
      "view.map(plotWave, myArgs)"
     ],
     "language": "python",
     "metadata": {},
     "outputs": []
    },
    {
     "cell_type": "code",
     "collapsed": false,
     "input": [],
     "language": "python",
     "metadata": {},
     "outputs": []
    },
    {
     "cell_type": "code",
     "collapsed": false,
     "input": [],
     "language": "python",
     "metadata": {},
     "outputs": []
    }
   ],
   "metadata": {}
  }
 ]
}