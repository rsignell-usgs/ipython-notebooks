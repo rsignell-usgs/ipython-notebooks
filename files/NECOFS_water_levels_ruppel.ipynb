{
 "metadata": {
  "name": "necofs_water_levels.ipynb"
 },
 "nbformat": 3,
 "nbformat_minor": 0,
 "worksheets": [
  {
   "cells": [
    {
     "cell_type": "heading",
     "level": 1,
     "metadata": {},
     "source": [
      "Extract NECOFS water levels using NetCDF4-Python and analyze/visualize with Pandas"
     ]
    },
    {
     "cell_type": "code",
     "collapsed": false,
     "input": [
      "# Plot forecast water levels from NECOFS model from list of lon,lat locations\n",
      "# (uses the nearest point, no interpolation)\n",
      "from pylab import *\n",
      "import netCDF4\n",
      "import datetime as dt\n",
      "import pandas as pd\n",
      "from StringIO import StringIO"
     ],
     "language": "python",
     "metadata": {},
     "outputs": [],
     "prompt_number": 45
    },
    {
     "cell_type": "code",
     "collapsed": false,
     "input": [
      "#NECOFS MassBay grid forecast\n",
      "model='Massbay'\n",
      "url='http://www.smast.umassd.edu:8080/thredds/dodsC/FVCOM/NECOFS/Forecasts/NECOFS_FVCOM_OCEAN_MASSBAY_FORECAST.nc'"
     ],
     "language": "python",
     "metadata": {},
     "outputs": [],
     "prompt_number": 46
    },
    {
     "cell_type": "code",
     "collapsed": false,
     "input": [
      "#NECOFS GOM3 grid forecast\n",
      "model='GOM3'\n",
      "url='http://www.smast.umassd.edu:8080/thredds/dodsC/FVCOM/NECOFS/Forecasts/NECOFS_GOM3_FORECAST.nc'"
     ],
     "language": "python",
     "metadata": {},
     "outputs": [],
     "prompt_number": 47
    },
    {
     "cell_type": "code",
     "collapsed": false,
     "input": [
      "# FVCOM GOM3v11 NECOFS Forecast Archive (Apr 01,2010-Nov 10,2011)\n",
      "model='GOM3'\n",
      "url='http://www.smast.umassd.edu:8080/thredds/dodsC/fvcom/archives/necofs_gom3v11'"
     ],
     "language": "python",
     "metadata": {},
     "outputs": [],
     "prompt_number": 48
    },
    {
     "cell_type": "code",
     "collapsed": false,
     "input": [
      "# FVCOM GOM3v12 NECOFS Forecast Archive (Nov 11,2011-May 08,2013)\n",
      "model='GOM3'\n",
      "url='http://www.smast.umassd.edu:8080/thredds/dodsC/fvcom/archives/necofs_gom3v12'"
     ],
     "language": "python",
     "metadata": {},
     "outputs": [],
     "prompt_number": 49
    },
    {
     "cell_type": "code",
     "collapsed": false,
     "input": [
      "# FVCOM GOM3v13 NECOFS Forecast Archive (May 09,2013-Jul 31,2013)\n",
      "model='GOM3'\n",
      "url='http://www.smast.umassd.edu:8080/thredds/dodsC/fvcom/archives/necofs_gom3v13'"
     ],
     "language": "python",
     "metadata": {},
     "outputs": [],
     "prompt_number": 50
    },
    {
     "cell_type": "code",
     "collapsed": false,
     "input": [
      "# Enter desired (Station, Lat, Lon) values here:\n",
      "x = '''\n",
      "Station, Lat, Lon\n",
      "Boston,             42.368186, -71.047984\n",
      "Scituate Harbor,    42.199447, -70.720090\n",
      "Scituate Beach,     42.209973, -70.724523\n",
      "Falmouth Harbor,    41.541575, -70.608020\n",
      "Marion,             41.689008, -70.746576\n",
      "Marshfield,         42.108480, -70.648691\n",
      "Provincetown,       42.042745, -70.171180\n",
      "Sandwich,           41.767990, -70.466219\n",
      "Hampton Bay,        42.900103, -70.818510\n",
      "Gloucester,         42.610253, -70.660570\n",
      "'''"
     ],
     "language": "python",
     "metadata": {},
     "outputs": [],
     "prompt_number": 51
    },
    {
     "cell_type": "code",
     "collapsed": false,
     "input": [
      "def dms2dd(d,m,s):\n",
      "    return d+(m+s/60.)/60.\n",
      "  "
     ],
     "language": "python",
     "metadata": {},
     "outputs": [],
     "prompt_number": 52
    },
    {
     "cell_type": "code",
     "collapsed": false,
     "input": [
      "dms2dd(41,33,15.7)"
     ],
     "language": "python",
     "metadata": {},
     "outputs": [
      {
       "output_type": "pyout",
       "prompt_number": 53,
       "text": [
        "41.55436111111111"
       ]
      }
     ],
     "prompt_number": 53
    },
    {
     "cell_type": "code",
     "collapsed": false,
     "input": [
      "-dms2dd(70,30,20.2)"
     ],
     "language": "python",
     "metadata": {},
     "outputs": [
      {
       "output_type": "pyout",
       "prompt_number": 54,
       "text": [
        "-70.50561111111111"
       ]
      }
     ],
     "prompt_number": 54
    },
    {
     "cell_type": "code",
     "collapsed": false,
     "input": [
      "x = '''\n",
      "Station, Lat, Lon\n",
      "Falmouth Harbor,    41.541575, -70.608020\n",
      "Sage Lot Pond, 41.554361, -70.505611\n",
      "'''"
     ],
     "language": "python",
     "metadata": {},
     "outputs": [],
     "prompt_number": 55
    },
    {
     "cell_type": "code",
     "collapsed": false,
     "input": [
      "x = '''\n",
      "Station, Lat, Lon\n",
      "Boston,             42.368186, -71.047984\n",
      "Carolyn Seep Spot,    39.8083, -69.5917\n",
      "Falmouth Harbor,  41.541575, -70.608020\n",
      "'''"
     ],
     "language": "python",
     "metadata": {},
     "outputs": [],
     "prompt_number": 56
    },
    {
     "cell_type": "code",
     "collapsed": false,
     "input": [
      "# Create a Pandas DataFrame\n",
      "obs=pd.read_csv(StringIO(x.strip()), sep=\",\\s*\",index_col='Station')"
     ],
     "language": "python",
     "metadata": {},
     "outputs": [],
     "prompt_number": 57
    },
    {
     "cell_type": "code",
     "collapsed": false,
     "input": [
      "obs"
     ],
     "language": "python",
     "metadata": {},
     "outputs": [
      {
       "html": [
        "<div style=\"max-height:1000px;max-width:1500px;overflow:auto;\">\n",
        "<table border=\"1\" class=\"dataframe\">\n",
        "  <thead>\n",
        "    <tr style=\"text-align: right;\">\n",
        "      <th></th>\n",
        "      <th>Lat</th>\n",
        "      <th>Lon</th>\n",
        "    </tr>\n",
        "    <tr>\n",
        "      <th>Station</th>\n",
        "      <th></th>\n",
        "      <th></th>\n",
        "    </tr>\n",
        "  </thead>\n",
        "  <tbody>\n",
        "    <tr>\n",
        "      <th>Boston</th>\n",
        "      <td> 42.368186</td>\n",
        "      <td>-71.047984</td>\n",
        "    </tr>\n",
        "    <tr>\n",
        "      <th>Carolyn Seep Spot</th>\n",
        "      <td> 39.808300</td>\n",
        "      <td>-69.591700</td>\n",
        "    </tr>\n",
        "    <tr>\n",
        "      <th>Falmouth Harbor</th>\n",
        "      <td> 41.541575</td>\n",
        "      <td>-70.608020</td>\n",
        "    </tr>\n",
        "  </tbody>\n",
        "</table>\n",
        "</div>"
       ],
       "output_type": "pyout",
       "prompt_number": 58,
       "text": [
        "                         Lat        Lon\n",
        "Station                                \n",
        "Boston             42.368186 -71.047984\n",
        "Carolyn Seep Spot  39.808300 -69.591700\n",
        "Falmouth Harbor    41.541575 -70.608020"
       ]
      }
     ],
     "prompt_number": 58
    },
    {
     "cell_type": "code",
     "collapsed": false,
     "input": [
      "# find the indices of the points in (x,y) closest to the points in (xi,yi)\n",
      "def nearxy(x,y,xi,yi):\n",
      "    ind=ones(len(xi),dtype=int)\n",
      "    for i in arange(len(xi)):\n",
      "        dist=sqrt((x-xi[i])**2+(y-yi[i])**2)\n",
      "        ind[i]=dist.argmin()\n",
      "    return ind"
     ],
     "language": "python",
     "metadata": {},
     "outputs": [],
     "prompt_number": 59
    },
    {
     "cell_type": "code",
     "collapsed": false,
     "input": [
      "# open NECOFS remote OPeNDAP dataset \n",
      "nc=netCDF4.Dataset(url).variables"
     ],
     "language": "python",
     "metadata": {},
     "outputs": [],
     "prompt_number": 60
    },
    {
     "cell_type": "code",
     "collapsed": false,
     "input": [
      "# find closest NECOFS nodes to station locations\n",
      "obs['0-Based Index'] = nearxy(nc['lon'][:],nc['lat'][:],obs['Lon'],obs['Lat'])\n",
      "obs"
     ],
     "language": "python",
     "metadata": {},
     "outputs": [
      {
       "html": [
        "<div style=\"max-height:1000px;max-width:1500px;overflow:auto;\">\n",
        "<table border=\"1\" class=\"dataframe\">\n",
        "  <thead>\n",
        "    <tr style=\"text-align: right;\">\n",
        "      <th></th>\n",
        "      <th>Lat</th>\n",
        "      <th>Lon</th>\n",
        "      <th>0-Based Index</th>\n",
        "    </tr>\n",
        "    <tr>\n",
        "      <th>Station</th>\n",
        "      <th></th>\n",
        "      <th></th>\n",
        "      <th></th>\n",
        "    </tr>\n",
        "  </thead>\n",
        "  <tbody>\n",
        "    <tr>\n",
        "      <th>Boston</th>\n",
        "      <td> 42.368186</td>\n",
        "      <td>-71.047984</td>\n",
        "      <td> 49907</td>\n",
        "    </tr>\n",
        "    <tr>\n",
        "      <th>Carolyn Seep Spot</th>\n",
        "      <td> 39.808300</td>\n",
        "      <td>-69.591700</td>\n",
        "      <td>  5074</td>\n",
        "    </tr>\n",
        "    <tr>\n",
        "      <th>Falmouth Harbor</th>\n",
        "      <td> 41.541575</td>\n",
        "      <td>-70.608020</td>\n",
        "      <td> 43593</td>\n",
        "    </tr>\n",
        "  </tbody>\n",
        "</table>\n",
        "</div>"
       ],
       "output_type": "pyout",
       "prompt_number": 61,
       "text": [
        "                         Lat        Lon  0-Based Index\n",
        "Station                                               \n",
        "Boston             42.368186 -71.047984          49907\n",
        "Carolyn Seep Spot  39.808300 -69.591700           5074\n",
        "Falmouth Harbor    41.541575 -70.608020          43593"
       ]
      }
     ],
     "prompt_number": 61
    },
    {
     "cell_type": "code",
     "collapsed": false,
     "input": [
      "# get time values and convert to datetime objects\n",
      "time_var = nc['time']\n",
      "\n",
      "# all time steps\n",
      "istart = 0\n",
      "istop = len(time_var)-1\n",
      "\n",
      "# near now\n",
      "start = dt.datetime.utcnow() - dt.timedelta(days=2)\n",
      "istart = netCDF4.date2index(start,time_var,select='nearest')\n",
      "stop = dt.datetime.utcnow() + dt.timedelta(days=2)\n",
      "istop = netCDF4.date2index(start,time_var,select='nearest')\n",
      "\n",
      "# specific times (UTC)"
     ],
     "language": "python",
     "metadata": {},
     "outputs": [],
     "prompt_number": 62
    },
    {
     "cell_type": "code",
     "collapsed": false,
     "input": [
      "start = dt.datetime(2012,2,16,0,0,0)\n",
      "istart = netCDF4.date2index(start,time_var,select='nearest')\n",
      "stop = dt.datetime(2012,2,18,0,0,0)\n",
      "istop = netCDF4.date2index(stop,time_var,select='nearest')"
     ],
     "language": "python",
     "metadata": {},
     "outputs": [],
     "prompt_number": 63
    },
    {
     "cell_type": "code",
     "collapsed": false,
     "input": [
      "start = dt.datetime(2013,6,2,0,0,0)\n",
      "istart = netCDF4.date2index(start,time_var,select='nearest')\n",
      "stop = dt.datetime(2013,6,4,0,0,0)\n",
      "istop = netCDF4.date2index(stop,time_var,select='nearest')"
     ],
     "language": "python",
     "metadata": {},
     "outputs": [],
     "prompt_number": 64
    },
    {
     "cell_type": "code",
     "collapsed": false,
     "input": [
      "# get all time steps of water level from each station\n",
      "nsta=len(obs)\n",
      "ii=range(istart,istop)\n",
      "z=ones((len(ii),nsta))\n",
      "for i in range(nsta):\n",
      "    z[:,i] = nc['zeta'][ii,obs['0-Based Index'][i]]\n",
      "    "
     ],
     "language": "python",
     "metadata": {},
     "outputs": [],
     "prompt_number": 65
    },
    {
     "cell_type": "code",
     "collapsed": false,
     "input": [
      "jd = netCDF4.num2date(time_var[ii],time_var.units)"
     ],
     "language": "python",
     "metadata": {},
     "outputs": [],
     "prompt_number": 66
    },
    {
     "cell_type": "code",
     "collapsed": false,
     "input": [
      "# make a DataFrame out of the interpolated time series at each location\n",
      "zvals=pd.DataFrame(z,index=jd,columns=obs.index)"
     ],
     "language": "python",
     "metadata": {},
     "outputs": [],
     "prompt_number": 67
    },
    {
     "cell_type": "code",
     "collapsed": false,
     "input": [
      "# list out a few values\n",
      "zvals.head()"
     ],
     "language": "python",
     "metadata": {},
     "outputs": [
      {
       "html": [
        "<div style=\"max-height:1000px;max-width:1500px;overflow:auto;\">\n",
        "<table border=\"1\" class=\"dataframe\">\n",
        "  <thead>\n",
        "    <tr style=\"text-align: right;\">\n",
        "      <th>Station</th>\n",
        "      <th>Boston</th>\n",
        "      <th>Carolyn Seep Spot</th>\n",
        "      <th>Falmouth Harbor</th>\n",
        "    </tr>\n",
        "  </thead>\n",
        "  <tbody>\n",
        "    <tr>\n",
        "      <th>2013-06-02 00:00:00</th>\n",
        "      <td> 1.136924</td>\n",
        "      <td>-0.298893</td>\n",
        "      <td> 0.396693</td>\n",
        "    </tr>\n",
        "    <tr>\n",
        "      <th>2013-06-02 01:01:53</th>\n",
        "      <td> 0.611228</td>\n",
        "      <td>-0.316746</td>\n",
        "      <td> 0.298929</td>\n",
        "    </tr>\n",
        "    <tr>\n",
        "      <th>2013-06-02 01:58:08</th>\n",
        "      <td>-0.079664</td>\n",
        "      <td>-0.233548</td>\n",
        "      <td> 0.158852</td>\n",
        "    </tr>\n",
        "    <tr>\n",
        "      <th>2013-06-02 03:00:00</th>\n",
        "      <td>-0.607635</td>\n",
        "      <td>-0.082271</td>\n",
        "      <td> 0.026821</td>\n",
        "    </tr>\n",
        "    <tr>\n",
        "      <th>2013-06-02 04:01:53</th>\n",
        "      <td>-1.003246</td>\n",
        "      <td> 0.120820</td>\n",
        "      <td> 0.003202</td>\n",
        "    </tr>\n",
        "  </tbody>\n",
        "</table>\n",
        "</div>"
       ],
       "output_type": "pyout",
       "prompt_number": 68,
       "text": [
        "Station                Boston  Carolyn Seep Spot  Falmouth Harbor\n",
        "2013-06-02 00:00:00  1.136924          -0.298893         0.396693\n",
        "2013-06-02 01:01:53  0.611228          -0.316746         0.298929\n",
        "2013-06-02 01:58:08 -0.079664          -0.233548         0.158852\n",
        "2013-06-02 03:00:00 -0.607635          -0.082271         0.026821\n",
        "2013-06-02 04:01:53 -1.003246           0.120820         0.003202"
       ]
      }
     ],
     "prompt_number": 68
    },
    {
     "cell_type": "code",
     "collapsed": false,
     "input": [
      "# plotting at DataFrame is easy!\n",
      "ax=zvals.plot(figsize=(16,4),grid=True,title=('NECOFS Forecast Water Level from %s Forecast' % model),legend=False);\n",
      "# read units from dataset for ylabel\n",
      "ylabel(nc['zeta'].units)\n",
      "# plotting the legend outside the axis is a bit tricky\n",
      "box = ax.get_position()\n",
      "ax.set_position([box.x0, box.y0, box.width * 0.8, box.height])\n",
      "ax.legend(loc='center left', bbox_to_anchor=(1, 0.5));\n"
     ],
     "language": "python",
     "metadata": {},
     "outputs": [
      {
       "output_type": "display_data",
       "png": "[encoded data removed]",
       "text": [
        "<matplotlib.figure.Figure at 0x942c990>"
       ]
      }
     ],
     "prompt_number": 69
    },
    {
     "cell_type": "code",
     "collapsed": false,
     "input": [
      "# make a new DataFrame of maximum water levels at all stations\n",
      "b=pd.DataFrame(zvals.idxmax(),columns=['time of max water level (UTC)'])\n",
      "# create heading for new column containing max water level\n",
      "zmax_heading='zmax (%s)' % nc['zeta'].units\n",
      "# Add new column to DataFrame\n",
      "b[zmax_heading]=zvals.max()"
     ],
     "language": "python",
     "metadata": {},
     "outputs": [],
     "prompt_number": 70
    },
    {
     "cell_type": "code",
     "collapsed": false,
     "input": [
      "b"
     ],
     "language": "python",
     "metadata": {},
     "outputs": [
      {
       "html": [
        "<div style=\"max-height:1000px;max-width:1500px;overflow:auto;\">\n",
        "<table border=\"1\" class=\"dataframe\">\n",
        "  <thead>\n",
        "    <tr style=\"text-align: right;\">\n",
        "      <th></th>\n",
        "      <th>time of max water level (UTC)</th>\n",
        "      <th>zmax (meters)</th>\n",
        "    </tr>\n",
        "    <tr>\n",
        "      <th>Station</th>\n",
        "      <th></th>\n",
        "      <th></th>\n",
        "    </tr>\n",
        "  </thead>\n",
        "  <tbody>\n",
        "    <tr>\n",
        "      <th>Boston</th>\n",
        "      <td>2013-06-02 10:58:08</td>\n",
        "      <td> 1.683046</td>\n",
        "    </tr>\n",
        "    <tr>\n",
        "      <th>Carolyn Seep Spot</th>\n",
        "      <td>2013-06-03 19:58:08</td>\n",
        "      <td> 0.548166</td>\n",
        "    </tr>\n",
        "    <tr>\n",
        "      <th>Falmouth Harbor</th>\n",
        "      <td>2013-06-03 22:01:53</td>\n",
        "      <td> 0.540688</td>\n",
        "    </tr>\n",
        "  </tbody>\n",
        "</table>\n",
        "</div>"
       ],
       "output_type": "pyout",
       "prompt_number": 71,
       "text": [
        "                  time of max water level (UTC)  zmax (meters)\n",
        "Station                                                       \n",
        "Boston                      2013-06-02 10:58:08       1.683046\n",
        "Carolyn Seep Spot           2013-06-03 19:58:08       0.548166\n",
        "Falmouth Harbor             2013-06-03 22:01:53       0.540688"
       ]
      }
     ],
     "prompt_number": 71
    }
   ],
   "metadata": {}
  }
 ]
}