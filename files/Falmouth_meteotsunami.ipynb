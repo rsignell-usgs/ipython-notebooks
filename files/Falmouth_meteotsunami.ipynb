{
 "metadata": {
  "name": "Falmouth_meteotsunami"
 },
 "nbformat": 3,
 "nbformat_minor": 0,
 "worksheets": [
  {
   "cells": [
    {
     "cell_type": "markdown",
     "metadata": {},
     "source": [
      "#Falmouth Meteotsunami (6/13/2013)\n",
      "\n",
      "Falmouth experienced a meteotsunami on the afternoon of Thursday, June 13, 2013.  See Woods Hole gauge data, below. <br><br>\n",
      "\n",
      "Looking quickly at some other buoys and gauges you can see this from Long Island to Chatham, but Woods Hole/Falmouth appears to have been the focal point. Chuck Martinsen from Falmouth DNR has great security camera video of Falmouth Inner Harbor that shows the current ripping in and out and water level bouncing up and down about 2-3 ft over the course of an hour or so. I\u2019ll share some out tomorrow. He also reports Cotuit marshes being flooded and exposed several times as well. The WBNERR folks see it in their Menauhant gauge, too. <br><br>\n",
      " \n",
      "Chuck is interested in learning more, including whether the currents in the local harbors might have been sufficient to mobilize (contaminated) sediments. Anybody got time to explain to him what\u2019s going on? <br><br>\n",
      " \n",
      "The atmos pressure at various buoys and gauges is also pretty telling.<br><br>\n",
      " \n",
      "And if you look at the 24 hour radar loop you can see the frontal passage forcing.<br> http://www.intellicast.com/National/Radar/Yesterday.aspx\n",
      "\n",
      "<img src=http://geoport.whoi.edu/images/woods_hole_tide_jun13.png >"
     ]
    },
    {
     "cell_type": "code",
     "collapsed": false,
     "input": [
      "from datetime import datetime\n",
      "import pandas as pd\n",
      "from owslib.sos import SensorObservationService\n",
      "from owslib.fes import FilterCapabilities\n",
      "from owslib.ows import OperationsMetadata\n"
     ],
     "language": "python",
     "metadata": {},
     "outputs": [],
     "prompt_number": 1
    },
    {
     "cell_type": "markdown",
     "metadata": {},
     "source": [
      "#Get water levels from CO-OPS"
     ]
    },
    {
     "cell_type": "code",
     "collapsed": false,
     "input": [
      "coops=SensorObservationService('http://opendap.co-ops.nos.noaa.gov/ioos-dif-sos/SOS?service=SOS&request=GetCapabilities&version=1.0.0')"
     ],
     "language": "python",
     "metadata": {},
     "outputs": [],
     "prompt_number": 2
    },
    {
     "cell_type": "code",
     "collapsed": false,
     "input": [
      "getob = coops.get_operation_by_name('getobservation')"
     ],
     "language": "python",
     "metadata": {},
     "outputs": [],
     "prompt_number": 3
    },
    {
     "cell_type": "code",
     "collapsed": false,
     "input": [
      "getob.parameters"
     ],
     "language": "python",
     "metadata": {},
     "outputs": [
      {
       "metadata": {},
       "output_type": "pyout",
       "prompt_number": 4,
       "text": [
        "{'dataType': {'values': ['PreliminarySixMinute',\n",
        "   'PreliminaryOneMinute',\n",
        "   'VerifiedSixMinute',\n",
        "   'VerifiedHourlyHeight',\n",
        "   'VerifiedHighLow',\n",
        "   'VerifiedDailyMean',\n",
        "   'SixMinuteTidePredictions',\n",
        "   'HourlyTidePredictions',\n",
        "   'HighLowTidePredictions']},\n",
        " 'epoch': {'values': ['Current', 'Superseded']},\n",
        " 'eventTime': {'values': ['eventTime element']},\n",
        " 'observedProperty': {'values': ['air_temperature',\n",
        "   'air_pressure',\n",
        "   'sea_water_electrical_conductivity',\n",
        "   'currents',\n",
        "   'sea_water_salinity',\n",
        "   'water_surface_height_above_reference_datum',\n",
        "   'sea_surface_height_amplitude_due_to_equilibrium_ocean_tide',\n",
        "   'sea_water_temperature',\n",
        "   'winds',\n",
        "   'harmonic_constituents',\n",
        "   'datums',\n",
        "   'relative_humidity',\n",
        "   'rain_fall']},\n",
        " 'offering': {'values': ['urn:ioos:station:NOAA.NOS.CO-OPS:stationid',\n",
        "   'urn:ioos:network:NOAA.NOS.CO-OPS:networkid']},\n",
        " 'procedure': {'values': ['procedure element']},\n",
        " 'responseFormat': {'values': ['text/csv',\n",
        "   'text/tab-separated-values',\n",
        "   'text/xml;schema=\"ioos/0.6.1\"',\n",
        "   'application/ioos+xml;version=0.6.1',\n",
        "   'application/vnd.google-earth.kml+xml']},\n",
        " 'result': {'values': ['VerticalDatum==urn:ioos:def:datum:noaa::MLLW',\n",
        "   'VerticalDatum==urn:ioos:def:datum:noaa::MSL',\n",
        "   'VerticalDatum==urn:ioos:def:datum:noaa::MHW',\n",
        "   'VerticalDatum==urn:ioos:def:datum:noaa::STND',\n",
        "   'VerticalDatum==urn:ioos:def:datum:noaa::IGLD',\n",
        "   'VerticalDatum==urn:ioos:def:datum:noaa::NAVD']},\n",
        " 'service': {'values': ['SOS']},\n",
        " 'timeZone': {'values': ['GMT', 'LST']},\n",
        " 'unit': {'values': ['Meters', 'Feet']},\n",
        " 'version': {'values': ['1.0.0']}}"
       ]
      }
     ],
     "prompt_number": 4
    },
    {
     "cell_type": "code",
     "collapsed": false,
     "input": [
      "contents = coops.contents"
     ],
     "language": "python",
     "metadata": {},
     "outputs": [],
     "prompt_number": 5
    },
    {
     "cell_type": "code",
     "collapsed": false,
     "input": [
      "print coops.offerings[1].name\n",
      "#print contents.keys()\n",
      "print contents['station-8447930']"
     ],
     "language": "python",
     "metadata": {},
     "outputs": [
      {
       "output_type": "stream",
       "stream": "stdout",
       "text": [
        "urn:ioos:network:NOAA.NOS.CO-OPS:CurrentsActive\n",
        "Offering id: station-8447930, name: urn:ioos:station:NOAA.NOS.CO-OPS:8447930\n"
       ]
      }
     ],
     "prompt_number": 6
    },
    {
     "cell_type": "code",
     "collapsed": false,
     "input": [
      "import urllib2\n",
      "df = pd.read_csv(url,index_col='date',parse_dates=True)  # skip the units row "
     ],
     "language": "python",
     "metadata": {},
     "outputs": [
      {
       "ename": "NameError",
       "evalue": "name 'url' is not defined",
       "output_type": "pyerr",
       "traceback": [
        "\u001b[1;31m---------------------------------------------------------------------------\u001b[0m\n\u001b[1;31mNameError\u001b[0m                                 Traceback (most recent call last)",
        "\u001b[1;32m<ipython-input-7-10d5cf36567b>\u001b[0m in \u001b[0;36m<module>\u001b[1;34m()\u001b[0m\n\u001b[0;32m      1\u001b[0m \u001b[1;32mimport\u001b[0m \u001b[0murllib2\u001b[0m\u001b[1;33m\u001b[0m\u001b[0m\n\u001b[1;32m----> 2\u001b[1;33m \u001b[0mdf\u001b[0m \u001b[1;33m=\u001b[0m \u001b[0mpd\u001b[0m\u001b[1;33m.\u001b[0m\u001b[0mread_csv\u001b[0m\u001b[1;33m(\u001b[0m\u001b[0murl\u001b[0m\u001b[1;33m,\u001b[0m\u001b[0mindex_col\u001b[0m\u001b[1;33m=\u001b[0m\u001b[1;34m'date'\u001b[0m\u001b[1;33m,\u001b[0m\u001b[0mparse_dates\u001b[0m\u001b[1;33m=\u001b[0m\u001b[0mTrue\u001b[0m\u001b[1;33m)\u001b[0m  \u001b[1;31m# skip the units row\u001b[0m\u001b[1;33m\u001b[0m\u001b[0m\n\u001b[0m",
        "\u001b[1;31mNameError\u001b[0m: name 'url' is not defined"
       ]
      }
     ],
     "prompt_number": 7
    },
    {
     "cell_type": "code",
     "collapsed": false,
     "input": [
      "response = coops.get_observation(offerings=['urn:ioos:station:NOAA.NOS.CO-OPS:8447930'],\n",
      "                                 responseFormat='text/csv',\n",
      "                                 observedProperties=['water_surface_height_above_reference_datum'],\n",
      "                                 eventTime='2013-06-13T00:00:00Z/2013-06-14T00:00:00Z')\n",
      "                                 "
     ],
     "language": "python",
     "metadata": {},
     "outputs": [
      {
       "ename": "XMLSyntaxError",
       "evalue": "Start tag expected, '<' not found, line 1, column 1",
       "output_type": "pyerr",
       "traceback": [
        "\u001b[1;36m  File \u001b[1;32m\"<string>\"\u001b[1;36m, line \u001b[1;32munknown\u001b[0m\n\u001b[1;31mXMLSyntaxError\u001b[0m\u001b[1;31m:\u001b[0m Start tag expected, '<' not found, line 1, column 1\n"
       ]
      }
     ],
     "prompt_number": 8
    },
    {
     "cell_type": "code",
     "collapsed": false,
     "input": [
      "df = pd.read_csv(coops.get_observation(offerings=['urn:ioos:station:NOAA.NOS.CO-OPS:8447930'],\n",
      "                                 responseFormat='text/csv',\n",
      "                                 observedProperties=['water_surface_height_above_reference_datum'],\n",
      "                                 eventTime='2013-06-13T00:00:00Z/2013-06-14T00:00:00Z')),index_col='date',parse_dates=True)  # skip the units row "
     ],
     "language": "python",
     "metadata": {},
     "outputs": []
    },
    {
     "cell_type": "code",
     "collapsed": false,
     "input": [
      "url='http://opendap.co-ops.nos.noaa.gov/ioos-dif-sos/SOS?request=GetObservation&service=SOS&responseFormat=text/csv&version=1.0.0&offering=urn:ioos:station:NOAA.NOS.CO-OPS:8447930&observedProperty=water_surface_height_above_reference_datum&eventTime=2013-06-13T00:00:00Z/2013-06-14T00:00:00Z'\n",
      "# Load the CSV data directly into Pandas\n",
      "df = pd.read_csv(url,index_col='date_time',parse_dates=True)  # skip the units row \n",
      "wf=df['water_surface_height_above_reference_datum (m)']\n",
      "wf.plot()"
     ],
     "language": "python",
     "metadata": {},
     "outputs": []
    },
    {
     "cell_type": "markdown",
     "metadata": {},
     "source": [
      "#Get Air Pressure and Wind Speed from NDBC"
     ]
    },
    {
     "cell_type": "code",
     "collapsed": false,
     "input": [
      "ndbc=SensorObservationService('http://sdf.ndbc.noaa.gov/sos/server.php?request=GetCapabilities&service=SOS')"
     ],
     "language": "python",
     "metadata": {},
     "outputs": []
    },
    {
     "cell_type": "code",
     "collapsed": false,
     "input": [
      "id=ndbc.identification\n",
      "id.title"
     ],
     "language": "python",
     "metadata": {},
     "outputs": []
    },
    {
     "cell_type": "code",
     "collapsed": false,
     "input": [
      "contents = ndbc.contents\n",
      "network = contents['network-all']\n",
      "network.description"
     ],
     "language": "python",
     "metadata": {},
     "outputs": []
    },
    {
     "cell_type": "code",
     "collapsed": false,
     "input": [
      "id.title"
     ],
     "language": "python",
     "metadata": {},
     "outputs": []
    },
    {
     "cell_type": "code",
     "collapsed": false,
     "input": [
      "rfs = network.response_formats"
     ],
     "language": "python",
     "metadata": {},
     "outputs": []
    },
    {
     "cell_type": "code",
     "collapsed": false,
     "input": [
      "print '\\n'.join(rfs)"
     ],
     "language": "python",
     "metadata": {},
     "outputs": []
    },
    {
     "cell_type": "code",
     "collapsed": false,
     "input": [
      "station = contents['station-46084']"
     ],
     "language": "python",
     "metadata": {},
     "outputs": []
    },
    {
     "cell_type": "code",
     "collapsed": false,
     "input": [
      "station.id"
     ],
     "language": "python",
     "metadata": {},
     "outputs": []
    },
    {
     "cell_type": "code",
     "collapsed": false,
     "input": [
      "getob = ndbc.get_operation_by_name('getobservation')"
     ],
     "language": "python",
     "metadata": {},
     "outputs": []
    },
    {
     "cell_type": "code",
     "collapsed": false,
     "input": [
      "getob.parameters"
     ],
     "language": "python",
     "metadata": {},
     "outputs": []
    },
    {
     "cell_type": "code",
     "collapsed": false,
     "input": [
      "print filter"
     ],
     "language": "python",
     "metadata": {},
     "outputs": []
    }
   ],
   "metadata": {}
  }
 ]
}