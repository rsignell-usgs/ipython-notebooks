{
 "metadata": {
  "name": "ArcMAP_DAP"
 },
 "nbformat": 3,
 "nbformat_minor": 0,
 "worksheets": [
  {
   "cells": [
    {
     "cell_type": "code",
     "collapsed": false,
     "input": [
      "# In ArcMap, with the multidimensional supplemental tools installed, go to: \n",
      "# Geoprocessing=>Python  \n",
      "# and type these commands into the python command window"
     ],
     "language": "python",
     "metadata": {},
     "outputs": [],
     "prompt_number": 1
    },
    {
     "cell_type": "code",
     "collapsed": false,
     "input": [
      "import netCDF4\n",
      "url='http://www.smast.umassd.edu:8080/thredds/dodsC/fvcom/hindcasts/30yr_gom3/mean'\n",
      "nc = netCDF4.Dataset(url)"
     ],
     "language": "python",
     "metadata": {},
     "outputs": [],
     "prompt_number": 2
    },
    {
     "cell_type": "code",
     "collapsed": false,
     "input": [
      "nc.variables.keys()"
     ],
     "language": "python",
     "metadata": {},
     "outputs": [
      {
       "metadata": {},
       "output_type": "pyout",
       "prompt_number": 3,
       "text": [
        "[u'lat',\n",
        " u'latc',\n",
        " u'lon',\n",
        " u'lonc',\n",
        " u'z0b',\n",
        " u'nprocs',\n",
        " u'partition',\n",
        " u'x',\n",
        " u'y',\n",
        " u'xc',\n",
        " u'yc',\n",
        " u'siglay',\n",
        " u'siglev',\n",
        " u'h',\n",
        " u'nv',\n",
        " u'nbe',\n",
        " u'ntsn',\n",
        " u'nbsn',\n",
        " u'ntve',\n",
        " u'nbve',\n",
        " u'a1u',\n",
        " u'a2u',\n",
        " u'aw0',\n",
        " u'awx',\n",
        " u'awy',\n",
        " u'art2',\n",
        " u'art1',\n",
        " u'iint',\n",
        " u'time',\n",
        " u'Itime',\n",
        " u'Itime2',\n",
        " u'Times',\n",
        " u'zeta',\n",
        " u'file_date',\n",
        " u'u',\n",
        " u'v',\n",
        " u'omega',\n",
        " u'ww',\n",
        " u'ua',\n",
        " u'va',\n",
        " u'temp',\n",
        " u'salinity',\n",
        " u'km',\n",
        " u'kh',\n",
        " u'kq',\n",
        " u'q2',\n",
        " u'q2l',\n",
        " u'l',\n",
        " u'short_wave',\n",
        " u'net_heat_flux',\n",
        " u'uwind_stress',\n",
        " u'vwind_stress',\n",
        " u'fvcom_mesh']"
       ]
      }
     ],
     "prompt_number": 3
    },
    {
     "cell_type": "code",
     "collapsed": false,
     "input": [
      "temp = nc.variables['temp']\n",
      "print temp"
     ],
     "language": "python",
     "metadata": {},
     "outputs": [
      {
       "output_type": "stream",
       "stream": "stdout",
       "text": [
        "<type 'netCDF4.Variable'>\n",
        "float32 temp(u'time', u'siglay', u'node')\n",
        "    long_name: temperature\n",
        "    standard_name: sea_water_temperature\n",
        "    units: degrees_C\n",
        "    coordinates: time siglay lat lon\n",
        "    type: data\n",
        "    mesh: fvcom_mesh\n",
        "    location: node\n",
        "unlimited dimensions = ()\n",
        "current size = (396, 45, 48451)\n",
        "\n"
       ]
      }
     ],
     "prompt_number": 4
    },
    {
     "cell_type": "code",
     "collapsed": false,
     "input": [
      "timevar = nc.variables['time']\n",
      "print timevar"
     ],
     "language": "python",
     "metadata": {},
     "outputs": [
      {
       "output_type": "stream",
       "stream": "stdout",
       "text": [
        "<type 'netCDF4.Variable'>\n",
        "float32 time(u'time',)\n",
        "    long_name: time\n",
        "    units: days since 1858-11-17 00:00:00\n",
        "    format: modified julian day (MJD)\n",
        "    time_zone: UTC\n",
        "unlimited dimensions = ()\n",
        "current size = (396,)\n",
        "\n"
       ]
      }
     ],
     "prompt_number": 5
    },
    {
     "cell_type": "code",
     "collapsed": false,
     "input": [
      "# get first (0) and last (-1) time values and convert to datestamps\n",
      "start = netCDF4.num2date(timevar[0],timevar.units)\n",
      "stop = netCDF4.num2date(timevar[-1],timevar.units)\n",
      "\n",
      "print('start: %s' % start.strftime('%Y-%b-%d %H:%M:%S'))\n",
      "print(' stop: %s' % stop.strftime('%Y-%b-%d %H:%M:%S'))"
     ],
     "language": "python",
     "metadata": {},
     "outputs": [
      {
       "output_type": "stream",
       "stream": "stdout",
       "text": [
        "start: 1978-Jan-16 12:00:00\n",
        " stop: 2010-Dec-16 10:01:53\n"
       ]
      }
     ],
     "prompt_number": 6
    },
    {
     "cell_type": "code",
     "collapsed": false,
     "input": [
      "siglay = nc.variables['siglay']  # fraction of total depth\n",
      "h=nc.variables['h']    # water depth\n",
      "print siglay\n",
      "print h"
     ],
     "language": "python",
     "metadata": {},
     "outputs": [
      {
       "output_type": "stream",
       "stream": "stdout",
       "text": [
        "<type 'netCDF4.Variable'>\n",
        "float32 siglay(u'siglay', u'node')\n",
        "    long_name: Sigma Layers\n",
        "    standard_name: ocean_sigma_coordinate\n",
        "    positive: up\n",
        "    valid_min: -1.0\n",
        "    valid_max: 0.0\n",
        "    formula_terms: sigma: siglay eta: zeta depth: h\n",
        "unlimited dimensions = ()\n",
        "current size = (45, 48451)\n",
        "\n",
        "<type 'netCDF4.Variable'>\n",
        "float32 h(u'node',)\n",
        "    long_name: Bathymetry\n",
        "    standard_name: sea_floor_depth_below_geoid\n",
        "    units: m\n",
        "    coordinates: lat lon\n",
        "    type: data\n",
        "    mesh: fvcom_mesh\n",
        "    location: node\n",
        "unlimited dimensions = ()\n",
        "current size = (48451,)\n",
        "\n"
       ]
      }
     ],
     "prompt_number": 7
    },
    {
     "cell_type": "code",
     "collapsed": false,
     "input": [
      "# z(meters) of layer 20 at node 2000\n",
      "node = 2000\n",
      "lev = 20\n",
      "z = siglay[lev,node]*h[node]\n",
      "print z"
     ],
     "language": "python",
     "metadata": {},
     "outputs": [
      {
       "output_type": "stream",
       "stream": "stdout",
       "text": [
        "-851.425\n"
       ]
      }
     ],
     "prompt_number": 8
    },
    {
     "cell_type": "code",
     "collapsed": false,
     "input": [
      "# plot sigma values at specified node\n",
      "import matplotlib.pyplot as plt\n",
      "plt.plot(siglay[:,node],'k-o')\n",
      "plt.grid()\n",
      "plt.xlabel('sigma level')\n",
      "plt.ylabel('fraction of total depth')\n",
      "plt.show()"
     ],
     "language": "python",
     "metadata": {},
     "outputs": [
      {
       "metadata": {},
       "output_type": "display_data",
       "png": "[encoded data removed]",
       "text": [
        "<matplotlib.figure.Figure at 0x33851d0>"
       ]
      }
     ],
     "prompt_number": 9
    },
    {
     "cell_type": "code",
     "collapsed": false,
     "input": [],
     "language": "python",
     "metadata": {},
     "outputs": [],
     "prompt_number": 9
    }
   ],
   "metadata": {}
  }
 ]
}