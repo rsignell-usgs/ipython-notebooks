{
 "metadata": {
  "name": "Wind, Wave and Current"
 },
 "nbformat": 3,
 "nbformat_minor": 0,
 "worksheets": [
  {
   "cells": [
    {
     "cell_type": "code",
     "collapsed": false,
     "input": [
      "# Plot forecast water levels from NECOFS model from list of lon,lat locations\n",
      "# (uses the nearest point, no interpolation)\n",
      "from pylab import *\n",
      "import netCDF4\n",
      "import datetime as dt\n",
      "import pandas as pd\n",
      "import time"
     ],
     "language": "python",
     "metadata": {},
     "outputs": [],
     "prompt_number": 1
    },
    {
     "cell_type": "code",
     "collapsed": false,
     "input": [
      "# currents\n",
      "urls={}\n",
      "urls['FVCOM Currents']='http://www.smast.umassd.edu:8080/thredds/dodsC/fvcom/hindcasts/30yr_gom3'\n",
      "urls['FVCOM Waves']='http://www.smast.umassd.edu:8080/thredds/dodsC/fvcom/hindcasts/wave_gom3'"
     ],
     "language": "python",
     "metadata": {},
     "outputs": [],
     "prompt_number": 2
    },
    {
     "cell_type": "code",
     "collapsed": false,
     "input": [
      "sta =  {}\n",
      "sta['Outer Fall'] =          (43.30, -68.65)\n",
      "sta['Great South Channel'] = (41.29, -69.18)\n",
      "nsta=len(sta)"
     ],
     "language": "python",
     "metadata": {},
     "outputs": []
    },
    {
     "cell_type": "code",
     "collapsed": false,
     "input": [
      "loni=[]\n",
      "lati=[]\n",
      "names=[]\n",
      "for ll in sta.itervalues():\n",
      "    lati.append(ll[0])\n",
      "    loni.append(ll[1])\n",
      "\n",
      "for station_name, ll in sta.iteritems():\n",
      "    print '%s %9.4f, %9.4f' % (station_name,ll[0],ll[1])\n",
      "    names.append(station_name)"
     ],
     "language": "python",
     "metadata": {},
     "outputs": []
    },
    {
     "cell_type": "code",
     "collapsed": false,
     "input": [
      "# find the indices of the points in (x,y) closest to the points in (xi,yi)\n",
      "def nearxy(x,y,xi,yi):\n",
      "    ind=ones(len(loni),dtype=int)\n",
      "    for i in arange(len(xi)):\n",
      "        dist=sqrt((x-xi[i])**2+(y-yi[i])**2)\n",
      "        ind[i]=dist.argmin()\n",
      "    return ind"
     ],
     "language": "python",
     "metadata": {},
     "outputs": []
    },
    {
     "cell_type": "code",
     "collapsed": false,
     "input": [
      "nc=netCDF4.Dataset(urls['FVCOM Waves']);"
     ],
     "language": "python",
     "metadata": {},
     "outputs": []
    },
    {
     "cell_type": "code",
     "collapsed": false,
     "input": [
      "# don't find closest cells if they already exist.\n",
      "# so if you change the stations, you need to restart the kernel or do \"del ind\"\n",
      "if 'lon' not in locals():\n",
      "    lon=nc.variables['lon'][:]\n",
      "    lat=nc.variables['lat'][:]\n",
      "    \n",
      "ind = nearxy(lon,lat,loni,lati)\n",
      "ind"
     ],
     "language": "python",
     "metadata": {},
     "outputs": []
    },
    {
     "cell_type": "code",
     "collapsed": false,
     "input": [
      "# get the time values and convert to datetime objects\n",
      "times = nc.variables['time']\n",
      "jdwave = netCDF4.num2date(times[:],times.units)"
     ],
     "language": "python",
     "metadata": {},
     "outputs": []
    },
    {
     "cell_type": "code",
     "collapsed": false,
     "input": [
      "# get all time steps of waves from each station\n",
      "hs=ones((len(jdwave),len(loni)))\n",
      "for i in range(len(loni)):\n",
      "    hs[:,i] = nc.variables['hs'][:,ind[i]]\n",
      "    "
     ],
     "language": "python",
     "metadata": {},
     "outputs": []
    },
    {
     "cell_type": "code",
     "collapsed": false,
     "input": [
      "if 'lonc' not in locals():\n",
      "    lonc=nc.variables['lonc'][:]\n",
      "    latc=nc.variables['latc'][:]\n",
      "    \n",
      "ind = nearxy(lonc,latc,loni,lati)\n",
      "ind"
     ],
     "language": "python",
     "metadata": {},
     "outputs": []
    },
    {
     "cell_type": "code",
     "collapsed": false,
     "input": [
      "# get all time steps of waves from each station\n",
      "uwind=ones((len(jdwave),len(loni)))\n",
      "vwind=ones((len(jdwave),len(loni)))\n",
      "time1=time.time()\n",
      "for i in range(len(loni)):\n",
      "    uwind[:,i] = nc.variables['uwind_speed'][:,ind[i]]\n",
      "    vwind[:,i] = nc.variables['vwind_speed'][:,ind[i]]\n",
      "time2=time.time()\n",
      "print 'elapsed seconds = %f' % (time2-time1)\n"
     ],
     "language": "python",
     "metadata": {},
     "outputs": []
    },
    {
     "cell_type": "code",
     "collapsed": false,
     "input": [
      "# make the time series plot, with nicely formatted labels\n",
      "MyDateFormatter = DateFormatter('%b %d\\n %Y')\n",
      "fig = plt.figure(figsize=(22,6), dpi=80) \n",
      "ax1 = fig.add_subplot(111)\n",
      "#jd_est = jd - dt.timedelta(hours=5)\n",
      "# plot entire hindcast/forecast\n",
      "ax1.plot(jdwave,hs)  # convert from meters to feet\n",
      "# plot only more recent levels (from step 72 on...)\n",
      "#ax1.plot(jd_est[72:],z[72:,:]/.3048)  # convert from meters to feet\n",
      "ax1.xaxis.set_major_formatter(MyDateFormatter)\n",
      "ax1.grid(True)\n",
      "setp(gca().get_xticklabels(), rotation=0, horizontalalignment='center')\n",
      "#plt.title('NECOFS Forecast Waves from %s Forecast' % model)\n",
      "ax1.set_ylabel('m')\n",
      "ax1.legend(names,loc='upper left')"
     ],
     "language": "python",
     "metadata": {},
     "outputs": []
    },
    {
     "cell_type": "code",
     "collapsed": false,
     "input": [
      "wind_spd=sqrt(uwind*uwind+vwind*vwind)"
     ],
     "language": "python",
     "metadata": {},
     "outputs": []
    },
    {
     "cell_type": "code",
     "collapsed": false,
     "input": [
      "# make the time series plot, with nicely formatted labels\n",
      "MyDateFormatter = DateFormatter('%b %d\\n %Y')\n",
      "fig = plt.figure(figsize=(22,6), dpi=80) \n",
      "ax1 = fig.add_subplot(111)\n",
      "#jd_est = jd - dt.timedelta(hours=5)\n",
      "# plot entire hindcast/forecast\n",
      "ax1.plot(jdwave,wind_spd)  # convert from meters to feet\n",
      "# plot only more recent levels (from step 72 on...)\n",
      "#ax1.plot(jd_est[72:],z[72:,:]/.3048)  # convert from meters to feet\n",
      "ax1.xaxis.set_major_formatter(MyDateFormatter)\n",
      "ax1.grid(True)\n",
      "setp(gca().get_xticklabels(), rotation=0, horizontalalignment='center')\n",
      "#plt.title('NECOFS Forecast Waves from %s Forecast' % model)\n",
      "ax1.set_ylabel('m/s')\n",
      "ax1.legend(names,loc='upper left')"
     ],
     "language": "python",
     "metadata": {},
     "outputs": []
    },
    {
     "cell_type": "code",
     "collapsed": false,
     "input": [
      "data = {}\n",
      "for i in range(len(sta)):\n",
      "    data[sta.keys()[i]]=wind_spd[:,i]\n",
      "df = pd.DataFrame(data,index=jdwave)\n"
     ],
     "language": "python",
     "metadata": {},
     "outputs": []
    },
    {
     "cell_type": "code",
     "collapsed": false,
     "input": [
      "fig = plt.figure(figsize=(12,4))\n",
      "ax = fig.add_subplot(111)\n",
      "df.plot(ax=ax)\n",
      "#df.plot(ax=ax,title='%s (Lon=%.4f, Lat=%.4f)' % (h.standard_name, lon, lat))\n",
      "ax.set_ylabel(nc.variables['uwind_speed'].units)"
     ],
     "language": "python",
     "metadata": {},
     "outputs": []
    },
    {
     "cell_type": "code",
     "collapsed": false,
     "input": [
      "nco = netCDF4.Dataset('/usgs/data1/notebook/kemp_wind_and_wave.nc', 'w',clobber=True)\n",
      "\n",
      "nco.createDimension('time', None)\n",
      "nco.createDimension('station',nsta)\n",
      "timeo = nco.createVariable('time', 'f4',  ('time'))\n",
      "\n",
      "lono = nco.createVariable('lon', 'f4',  ('station'))\n",
      "lato = nco.createVariable('lat', 'f4',  ('station'))\n",
      "\n",
      "hso = nco.createVariable('hsig', 'f4',  ('time',  'station'))\n",
      "uo = nco.createVariable('uwind', 'f4',  ('time', 'station'))\n",
      "vo = nco.createVariable('vwind', 'f4',  ('time', 'station'))\n",
      "\n",
      "nco.variables['time'].units = times.units\n",
      "nco.variables['lon'].units='degrees_east'\n",
      "nco.variables['lat'].units='degrees_north'\n",
      "nco.variables['hsig'].units='m'\n",
      "nco.variables['hsig'].standard_name='sea_surface_wave_significant_height'\n",
      "nco.variables['uwind'].standard_name='eastward_wind'\n",
      "nco.variables['vwind'].standard_name='northward_wind'\n",
      "\n",
      "# write data\n",
      "nt=len(jdwave)\n",
      "uo[:nt,:]=uwind\n",
      "vo[:nt,:]=vwind\n",
      "hso[:nt,:]=hs\n",
      "lato[:]=lati\n",
      "lono[:]=loni\n",
      "timeo[:nt]=netCDF4.date2num(jdwave,units=times.units)\n",
      "\n",
      "nco.close()"
     ],
     "language": "python",
     "metadata": {},
     "outputs": []
    },
    {
     "cell_type": "code",
     "collapsed": false,
     "input": [
      "nc2=netCDF4.Dataset(urls['FVCOM Currents'])"
     ],
     "language": "python",
     "metadata": {},
     "outputs": [],
     "prompt_number": 3
    },
    {
     "cell_type": "code",
     "collapsed": false,
     "input": [
      "time_var = nc2.variables['time']"
     ],
     "language": "python",
     "metadata": {},
     "outputs": []
    },
    {
     "cell_type": "code",
     "collapsed": false,
     "input": [
      "start = jdwave[0]\n",
      "start = dt.datetime(2005,1,0,0)\n",
      "# Get desired time step  \n",
      "itime0 = netCDF4.date2index(start,time_var,select='nearest')\n",
      "dtime = netCDF4.num2date(time_var[itime0],time_var.units)\n",
      "daystr = dtime.strftime('%Y-%b-%d %H:%M')\n",
      "print 'start: %s' % daystr\n",
      "stop = jdwave[-1]\n",
      "# Get desired time step  \n",
      "itime1 = netCDF4.date2index(stop,time_var,select='nearest')\n",
      "dtime = netCDF4.num2date(time_var[itime1],time_var.units)\n",
      "daystr = dtime.strftime('%Y-%b-%d %H:%M')\n",
      "print 'stop : %s' % daystr"
     ],
     "language": "python",
     "metadata": {},
     "outputs": []
    },
    {
     "cell_type": "code",
     "collapsed": false,
     "input": [
      "if 'lonc2' not in locals():\n",
      "    lonc2=nc2.variables['lonc'][:]\n",
      "    latc2=nc2.variables['latc'][:]\n",
      "    \n",
      "ind = nearxy(lonc2,latc2,loni,lati)\n",
      "ind"
     ],
     "language": "python",
     "metadata": {},
     "outputs": []
    },
    {
     "cell_type": "code",
     "collapsed": false,
     "input": [
      "ind=array([43629, 50361])\n",
      "#itime0=1000\n",
      "#itime1=1200\n",
      "jdvel = netCDF4.num2date(time_var[itime0:itime1],time_var.units)\n",
      "print jdvel[0].strftime('%Y-%b-%d %H:%M')"
     ],
     "language": "python",
     "metadata": {},
     "outputs": []
    },
    {
     "cell_type": "code",
     "collapsed": false,
     "input": [
      "def fvcom_adcp(nc,ind,u='u',v='v',istart=0,istop=1,chunk=100):\n",
      "    # single index of element, returns time series from all depths\n",
      "    nz=shape(nc.variables[u])[1]\n",
      "    nt=len(range(istart,istop))\n",
      "    uc=ones((nt,nz))\n",
      "    vc=ones((nt,nz))\n",
      "    time1=time.time()\n",
      "\n",
      "    for i in range(istart,istop,chunk):\n",
      "        itime=arange(i,min(i+chunk,istop))\n",
      "        ichunk = itime-istart\n",
      "        uc[ichunk,:] = nc.variables[u][itime,:,ind]\n",
      "        vc[ichunk,:] = nc.variables[v][itime,:,ind]\n",
      "        time2=time.time()\n",
      "        print 'elapsed seconds = %.1f, %.1f percent done' % (time2-time1,((float(i-istart)+chunk)/nt*100.0))                                                          \n",
      "    return uc,vc"
     ],
     "language": "python",
     "metadata": {},
     "outputs": []
    },
    {
     "cell_type": "code",
     "collapsed": false,
     "input": [
      "\n",
      "nsta=len(ind)\n",
      "nz=shape(nc2.variables['u'])[1]\n",
      "nt=len(range(itime0,itime1))\n",
      "uc = vc = zeros([nt,nz,nsta])\n",
      "zc = zeros([nz,nsta])"
     ],
     "language": "python",
     "metadata": {},
     "outputs": []
    },
    {
     "cell_type": "code",
     "collapsed": false,
     "input": [
      "def fvcom_depth_at_face(nc,iface):\n",
      "    # nc = FVCOM Dataset\n",
      "    # ind = single face index (e.g. for currents).  Not node index!\n",
      "    nv=nc.variables['nv'][:,iface]\n",
      "    siglay=nc2.variables['siglay'][:,nv]\n",
      "    h = nc.variables['h'][nv]\n",
      "    zc = mean(h*siglay,axis=1)\n",
      "    return zc"
     ],
     "language": "python",
     "metadata": {},
     "outputs": []
    },
    {
     "cell_type": "code",
     "collapsed": false,
     "input": [
      "for i in range(len(sta)):\n",
      "    uc[:,:,i],vc[:,:,i] = fvcom_adcp(nc2,ind[i],istart=itime0,istop=itime1)\n",
      "    zc[:,i] = fvcom_depth_at_face(nc,ind[i])"
     ],
     "language": "python",
     "metadata": {},
     "outputs": []
    },
    {
     "cell_type": "code",
     "collapsed": false,
     "input": [
      "uspd=sqrt(uc*uc+vc*vc)\n"
     ],
     "language": "python",
     "metadata": {},
     "outputs": []
    },
    {
     "cell_type": "code",
     "collapsed": false,
     "input": [
      "shape(jdvel)"
     ],
     "language": "python",
     "metadata": {},
     "outputs": []
    },
    {
     "cell_type": "code",
     "collapsed": false,
     "input": [
      "# make the time series plot, with nicely formatted labels\n",
      "MyDateFormatter = DateFormatter('%b %d\\n %Y')\n",
      "fig = plt.figure(figsize=(22,6), dpi=80) \n",
      "ax1 = fig.add_subplot(111)\n",
      "#jd_est = jd - dt.timedelta(hours=5)\n",
      "# plot entire hindcast/forecast\n",
      "ax1.plot(jdvel,uspd[:,:,0])  # convert from meters to feet\n",
      "# plot only more recent levels (from step 72 on...)\n",
      "#ax1.plot(jd_est[72:],z[72:,:]/.3048)  # convert from meters to feet\n",
      "ax1.xaxis.set_major_formatter(MyDateFormatter)\n",
      "ax1.grid(True)\n",
      "setp(gca().get_xticklabels(), rotation=0, horizontalalignment='center')\n",
      "#plt.title('NECOFS Forecast Waves from %s Forecast' % model)\n",
      "ax1.set_ylabel('m/s')\n",
      "ax1.legend(names,loc='upper left')"
     ],
     "language": "python",
     "metadata": {},
     "outputs": []
    },
    {
     "cell_type": "code",
     "collapsed": false,
     "input": [
      "print nc2.variables['u']"
     ],
     "language": "python",
     "metadata": {},
     "outputs": []
    },
    {
     "cell_type": "code",
     "collapsed": false,
     "input": [
      "nco = netCDF4.Dataset('/usgs/data1/notebook/kemp_vel.nc', 'w',clobber=True)\n",
      "\n",
      "nco.createDimension('depth', nz)\n",
      "nco.createDimension('time', None)\n",
      "nco.createDimension('station',nsta)\n",
      "timeo = nco.createVariable('time', 'f4',  ('time'))\n",
      "\n",
      "lono = nco.createVariable('lon', 'f4',  ('station'))\n",
      "lato = nco.createVariable('lat', 'f4',  ('station'))\n",
      "depo = nco.createVariable('depth', 'f4',  ('depth','station'))\n",
      "\n",
      "uo = nco.createVariable('u', 'f4',  ('time', 'depth', 'station'))\n",
      "vo = nco.createVariable('v', 'f4',  ('time', 'depth', 'station'))\n",
      "\n",
      "nco.variables['time'].units = nc2.variables['time'].units\n",
      "nco.variables['depth'].units = 'm'\n",
      "nco.variables['lon'].units=nc2.variables['lonc'].units\n",
      "nco.variables['lat'].units=nc2.variables['latc'].units\n",
      "nco.variables['u'].units=nc2.variables['u'].units\n",
      "nco.variables['v'].units=nc2.variables['v'].units\n",
      "nco.variables['u'].standard_name=nc2.variables['u'].standard_name\n",
      "nco.variables['v'].standard_name=nc2.variables['v'].standard_name\n",
      "\n",
      "nt=len(jdvel)\n",
      "# write data\n",
      "uo[:nt,:,:]=uc\n",
      "vo[:nt,:,:]=vc\n",
      "lato[:]=lati\n",
      "lono[:]=loni\n",
      "depo[:,:]=zc\n",
      "timeo[:nt]=netCDF4.date2num(jdvel,units=time_var.units)\n",
      "\n",
      "nco.close()"
     ],
     "language": "python",
     "metadata": {},
     "outputs": []
    },
    {
     "cell_type": "code",
     "collapsed": false,
     "input": [],
     "language": "python",
     "metadata": {},
     "outputs": []
    }
   ],
   "metadata": {}
  }
 ]
}