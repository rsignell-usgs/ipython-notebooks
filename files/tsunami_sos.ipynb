{
 "metadata": {
  "name": "tsunami.ipynb"
 },
 "nbformat": 3,
 "nbformat_minor": 0,
 "worksheets": [
  {
   "cells": [
    {
     "cell_type": "markdown",
     "metadata": {},
     "source": [
      "#Falmouth Meteotsunami (6/13/2013)\n",
      "\n",
      "Falmouth experienced a meteotsunami on the afternoon of Thursday, June 13, 2013.  See Woods Hole gauge data, below. <br><br>\n",
      "\n",
      "Looking quickly at some other buoys and gauges you can see this from Long Island to Chatham, but Woods Hole/Falmouth appears to have been the focal point. Chuck Martinsen from Falmouth DNR has great security camera video of Falmouth Inner Harbor that shows the current ripping in and out and water level bouncing up and down about 2-3 ft over the course of an hour or so. I\u2019ll share some out tomorrow. He also reports Cotuit marshes being flooded and exposed several times as well. The WBNERR folks see it in their Menauhant gauge, too. <br><br>\n",
      " \n",
      "Chuck is interested in learning more, including whether the currents in the local harbors might have been sufficient to mobilize (contaminated) sediments. Anybody got time to explain to him what\u2019s going on? <br><br>\n",
      " \n",
      "The atmos pressure at various buoys and gauges is also pretty telling.<br><br>\n",
      " \n",
      "And if you look at the 24 hour radar loop you can see the frontal passage forcing.<br> http://www.intellicast.com/National/Radar/Yesterday.aspx\n",
      "\n",
      "<img src=http://geoport.whoi.edu/images/woods_hole_tide_jun13.png >"
     ]
    },
    {
     "cell_type": "code",
     "collapsed": false,
     "input": [
      "from datetime import datetime\n",
      "import pandas as pd\n",
      "from owslib.sos import SensorObservationService\n",
      "from owslib.fes import FilterCapabilities\n",
      "from owslib.ows import OperationsMetadata\n",
      "\n",
      "import cStringIO"
     ],
     "language": "python",
     "metadata": {},
     "outputs": [],
     "prompt_number": 1
    },
    {
     "cell_type": "markdown",
     "metadata": {},
     "source": [
      "#Get water levels from CO-OPS"
     ]
    },
    {
     "cell_type": "code",
     "collapsed": false,
     "input": [
      "coops=SensorObservationService('http://opendap.co-ops.nos.noaa.gov/ioos-dif-sos/SOS?service=SOS&request=GetCapabilities&version=1.0.0')"
     ],
     "language": "python",
     "metadata": {},
     "outputs": [],
     "prompt_number": 2
    },
    {
     "cell_type": "code",
     "collapsed": false,
     "input": [
      "getob = coops.get_operation_by_name('getobservation')"
     ],
     "language": "python",
     "metadata": {},
     "outputs": [],
     "prompt_number": 3
    },
    {
     "cell_type": "code",
     "collapsed": false,
     "input": [
      "getob.parameters"
     ],
     "language": "python",
     "metadata": {},
     "outputs": [
      {
       "output_type": "pyout",
       "prompt_number": 4,
       "text": [
        "{'dataType': {'values': ['PreliminarySixMinute',\n",
        "   'PreliminaryOneMinute',\n",
        "   'VerifiedSixMinute',\n",
        "   'VerifiedHourlyHeight',\n",
        "   'VerifiedHighLow',\n",
        "   'VerifiedDailyMean',\n",
        "   'SixMinuteTidePredictions',\n",
        "   'HourlyTidePredictions',\n",
        "   'HighLowTidePredictions']},\n",
        " 'epoch': {'values': ['Current', 'Superseded']},\n",
        " 'eventTime': {'values': ['eventTime element']},\n",
        " 'observedProperty': {'values': ['air_temperature',\n",
        "   'air_pressure',\n",
        "   'sea_water_electrical_conductivity',\n",
        "   'currents',\n",
        "   'sea_water_salinity',\n",
        "   'water_surface_height_above_reference_datum',\n",
        "   'sea_surface_height_amplitude_due_to_equilibrium_ocean_tide',\n",
        "   'sea_water_temperature',\n",
        "   'winds',\n",
        "   'harmonic_constituents',\n",
        "   'datums',\n",
        "   'relative_humidity',\n",
        "   'rain_fall',\n",
        "   'visibility']},\n",
        " 'offering': {'values': ['urn:ioos:station:NOAA.NOS.CO-OPS:stationid',\n",
        "   'urn:ioos:network:NOAA.NOS.CO-OPS:networkid']},\n",
        " 'procedure': {'values': ['procedure element']},\n",
        " 'responseFormat': {'values': ['text/csv',\n",
        "   'text/tab-separated-values',\n",
        "   'text/xml;schema=\"ioos/0.6.1\"',\n",
        "   'application/ioos+xml;version=0.6.1',\n",
        "   'application/vnd.google-earth.kml+xml']},\n",
        " 'result': {'values': ['VerticalDatum==urn:ioos:def:datum:noaa::IGLD',\n",
        "   'VerticalDatum==urn:ioos:def:datum:noaa::MHHW',\n",
        "   'VerticalDatum==urn:ioos:def:datum:noaa::MHW',\n",
        "   'VerticalDatum==urn:ioos:def:datum:noaa::MLLW',\n",
        "   'VerticalDatum==urn:ioos:def:datum:noaa::MLW',\n",
        "   'VerticalDatum==urn:ioos:def:datum:noaa::MSL',\n",
        "   'VerticalDatum==urn:ioos:def:datum:noaa::MTL',\n",
        "   'VerticalDatum==urn:ogc:def:datum:epsg::5103',\n",
        "   'VerticalDatum==urn:ioos:def:datum:noaa::STND']},\n",
        " 'service': {'values': ['SOS']},\n",
        " 'timeZone': {'values': ['GMT', 'LST']},\n",
        " 'unit': {'values': ['Meters', 'Feet']},\n",
        " 'version': {'values': ['1.0.0']}}"
       ]
      }
     ],
     "prompt_number": 4
    },
    {
     "cell_type": "code",
     "collapsed": false,
     "input": [
      "contents = coops.contents"
     ],
     "language": "python",
     "metadata": {},
     "outputs": [],
     "prompt_number": 5
    },
    {
     "cell_type": "code",
     "collapsed": false,
     "input": [
      "print coops.offerings[1].name\n",
      "#print contents.keys()\n",
      "print contents['station-8447930']"
     ],
     "language": "python",
     "metadata": {},
     "outputs": [
      {
       "output_type": "stream",
       "stream": "stdout",
       "text": [
        "urn:ioos:network:NOAA.NOS.CO-OPS:CurrentsActive\n",
        "Offering id: station-8447930, name: urn:ioos:station:NOAA.NOS.CO-OPS:8447930\n"
       ]
      }
     ],
     "prompt_number": 6
    },
    {
     "cell_type": "code",
     "collapsed": false,
     "input": [
      "response = coops.get_observation(offerings=['urn:ioos:station:NOAA.NOS.CO-OPS:8447930'],\n",
      "                                 responseFormat='text/csv',\n",
      "                                 dataType='PreliminaryOneMinute',\n",
      "                                 observedProperties=['water_surface_height_above_reference_datum'],\n",
      "                                 eventTime='2013-06-13T00:00:00Z/2013-06-14T00:00:00Z')\n",
      "                                 "
     ],
     "language": "python",
     "metadata": {},
     "outputs": [],
     "prompt_number": 7
    },
    {
     "cell_type": "code",
     "collapsed": false,
     "input": [
      "df = pd.read_csv(cStringIO.StringIO(response.strip()),index_col='date_time',parse_dates=True)  # skip the units row "
     ],
     "language": "python",
     "metadata": {},
     "outputs": [],
     "prompt_number": 8
    },
    {
     "cell_type": "code",
     "collapsed": false,
     "input": [
      "df['water_surface_height_above_reference_datum (m)'].plot(title='1 min water levels at Woods Hole, MA')"
     ],
     "language": "python",
     "metadata": {},
     "outputs": [
      {
       "output_type": "pyout",
       "prompt_number": 9,
       "text": [
        "<matplotlib.axes.AxesSubplot at 0x4e25cd0>"
       ]
      },
      {
       "output_type": "display_data",
       "png": "[encoded data removed]",
       "text": [
        "<matplotlib.figure.Figure at 0x4e25c50>"
       ]
      }
     ],
     "prompt_number": 9
    },
    {
     "cell_type": "markdown",
     "metadata": {},
     "source": [
      "#Get Air Pressure and Wind Speed from NDBC"
     ]
    },
    {
     "cell_type": "code",
     "collapsed": false,
     "input": [
      "ndbc=SensorObservationService('http://sdf.ndbc.noaa.gov/sos/server.php?request=GetCapabilities&service=SOS')"
     ],
     "language": "python",
     "metadata": {},
     "outputs": [],
     "prompt_number": 10
    },
    {
     "cell_type": "code",
     "collapsed": false,
     "input": [
      "id=ndbc.identification\n",
      "id.title"
     ],
     "language": "python",
     "metadata": {},
     "outputs": [
      {
       "output_type": "pyout",
       "prompt_number": 11,
       "text": [
        "'National Data Buoy Center SOS'"
       ]
      }
     ],
     "prompt_number": 11
    },
    {
     "cell_type": "code",
     "collapsed": false,
     "input": [
      "contents = ndbc.contents\n",
      "network = contents['network-all']\n",
      "network.description"
     ],
     "language": "python",
     "metadata": {},
     "outputs": [
      {
       "output_type": "pyout",
       "prompt_number": 12,
       "text": [
        "'All stations on the NDBC SOS server'"
       ]
      }
     ],
     "prompt_number": 12
    },
    {
     "cell_type": "code",
     "collapsed": false,
     "input": [
      "id.title"
     ],
     "language": "python",
     "metadata": {},
     "outputs": [
      {
       "output_type": "pyout",
       "prompt_number": 13,
       "text": [
        "'National Data Buoy Center SOS'"
       ]
      }
     ],
     "prompt_number": 13
    },
    {
     "cell_type": "code",
     "collapsed": false,
     "input": [
      "rfs = network.response_formats"
     ],
     "language": "python",
     "metadata": {},
     "outputs": [],
     "prompt_number": 14
    },
    {
     "cell_type": "code",
     "collapsed": false,
     "input": [
      "print '\\n'.join(rfs)"
     ],
     "language": "python",
     "metadata": {},
     "outputs": [
      {
       "output_type": "stream",
       "stream": "stdout",
       "text": [
        "text/xml;subtype=\"om/1.0.0\"\n",
        "text/csv\n",
        "text/tab-separated-values\n",
        "application/vnd.google-earth.kml+xml\n",
        "text/xml;schema=\"ioos/0.6.1\"\n",
        "application/ioos+xml;version=0.6.1\n"
       ]
      }
     ],
     "prompt_number": 15
    },
    {
     "cell_type": "code",
     "collapsed": false,
     "input": [
      "sta_id='44066'\n",
      "station = contents['station-%s' % sta_id]     # texas tower"
     ],
     "language": "python",
     "metadata": {},
     "outputs": [],
     "prompt_number": 40
    },
    {
     "cell_type": "code",
     "collapsed": false,
     "input": [
      "station.name"
     ],
     "language": "python",
     "metadata": {},
     "outputs": [
      {
       "output_type": "pyout",
       "prompt_number": 41,
       "text": [
        "'urn:ioos:station:wmo:44066'"
       ]
      }
     ],
     "prompt_number": 41
    },
    {
     "cell_type": "code",
     "collapsed": false,
     "input": [
      "station.description"
     ],
     "language": "python",
     "metadata": {},
     "outputs": [
      {
       "output_type": "pyout",
       "prompt_number": 42,
       "text": [
        "'Texas Tower #4'"
       ]
      }
     ],
     "prompt_number": 42
    },
    {
     "cell_type": "code",
     "collapsed": false,
     "input": [
      "getob = ndbc.get_operation_by_name('getobservation')"
     ],
     "language": "python",
     "metadata": {},
     "outputs": [],
     "prompt_number": 18
    },
    {
     "cell_type": "code",
     "collapsed": false,
     "input": [
      "getob.parameters"
     ],
     "language": "python",
     "metadata": {},
     "outputs": [
      {
       "output_type": "pyout",
       "prompt_number": 19,
       "text": [
        "{'observedProperty': {'values': ['air_temperature',\n",
        "   'air_pressure_at_sea_level',\n",
        "   'sea_water_electrical_conductivity',\n",
        "   'currents',\n",
        "   'sea_water_salinity',\n",
        "   'sea_floor_depth_below_sea_surface',\n",
        "   'sea_water_temperature',\n",
        "   'waves',\n",
        "   'winds']},\n",
        " 'responseFormat': {'values': ['text/xml;subtype=\"om/1.0.0\"',\n",
        "   'text/csv',\n",
        "   'text/tab-separated-values',\n",
        "   'application/vnd.google-earth.kml+xml',\n",
        "   'text/xml;schema=\"ioos/0.6.1\"',\n",
        "   'application/ioos+xml;version=0.6.1']}}"
       ]
      }
     ],
     "prompt_number": 19
    },
    {
     "cell_type": "code",
     "collapsed": false,
     "input": [
      "ndbc.offerings[0]"
     ],
     "language": "python",
     "metadata": {},
     "outputs": [
      {
       "output_type": "pyout",
       "prompt_number": 20,
       "text": [
        "<owslib.swe.observation.sos100.SosObservationOffering at 0x5cd5550>"
       ]
      }
     ],
     "prompt_number": 20
    },
    {
     "cell_type": "code",
     "collapsed": false,
     "input": [
      "\n",
      "response = ndbc.get_observation(offerings=['urn:ioos:station:wmo:%s' % sta_id],\n",
      "                                 responseFormat='text/csv',\n",
      "                                 observedProperties=['winds'],\n",
      "                                 eventTime='2013-06-13T00:00:00Z/2013-06-14T00:00:00Z')\n",
      "                                 "
     ],
     "language": "python",
     "metadata": {},
     "outputs": [],
     "prompt_number": 37
    },
    {
     "cell_type": "code",
     "collapsed": false,
     "input": [
      "df2 = pd.read_csv(cStringIO.StringIO(response.strip()),index_col='date_time',parse_dates=True)  # skip the units row "
     ],
     "language": "python",
     "metadata": {},
     "outputs": [],
     "prompt_number": 32
    },
    {
     "cell_type": "code",
     "collapsed": false,
     "input": [
      "df2.head()"
     ],
     "language": "python",
     "metadata": {},
     "outputs": [
      {
       "html": [
        "<pre>\n",
        "&ltclass 'pandas.core.frame.DataFrame'&gt\n",
        "DatetimeIndex: 5 entries, 2013-06-13 00:50:00 to 2013-06-13 04:50:00\n",
        "Data columns (total 9 columns):\n",
        "station_id                      5  non-null values\n",
        "sensor_id                       5  non-null values\n",
        "latitude (degree)               5  non-null values\n",
        "longitude (degree)              5  non-null values\n",
        "depth (m)                       5  non-null values\n",
        "wind_from_direction (degree)    5  non-null values\n",
        "wind_speed (m/s)                5  non-null values\n",
        "wind_speed_of_gust (m/s)        5  non-null values\n",
        "upward_air_velocity (m/s)       0  non-null values\n",
        "dtypes: float64(7), object(2)\n",
        "</pre>"
       ],
       "output_type": "pyout",
       "prompt_number": 33,
       "text": [
        "                                     station_id  \\\n",
        "date_time                                         \n",
        "2013-06-13 00:50:00  urn:ioos:station:wmo:44066   \n",
        "2013-06-13 01:50:00  urn:ioos:station:wmo:44066   \n",
        "2013-06-13 02:50:00  urn:ioos:station:wmo:44066   \n",
        "2013-06-13 03:50:00  urn:ioos:station:wmo:44066   \n",
        "2013-06-13 04:50:00  urn:ioos:station:wmo:44066   \n",
        "\n",
        "                                                  sensor_id  \\\n",
        "date_time                                                     \n",
        "2013-06-13 00:50:00  urn:ioos:sensor:wmo:44066::anemometer1   \n",
        "2013-06-13 01:50:00  urn:ioos:sensor:wmo:44066::anemometer1   \n",
        "2013-06-13 02:50:00  urn:ioos:sensor:wmo:44066::anemometer1   \n",
        "2013-06-13 03:50:00  urn:ioos:sensor:wmo:44066::anemometer1   \n",
        "2013-06-13 04:50:00  urn:ioos:sensor:wmo:44066::anemometer1   \n",
        "\n",
        "                     latitude (degree)  longitude (degree)  depth (m)  \\\n",
        "date_time                                                               \n",
        "2013-06-13 00:50:00              39.26              -72.18         -5   \n",
        "2013-06-13 01:50:00              39.26              -72.18         -5   \n",
        "2013-06-13 02:50:00              39.26              -72.18         -5   \n",
        "2013-06-13 03:50:00              39.26              -72.18         -5   \n",
        "2013-06-13 04:50:00              39.26              -72.18         -5   \n",
        "\n",
        "                     wind_from_direction (degree)  wind_speed (m/s)  \\\n",
        "date_time                                                             \n",
        "2013-06-13 00:50:00                           280                 2   \n",
        "2013-06-13 01:50:00                           270                 2   \n",
        "2013-06-13 02:50:00                           220                 2   \n",
        "2013-06-13 03:50:00                           220                 4   \n",
        "2013-06-13 04:50:00                           230                 3   \n",
        "\n",
        "                     wind_speed_of_gust (m/s)  upward_air_velocity (m/s)  \n",
        "date_time                                                                 \n",
        "2013-06-13 00:50:00                         3                        NaN  \n",
        "2013-06-13 01:50:00                         3                        NaN  \n",
        "2013-06-13 02:50:00                         3                        NaN  \n",
        "2013-06-13 03:50:00                         5                        NaN  \n",
        "2013-06-13 04:50:00                         4                        NaN  "
       ]
      }
     ],
     "prompt_number": 33
    },
    {
     "cell_type": "code",
     "collapsed": false,
     "input": [
      "df2['wind_speed_of_gust (m/s)'].plot(figsize=(12,4),title=station.description,legend=True)"
     ],
     "language": "python",
     "metadata": {},
     "outputs": [
      {
       "output_type": "pyout",
       "prompt_number": 44,
       "text": [
        "<matplotlib.axes.AxesSubplot at 0x6c94050>"
       ]
      },
      {
       "output_type": "display_data",
       "png": "[encoded data removed]",
       "text": [
        "<matplotlib.figure.Figure at 0x69bd090>"
       ]
      }
     ],
     "prompt_number": 44
    },
    {
     "cell_type": "code",
     "collapsed": false,
     "input": [],
     "language": "python",
     "metadata": {},
     "outputs": []
    }
   ],
   "metadata": {}
  }
 ]
}