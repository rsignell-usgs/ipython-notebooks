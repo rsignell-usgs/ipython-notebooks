{
 "metadata": {
  "name": "IOOS Models-Rutgers"
 },
 "nbformat": 3,
 "nbformat_minor": 0,
 "worksheets": [
  {
   "cells": [
    {
     "cell_type": "heading",
     "level": 1,
     "metadata": {},
     "source": [
      "Using Iris to access data from IOOS models"
     ]
    },
    {
     "cell_type": "code",
     "collapsed": false,
     "input": [
      "from IPython.core.display import HTML\n",
      "HTML('<iframe src=http://scitools.org.uk/iris/ width=800 height=350></iframe>')"
     ],
     "language": "python",
     "metadata": {},
     "outputs": [
      {
       "html": [
        "<iframe src=http://scitools.org.uk/iris/ width=800 height=350></iframe>"
       ],
       "output_type": "pyout",
       "prompt_number": 1,
       "text": [
        "<IPython.core.display.HTML at 0x2f4cc90>"
       ]
      }
     ],
     "prompt_number": 1
    },
    {
     "cell_type": "code",
     "collapsed": false,
     "input": [
      "import numpy\n",
      "import matplotlib.pyplot as plt\n",
      "import datetime as dt\n",
      "\n",
      "import iris\n",
      "import iris.quickplot as qplt\n",
      "import cartopy.crs as ccrs"
     ],
     "language": "python",
     "metadata": {},
     "outputs": [],
     "prompt_number": 2
    },
    {
     "cell_type": "code",
     "collapsed": false,
     "input": [
      "from collections import defaultdict\n",
      "d = defaultdict(dict)\n",
      "\n",
      "mod='USGS/COAWST'\n",
      "d[mod]['url']='http://geoport.whoi.edu/thredds/dodsC/coawst_4/use/fmrc/coawst_4_use_best.ncd'\n",
      "d[mod]['var']='potential temperature'\n",
      "d[mod]['lev']=-1\n",
      "\n",
      "mod='MARACOOS/ESPRESSO'\n",
      "d[mod]['url']='http://tds.marine.rutgers.edu/thredds/dodsC/roms/espresso/2009_da/his'\n",
      "d[mod]['var']='potential temperature'\n",
      "d[mod]['lev']=-1\n",
      "\n",
      "mod='SECOORA/NCSU'\n",
      "d[mod]['url']='http://omgsrv1.meas.ncsu.edu:8080/thredds/dodsC/fmrc/sabgom/SABGOM_Forecast_Model_Run_Collection_best.ncd'\n",
      "d[mod]['var']='potential temperature'\n",
      "d[mod]['lev']=-1\n",
      "\n",
      "mod='HIOOS'\n",
      "d[mod]['url']='http://oos.soest.hawaii.edu/thredds/dodsC/hioos/roms_assim/hiig/ROMS_Hawaii_Regional_Ocean_Model_Assimilation_best.ncd'\n",
      "d[mod]['var']='sea_water_potential_temperature'\n",
      "d[mod]['lev']=-1\n",
      "\n",
      "mod='CENCOOS/UCSC'\n",
      "d[mod]['url']='http://oceanmodeling.pmc.ucsc.edu:8080/thredds/dodsC/ccsnrt/fmrc/CCSNRT_Aggregation_best.ncd'\n",
      "d[mod]['var']='potential temperature'\n",
      "d[mod]['lev']=-1\n",
      "\n",
      "mod='AOOS/CSDL'\n",
      "d[mod]['url']='http://thredds.axiomalaska.com/thredds/dodsC/NOAA_CSDL_ROMS.nc'\n",
      "d[mod]['var']='Zonal Current'\n",
      "d[mod]['lev']=-1"
     ],
     "language": "python",
     "metadata": {},
     "outputs": [],
     "prompt_number": 3
    },
    {
     "cell_type": "code",
     "collapsed": false,
     "input": [
      "def time_near(cube,start):\n",
      "    #    coord_names = [coord.name() for coord in cube.coords()]\n",
      "    #    timevar = cube.coord(coord_names[0]))\n",
      "    timevar=cube.coord(var_name='ocean_time')\n",
      "    try:\n",
      "        itime = timevar.nearest_neighbour_index(timevar.units.date2num(start))\n",
      "    except:\n",
      "        itime = -1\n",
      "    return timevar.points[itime]"
     ],
     "language": "python",
     "metadata": {},
     "outputs": [],
     "prompt_number": 4
    },
    {
     "cell_type": "code",
     "collapsed": false,
     "input": [
      "def var_lev_date(url=None,var=None,mytime=None,lev=0):\n",
      "    cubes = iris.load(url)\n",
      "    cube = cubes.extract(iris.Constraint(name=var))[0]\n",
      "#    coord_names = [cube.name() for coord in cube.coords()]\n",
      "#    slice = cube.extract(iris.Constraint(coord_values={coord_names[0]:time_near(cube,mytime)}))\n",
      "    slice = cube.extract(iris.Constraint(var_name=ocean_time=time_near(cube,mytime)))\n",
      "    return slice[lev,:,:]  "
     ],
     "language": "python",
     "metadata": {},
     "outputs": [
      {
       "ename": "SyntaxError",
       "evalue": "invalid syntax (<ipython-input-5-dae4e1494ef5>, line 6)",
       "output_type": "pyerr",
       "traceback": [
        "\u001b[1;36m  File \u001b[1;32m\"<ipython-input-5-dae4e1494ef5>\"\u001b[1;36m, line \u001b[1;32m6\u001b[0m\n\u001b[1;33m    slice = cube.extract(iris.Constraint(var_name=ocean_time=time_near(cube,mytime)))\u001b[0m\n\u001b[1;37m                                                            ^\u001b[0m\n\u001b[1;31mSyntaxError\u001b[0m\u001b[1;31m:\u001b[0m invalid syntax\n"
       ]
      }
     ],
     "prompt_number": 5
    },
    {
     "cell_type": "code",
     "collapsed": false,
     "input": [
      "def myplot(slice,model=None):\n",
      "    # make the plot\n",
      "    figure(figsize=(12,8))\n",
      "    lat=slice.coord('latitude').points\n",
      "    lon=slice.coord('longitude').points\n",
      "    time=slice.coord(var_name='ocean_time')[0]\n",
      "    Z=slice.data\n",
      "    Zm = ma.masked_where(np.isnan(Z),Z)\n",
      "    subplot(111,aspect=(1.0/cos(mean(lat)*pi/180.0)))\n",
      "    pcolormesh(lon,lat,Zm);\n",
      "    colorbar()\n",
      "    grid()\n",
      "    date_str=time.units.num2date(time.points)\n",
      "    plt.title('%s: %s: %s' % (mod,slice.long_name,date_str));"
     ],
     "language": "python",
     "metadata": {},
     "outputs": []
    },
    {
     "cell_type": "code",
     "collapsed": false,
     "input": [
      "# use contraints to select nearest time\n",
      "#mytime=dt.datetime(2013,3,1,12)  #specified time...\n",
      "mytime=dt.datetime.utcnow()      # .... or now"
     ],
     "language": "python",
     "metadata": {},
     "outputs": []
    },
    {
     "cell_type": "code",
     "collapsed": false,
     "input": [
      "mod='MARACOOS/ESPRESSO'\n",
      "slice=var_lev_date(url=d[mod]['url'], var=d[mod]['var'], mytime=mytime,lev=d[mod]['lev'])\n",
      "myplot(slice,model=mod)\n"
     ],
     "language": "python",
     "metadata": {},
     "outputs": []
    },
    {
     "cell_type": "code",
     "collapsed": false,
     "input": [
      "mod='USGS/COAWST'\n",
      "slice=var_lev_date(url=d[mod]['url'],var=d[mod]['var'], mytime=mytime, lev=d[mod]['lev'])\n",
      "myplot(slice,model=mod)"
     ],
     "language": "python",
     "metadata": {},
     "outputs": []
    },
    {
     "cell_type": "code",
     "collapsed": false,
     "input": [],
     "language": "python",
     "metadata": {},
     "outputs": []
    },
    {
     "cell_type": "code",
     "collapsed": false,
     "input": [
      "mod='SECOORA/NCSU'\n",
      "slice=var_lev_date(url=d[mod]['url'], var=d[mod]['var'], mytime=mytime,lev=d[mod]['lev'])\n",
      "myplot(slice,model=mod)"
     ],
     "language": "python",
     "metadata": {},
     "outputs": []
    },
    {
     "cell_type": "code",
     "collapsed": false,
     "input": [
      "mod='CENCOOS/UCSC'\n",
      "slice=var_lev_date(url=d[mod]['url'], var=d[mod]['var'], mytime=mytime,lev=d[mod]['lev'])\n",
      "myplot(slice,model=mod)"
     ],
     "language": "python",
     "metadata": {},
     "outputs": []
    },
    {
     "cell_type": "code",
     "collapsed": false,
     "input": [
      "mod='HIOOS'\n",
      "slice=var_lev_date(url=d[mod]['url'], var=d[mod]['var'], mytime=mytime,lev=d[mod]['lev'])\n",
      "myplot(slice,model=mod)"
     ],
     "language": "python",
     "metadata": {},
     "outputs": []
    },
    {
     "cell_type": "code",
     "collapsed": false,
     "input": [],
     "language": "python",
     "metadata": {},
     "outputs": []
    },
    {
     "cell_type": "code",
     "collapsed": false,
     "input": [
      "mod='MARACOOS/ESPRESSO'\n",
      "cubes=iris.load(d[mod]['url'])\n",
      "print cubes"
     ],
     "language": "python",
     "metadata": {},
     "outputs": []
    },
    {
     "cell_type": "code",
     "collapsed": false,
     "input": [
      "cube = cubes.extract(iris.Constraint(name=d[mod]['var']))[0]"
     ],
     "language": "python",
     "metadata": {},
     "outputs": []
    },
    {
     "cell_type": "code",
     "collapsed": false,
     "input": [
      "cube.coord(var_name='ocean_time')"
     ],
     "language": "python",
     "metadata": {},
     "outputs": []
    },
    {
     "cell_type": "code",
     "collapsed": false,
     "input": [
      "slice=cube.extract(iris.Constraint(coord_values={'ocean_time':230824800.0}))"
     ],
     "language": "python",
     "metadata": {},
     "outputs": []
    },
    {
     "cell_type": "code",
     "collapsed": false,
     "input": [
      "print slice"
     ],
     "language": "python",
     "metadata": {},
     "outputs": []
    },
    {
     "cell_type": "code",
     "collapsed": false,
     "input": [
      "timevar=cube.coord(var_name='ocean_time')"
     ],
     "language": "python",
     "metadata": {},
     "outputs": []
    },
    {
     "cell_type": "code",
     "collapsed": false,
     "input": [
      "print timevar"
     ],
     "language": "python",
     "metadata": {},
     "outputs": []
    },
    {
     "cell_type": "code",
     "collapsed": false,
     "input": [
      "itime = timevar.nearest_neighbour_index(timevar.units.date2num(mytime))"
     ],
     "language": "python",
     "metadata": {},
     "outputs": []
    },
    {
     "cell_type": "code",
     "collapsed": false,
     "input": [
      "itime"
     ],
     "language": "python",
     "metadata": {},
     "outputs": []
    },
    {
     "cell_type": "code",
     "collapsed": false,
     "input": [
      "timevar.points[itime]"
     ],
     "language": "python",
     "metadata": {},
     "outputs": []
    },
    {
     "cell_type": "code",
     "collapsed": false,
     "input": [
      "file_path='http://omgsrv1.meas.ncsu.edu:8080/thredds/dodsC/fmrc/sabgom/SABGOM_Forecast_Model_Run_Collection_best.ncd'"
     ],
     "language": "python",
     "metadata": {},
     "outputs": []
    },
    {
     "cell_type": "code",
     "collapsed": false,
     "input": [
      "def make_timerange_constraint(t1, t2):\n",
      "    def my_cube_func(cube):\n",
      "        coord = cube.coord('time')\n",
      "        time = coord.units.num2date(coord.points[0])\n",
      "        return t1 < time < t2\n",
      "    return iris.Constraint(cube_func=my_cube_func)"
     ],
     "language": "python",
     "metadata": {},
     "outputs": []
    },
    {
     "cell_type": "code",
     "collapsed": false,
     "input": [
      "timerange_r1 = make_timerange_constraint(datetime(2013,3,1), datetime(2013,3,2))\n",
      "cubes = iris.load(file_path, timerange_r1)"
     ],
     "language": "python",
     "metadata": {},
     "outputs": []
    },
    {
     "cell_type": "code",
     "collapsed": false,
     "input": [],
     "language": "python",
     "metadata": {},
     "outputs": []
    }
   ],
   "metadata": {}
  }
 ]
}