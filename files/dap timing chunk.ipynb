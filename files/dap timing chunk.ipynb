{
 "metadata": {
  "name": "dap timing chunk"
 },
 "nbformat": 3,
 "nbformat_minor": 0,
 "worksheets": [
  {
   "cells": [
    {
     "cell_type": "code",
     "collapsed": false,
     "input": [
      "import netCDF4\n",
      "import time"
     ],
     "language": "python",
     "metadata": {},
     "outputs": [],
     "prompt_number": 1
    },
    {
     "cell_type": "code",
     "collapsed": false,
     "input": [
      "url = 'http://www.smast.umassd.edu:8080/thredds/dodsC/models/fvcom/derived/nc4/gom3_197803.nc'\n",
      "nc = netCDF4.Dataset(url).variables\n",
      "\n",
      "url_chunk = 'http://www.smast.umassd.edu:8080/thredds/dodsC/models/fvcom/derived/nc4/chunk_time.nc'\n",
      "nc_chunk = netCDF4.Dataset(url_chunk).variables"
     ],
     "language": "python",
     "metadata": {},
     "outputs": [],
     "prompt_number": 2
    },
    {
     "cell_type": "code",
     "collapsed": false,
     "input": [
      "url_small = 'http://www.smast.umassd.edu:8080/thredds/dodsC/models/fvcom/derived/nc4/gom3_nc4q_197803.nc'\n",
      "nc_small = netCDF4.Dataset(url_chunk).variables"
     ],
     "language": "python",
     "metadata": {},
     "outputs": [],
     "prompt_number": 5
    },
    {
     "cell_type": "code",
     "collapsed": false,
     "input": [
      "time0=time.time()\n",
      "t=nc['temp'][:,7,1000]\n",
      "print 'elapsed time: %d seconds' % (time.time() - time0)\n",
      "\n",
      "time0=time.time()\n",
      "t2=nc_chunk['temp'][:,9,2000]\n",
      "print 'elapsed time: %d seconds' % (time.time() - time0)\n",
      "time0=time.time()\n",
      "t3=nc_small['temp'][:,7,1000]\n",
      "print 'elapsed time: %d seconds' % (time.time() - time0)"
     ],
     "language": "python",
     "metadata": {},
     "outputs": [
      {
       "output_type": "stream",
       "stream": "stdout",
       "text": [
        "elapsed time: 11 seconds\n",
        "elapsed time: 10 seconds"
       ]
      },
      {
       "output_type": "stream",
       "stream": "stdout",
       "text": [
        "\n"
       ]
      }
     ],
     "prompt_number": 3
    },
    {
     "cell_type": "code",
     "collapsed": false,
     "input": [
      "time0=time.time()\n",
      "t=nc['zeta'][:,1000]\n",
      "print 'elapsed time: %d seconds' % (time.time() - time0)\n",
      "\n",
      "time0=time.time()\n",
      "t2=nc_chunk['zeta'][:,2000]\n",
      "print 'elapsed time: %d seconds' % (time.time() - time0)\n",
      "\n",
      "time0=time.time()\n",
      "t3=nc_small['zeta'][:,2000]\n",
      "print 'elapsed time: %d seconds' % (time.time() - time0)"
     ],
     "language": "python",
     "metadata": {},
     "outputs": [
      {
       "output_type": "stream",
       "stream": "stdout",
       "text": [
        "elapsed time: 8 seconds\n",
        "elapsed time: 8 seconds"
       ]
      },
      {
       "output_type": "stream",
       "stream": "stdout",
       "text": [
        "\n"
       ]
      }
     ],
     "prompt_number": 4
    },
    {
     "cell_type": "code",
     "collapsed": false,
     "input": [],
     "language": "python",
     "metadata": {},
     "outputs": []
    }
   ],
   "metadata": {}
  }
 ]
}