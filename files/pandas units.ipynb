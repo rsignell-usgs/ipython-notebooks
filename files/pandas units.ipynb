{
 "metadata": {
  "name": "pandas units"
 },
 "nbformat": 3,
 "nbformat_minor": 0,
 "worksheets": [
  {
   "cells": [
    {
     "cell_type": "code",
     "collapsed": false,
     "input": [
      "import pandas as pd\n",
      "from StringIO import StringIO"
     ],
     "language": "python",
     "metadata": {},
     "outputs": [],
     "prompt_number": 1
    },
    {
     "cell_type": "code",
     "collapsed": false,
     "input": [
      "x = '''\n",
      "longitude,latitude\n",
      "degrees_east,degrees_north\n",
      "-142.842,-1.82\n",
      "-25.389,39.87\n",
      "-37.704,27.114\n",
      "'''"
     ],
     "language": "python",
     "metadata": {},
     "outputs": [],
     "prompt_number": 2
    },
    {
     "cell_type": "code",
     "collapsed": false,
     "input": [
      "# Create a Pandas DataFrame\n",
      "obs=pd.read_csv(StringIO(x.strip()), sep=\",\\s*\")"
     ],
     "language": "python",
     "metadata": {},
     "outputs": [],
     "prompt_number": 3
    },
    {
     "cell_type": "code",
     "collapsed": false,
     "input": [
      "print(obs)"
     ],
     "language": "python",
     "metadata": {},
     "outputs": [
      {
       "output_type": "stream",
       "stream": "stdout",
       "text": [
        "      longitude       latitude\n",
        "0  degrees_east  degrees_north\n",
        "1      -142.842          -1.82\n",
        "2       -25.389          39.87\n",
        "3       -37.704         27.114\n"
       ]
      }
     ],
     "prompt_number": 4
    },
    {
     "cell_type": "code",
     "collapsed": false,
     "input": [],
     "language": "python",
     "metadata": {},
     "outputs": [],
     "prompt_number": 4
    }
   ],
   "metadata": {}
  }
 ]
}