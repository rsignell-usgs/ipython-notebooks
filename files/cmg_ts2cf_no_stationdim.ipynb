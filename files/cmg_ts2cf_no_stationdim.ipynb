{
 "metadata": {
  "name": "cmg_ts2cf_no_stationdim"
 },
 "nbformat": 3,
 "nbformat_minor": 0,
 "worksheets": [
  {
   "cells": [
    {
     "cell_type": "markdown",
     "metadata": {},
     "source": "#Convert existing time series NetCDF files in 4D (T,Z,Y,X) \"grid\" format to CF-1.6 format"
    },
    {
     "cell_type": "code",
     "collapsed": false,
     "input": "import glob\nimport os\nimport netCDF4",
     "language": "python",
     "metadata": {},
     "outputs": [],
     "prompt_number": 1
    },
    {
     "cell_type": "code",
     "collapsed": false,
     "input": "os.chdir('/usgs/data2/emontgomery/stellwagen/Data')",
     "language": "python",
     "metadata": {},
     "outputs": [],
     "prompt_number": 2
    },
    {
     "cell_type": "code",
     "collapsed": false,
     "input": "os.chdir('ARGO_MERCHANT')",
     "language": "python",
     "metadata": {},
     "outputs": [],
     "prompt_number": 3
    },
    {
     "cell_type": "code",
     "collapsed": false,
     "input": "# find netcdf files \ntypes = ('*.cdf', '*.nc') # the tuple of file types\nfiles = []\nfor file in types:\n    files.extend(glob.glob(file))\nprint files",
     "language": "python",
     "metadata": {},
     "outputs": [
      {
       "output_type": "stream",
       "stream": "stdout",
       "text": "['1211-A1H.cdf', '1211-AA.cdf', '1211P-A.cdf', '1211P-A1H.cdf', '1211TR-A.cdf', '1211TR-A1H.cdf']\n"
      }
     ],
     "prompt_number": 4
    },
    {
     "cell_type": "markdown",
     "metadata": {},
     "source": "##Read a sample old file "
    },
    {
     "cell_type": "code",
     "collapsed": false,
     "input": "file = files[0]\nprint file\nnc = netCDF4.Dataset(file)",
     "language": "python",
     "metadata": {},
     "outputs": [
      {
       "output_type": "stream",
       "stream": "stdout",
       "text": "1211-A1H.cdf\n"
      }
     ],
     "prompt_number": 5
    },
    {
     "cell_type": "code",
     "collapsed": false,
     "input": "vars=nc.variables.keys()",
     "language": "python",
     "metadata": {},
     "outputs": [],
     "prompt_number": 6
    },
    {
     "cell_type": "code",
     "collapsed": false,
     "input": "coord_vars = ['time','time2','depth','lat','lon']",
     "language": "python",
     "metadata": {},
     "outputs": [],
     "prompt_number": 7
    },
    {
     "cell_type": "code",
     "collapsed": false,
     "input": "# find data variables by removing coordinate variables from the variable list\ndata_vars = [var for var in vars if var not in coord_vars]\nprint data_vars",
     "language": "python",
     "metadata": {},
     "outputs": [
      {
       "output_type": "stream",
       "stream": "stdout",
       "text": "[u'u_1205', u'v_1206', u'CD_310', u'CS_300', u'upr_4001']\n"
      }
     ],
     "prompt_number": 8
    },
    {
     "cell_type": "code",
     "collapsed": false,
     "input": "print nc.variables['u_1205']",
     "language": "python",
     "metadata": {},
     "outputs": [
      {
       "output_type": "stream",
       "stream": "stdout",
       "text": "<type 'netCDF4.Variable'>\nfloat32 u_1205(u'time', u'depth', u'lat', u'lon')\n    name: u\n    long_name: Eastward Velocity        \n    generic_name: u\n    FORTRAN_format:  \n    units: cm/s\n    epic_code: 1205\n    code: R\n    sensor_depth: 69.0\n    serial_number: V-0069\n    minimum: -44.0116\n    maximum: 49.2965\n    valid_range: [-1000.  1000.]\nunlimited dimensions = ()\ncurrent size = (250, 1, 1, 1)\n\n"
      }
     ],
     "prompt_number": 9
    },
    {
     "cell_type": "code",
     "collapsed": false,
     "input": "nt = len(nc.dimensions['time'])\nnz = len(nc.dimensions['depth'])\nprint nt,nz",
     "language": "python",
     "metadata": {},
     "outputs": [
      {
       "output_type": "stream",
       "stream": "stdout",
       "text": "250 1\n"
      }
     ],
     "prompt_number": 10
    },
    {
     "cell_type": "markdown",
     "metadata": {},
     "source": "## Write a sample \"CF-1.6, timeSeries\" File"
    },
    {
     "cell_type": "code",
     "collapsed": false,
     "input": "ofile = '/usgs/data2/notebook/%s' % file\nid = file.split('.')[0]\nprint id",
     "language": "python",
     "metadata": {},
     "outputs": [
      {
       "output_type": "stream",
       "stream": "stdout",
       "text": "1211-A1H\n"
      }
     ],
     "prompt_number": 11
    },
    {
     "cell_type": "code",
     "collapsed": false,
     "input": "# create dimensions\nnco = netCDF4.Dataset(ofile,'w',clobber=True)\nnco.createDimension('time',nt)\nif nz > 1:\n    nco.createDimension('depth',nz)\n\nnchar=20\nnco.createDimension('nchar',nchar)",
     "language": "python",
     "metadata": {},
     "outputs": [
      {
       "metadata": {},
       "output_type": "pyout",
       "prompt_number": 12,
       "text": "<netCDF4.Dimension at 0x3f903b0>"
      }
     ],
     "prompt_number": 12
    },
    {
     "cell_type": "code",
     "collapsed": false,
     "input": "# create coordinate variables\ntime_v = nco.createVariable('time', 'f8', ('time'))\nlon_v = nco.createVariable('lon','f4')\nlat_v = nco.createVariable('lat','f4')\ndepth_v = nco.createVariable('depth','f4')\nstation_v = nco.createVariable('site','S1',('nchar'))",
     "language": "python",
     "metadata": {},
     "outputs": [],
     "prompt_number": 13
    },
    {
     "cell_type": "code",
     "collapsed": false,
     "input": "# write global attributes\ng_attdict = nc.__dict__\ng_attdict['Conventions'] = 'CF-1.6'\ng_attdict['featureType'] = 'timeSeries'\ng_attdict['naming_authority'] = 'gov.usgs'\ng_attdict['id'] = id\ng_attdict['keywords']='Oceans > Ocean Pressure > Water Pressure, Oceans > Ocean Temperature > Water Temperature, Oceans > Salinity/Density > Conductivity, Oceans > Salinity/Density > Salinity'\ng_attdict['keywords_vocabulary']='GCMD Science Keywords'\ng_attdict['standard_name_vocabulary'] = 'CF-1.6'\ng_attdict['creator_email'] = 'emontgomery@usgs.gov'\ng_attdict['creator_name'] =  'Ellyn Montgomery'\n\nnco.setncatts(g_attdict) ",
     "language": "python",
     "metadata": {},
     "outputs": [],
     "prompt_number": 14
    },
    {
     "cell_type": "code",
     "collapsed": false,
     "input": "# write station variable\nstation_v.cf_role = 'timeseries_id'\nstation_v.standard_name = 'station_id'\ndata = numpy.empty((1,),'S'+repr(nchar))\ndata[0] = id\nstation_v[:] = netCDF4.stringtochar(data)\n\n# write time variable\ntime_v.units = 'seconds since 1858-11-17 00:00:00 +0:00'\ntime_v.standard_name = 'time'\ntime_v.calendar = 'gregorian'\ntime_v[:] = (nc.variables['time'][:]-2400001.)*3600.*24. + nc.variables['time2'][:]/1000.\n\n# write lon variable\nlon_v.units = 'degree_east'\nlon_v.standard_name = 'longitude'\nlon_v[:] = nc.variables['lon'][:]\n\n# write lat variable\nlat_v.units = 'degree_north'\nlat_v.standard_name = 'latitude'\nlat_v[:] = nc.variables['lat'][:]\n\n# write depth variable\ndepth_v.units = 'm'\ndepth_v.standard_name = 'depth'   \ndepth_v.positive = 'down'\ndepth_v.axis = 'Z'\ndepth_v[:] = nc.variables['depth'][:]\n\n",
     "language": "python",
     "metadata": {},
     "outputs": [],
     "prompt_number": 15
    },
    {
     "cell_type": "code",
     "collapsed": false,
     "input": "# variable mapping\nd={}\nd['eastward_sea_water_velocity']=['u_1205', 'u']\nd['northward_sea_water_velocity']=['v_1206', 'v']\nd['sea_water_temperature']=['t_20']\nd['sea_water_salinity'] = ['s_40']",
     "language": "python",
     "metadata": {},
     "outputs": [],
     "prompt_number": 16
    },
    {
     "cell_type": "code",
     "collapsed": false,
     "input": "# create the data variables\nvar_v=[]\nfor varname in data_vars:\n    ncvar = nc.variables[varname]\n    # if time series variable\n    if len(ncvar) == nt:\n        var = nco.createVariable(varname,ncvar.dtype,('time'))\n    else:\n        var = nco.createVariable(varname,ncvar.dtype,('time','depth','station'))\n\n#   load old variable attributes and modify if necessary \n    attdict = ncvar.__dict__\n#   if dounpackshort and 'scale_factor' in attdict: del attdict['scale_factor']\n    attdict['coordinates'] = 'time lon lat depth'\n\n    # assign standard_name if in dictionary\n    a =[k for (k, v) in d.iteritems() if varname.lower() in v]\n    if len(a)==1: attdict['standard_name']=a[0]\n    \n    # write variable attributes\n    var.setncatts(attdict) \n    # write the data\n    var[:] = ncvar[:]",
     "language": "python",
     "metadata": {},
     "outputs": [],
     "prompt_number": 17
    },
    {
     "cell_type": "code",
     "collapsed": false,
     "input": "nco.close()",
     "language": "python",
     "metadata": {},
     "outputs": [],
     "prompt_number": 18
    },
    {
     "cell_type": "code",
     "collapsed": false,
     "input": "",
     "language": "python",
     "metadata": {},
     "outputs": [],
     "prompt_number": 18
    }
   ],
   "metadata": {}
  }
 ]
}