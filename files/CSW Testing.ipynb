{
 "metadata": {
  "name": "CSW Testing"
 },
 "nbformat": 3,
 "nbformat_minor": 0,
 "worksheets": [
  {
   "cells": [
    {
     "cell_type": "heading",
     "level": 1,
     "metadata": {},
     "source": [
      "Exploring CSW access in Python"
     ]
    },
    {
     "cell_type": "code",
     "collapsed": false,
     "input": [
      "from IPython.core.display import HTML\n",
      "HTML('<iframe src=http://www.nodc.noaa.gov/geoportal/ width=900 height=280></iframe>')"
     ],
     "language": "python",
     "metadata": {},
     "outputs": [
      {
       "html": [
        "<iframe src=http://www.nodc.noaa.gov/geoportal/ width=900 height=280></iframe>"
       ],
       "output_type": "pyout",
       "prompt_number": 39,
       "text": [
        "<IPython.core.display.HTML at 0x27bd210>"
       ]
      }
     ],
     "prompt_number": 39
    },
    {
     "cell_type": "code",
     "collapsed": false,
     "input": [
      "from owslib.csw import CatalogueServiceWeb"
     ],
     "language": "python",
     "metadata": {},
     "outputs": [],
     "prompt_number": 1
    },
    {
     "cell_type": "code",
     "collapsed": false,
     "input": [
      "# connect to CSW, explore it's properties\n",
      "endpoint = 'http://www.ngdc.noaa.gov/geoportal/csw' # NGDC Geoportal\n",
      "#endpoint = 'http://www.nodc.noaa.gov/geoportal/csw'   # NODC Geoportal: granule level\n",
      "#endpoint = 'http://data.nodc.noaa.gov/geoportal/csw'  # NODC Geoportal: collection level\n",
      "    \n",
      "#endpoint = 'http://geodiscover.cgdi.ca/wes/serviceManagerCSW/csw'  # NRCAN CUSTOM\n",
      "#endpoint = 'http://geoport.whoi.edu/gi-cat/services/cswiso' # USGS Woods Hole GI_CAT\n",
      "endpoint = 'http://cida.usgs.gov/gdp/geonetwork/srv/en/csw' # USGS CIDA Geonetwork\n",
      "csw = CatalogueServiceWeb(endpoint)\n",
      "csw.version"
     ],
     "language": "python",
     "metadata": {},
     "outputs": [
      {
       "output_type": "pyout",
       "prompt_number": 2,
       "text": [
        "'2.0.2'"
       ]
      }
     ],
     "prompt_number": 2
    },
    {
     "cell_type": "code",
     "collapsed": false,
     "input": [
      "[op.name for op in csw.operations]"
     ],
     "language": "python",
     "metadata": {},
     "outputs": [
      {
       "output_type": "pyout",
       "prompt_number": 3,
       "text": [
        "['GetCapabilities',\n",
        " 'DescribeRecord',\n",
        " 'GetDomain',\n",
        " 'GetRecords',\n",
        " 'GetRecordById',\n",
        " 'Transaction']"
       ]
      }
     ],
     "prompt_number": 3
    },
    {
     "cell_type": "code",
     "collapsed": false,
     "input": [
      "bbox=[-141,42,-52,84]\n",
      "#bbox=[-71.5, 39.5, -63.0, 46]\n",
      "csw.getrecords(keywords=['sea_water_temperature'],bbox=bbox,maxrecords=20)\n",
      "#csw.getrecords(keywords=['sea_water_temperature'],maxrecords=20)\n",
      "csw.results"
     ],
     "language": "python",
     "metadata": {},
     "outputs": [
      {
       "output_type": "pyout",
       "prompt_number": 4,
       "text": [
        "{'matches': 0, 'nextrecord': 0, 'returned': 0}"
       ]
      }
     ],
     "prompt_number": 4
    },
    {
     "cell_type": "code",
     "collapsed": false,
     "input": [
      "for rec,item in csw.records.iteritems():\n",
      "    print rec\n",
      "    print item.abstract"
     ],
     "language": "python",
     "metadata": {},
     "outputs": [],
     "prompt_number": 7
    },
    {
     "cell_type": "code",
     "collapsed": false,
     "input": [
      "a=csw.records['data/oceansites/DATA/STATION-M/OS_STATION-M-1_194810_D_CTD.nc']"
     ],
     "language": "python",
     "metadata": {},
     "outputs": [],
     "prompt_number": 58
    },
    {
     "cell_type": "code",
     "collapsed": false,
     "input": [
      "print a.xml"
     ],
     "language": "python",
     "metadata": {},
     "outputs": [
      {
       "output_type": "stream",
       "stream": "stdout",
       "text": [
        "<csw:SummaryRecord xmlns:csw=\"http://www.opengis.net/cat/csw/2.0.2\" xmlns:dc=\"http://purl.org/dc/elements/1.1/\" xmlns:dcmiBox=\"http://dublincore.org/documents/2000/07/11/dcmi-box/\" xmlns:dct=\"http://purl.org/dc/terms/\" xmlns:gml=\"http://www.opengis.net/gml\" xmlns:ows=\"http://www.opengis.net/ows\" xmlns:xsd=\"http://www.w3.org/2001/XMLSchema\">\n",
        "<dc:identifier scheme=\"urn:x-esri:specification:ServiceType:ArcIMS:Metadata:FileID\">data/oceansites/DATA/STATION-M/OS_STATION-M-1_194810_D_CTD.nc</dc:identifier>\n",
        "<dc:identifier scheme=\"urn:x-esri:specification:ServiceType:ArcIMS:Metadata:DocID\">{1DB52543-50EF-471E-BBFE-A5A87C42EC42}</dc:identifier>\n",
        "<dc:title>OceanSITES STATION-M in-situ data</dc:title>\n",
        "<dc:type scheme=\"urn:x-esri:specification:ServiceType:ArcIMS:Metadata:ContentType\">downloadableData</dc:type>\n",
        "<dc:type scheme=\"urn:x-esri:specification:ServiceType:ArcIMS:Metadata:ContentType\">liveData</dc:type>\n",
        "<dc:subject>sea_water_temperature</dc:subject>\n",
        "<dc:subject>sea_water_salinity</dc:subject>\n",
        "<dc:subject>depth</dc:subject>\n",
        "<dc:subject>time</dc:subject>\n",
        "<dc:subject>depth</dc:subject>\n",
        "<dc:subject>latitude</dc:subject>\n",
        "<dc:subject>longitude</dc:subject>\n",
        "<dc:subject>climatologyMeteorologyAtmosphere</dc:subject>\n",
        "<dct:modified>2013-03-16T02:45:29-06:00</dct:modified>\n",
        "<dct:abstract>EuroSITES European Ocean Observatory NetworkEU Framework 7 collaborative project contract FP7-ENV-2007-1-202955</dct:abstract>\n",
        "<dct:abstract>EuroSITES European Ocean Observatory NetworkEU Framework 7 collaborative project contract FP7-ENV-2007-1-202955</dct:abstract>\n",
        "<dct:references scheme=\"urn:x-esri:specification:ServiceType:ArcIMS:Metadata:Onlink\">http://dods.ndbc.noaa.gov/thredds/dodsC/data/oceansites/DATA/STATION-M/OS_STATION-M-1_194810_D_CTD.nc.html</dct:references>\n",
        "<dct:references scheme=\"urn:x-esri:specification:ServiceType:ArcIMS:Metadata:Document\">http://www.ngdc.noaa.gov/geoportal/csw?getxml=%7B1DB52543-50EF-471E-BBFE-A5A87C42EC42%7D</dct:references>\n",
        "<ows:WGS84BoundingBox>\n",
        "<ows:LowerCorner>-358.2666666507721 66.0</ows:LowerCorner>\n",
        "<ows:UpperCorner>2.049999952316284 66.16666412353516</ows:UpperCorner>\n",
        "</ows:WGS84BoundingBox>\n",
        "<ows:BoundingBox>\n",
        "<ows:LowerCorner>-358.2666666507721 66.0</ows:LowerCorner>\n",
        "<ows:UpperCorner>2.049999952316284 66.16666412353516</ows:UpperCorner>\n",
        "</ows:BoundingBox>\n",
        "<dc:date>2009-11-01Z</dc:date>\n",
        "</csw:SummaryRecord>\n",
        "\n"
       ]
      }
     ],
     "prompt_number": 60
    },
    {
     "cell_type": "code",
     "collapsed": false,
     "input": [
      "# get supported result types\n",
      "csw.getdomain('GetRecords.resultType')\n",
      "csw.results"
     ],
     "language": "python",
     "metadata": {},
     "outputs": [
      {
       "ename": "ExceptionReport",
       "evalue": "'Not a valid request: GetDomain Valid requests are: GetCapabilities GetRecords GetRecordsSimple DescribeRecord GetRecordById Transaction Harvest GetResource'",
       "output_type": "pyerr",
       "traceback": [
        "\u001b[1;31m---------------------------------------------------------------------------\u001b[0m\n\u001b[1;31mExceptionReport\u001b[0m                           Traceback (most recent call last)",
        "\u001b[1;32m<ipython-input-9-0d430bef627f>\u001b[0m in \u001b[0;36m<module>\u001b[1;34m()\u001b[0m\n\u001b[0;32m      1\u001b[0m \u001b[1;31m# get supported result types\u001b[0m\u001b[1;33m\u001b[0m\u001b[1;33m\u001b[0m\u001b[0m\n\u001b[1;32m----> 2\u001b[1;33m \u001b[0mcsw\u001b[0m\u001b[1;33m.\u001b[0m\u001b[0mgetdomain\u001b[0m\u001b[1;33m(\u001b[0m\u001b[1;34m'GetRecords.resultType'\u001b[0m\u001b[1;33m)\u001b[0m\u001b[1;33m\u001b[0m\u001b[0m\n\u001b[0m\u001b[0;32m      3\u001b[0m \u001b[0mcsw\u001b[0m\u001b[1;33m.\u001b[0m\u001b[0mresults\u001b[0m\u001b[1;33m\u001b[0m\u001b[0m\n",
        "\u001b[1;32m/home/rsignell/epd-7.2-1/lib/python2.7/site-packages/owslib/csw.py\u001b[0m in \u001b[0;36mgetdomain\u001b[1;34m(self, dname, dtype)\u001b[0m\n\u001b[0;32m    153\u001b[0m         \u001b[0mself\u001b[0m\u001b[1;33m.\u001b[0m\u001b[0mrequest\u001b[0m \u001b[1;33m=\u001b[0m \u001b[0mutil\u001b[0m\u001b[1;33m.\u001b[0m\u001b[0mxml2string\u001b[0m\u001b[1;33m(\u001b[0m\u001b[0metree\u001b[0m\u001b[1;33m.\u001b[0m\u001b[0mtostring\u001b[0m\u001b[1;33m(\u001b[0m\u001b[0mnode0\u001b[0m\u001b[1;33m)\u001b[0m\u001b[1;33m)\u001b[0m\u001b[1;33m\u001b[0m\u001b[0m\n\u001b[0;32m    154\u001b[0m \u001b[1;33m\u001b[0m\u001b[0m\n\u001b[1;32m--> 155\u001b[1;33m         \u001b[0mself\u001b[0m\u001b[1;33m.\u001b[0m\u001b[0m_invoke\u001b[0m\u001b[1;33m(\u001b[0m\u001b[1;33m)\u001b[0m\u001b[1;33m\u001b[0m\u001b[0m\n\u001b[0m\u001b[0;32m    156\u001b[0m \u001b[1;33m\u001b[0m\u001b[0m\n\u001b[0;32m    157\u001b[0m         \u001b[1;32mif\u001b[0m \u001b[0mself\u001b[0m\u001b[1;33m.\u001b[0m\u001b[0mexceptionreport\u001b[0m \u001b[1;32mis\u001b[0m \u001b[0mNone\u001b[0m\u001b[1;33m:\u001b[0m\u001b[1;33m\u001b[0m\u001b[0m\n",
        "\u001b[1;32m/home/rsignell/epd-7.2-1/lib/python2.7/site-packages/owslib/csw.py\u001b[0m in \u001b[0;36m_invoke\u001b[1;34m(self)\u001b[0m\n\u001b[0;32m    494\u001b[0m         \u001b[0mval\u001b[0m \u001b[1;33m=\u001b[0m \u001b[0mself\u001b[0m\u001b[1;33m.\u001b[0m\u001b[0m_exml\u001b[0m\u001b[1;33m.\u001b[0m\u001b[0mfind\u001b[0m\u001b[1;33m(\u001b[0m\u001b[0mutil\u001b[0m\u001b[1;33m.\u001b[0m\u001b[0mnspath_eval\u001b[0m\u001b[1;33m(\u001b[0m\u001b[1;34m'ows:Exception'\u001b[0m\u001b[1;33m,\u001b[0m \u001b[0mnamespaces\u001b[0m\u001b[1;33m)\u001b[0m\u001b[1;33m)\u001b[0m\u001b[1;33m\u001b[0m\u001b[0m\n\u001b[0;32m    495\u001b[0m         \u001b[1;32mif\u001b[0m \u001b[0mval\u001b[0m \u001b[1;32mis\u001b[0m \u001b[1;32mnot\u001b[0m \u001b[0mNone\u001b[0m\u001b[1;33m:\u001b[0m\u001b[1;33m\u001b[0m\u001b[0m\n\u001b[1;32m--> 496\u001b[1;33m             \u001b[1;32mraise\u001b[0m \u001b[0mows\u001b[0m\u001b[1;33m.\u001b[0m\u001b[0mExceptionReport\u001b[0m\u001b[1;33m(\u001b[0m\u001b[0mself\u001b[0m\u001b[1;33m.\u001b[0m\u001b[0m_exml\u001b[0m\u001b[1;33m,\u001b[0m \u001b[0mself\u001b[0m\u001b[1;33m.\u001b[0m\u001b[0mowscommon\u001b[0m\u001b[1;33m.\u001b[0m\u001b[0mnamespace\u001b[0m\u001b[1;33m)\u001b[0m\u001b[1;33m\u001b[0m\u001b[0m\n\u001b[0m\u001b[0;32m    497\u001b[0m         \u001b[1;32melse\u001b[0m\u001b[1;33m:\u001b[0m\u001b[1;33m\u001b[0m\u001b[0m\n\u001b[0;32m    498\u001b[0m             \u001b[0mself\u001b[0m\u001b[1;33m.\u001b[0m\u001b[0mexceptionreport\u001b[0m \u001b[1;33m=\u001b[0m \u001b[0mNone\u001b[0m\u001b[1;33m\u001b[0m\u001b[0m\n",
        "\u001b[1;31mExceptionReport\u001b[0m: 'Not a valid request: GetDomain Valid requests are: GetCapabilities GetRecords GetRecordsSimple DescribeRecord GetRecordById Transaction Harvest GetResource'"
       ]
      }
     ],
     "prompt_number": 9
    }
   ],
   "metadata": {}
  }
 ]
}