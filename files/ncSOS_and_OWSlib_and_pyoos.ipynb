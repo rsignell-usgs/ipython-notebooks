{
 "metadata": {
  "name": "ncSOS_and_OWSlib_and_pyoos"
 },
 "nbformat": 3,
 "nbformat_minor": 0,
 "worksheets": [
  {
   "cells": [
    {
     "cell_type": "heading",
     "level": 1,
     "metadata": {},
     "source": "Accessing ncSOS with OWSLib and Pyoos"
    },
    {
     "cell_type": "markdown",
     "metadata": {},
     "source": "We have an ncSOS server with a [get observation example that works](http://geoport-dev.whoi.edu/thredds/sos/usgs/data2/notebook/1211-A1H.cdf?service=SOS&version=1.0.0&request=GetObservation&responseFormat=text%2Fxml%3Bsubtype%3D%22om%2F1.0.0%22&offering=1211-A1H&observedProperty=u_1205&procedure=urn:ioos:station:gov.usgs:1211-A1H):\n```\nhttp://geoport-dev.whoi.edu/thredds/sos/usgs/data2/notebook/1211-A1H.cdf?service=SOS&version=1.0.0&request=GetObservation&responseFormat=text%2Fxml%3Bsubtype%3D%22om%2F1.0.0%22&offering=1211-A1H&observedProperty=u_1205&procedure=urn:ioos:station:gov.usgs:1211-A1H\n```\nBut can we formulate, request and process this same query (and others like it) using OWSlib?  "
    },
    {
     "cell_type": "code",
     "collapsed": false,
     "input": "from owslib.sos import SensorObservationService\nimport pdb\n#from owslib.etree import etree\nfrom pyoos.utils.etree import etree\nfrom pyoos.parsers.ioos.one.timeseries import TimeSeries\nimport pandas as pd\nimport datetime as dt",
     "language": "python",
     "metadata": {},
     "outputs": [],
     "prompt_number": 1
    },
    {
     "cell_type": "code",
     "collapsed": false,
     "input": "url = 'http://sdf.ndbc.noaa.gov/sos/server.php?request=GetCapabilities&service=SOS&version=1.0.0'\nndbc = SensorObservationService(url)",
     "language": "python",
     "metadata": {},
     "outputs": [],
     "prompt_number": 2
    },
    {
     "cell_type": "code",
     "collapsed": false,
     "input": "# usgs woods hole\n# buoy data (single current meter)\nurl='http://geoport-dev.whoi.edu/thredds/sos/usgs/data2/notebook/1211-A1H.cdf'\nusgs = SensorObservationService(url)\ncontents = usgs.contents",
     "language": "python",
     "metadata": {},
     "outputs": [],
     "prompt_number": 3
    },
    {
     "cell_type": "code",
     "collapsed": false,
     "input": "usgs.contents",
     "language": "python",
     "metadata": {},
     "outputs": [
      {
       "metadata": {},
       "output_type": "pyout",
       "prompt_number": 4,
       "text": "{'1211-A1H': <owslib.swe.observation.sos100.SosObservationOffering at 0x55a8410>,\n 'network-all': <owslib.swe.observation.sos100.SosObservationOffering at 0x55a8310>}"
      }
     ],
     "prompt_number": 4
    },
    {
     "cell_type": "code",
     "collapsed": false,
     "input": "off = usgs.offerings[1]\noff.name",
     "language": "python",
     "metadata": {},
     "outputs": [
      {
       "metadata": {},
       "output_type": "pyout",
       "prompt_number": 5,
       "text": "'urn:ioos:station:gov.usgs:1211-A1H'"
      }
     ],
     "prompt_number": 5
    },
    {
     "cell_type": "code",
     "collapsed": false,
     "input": "off.response_formats",
     "language": "python",
     "metadata": {},
     "outputs": [
      {
       "metadata": {},
       "output_type": "pyout",
       "prompt_number": 6,
       "text": "['text/xml; subtype=\"om/1.0.0\"',\n 'text/xml;subtype=\"om/1.0.0/profiles/ioos_sos/1.0\"']"
      }
     ],
     "prompt_number": 6
    },
    {
     "cell_type": "code",
     "collapsed": false,
     "input": "off.observed_properties",
     "language": "python",
     "metadata": {},
     "outputs": [
      {
       "metadata": {},
       "output_type": "pyout",
       "prompt_number": 7,
       "text": "['u_1205', 'v_1206', 'CD_310', 'CS_300', 'upr_4001']"
      }
     ],
     "prompt_number": 7
    },
    {
     "cell_type": "code",
     "collapsed": false,
     "input": "# the get observation request below works.  How can we recreate this using OWSLib?\n# http://geoport-dev.whoi.edu/thredds/sos/usgs/data2/notebook/1211-A1H.cdf?service=SOS&version=1.0.0&request=GetObservation&responseFormat=text%2Fxml%3Bsubtype%3D%22om%2F1.0.0%22&offering=1211-A1H&observedProperty=u_1205&procedure=urn:ioos:station:gov.usgs:1211-A1H",
     "language": "python",
     "metadata": {},
     "outputs": [],
     "prompt_number": 8
    },
    {
     "cell_type": "code",
     "collapsed": false,
     "input": "#pdb.set_trace()\nswe = usgs.get_observation(offerings=['1211-A1H'],\n                                 responseFormat='text/xml;subtype=\"om/1.0.0/profiles/ioos_sos/1.0\"',\n                                 observedProperties=['u_1205'],\n                                 procedure='urn:ioos:station:gov.usgs:1211-A1H')",
     "language": "python",
     "metadata": {},
     "outputs": [],
     "prompt_number": 9
    },
    {
     "cell_type": "code",
     "collapsed": false,
     "input": "print swe",
     "language": "python",
     "metadata": {},
     "outputs": [
      {
       "output_type": "stream",
       "stream": "stdout",
       "text": "<?xml version=\"1.0\" encoding=\"UTF-8\"?>\r\n<om:ObservationCollection xmlns:om=\"http://www.opengis.net/om/1.0\" xmlns:xsi=\"http://www.w3.org/2001/XMLSchema-instance\" xmlns:xlink=\"http://www.w3.org/1999/xlink\" xmlns:gml=\"http://www.opengis.net/gml\" xmlns:swe2=\"http://www.opengis.net/swe/2.0\" xmlns:swe=\"http://www.opengis.net/swe/1.0.1\" xsi:schemaLocation=\"http://www.opengis.net/om/1.0 http://schemas.opengis.net/om/1.0.0/observation.xsd\">\r\n  <gml:metaDataProperty xlink:title=\"disclaimer\">\r\n    <gml:GenericMetaData>\r\n      <gml:description>Data provided without any guarantee of accuracy. Provider assumes no liability whatsoever. USE AT YOUR OWN RISK.</gml:description>\r\n    </gml:GenericMetaData>\r\n  </gml:metaDataProperty>\r\n  <gml:metaDataProperty xlink:title=\"ioosTemplateVersion\" xlink:href=\"http://code.google.com/p/ioostech/source/browse/#svn%2Ftrunk%2Ftemplates%2FMilestone1.0\">\r\n    <gml:version>1.0</gml:version>\r\n  </gml:metaDataProperty>\r\n  <gml:metaDataProperty xlink:title=\"softwareVersion\" xlink:href=\"https://github.com/asascience-open/ncSOS/releases\">\r\n    <gml:version>RC6</gml:version>\r\n  </gml:metaDataProperty>\r\n  <om:member>\r\n    <om:Observation>\r\n      <gml:description>No description</gml:description>\r\n      <om:samplingTime>\r\n        <gml:TimePeriod>\r\n          <gml:beginPosition>1976-12-28T21:29:59Z</gml:beginPosition>\r\n          <gml:endPosition>1977-01-08T06:29:59Z</gml:endPosition>\r\n        </gml:TimePeriod>\r\n      </om:samplingTime>\r\n      <om:procedure>\r\n        <om:Process>\r\n          <gml:member xlink:href=\"urn:ioos:station:gov.usgs:1211-A1H\" />\r\n        </om:Process>\r\n      </om:procedure>\r\n      <om:observedProperty>\r\n        <swe:CompositePhenomenon dimension=\"1\" gml:id=\"observedProperties\">\r\n          <gml:name>Response Observed Properties</gml:name>\r\n          <swe:component xlink:href=\"http://mmisw.org/ont/cf/parameter/eastward_sea_water_velocity\" />\r\n        </swe:CompositePhenomenon>\r\n      </om:observedProperty>\r\n      <om:featureOfInterest>\r\n        <gml:FeatureCollection>\r\n          <gml:metaDataProperty>\r\n            <gml:name codeSpace=\"http://cf-pcmdi.llnl.gov/documents/cf-conventions/1.6/cf-conventions.html#discrete-sampling-geometries\">UNKNOWN</gml:name>\r\n          </gml:metaDataProperty>\r\n          <gml:boundedBy>\r\n            <gml:Envelope srsName=\"http://www.opengis.net/def/crs/EPSG/0/4326\">\r\n              <gml:lowerCorner>40.9011116027832 -69.17666625976562</gml:lowerCorner>\r\n              <gml:upperCorner>40.9011116027832 -69.17666625976562</gml:upperCorner>\r\n            </gml:Envelope>\r\n          </gml:boundedBy>\r\n          <gml:location>\r\n            <gml:MultiPoint srsName=\"http://www.opengis.net/def/crs/EPSG/0/4326\">\r\n              <gml:pointMembers>\r\n                <gml:Point>\r\n                  <gml:name>urn:ioos:station:gov.usgs:1211-A1H</gml:name>\r\n                  <gml:pos>40.9011116027832 -69.17666625976562</gml:pos>\r\n                </gml:Point>\r\n              </gml:pointMembers>\r\n            </gml:MultiPoint>\r\n          </gml:location>\r\n        </gml:FeatureCollection>\r\n      </om:featureOfInterest>\r\n      <om:result>\r\n        <swe2:DataRecord>\r\n          <swe2:field name=\"stations\">\r\n            <swe2:DataRecord definition=\"http://mmisw.org/ont/ioos/definition/stations\">\r\n              <swe2:field name=\"gov.usgs_1211_a1h\">\r\n                <swe2:DataRecord id=\"gov.usgs_1211_a1h\" definition=\"http://mmisw.org/ont/ioos/definition/station\">\r\n                  <swe2:field name=\"stationID\">\r\n                    <swe2:Text definition=\"http://mmisw.org/ont/ioos/definition/stationID\">\r\n                      <swe2:value>urn:ioos:station:gov.usgs:1211-A1H</swe2:value>\r\n                    </swe2:Text>\r\n                  </swe2:field>\r\n                  <swe2:field name=\"platformLocation\">\r\n                    <swe2:Vector definition=\"http://www.opengis.net/def/property/OGC/0/PlatformLocation\" referenceFrame=\"https://ioostech.googlecode.com/svn/trunk/IoosCRS/IoosBuoyCRS.xml\" localFrame=\"#PlatformFrame\">\r\n                      <swe2:coordinate name=\"latitude\">\r\n                        <swe2:Quantity definition=\"http://mmisw.org/ont/cf/parameter/latitude\" axisID=\"Lat\">\r\n                          <swe2:uom code=\"deg\" />\r\n                          <swe2:value>40.9011116027832</swe2:value>\r\n                        </swe2:Quantity>\r\n                      </swe2:coordinate>\r\n                      <swe2:coordinate name=\"longitude\">\r\n                        <swe2:Quantity definition=\"http://mmisw.org/ont/cf/parameter/longitude\" axisID=\"Lon\">\r\n                          <swe2:uom code=\"deg\" />\r\n                          <swe2:value>-69.17666625976562</swe2:value>\r\n                        </swe2:Quantity>\r\n                      </swe2:coordinate>\r\n                      <swe2:coordinate name=\"height\">\r\n                        <swe2:Quantity definition=\"http://mmisw.org/ont/cf/parameter/height\" axisID=\"Z\">\r\n                          <swe2:uom code=\"m\" />\r\n                          <swe2:value>69.0</swe2:value>\r\n                        </swe2:Quantity>\r\n                      </swe2:coordinate>\r\n                    </swe2:Vector>\r\n                  </swe2:field>\r\n                  <swe2:field name=\"sensors\">\r\n                    <swe2:DataRecord definition=\"http://mmisw.org/ont/ioos/definition/sensors\">\r\n                      <swe2:field name=\"gov.usgs_1211_a1h_u_1205\">\r\n                        <swe2:DataReocrd id=\"gov.usgs_1211_a1h_u_1205\" definition=\"http://mmisw.org/ont/ioos/definition/sensor\">\r\n                          <swe2:field name=\"sensorID\">\r\n                            <swe2:Text definition=\"http://mmisw.org/ont/ioos/definition/sensorID\">\r\n                              <swe2:value>urn:ioos:sensor:gov.usgs:1211-A1H:u_1205</swe2:value>\r\n                            </swe2:Text>\r\n                          </swe2:field>\r\n                          <swe2:field name=\"height\">\r\n                            <swe2:Quantity definintion=\"http://mmisw.org/ont/cf/parameter/height\" referenceFrame=\"#PlatformFrame\">\r\n                              <swe2:uom code=\"m\" />\r\n                              <swe2:value>0</swe2:value>\r\n                            </swe2:Quantity>\r\n                          </swe2:field>\r\n                        </swe2:DataReocrd>\r\n                      </swe2:field>\r\n                    </swe2:DataRecord>\r\n                  </swe2:field>\r\n                </swe2:DataRecord>\r\n              </swe2:field>\r\n            </swe2:DataRecord>\r\n          </swe2:field>\r\n          <swe2:field name=\"observationData\">\r\n            <swe2:DataArray definition=\"http://mmisw.org/ont/ioos/definition/sensorObservationCollection\">\r\n              <swe2:elementCount>\r\n                <swe2:Count>\r\n                  <swe2:value>250</swe2:value>\r\n                </swe2:Count>\r\n              </swe2:elementCount>\r\n              <swe2:elementType name=\"observations\">\r\n                <swe2:DataRecord definition=\"http://mmisw.org/ont/ioos/definition/sensorObservations\">\r\n                  <swe2:field name=\"time\">\r\n                    <swe2:Time definition=\"http://www.opengis.net/def/property/OGC/0/SamplingTime\">\r\n                      <swe2:uom xlink:href=\"http://www.opengis.net/def/uom/ISO-8601/0/Gregorian\" />\r\n                    </swe2:Time>\r\n                    <swe2:DataChoice definition=\"http://mmisw.org/ont/ioos/swe_element_type/sensors\">\r\n                      <swe2:item name=\"gov.usgs_1211_a1h_u_1205\">\r\n                        <swe2:DataRecord>\r\n                          <swe2:field name=\"u_1205\">\r\n                            <swe2:Quantity definition=\"http://mmisw.org/ont/cf/parameter/eastward_sea_water_velocity\">\r\n                              <swe2:uom code=\"cm/s\" />\r\n                            </swe2:Quantity>\r\n                          </swe2:field>\r\n                        </swe2:DataRecord>\r\n                      </swe2:item>\r\n                      <swe2:item name=\"dummy_item\" />\r\n                    </swe2:DataChoice>\r\n                  </swe2:field>\r\n                </swe2:DataRecord>\r\n              </swe2:elementType>\r\n              <swe2:encoding>\r\n                <swe2:TextEncoding decimalSeperator=\".\" tokenSeparator=\",\" blockSeparator=\"&#xA;\" />\r\n              </swe2:encoding>\r\n              <swe2:values>1976-12-28T21:29:59Z,gov.usgs_1211_a1h_u_1205,-7.53701\r\n1976-12-28T22:29:59Z,gov.usgs_1211_a1h_u_1205,-2.06346\r\n1976-12-28T23:29:59Z,gov.usgs_1211_a1h_u_1205,5.02748\r\n1976-12-29T00:29:59Z,gov.usgs_1211_a1h_u_1205,9.32351\r\n1976-12-29T01:29:59Z,gov.usgs_1211_a1h_u_1205,16.191\r\n1976-12-29T02:29:59Z,gov.usgs_1211_a1h_u_1205,18.452\r\n1976-12-29T03:29:59Z,gov.usgs_1211_a1h_u_1205,19.452\r\n1976-12-29T04:29:59Z,gov.usgs_1211_a1h_u_1205,21.233\r\n1976-12-29T05:29:59Z,gov.usgs_1211_a1h_u_1205,8.01951\r\n1976-12-29T06:29:59Z,gov.usgs_1211_a1h_u_1205,0.41648\r\n1976-12-29T07:29:59Z,gov.usgs_1211_a1h_u_1205,-8.81638\r\n1976-12-29T08:29:59Z,gov.usgs_1211_a1h_u_1205,-17.9287\r\n1976-12-29T09:29:59Z,gov.usgs_1211_a1h_u_1205,-20.3512\r\n1976-12-29T10:29:59Z,gov.usgs_1211_a1h_u_1205,-17.8112\r\n1976-12-29T11:29:59Z,gov.usgs_1211_a1h_u_1205,-11.8939\r\n1976-12-29T12:29:59Z,gov.usgs_1211_a1h_u_1205,-5.42472\r\n1976-12-29T13:29:59Z,gov.usgs_1211_a1h_u_1205,5.48562\r\n1976-12-29T14:29:59Z,gov.usgs_1211_a1h_u_1205,12.7434\r\n1976-12-29T15:29:59Z,gov.usgs_1211_a1h_u_1205,18.8387\r\n1976-12-29T16:29:59Z,gov.usgs_1211_a1h_u_1205,21.7982\r\n1976-12-29T17:29:59Z,gov.usgs_1211_a1h_u_1205,17.6214\r\n1976-12-29T18:29:59Z,gov.usgs_1211_a1h_u_1205,12.2534\r\n1976-12-29T19:29:59Z,gov.usgs_1211_a1h_u_1205,6.98027\r\n1976-12-29T20:29:59Z,gov.usgs_1211_a1h_u_1205,2.10325\r\n1976-12-29T21:29:59Z,gov.usgs_1211_a1h_u_1205,-3.69112\r\n1976-12-29T22:29:59Z,gov.usgs_1211_a1h_u_1205,-1.30559\r\n1976-12-29T23:29:59Z,gov.usgs_1211_a1h_u_1205,0.95416\r\n1976-12-30T00:29:59Z,gov.usgs_1211_a1h_u_1205,7.74421\r\n1976-12-30T01:29:59Z,gov.usgs_1211_a1h_u_1205,14.4868\r\n1976-12-30T02:29:59Z,gov.usgs_1211_a1h_u_1205,20.8482\r\n1976-12-30T03:29:59Z,gov.usgs_1211_a1h_u_1205,28.165\r\n1976-12-30T04:29:59Z,gov.usgs_1211_a1h_u_1205,23.9134\r\n1976-12-30T05:29:59Z,gov.usgs_1211_a1h_u_1205,19.8682\r\n1976-12-30T06:29:59Z,gov.usgs_1211_a1h_u_1205,9.54208\r\n1976-12-30T07:29:59Z,gov.usgs_1211_a1h_u_1205,-1.40473\r\n1976-12-30T08:29:59Z,gov.usgs_1211_a1h_u_1205,-7.42687\r\n1976-12-30T09:29:59Z,gov.usgs_1211_a1h_u_1205,-17.5523\r\n1976-12-30T10:29:59Z,gov.usgs_1211_a1h_u_1205,-17.7453\r\n1976-12-30T11:29:59Z,gov.usgs_1211_a1h_u_1205,-15.7514\r\n1976-12-30T12:29:59Z,gov.usgs_1211_a1h_u_1205,-9.76603\r\n1976-12-30T13:29:59Z,gov.usgs_1211_a1h_u_1205,-0.15171\r\n1976-12-30T14:29:59Z,gov.usgs_1211_a1h_u_1205,11.3176\r\n1976-12-30T15:29:59Z,gov.usgs_1211_a1h_u_1205,17.707\r\n1976-12-30T16:29:59Z,gov.usgs_1211_a1h_u_1205,15.5033\r\n1976-12-30T17:29:59Z,gov.usgs_1211_a1h_u_1205,11.8731\r\n1976-12-30T18:29:59Z,gov.usgs_1211_a1h_u_1205,5.40789\r\n1976-12-30T19:29:59Z,gov.usgs_1211_a1h_u_1205,-6.3024\r\n1976-12-30T20:29:59Z,gov.usgs_1211_a1h_u_1205,-12.0153\r\n1976-12-30T21:29:59Z,gov.usgs_1211_a1h_u_1205,-22.0652\r\n1976-12-30T22:29:59Z,gov.usgs_1211_a1h_u_1205,-31.0779\r\n1976-12-30T23:29:59Z,gov.usgs_1211_a1h_u_1205,-29.6863\r\n1976-12-31T00:29:59Z,gov.usgs_1211_a1h_u_1205,-23.0141\r\n1976-12-31T01:29:59Z,gov.usgs_1211_a1h_u_1205,-16.0883\r\n1976-12-31T02:29:59Z,gov.usgs_1211_a1h_u_1205,-8.828\r\n1976-12-31T03:29:59Z,gov.usgs_1211_a1h_u_1205,-1.50285\r\n1976-12-31T04:29:59Z,gov.usgs_1211_a1h_u_1205,4.96585\r\n1976-12-31T05:29:59Z,gov.usgs_1211_a1h_u_1205,4.10408\r\n1976-12-31T06:29:59Z,gov.usgs_1211_a1h_u_1205,1.90962\r\n1976-12-31T07:29:59Z,gov.usgs_1211_a1h_u_1205,-3.7614\r\n1976-12-31T08:29:59Z,gov.usgs_1211_a1h_u_1205,-9.8001\r\n1976-12-31T09:29:59Z,gov.usgs_1211_a1h_u_1205,-11.9197\r\n1976-12-31T10:29:59Z,gov.usgs_1211_a1h_u_1205,-15.1913\r\n1976-12-31T11:29:59Z,gov.usgs_1211_a1h_u_1205,-12.5002\r\n1976-12-31T12:29:59Z,gov.usgs_1211_a1h_u_1205,-9.1101\r\n1976-12-31T13:29:59Z,gov.usgs_1211_a1h_u_1205,-0.95521\r\n1976-12-31T14:29:59Z,gov.usgs_1211_a1h_u_1205,7.23788\r\n1976-12-31T15:29:59Z,gov.usgs_1211_a1h_u_1205,14.3825\r\n1976-12-31T16:29:59Z,gov.usgs_1211_a1h_u_1205,25.8339\r\n1976-12-31T17:29:59Z,gov.usgs_1211_a1h_u_1205,23.607\r\n1976-12-31T18:29:59Z,gov.usgs_1211_a1h_u_1205,16.8617\r\n1976-12-31T19:29:59Z,gov.usgs_1211_a1h_u_1205,12.5101\r\n1976-12-31T20:29:59Z,gov.usgs_1211_a1h_u_1205,5.52633\r\n1976-12-31T21:29:59Z,gov.usgs_1211_a1h_u_1205,-1.98642\r\n1976-12-31T22:29:59Z,gov.usgs_1211_a1h_u_1205,-5.69633\r\n1976-12-31T23:29:59Z,gov.usgs_1211_a1h_u_1205,-10.9741\r\n1977-01-01T00:29:59Z,gov.usgs_1211_a1h_u_1205,-11.4538\r\n1977-01-01T01:29:59Z,gov.usgs_1211_a1h_u_1205,-7.48172\r\n1977-01-01T02:29:59Z,gov.usgs_1211_a1h_u_1205,0.62946\r\n1977-01-01T03:29:59Z,gov.usgs_1211_a1h_u_1205,7.73175\r\n1977-01-01T04:29:59Z,gov.usgs_1211_a1h_u_1205,10.5753\r\n1977-01-01T05:29:59Z,gov.usgs_1211_a1h_u_1205,16.8914\r\n1977-01-01T06:29:59Z,gov.usgs_1211_a1h_u_1205,13.4744\r\n1977-01-01T07:29:59Z,gov.usgs_1211_a1h_u_1205,8.0848\r\n1977-01-01T08:29:59Z,gov.usgs_1211_a1h_u_1205,-1.22311\r\n1977-01-01T09:29:59Z,gov.usgs_1211_a1h_u_1205,-8.01454\r\n1977-01-01T10:29:59Z,gov.usgs_1211_a1h_u_1205,-15.1973\r\n1977-01-01T11:29:59Z,gov.usgs_1211_a1h_u_1205,-17.8604\r\n1977-01-01T12:29:59Z,gov.usgs_1211_a1h_u_1205,-14.7093\r\n1977-01-01T13:29:59Z,gov.usgs_1211_a1h_u_1205,-8.72308\r\n1977-01-01T14:29:59Z,gov.usgs_1211_a1h_u_1205,1.94973\r\n1977-01-01T15:29:59Z,gov.usgs_1211_a1h_u_1205,11.2549\r\n1977-01-01T16:29:59Z,gov.usgs_1211_a1h_u_1205,23.8078\r\n1977-01-01T17:29:59Z,gov.usgs_1211_a1h_u_1205,28.3448\r\n1977-01-01T18:29:59Z,gov.usgs_1211_a1h_u_1205,36.5674\r\n1977-01-01T19:29:59Z,gov.usgs_1211_a1h_u_1205,26.3748\r\n1977-01-01T20:29:59Z,gov.usgs_1211_a1h_u_1205,19.4431\r\n1977-01-01T21:29:59Z,gov.usgs_1211_a1h_u_1205,8.61415\r\n1977-01-01T22:29:59Z,gov.usgs_1211_a1h_u_1205,0.02933\r\n1977-01-01T23:29:59Z,gov.usgs_1211_a1h_u_1205,-8.4052\r\n1977-01-02T00:29:59Z,gov.usgs_1211_a1h_u_1205,-10.5121\r\n1977-01-02T01:29:59Z,gov.usgs_1211_a1h_u_1205,-8.70438\r\n1977-01-02T02:29:59Z,gov.usgs_1211_a1h_u_1205,-1.63375\r\n1977-01-02T03:29:59Z,gov.usgs_1211_a1h_u_1205,8.92907\r\n1977-01-02T04:29:59Z,gov.usgs_1211_a1h_u_1205,15.0928\r\n1977-01-02T05:29:59Z,gov.usgs_1211_a1h_u_1205,27.5954\r\n1977-01-02T06:29:59Z,gov.usgs_1211_a1h_u_1205,27.7565\r\n1977-01-02T07:29:59Z,gov.usgs_1211_a1h_u_1205,27.6666\r\n1977-01-02T08:29:59Z,gov.usgs_1211_a1h_u_1205,13.8977\r\n1977-01-02T09:29:59Z,gov.usgs_1211_a1h_u_1205,8.90522\r\n1977-01-02T10:29:59Z,gov.usgs_1211_a1h_u_1205,0.56637\r\n1977-01-02T11:29:59Z,gov.usgs_1211_a1h_u_1205,-4.48595\r\n1977-01-02T12:29:59Z,gov.usgs_1211_a1h_u_1205,-6.92918\r\n1977-01-02T13:29:59Z,gov.usgs_1211_a1h_u_1205,-3.90759\r\n1977-01-02T14:29:59Z,gov.usgs_1211_a1h_u_1205,7.00567\r\n1977-01-02T15:29:59Z,gov.usgs_1211_a1h_u_1205,14.0251\r\n1977-01-02T16:29:59Z,gov.usgs_1211_a1h_u_1205,27.127\r\n1977-01-02T17:29:59Z,gov.usgs_1211_a1h_u_1205,39.2253\r\n1977-01-02T18:29:59Z,gov.usgs_1211_a1h_u_1205,36.8614\r\n1977-01-02T19:29:59Z,gov.usgs_1211_a1h_u_1205,39.7797\r\n1977-01-02T20:29:59Z,gov.usgs_1211_a1h_u_1205,25.4651\r\n1977-01-02T21:29:59Z,gov.usgs_1211_a1h_u_1205,15.2809\r\n1977-01-02T22:29:59Z,gov.usgs_1211_a1h_u_1205,1.74863\r\n1977-01-02T23:29:59Z,gov.usgs_1211_a1h_u_1205,-7.24796\r\n1977-01-03T00:29:59Z,gov.usgs_1211_a1h_u_1205,-14.9889\r\n1977-01-03T01:29:59Z,gov.usgs_1211_a1h_u_1205,-18.9807\r\n1977-01-03T02:29:59Z,gov.usgs_1211_a1h_u_1205,-11.6406\r\n1977-01-03T03:29:59Z,gov.usgs_1211_a1h_u_1205,-6.15584\r\n1977-01-03T04:29:59Z,gov.usgs_1211_a1h_u_1205,2.69349\r\n1977-01-03T05:29:59Z,gov.usgs_1211_a1h_u_1205,9.75682\r\n1977-01-03T06:29:59Z,gov.usgs_1211_a1h_u_1205,21.2394\r\n1977-01-03T07:29:59Z,gov.usgs_1211_a1h_u_1205,22.0843\r\n1977-01-03T08:29:59Z,gov.usgs_1211_a1h_u_1205,17.5424\r\n1977-01-03T09:29:59Z,gov.usgs_1211_a1h_u_1205,11.083\r\n1977-01-03T10:29:59Z,gov.usgs_1211_a1h_u_1205,1.54012\r\n1977-01-03T11:29:59Z,gov.usgs_1211_a1h_u_1205,-4.79491\r\n1977-01-03T12:29:59Z,gov.usgs_1211_a1h_u_1205,-9.66902\r\n1977-01-03T13:29:59Z,gov.usgs_1211_a1h_u_1205,-12.6962\r\n1977-01-03T14:29:59Z,gov.usgs_1211_a1h_u_1205,-6.41528\r\n1977-01-03T15:29:59Z,gov.usgs_1211_a1h_u_1205,2.70596\r\n1977-01-03T16:29:59Z,gov.usgs_1211_a1h_u_1205,15.1554\r\n1977-01-03T17:29:59Z,gov.usgs_1211_a1h_u_1205,26.7568\r\n1977-01-03T18:29:59Z,gov.usgs_1211_a1h_u_1205,32.0675\r\n1977-01-03T19:29:59Z,gov.usgs_1211_a1h_u_1205,36.4506\r\n1977-01-03T20:29:59Z,gov.usgs_1211_a1h_u_1205,33.5959\r\n1977-01-03T21:29:59Z,gov.usgs_1211_a1h_u_1205,19.8264\r\n1977-01-03T22:29:59Z,gov.usgs_1211_a1h_u_1205,9.24658\r\n1977-01-03T23:29:59Z,gov.usgs_1211_a1h_u_1205,-4.3503\r\n1977-01-04T00:29:59Z,gov.usgs_1211_a1h_u_1205,-14.7071\r\n1977-01-04T01:29:59Z,gov.usgs_1211_a1h_u_1205,-22.1078\r\n1977-01-04T02:29:59Z,gov.usgs_1211_a1h_u_1205,-20.7298\r\n1977-01-04T03:29:59Z,gov.usgs_1211_a1h_u_1205,-12.3695\r\n1977-01-04T04:29:59Z,gov.usgs_1211_a1h_u_1205,-5.36638\r\n1977-01-04T05:29:59Z,gov.usgs_1211_a1h_u_1205,8.18219\r\n1977-01-04T06:29:59Z,gov.usgs_1211_a1h_u_1205,13.3647\r\n1977-01-04T07:29:59Z,gov.usgs_1211_a1h_u_1205,16.6824\r\n1977-01-04T08:29:59Z,gov.usgs_1211_a1h_u_1205,19.7055\r\n1977-01-04T09:29:59Z,gov.usgs_1211_a1h_u_1205,13.1669\r\n1977-01-04T10:29:59Z,gov.usgs_1211_a1h_u_1205,4.1386\r\n1977-01-04T11:29:59Z,gov.usgs_1211_a1h_u_1205,-7.9975\r\n1977-01-04T12:29:59Z,gov.usgs_1211_a1h_u_1205,-17.9818\r\n1977-01-04T13:29:59Z,gov.usgs_1211_a1h_u_1205,-17.584\r\n1977-01-04T14:29:59Z,gov.usgs_1211_a1h_u_1205,-14.9717\r\n1977-01-04T15:29:59Z,gov.usgs_1211_a1h_u_1205,-6.32282\r\n1977-01-04T16:29:59Z,gov.usgs_1211_a1h_u_1205,4.43806\r\n1977-01-04T17:29:59Z,gov.usgs_1211_a1h_u_1205,18.1875\r\n1977-01-04T18:29:59Z,gov.usgs_1211_a1h_u_1205,25.8468\r\n1977-01-04T19:29:59Z,gov.usgs_1211_a1h_u_1205,32.8366\r\n1977-01-04T20:29:59Z,gov.usgs_1211_a1h_u_1205,38.4124\r\n1977-01-04T21:29:59Z,gov.usgs_1211_a1h_u_1205,30.6307\r\n1977-01-04T22:29:59Z,gov.usgs_1211_a1h_u_1205,19.5335\r\n1977-01-04T23:29:59Z,gov.usgs_1211_a1h_u_1205,0.06299\r\n1977-01-05T00:29:59Z,gov.usgs_1211_a1h_u_1205,-12.113\r\n1977-01-05T01:29:59Z,gov.usgs_1211_a1h_u_1205,-21.6516\r\n1977-01-05T02:29:59Z,gov.usgs_1211_a1h_u_1205,-24.7322\r\n1977-01-05T03:29:59Z,gov.usgs_1211_a1h_u_1205,-18.6421\r\n1977-01-05T04:29:59Z,gov.usgs_1211_a1h_u_1205,-10.19\r\n1977-01-05T05:29:59Z,gov.usgs_1211_a1h_u_1205,2.61406\r\n1977-01-05T06:29:59Z,gov.usgs_1211_a1h_u_1205,15.4169\r\n1977-01-05T07:29:59Z,gov.usgs_1211_a1h_u_1205,19.7381\r\n1977-01-05T08:29:59Z,gov.usgs_1211_a1h_u_1205,27.3922\r\n1977-01-05T09:29:59Z,gov.usgs_1211_a1h_u_1205,22.7738\r\n1977-01-05T10:29:59Z,gov.usgs_1211_a1h_u_1205,13.7461\r\n1977-01-05T11:29:59Z,gov.usgs_1211_a1h_u_1205,-3.04626\r\n1977-01-05T12:29:59Z,gov.usgs_1211_a1h_u_1205,-14.5107\r\n1977-01-05T13:29:59Z,gov.usgs_1211_a1h_u_1205,-24.3245\r\n1977-01-05T14:29:59Z,gov.usgs_1211_a1h_u_1205,-24.1614\r\n1977-01-05T15:29:59Z,gov.usgs_1211_a1h_u_1205,-14.5208\r\n1977-01-05T16:29:59Z,gov.usgs_1211_a1h_u_1205,-4.70796\r\n1977-01-05T17:29:59Z,gov.usgs_1211_a1h_u_1205,10.7838\r\n1977-01-05T18:29:59Z,gov.usgs_1211_a1h_u_1205,25.1949\r\n1977-01-05T19:29:59Z,gov.usgs_1211_a1h_u_1205,30.7208\r\n1977-01-05T20:29:59Z,gov.usgs_1211_a1h_u_1205,44.3278\r\n1977-01-05T21:29:59Z,gov.usgs_1211_a1h_u_1205,42.9791\r\n1977-01-05T22:29:59Z,gov.usgs_1211_a1h_u_1205,21.599\r\n1977-01-05T23:29:59Z,gov.usgs_1211_a1h_u_1205,9.49333\r\n1977-01-06T00:29:59Z,gov.usgs_1211_a1h_u_1205,-9.20014\r\n1977-01-06T01:29:59Z,gov.usgs_1211_a1h_u_1205,-24.0266\r\n1977-01-06T02:29:59Z,gov.usgs_1211_a1h_u_1205,-31.7898\r\n1977-01-06T03:29:59Z,gov.usgs_1211_a1h_u_1205,-31.8755\r\n1977-01-06T04:29:59Z,gov.usgs_1211_a1h_u_1205,-19.9408\r\n1977-01-06T05:29:59Z,gov.usgs_1211_a1h_u_1205,-6.09534\r\n1977-01-06T06:29:59Z,gov.usgs_1211_a1h_u_1205,7.8436\r\n1977-01-06T07:29:59Z,gov.usgs_1211_a1h_u_1205,18.1302\r\n1977-01-06T08:29:59Z,gov.usgs_1211_a1h_u_1205,23.6603\r\n1977-01-06T09:29:59Z,gov.usgs_1211_a1h_u_1205,25.8938\r\n1977-01-06T10:29:59Z,gov.usgs_1211_a1h_u_1205,16.0739\r\n1977-01-06T11:29:59Z,gov.usgs_1211_a1h_u_1205,7.50038\r\n1977-01-06T12:29:59Z,gov.usgs_1211_a1h_u_1205,-12.0792\r\n1977-01-06T13:29:59Z,gov.usgs_1211_a1h_u_1205,-20.0639\r\n1977-01-06T14:29:59Z,gov.usgs_1211_a1h_u_1205,-25.701\r\n1977-01-06T15:29:59Z,gov.usgs_1211_a1h_u_1205,-24.0659\r\n1977-01-06T16:29:59Z,gov.usgs_1211_a1h_u_1205,-9.91479\r\n1977-01-06T17:29:59Z,gov.usgs_1211_a1h_u_1205,5.25365\r\n1977-01-06T18:29:59Z,gov.usgs_1211_a1h_u_1205,21.03\r\n1977-01-06T19:29:59Z,gov.usgs_1211_a1h_u_1205,28.3007\r\n1977-01-06T20:29:59Z,gov.usgs_1211_a1h_u_1205,34.9682\r\n1977-01-06T21:29:59Z,gov.usgs_1211_a1h_u_1205,35.1374\r\n1977-01-06T22:29:59Z,gov.usgs_1211_a1h_u_1205,30.9125\r\n1977-01-06T23:29:59Z,gov.usgs_1211_a1h_u_1205,15.3065\r\n1977-01-07T00:29:59Z,gov.usgs_1211_a1h_u_1205,-3.95539\r\n1977-01-07T01:29:59Z,gov.usgs_1211_a1h_u_1205,-25.2768\r\n1977-01-07T02:29:59Z,gov.usgs_1211_a1h_u_1205,-37.4579\r\n1977-01-07T03:29:59Z,gov.usgs_1211_a1h_u_1205,-44.0116\r\n1977-01-07T04:29:59Z,gov.usgs_1211_a1h_u_1205,-33.7154\r\n1977-01-07T05:29:59Z,gov.usgs_1211_a1h_u_1205,-19.8229\r\n1977-01-07T06:29:59Z,gov.usgs_1211_a1h_u_1205,-7.60804\r\n1977-01-07T07:29:59Z,gov.usgs_1211_a1h_u_1205,7.86771\r\n1977-01-07T08:29:59Z,gov.usgs_1211_a1h_u_1205,12.5256\r\n1977-01-07T09:29:59Z,gov.usgs_1211_a1h_u_1205,15.4916\r\n1977-01-07T10:29:59Z,gov.usgs_1211_a1h_u_1205,9.5071\r\n1977-01-07T11:29:59Z,gov.usgs_1211_a1h_u_1205,4.65763\r\n1977-01-07T12:29:59Z,gov.usgs_1211_a1h_u_1205,-8.41088\r\n1977-01-07T13:29:59Z,gov.usgs_1211_a1h_u_1205,-18.634\r\n1977-01-07T14:29:59Z,gov.usgs_1211_a1h_u_1205,-27.769\r\n1977-01-07T15:29:59Z,gov.usgs_1211_a1h_u_1205,-26.9367\r\n1977-01-07T16:29:59Z,gov.usgs_1211_a1h_u_1205,-20.8829\r\n1977-01-07T17:29:59Z,gov.usgs_1211_a1h_u_1205,-7.15345\r\n1977-01-07T18:29:59Z,gov.usgs_1211_a1h_u_1205,11.4895\r\n1977-01-07T19:29:59Z,gov.usgs_1211_a1h_u_1205,26.6033\r\n1977-01-07T20:29:59Z,gov.usgs_1211_a1h_u_1205,36.7065\r\n1977-01-07T21:29:59Z,gov.usgs_1211_a1h_u_1205,39.9233\r\n1977-01-07T22:29:59Z,gov.usgs_1211_a1h_u_1205,49.2965\r\n1977-01-07T23:29:59Z,gov.usgs_1211_a1h_u_1205,36.6666\r\n1977-01-08T00:29:59Z,gov.usgs_1211_a1h_u_1205,19.2631\r\n1977-01-08T01:29:59Z,gov.usgs_1211_a1h_u_1205,-1.02328\r\n1977-01-08T02:29:59Z,gov.usgs_1211_a1h_u_1205,-18.6735\r\n1977-01-08T03:29:59Z,gov.usgs_1211_a1h_u_1205,-26.5777\r\n1977-01-08T04:29:59Z,gov.usgs_1211_a1h_u_1205,-30.8224\r\n1977-01-08T05:29:59Z,gov.usgs_1211_a1h_u_1205,-4.80533\r\n1977-01-08T06:29:59Z,gov.usgs_1211_a1h_u_1205,32.5437</swe2:values>\r\n            </swe2:DataArray>\r\n          </swe2:field>\r\n        </swe2:DataRecord>\r\n      </om:result>\r\n    </om:Observation>\r\n  </om:member>\r\n</om:ObservationCollection>\r\n\r\n\n"
      }
     ],
     "prompt_number": 10
    },
    {
     "cell_type": "code",
     "collapsed": false,
     "input": "data_record = etree.fromstring(swe)",
     "language": "python",
     "metadata": {},
     "outputs": [],
     "prompt_number": 11
    },
    {
     "cell_type": "code",
     "collapsed": false,
     "input": "station = TimeSeries(data_record).feature",
     "language": "python",
     "metadata": {},
     "outputs": [
      {
       "ename": "AttributeError",
       "evalue": "'NoneType' object has no attribute 'content'",
       "output_type": "pyerr",
       "traceback": [
        "\u001b[1;31m---------------------------------------------------------------------------\u001b[0m\n\u001b[1;31mAttributeError\u001b[0m                            Traceback (most recent call last)",
        "\u001b[1;32m<ipython-input-12-12c35193b398>\u001b[0m in \u001b[0;36m<module>\u001b[1;34m()\u001b[0m\n\u001b[1;32m----> 1\u001b[1;33m \u001b[0mstation\u001b[0m \u001b[1;33m=\u001b[0m \u001b[0mTimeSeries\u001b[0m\u001b[1;33m(\u001b[0m\u001b[0mdata_record\u001b[0m\u001b[1;33m)\u001b[0m\u001b[1;33m.\u001b[0m\u001b[0mfeature\u001b[0m\u001b[1;33m\u001b[0m\u001b[0m\n\u001b[0m",
        "\u001b[1;32m/home/rsignell/python/pyoos/pyoos/parsers/ioos/one/timeseries.py\u001b[0m in \u001b[0;36m__init__\u001b[1;34m(self, element)\u001b[0m\n\u001b[0;32m     32\u001b[0m         \u001b[0mstations\u001b[0m \u001b[1;33m=\u001b[0m \u001b[1;33m{\u001b[0m\u001b[1;33m}\u001b[0m\u001b[1;33m\u001b[0m\u001b[0m\n\u001b[0;32m     33\u001b[0m         \u001b[0msensors\u001b[0m \u001b[1;33m=\u001b[0m \u001b[1;33m{\u001b[0m\u001b[1;33m}\u001b[0m\u001b[1;33m\u001b[0m\u001b[0m\n\u001b[1;32m---> 34\u001b[1;33m         \u001b[1;32mfor\u001b[0m \u001b[0mstation\u001b[0m \u001b[1;32min\u001b[0m \u001b[0mstations_field\u001b[0m\u001b[1;33m.\u001b[0m\u001b[0mcontent\u001b[0m\u001b[1;33m.\u001b[0m\u001b[0mfield\u001b[0m\u001b[1;33m:\u001b[0m\u001b[1;33m\u001b[0m\u001b[0m\n\u001b[0m\u001b[0;32m     35\u001b[0m             \u001b[0ms\u001b[0m \u001b[1;33m=\u001b[0m \u001b[0mStation\u001b[0m\u001b[1;33m(\u001b[0m\u001b[1;33m)\u001b[0m\u001b[1;33m\u001b[0m\u001b[0m\n\u001b[0;32m     36\u001b[0m             \u001b[0ms\u001b[0m\u001b[1;33m.\u001b[0m\u001b[0mname\u001b[0m  \u001b[1;33m=\u001b[0m \u001b[0mstation\u001b[0m\u001b[1;33m.\u001b[0m\u001b[0mname\u001b[0m\u001b[1;33m\u001b[0m\u001b[0m\n",
        "\u001b[1;31mAttributeError\u001b[0m: 'NoneType' object has no attribute 'content'"
       ]
      }
     ],
     "prompt_number": 12
    },
    {
     "cell_type": "code",
     "collapsed": false,
     "input": "# usgs woods hole ADCP data\n# url='http://geoport-dev.whoi.edu/thredds/sos/usgs/data2/notebook/9111aqd-a.nc'\n# adcp = SensorObservationService(url)\n",
     "language": "python",
     "metadata": {},
     "outputs": []
    },
    {
     "cell_type": "code",
     "collapsed": false,
     "input": "#ts = pd.Series(date_value[:,1],index=date_value[:,0])",
     "language": "python",
     "metadata": {},
     "outputs": []
    },
    {
     "cell_type": "code",
     "collapsed": false,
     "input": "#ts.plot(figsize(12,4))",
     "language": "python",
     "metadata": {},
     "outputs": []
    },
    {
     "cell_type": "code",
     "collapsed": false,
     "input": "''' this doesn't work\n# Try adding a time range to the getobs request:\n\nstart = '1976-12-302T00:00:00Z'\nstop = '1977-01-07T00:00:00Z'\n\nresponse = usgs.get_observation(offerings=['1211-A1H'],\n                                 responseFormat='text/xml;subtype=\"om/1.0.0\"',\n                                 observedProperties=['u_1205'],\n                                 procedure='urn:ioos:station:gov.usgs:1211-A1H',\n                                 eventTime='%s/%s' % (start,stop)\n''';",
     "language": "python",
     "metadata": {},
     "outputs": []
    },
    {
     "cell_type": "code",
     "collapsed": false,
     "input": "",
     "language": "python",
     "metadata": {},
     "outputs": []
    }
   ],
   "metadata": {}
  }
 ]
}