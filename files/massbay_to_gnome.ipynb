{
 "metadata": {
  "name": "massbay_to_gnome"
 },
 "nbformat": 3,
 "nbformat_minor": 0,
 "worksheets": [
  {
   "cells": [
    {
     "cell_type": "heading",
     "level": 1,
     "metadata": {},
     "source": [
      "Convert NECOFS (FVCOM) MassBay ocean model to GNOME format NetCDF"
     ]
    },
    {
     "cell_type": "markdown",
     "metadata": {},
     "source": [
      "This script calls routines from the utools library by Amy MacFadyen (NOAA ERL) to convert FVCOM datasets to GNOME compabible format for particle tracking.  GNOME is available here: <http://response.restoration.noaa.gov/oil-and-chemical-spills/oil-spills/response-tools/gnome.html>.  This script could be modified to read other FVCOM data sources very easily, but currently it requires a boundary file unique to a particular grid as input.  From Amy's e-mail, it's not yet possible to create automatically in this script.   Here we are reading an archive of NECOFS MassBay Forecast data using a boundary file that Amy provided.  <br> \n",
      "\n",
      "To create a gnome dataset for downloading, modify the time values below, and then when the script is completed, download the data using this link: <br>\n",
      "http://geoport.whoi.edu/thredds/fileServer/usgs/data2/notebook/MassBay_depave.nc <br>\n",
      "Note that a week of data is about 220MB, so you probably don't want to specify the entire range. <br>\n",
      "\n",
      "You can watch the video below for how to use this script and use the results in GNOME, although for legibility of text you may prefer to watch in HD here: http://www.youtube.com/v/qZhLcm_xspc"
     ]
    },
    {
     "cell_type": "code",
     "collapsed": false,
     "input": [
      "from IPython.lib.display import YouTubeVideo\n",
      "YouTubeVideo('qZhLcm_xspc')"
     ],
     "language": "python",
     "metadata": {},
     "outputs": [
      {
       "html": [
        "\n",
        "        <iframe\n",
        "            width=\"400\"\n",
        "            height=300\"\n",
        "            src=\"http://www.youtube.com/embed/qZhLcm_xspc\"\n",
        "            frameborder=\"0\"\n",
        "            allowfullscreen\n",
        "        ></iframe>\n",
        "        "
       ],
       "metadata": {},
       "output_type": "pyout",
       "prompt_number": 29,
       "text": [
        "<IPython.lib.display.YouTubeVideo at 0x440c810>"
       ]
      }
     ],
     "prompt_number": 29
    },
    {
     "cell_type": "code",
     "collapsed": false,
     "input": [
      "import utools\n",
      "import netCDF4\n",
      "import datetime as dt"
     ],
     "language": "python",
     "metadata": {},
     "outputs": [],
     "prompt_number": 16
    },
    {
     "cell_type": "code",
     "collapsed": false,
     "input": [
      "data_url = 'http://www.smast.umassd.edu:8080/thredds/dodsC/fvcom/archives/necofs_mb'\n",
      "bndry_file = 'MassB.bry'\n",
      "\n",
      "nc = netCDF4.Dataset(data_url)"
     ],
     "language": "python",
     "metadata": {},
     "outputs": [],
     "prompt_number": 17
    },
    {
     "cell_type": "code",
     "collapsed": false,
     "input": [
      "print nc.variables['ua']"
     ],
     "language": "python",
     "metadata": {},
     "outputs": [
      {
       "output_type": "stream",
       "stream": "stdout",
       "text": [
        "<type 'netCDF4.Variable'>\n",
        "float32 ua(u'time', u'nele')\n",
        "    long_name: Vertically Averaged x-velocity\n",
        "    units: meters s-1\n",
        "    grid: fvcom_grid\n",
        "    type: data\n",
        "    coordinates: time latc lonc\n",
        "    mesh: nv\n",
        "    location: face\n",
        "unlimited dimensions = ()\n",
        "current size = (8352, 165095)\n",
        "\n"
       ]
      }
     ],
     "prompt_number": 18
    },
    {
     "cell_type": "code",
     "collapsed": false,
     "input": [
      "time_var = nc.variables['time']\n",
      "dtime = netCDF4.num2date(time_var[:],time_var.units)\n",
      "print 'Dataset start time: %s' % dtime[0]\n",
      "print 'Dataset stop time: %s' % dtime[-1]"
     ],
     "language": "python",
     "metadata": {},
     "outputs": [
      {
       "output_type": "stream",
       "stream": "stdout",
       "text": [
        "Dataset start time: 2011-01-18 00:00:00\n",
        "Dataset stop time: 2011-12-31 22:58:08\n"
       ]
      }
     ],
     "prompt_number": 19
    },
    {
     "cell_type": "code",
     "collapsed": false,
     "input": [
      "# modify these time values:\n",
      "start = dt.datetime(2011,7,10,0,0,0)\n",
      "stop = dt.datetime(2011,7,17,0,0,0)\n",
      "istart = netCDF4.date2index(start,time_var,select='nearest')\n",
      "istop = netCDF4.date2index(stop,time_var,select='nearest')\n",
      "print istart,istop"
     ],
     "language": "python",
     "metadata": {},
     "outputs": [
      {
       "output_type": "stream",
       "stream": "stdout",
       "text": [
        "4152 4320\n"
       ]
      }
     ],
     "prompt_number": 20
    },
    {
     "cell_type": "code",
     "collapsed": false,
     "input": [
      "# lets see what variables are available\n",
      "nc.variables.keys()"
     ],
     "language": "python",
     "metadata": {},
     "outputs": [
      {
       "metadata": {},
       "output_type": "pyout",
       "prompt_number": 21,
       "text": [
        "[u'nprocs',\n",
        " u'partition',\n",
        " u'x',\n",
        " u'y',\n",
        " u'lon',\n",
        " u'lat',\n",
        " u'xc',\n",
        " u'yc',\n",
        " u'lonc',\n",
        " u'latc',\n",
        " u'siglay',\n",
        " u'siglev',\n",
        " u'h',\n",
        " u'nv',\n",
        " u'nbe',\n",
        " u'ntsn',\n",
        " u'nbsn',\n",
        " u'ntve',\n",
        " u'nbve',\n",
        " u'a1u',\n",
        " u'a2u',\n",
        " u'aw0',\n",
        " u'awx',\n",
        " u'awy',\n",
        " u'art2',\n",
        " u'art1',\n",
        " u'iint',\n",
        " u'time',\n",
        " u'Itime',\n",
        " u'Itime2',\n",
        " u'Times',\n",
        " u'zeta',\n",
        " u'file_date',\n",
        " u'u',\n",
        " u'v',\n",
        " u'omega',\n",
        " u'ww',\n",
        " u'ua',\n",
        " u'va',\n",
        " u'temp',\n",
        " u'salinity',\n",
        " u'km',\n",
        " u'kh',\n",
        " u'kq',\n",
        " u'q2',\n",
        " u'q2l',\n",
        " u'l',\n",
        " u'wet_nodes',\n",
        " u'wet_cells',\n",
        " u'wet_nodes_prev_int',\n",
        " u'wet_cells_prev_int',\n",
        " u'wet_cells_prev_ext']"
       ]
      }
     ],
     "prompt_number": 21
    },
    {
     "cell_type": "code",
     "collapsed": false,
     "input": [
      "# Let's take a look at a variable\n",
      "print nc.variables['ua']\n"
     ],
     "language": "python",
     "metadata": {},
     "outputs": [
      {
       "output_type": "stream",
       "stream": "stdout",
       "text": [
        "<type 'netCDF4.Variable'>\n",
        "float32 ua(u'time', u'nele')\n",
        "    long_name: Vertically Averaged x-velocity\n",
        "    units: meters s-1\n",
        "    grid: fvcom_grid\n",
        "    type: data\n",
        "    coordinates: time latc lonc\n",
        "    mesh: nv\n",
        "    location: face\n",
        "unlimited dimensions = ()\n",
        "current size = (8352, 165095)\n",
        "\n"
       ]
      }
     ],
     "prompt_number": 22
    },
    {
     "cell_type": "code",
     "collapsed": false,
     "input": [
      "# Use a mapping of FVCOM variable names to common names so that the class methods can also\n",
      "#work with SELFE and ADCIRC which have different var names\n",
      "#This seemed easier than finding them by CF long_names etc\n",
      "var_map = { 'longitude':'lon', \\\n",
      "            'latitude':'lat', \\\n",
      "            'time':'time', \\\n",
      "            'u_velocity':'ua', \\\n",
      "            'v_velocity':'va', \\\n",
      "            'nodes_surrounding_ele':'nv',\\\n",
      "            'eles_surrounding_ele':'nbe',\\\n",
      "          }  \n",
      "\n",
      "necofs = utools.ugrid(data_url)"
     ],
     "language": "python",
     "metadata": {},
     "outputs": [],
     "prompt_number": 23
    },
    {
     "cell_type": "code",
     "collapsed": false,
     "input": [
      "print 'Downloading data'\n",
      "necofs.get_data(var_map,tindex=[istart,istop,1]) # get all time steps in range\n",
      "#necofs.get_data(var_map) #All time steps in file"
     ],
     "language": "python",
     "metadata": {},
     "outputs": [
      {
       "output_type": "stream",
       "stream": "stdout",
       "text": [
        "Downloading data\n"
       ]
      }
     ],
     "prompt_number": 24
    },
    {
     "cell_type": "code",
     "collapsed": false,
     "input": [
      "necofs.adjust_time() #GNOME can't handle pre 1980 start dates (in units)"
     ],
     "language": "python",
     "metadata": {},
     "outputs": [],
     "prompt_number": 25
    },
    {
     "cell_type": "code",
     "collapsed": false,
     "input": [
      "necofs.get_bndry(bndry_file) \n",
      "#This file was pre-generated for this grid (somewhat manually as open water/land boundaries\n",
      "#are not specified in the model output"
     ],
     "language": "python",
     "metadata": {},
     "outputs": [],
     "prompt_number": 26
    },
    {
     "cell_type": "code",
     "collapsed": false,
     "input": [
      "necofs.atts['nbe']['order'] = 'cw'\n",
      "#GNOME needs to know whether the elements are ordered clockwise (FVCOM) or counter-clockwise (SELFE)"
     ],
     "language": "python",
     "metadata": {},
     "outputs": [],
     "prompt_number": 27
    },
    {
     "cell_type": "code",
     "collapsed": false,
     "input": [
      "print 'Writing to GNOME file'\n",
      "necofs.write_unstruc_grid('MassBay_depave.nc')"
     ],
     "language": "python",
     "metadata": {},
     "outputs": [
      {
       "output_type": "stream",
       "stream": "stdout",
       "text": [
        "Writing to GNOME file\n"
       ]
      }
     ],
     "prompt_number": 28
    }
   ],
   "metadata": {}
  }
 ]
}