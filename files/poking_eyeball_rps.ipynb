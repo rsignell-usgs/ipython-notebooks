{
 "metadata": {
  "name": "poking_eyeball_rps"
 },
 "nbformat": 3,
 "nbformat_minor": 0,
 "worksheets": [
  {
   "cells": [
    {
     "cell_type": "code",
     "collapsed": false,
     "input": [
      "# import some modules using standard naming conventions\n",
      "from pylab import *\n",
      "import pandas as pd\n",
      "\n",
      "# find the .csv files and read them into pandas data sets\n",
      "import glob\n",
      "flist = glob.glob('/usgs/data1/csherwood/poking_eyeball/*.csv')"
     ],
     "language": "python",
     "metadata": {},
     "outputs": [],
     "prompt_number": 2
    },
    {
     "cell_type": "code",
     "collapsed": false,
     "input": [
      "def Phi(mm):\n",
      "    return -1.44296504*log(mm)"
     ],
     "language": "python",
     "metadata": {},
     "outputs": [],
     "prompt_number": 3
    },
    {
     "cell_type": "code",
     "collapsed": false,
     "input": [
      "def my_read(csv):\n",
      "    phi = float(csv[-6:-4])/10. # extract phi size from CSV file name\n",
      "    df = pd.read_csv(csv)     # create Pandas DataFrame from each CSV file\n",
      "    mg = df.geom_mean.mean()  # mean of geometric means\n",
      "    m  = df.arith_mean       \n",
      "    ma = m.mean()             # mean of arithmetic means\n",
      "    sa = m.std()              # std of arithmetic means\n",
      "    return phi,ma,sa,mg"
     ],
     "language": "python",
     "metadata": {},
     "outputs": [],
     "prompt_number": 4
    },
    {
     "cell_type": "code",
     "collapsed": false,
     "input": [
      "# list of stats for each file\n",
      "stats = [my_read(f) for f in flist]\n",
      "# convert to array\n",
      "stats = array(stats)"
     ],
     "language": "python",
     "metadata": {},
     "outputs": [],
     "prompt_number": 5
    },
    {
     "cell_type": "code",
     "collapsed": false,
     "input": [
      "# create a data frame from the stats array\n",
      "df_stats = pd.DataFrame(stats,columns=['Phi','Ma','Sa','Mg'])\n",
      "df_stats"
     ],
     "language": "python",
     "metadata": {},
     "outputs": [
      {
       "html": [
        "<div style=\"max-height:1000px;max-width:1500px;overflow:auto;\">\n",
        "<table border=\"1\" class=\"dataframe\">\n",
        "  <thead>\n",
        "    <tr style=\"text-align: right;\">\n",
        "      <th></th>\n",
        "      <th>Phi</th>\n",
        "      <th>Ma</th>\n",
        "      <th>Sa</th>\n",
        "      <th>Mg</th>\n",
        "    </tr>\n",
        "  </thead>\n",
        "  <tbody>\n",
        "    <tr>\n",
        "      <td><strong>0</strong></td>\n",
        "      <td> 0.0</td>\n",
        "      <td> 0.557322</td>\n",
        "      <td> 0.067476</td>\n",
        "      <td> 0.468722</td>\n",
        "    </tr>\n",
        "    <tr>\n",
        "      <td><strong>1</strong></td>\n",
        "      <td> 0.5</td>\n",
        "      <td> 0.543682</td>\n",
        "      <td> 0.134539</td>\n",
        "      <td> 0.430470</td>\n",
        "    </tr>\n",
        "    <tr>\n",
        "      <td><strong>2</strong></td>\n",
        "      <td> 1.0</td>\n",
        "      <td> 0.487743</td>\n",
        "      <td> 0.082410</td>\n",
        "      <td> 0.381277</td>\n",
        "    </tr>\n",
        "    <tr>\n",
        "      <td><strong>3</strong></td>\n",
        "      <td> 1.5</td>\n",
        "      <td> 0.373238</td>\n",
        "      <td> 0.048243</td>\n",
        "      <td> 0.267245</td>\n",
        "    </tr>\n",
        "    <tr>\n",
        "      <td><strong>4</strong></td>\n",
        "      <td> 2.0</td>\n",
        "      <td> 0.326144</td>\n",
        "      <td> 0.031638</td>\n",
        "      <td> 0.209683</td>\n",
        "    </tr>\n",
        "    <tr>\n",
        "      <td><strong>5</strong></td>\n",
        "      <td> 2.5</td>\n",
        "      <td> 0.301667</td>\n",
        "      <td> 0.034709</td>\n",
        "      <td> 0.199168</td>\n",
        "    </tr>\n",
        "    <tr>\n",
        "      <td><strong>6</strong></td>\n",
        "      <td> 3.0</td>\n",
        "      <td> 0.235943</td>\n",
        "      <td> 0.032090</td>\n",
        "      <td> 0.134345</td>\n",
        "    </tr>\n",
        "    <tr>\n",
        "      <td><strong>7</strong></td>\n",
        "      <td> 3.5</td>\n",
        "      <td> 0.238555</td>\n",
        "      <td> 0.015709</td>\n",
        "      <td> 0.135005</td>\n",
        "    </tr>\n",
        "    <tr>\n",
        "      <td><strong>8</strong></td>\n",
        "      <td> 4.0</td>\n",
        "      <td> 0.204032</td>\n",
        "      <td> 0.015977</td>\n",
        "      <td> 0.106308</td>\n",
        "    </tr>\n",
        "  </tbody>\n",
        "</table>\n",
        "</div>"
       ],
       "output_type": "pyout",
       "prompt_number": 6,
       "text": [
        "   Phi        Ma        Sa        Mg\n",
        "0  0.0  0.557322  0.067476  0.468722\n",
        "1  0.5  0.543682  0.134539  0.430470\n",
        "2  1.0  0.487743  0.082410  0.381277\n",
        "3  1.5  0.373238  0.048243  0.267245\n",
        "4  2.0  0.326144  0.031638  0.209683\n",
        "5  2.5  0.301667  0.034709  0.199168\n",
        "6  3.0  0.235943  0.032090  0.134345\n",
        "7  3.5  0.238555  0.015709  0.135005\n",
        "8  4.0  0.204032  0.015977  0.106308"
       ]
      }
     ],
     "prompt_number": 6
    },
    {
     "cell_type": "code",
     "collapsed": false,
     "input": [
      "# list of full DataFrames\n",
      "df_list = [pd.read_csv(f) for f in flist]"
     ],
     "language": "python",
     "metadata": {},
     "outputs": [],
     "prompt_number": 7
    },
    {
     "cell_type": "code",
     "collapsed": false,
     "input": [
      "# 1st column of stats array is the phi size\n",
      "phi = stats[:,0]"
     ],
     "language": "python",
     "metadata": {},
     "outputs": [],
     "prompt_number": 8
    },
    {
     "cell_type": "code",
     "collapsed": false,
     "input": [
      "# make a dictionary of phi_size: full data_frame\n",
      "d = dict(zip(phi, df_list))"
     ],
     "language": "python",
     "metadata": {},
     "outputs": [],
     "prompt_number": 9
    },
    {
     "cell_type": "code",
     "collapsed": false,
     "input": [
      "plot(phi,phi,'-k')\n",
      "plot(phi-0.5,phi,'--k') # one sieve larger\n",
      "for p,df in d.iteritems():\n",
      "    plot(p*ones_like(df.geom_mean),Phi(df.geom_mean),'o',color='0.8')\n",
      "plot(phi,Phi(df_stats.Mg),'or')\n",
      "xlim([-.5,4.5])\n",
      "xlabel('Sieve size (phi)')\n",
      "ylabel('DGS geometric mean (phi)')\n",
      "title('MOF Poking Eyeball Tests, May 3, 2013')\n",
      "grid()\n",
      "    "
     ],
     "language": "python",
     "metadata": {},
     "outputs": [
      {
       "output_type": "display_data",
       "png": "[encoded data removed]",
       "text": [
        "<matplotlib.figure.Figure at 0x3e98590>"
       ]
      }
     ],
     "prompt_number": 14
    },
    {
     "cell_type": "code",
     "collapsed": false,
     "input": [],
     "language": "python",
     "metadata": {},
     "outputs": []
    }
   ],
   "metadata": {}
  }
 ]
}