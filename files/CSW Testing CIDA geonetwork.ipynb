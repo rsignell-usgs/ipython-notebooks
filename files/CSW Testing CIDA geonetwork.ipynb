{
 "metadata": {
  "name": "CSW Testing CIDA geonetwork"
 },
 "nbformat": 3,
 "nbformat_minor": 0,
 "worksheets": [
  {
   "cells": [
    {
     "cell_type": "heading",
     "level": 1,
     "metadata": {},
     "source": [
      "Exploring CSW access in Python using OWSLib with CIDA Geonetwork"
     ]
    },
    {
     "cell_type": "code",
     "collapsed": false,
     "input": [
      "from IPython.core.display import HTML\n",
      "HTML('<iframe src=http://cida.usgs.gov/geonetwork/srv/en/main.home width=900 height=280></iframe>')"
     ],
     "language": "python",
     "metadata": {},
     "outputs": [
      {
       "html": [
        "<iframe src=http://cida.usgs.gov/geonetwork/srv/en/main.home width=900 height=280></iframe>"
       ],
       "metadata": {},
       "output_type": "pyout",
       "prompt_number": 1,
       "text": [
        "<IPython.core.display.HTML at 0x3856910>"
       ]
      }
     ],
     "prompt_number": 1
    },
    {
     "cell_type": "code",
     "collapsed": false,
     "input": [
      "from owslib.csw import CatalogueServiceWeb"
     ],
     "language": "python",
     "metadata": {},
     "outputs": [],
     "prompt_number": 1
    },
    {
     "cell_type": "code",
     "collapsed": false,
     "input": [
      "# connect to CSW, explore it's properties\n",
      "#endpoint = 'http://www.ngdc.noaa.gov/geoportal/csw' # NGDC Geoportal\n",
      "#endpoint = 'http://data.nodc.noaa.gov/geoportal/csw'  # NODC Geoportal: collection level\n",
      "    \n",
      "#endpoint = 'http://geodiscover.cgdi.ca/wes/serviceManagerCSW/csw'  # NRCAN CUSTOM\n",
      "#endpoint = 'http://geoport.whoi.edu/gi-cat/services/cswiso' # USGS Woods Hole GI_CAT\n",
      "endpoint = 'http://cida.usgs.gov/gdp/geonetwork/srv/en/csw' # USGS CIDA Geonetwork\n",
      "#endpoint = 'http://www.nodc.noaa.gov/geoportal/csw'   # NODC Geoportal: granule level\n",
      "\n",
      "csw = CatalogueServiceWeb(endpoint,timeout=30)\n",
      "csw.version"
     ],
     "language": "python",
     "metadata": {},
     "outputs": [
      {
       "metadata": {},
       "output_type": "pyout",
       "prompt_number": 2,
       "text": [
        "'2.0.2'"
       ]
      }
     ],
     "prompt_number": 2
    },
    {
     "cell_type": "code",
     "collapsed": false,
     "input": [
      "[op.name for op in csw.operations]"
     ],
     "language": "python",
     "metadata": {},
     "outputs": [
      {
       "metadata": {},
       "output_type": "pyout",
       "prompt_number": 3,
       "text": [
        "['GetCapabilities',\n",
        " 'DescribeRecord',\n",
        " 'GetDomain',\n",
        " 'GetRecords',\n",
        " 'GetRecordById',\n",
        " 'Transaction']"
       ]
      }
     ],
     "prompt_number": 3
    },
    {
     "cell_type": "code",
     "collapsed": false,
     "input": [
      "#bbox=[-141,42,-52,84]\n",
      "bbox=[-71.5, 39.5, -63.0, 46]\n",
      "csw.getrecords(keywords=['sea_water_temperature'],bbox=bbox,maxrecords=10)\n",
      "csw.results"
     ],
     "language": "python",
     "metadata": {},
     "outputs": [
      {
       "metadata": {},
       "output_type": "pyout",
       "prompt_number": 4,
       "text": [
        "{'matches': 0, 'nextrecord': 0, 'returned': 0}"
       ]
      }
     ],
     "prompt_number": 4
    },
    {
     "cell_type": "code",
     "collapsed": false,
     "input": [
      "csw.getrecords(maxrecords=5)"
     ],
     "language": "python",
     "metadata": {},
     "outputs": [],
     "prompt_number": 5
    },
    {
     "cell_type": "code",
     "collapsed": false,
     "input": [
      "for rec,item in csw.records.iteritems():\n",
      "    print item.title"
     ],
     "language": "python",
     "metadata": {},
     "outputs": [
      {
       "output_type": "stream",
       "stream": "stdout",
       "text": [
        "Great Lakes Coastal Forecasting System Nowcast/Lake Superior Nowcast History 2D\n",
        "Great Lakes Coastal Forecasting System Nowcast/Lake Erie Nowcast History 2D\n",
        "Great Lakes Coastal Forecasting System Nowcast/Lake Ontario Nowcast History 2D\n",
        "Great Lakes Coastal Forecasting System Nowcast/Lake Huron Nowcast History 2D\n",
        "Great Lakes Coastal Forecasting System Nowcast/Lake Michigan Nowcast History 2D\n"
       ]
      }
     ],
     "prompt_number": 6
    },
    {
     "cell_type": "code",
     "collapsed": false,
     "input": [
      "print(csw.records.keys())"
     ],
     "language": "python",
     "metadata": {},
     "outputs": [
      {
       "output_type": "stream",
       "stream": "stdout",
       "text": [
        "['e3b464e6-a32e-4ccb-b6bb-7ebcddf19b61', '9ea89a4f-9eb0-4d6e-be2a-dbc9154c73e7', '07379b46-6fb3-4889-91e3-fb5a76d76a98', '2c511d5a-5dd0-452d-a918-fb3a99c1c8b7', '05bf15c9-fd87-4e19-87f6-68a3c682805f']\n"
       ]
      }
     ],
     "prompt_number": 7
    },
    {
     "cell_type": "code",
     "collapsed": false,
     "input": [
      "# choose a sample record\n",
      "a=csw.records['e3b464e6-a32e-4ccb-b6bb-7ebcddf19b61']"
     ],
     "language": "python",
     "metadata": {},
     "outputs": [],
     "prompt_number": 8
    },
    {
     "cell_type": "code",
     "collapsed": false,
     "input": [
      "print a.title"
     ],
     "language": "python",
     "metadata": {},
     "outputs": [
      {
       "output_type": "stream",
       "stream": "stdout",
       "text": [
        "Great Lakes Coastal Forecasting System Nowcast/Lake Superior Nowcast History 2D\n"
       ]
      }
     ],
     "prompt_number": 9
    },
    {
     "cell_type": "code",
     "collapsed": false,
     "input": [
      "# unfortunately the \"uris\" property is empty\n",
      "print a.uris"
     ],
     "language": "python",
     "metadata": {},
     "outputs": [
      {
       "output_type": "stream",
       "stream": "stdout",
       "text": [
        "[]\n"
       ]
      }
     ],
     "prompt_number": 10
    },
    {
     "cell_type": "code",
     "collapsed": false,
     "input": [
      "# yet I can see the URIs here:\n",
      "print a.xml"
     ],
     "language": "python",
     "metadata": {},
     "outputs": [
      {
       "output_type": "stream",
       "stream": "stdout",
       "text": [
        "<csw:SummaryRecord xmlns:geonet=\"http://www.fao.org/geonetwork\" xmlns:dc=\"http://purl.org/dc/elements/1.1/\" xmlns:dct=\"http://purl.org/dc/terms/\" xmlns:csw=\"http://www.opengis.net/cat/csw/2.0.2\" xmlns:xsi=\"http://www.w3.org/2001/XMLSchema-instance\">\n",
        "      <dc:identifier>e3b464e6-a32e-4ccb-b6bb-7ebcddf19b61</dc:identifier>\n",
        "      <dc:title>Great Lakes Coastal Forecasting System Nowcast/Lake Superior Nowcast History 2D</dc:title>\n",
        "      <dc:subject>inlandWaters</dc:subject>\n",
        "      <dct:abstract>Great Lakes Coastal Forecasting System Nowcast/Lake Superior Nowcast History 2D</dct:abstract>\n",
        "    </csw:SummaryRecord>\n",
        "    \n"
       ]
      }
     ],
     "prompt_number": 11
    },
    {
     "cell_type": "code",
     "collapsed": false,
     "input": [
      "# lets look at the references\n",
      "a.references"
     ],
     "language": "python",
     "metadata": {},
     "outputs": [
      {
       "metadata": {},
       "output_type": "pyout",
       "prompt_number": 12,
       "text": [
        "[]"
       ]
      }
     ],
     "prompt_number": 12
    },
    {
     "cell_type": "code",
     "collapsed": false,
     "input": [
      "# get specific ServiceType URL from records\n",
      "def service_urls(records,service_string='urn:x-esri:specification:ServiceType:OPeNDAP'):\n",
      "    urls=[]\n",
      "    for key,rec in records.iteritems():\n",
      "        #create a generator object, and iterate through it until the match is found\n",
      "        #if not found, gets the default value (here \"none\")\n",
      "        url = next((d['url'] for d in rec.references if d['scheme'] == service_string), None)\n",
      "        if url is not None:\n",
      "            urls.append(url)\n",
      "    return urls"
     ],
     "language": "python",
     "metadata": {},
     "outputs": [],
     "prompt_number": 13
    },
    {
     "cell_type": "code",
     "collapsed": false,
     "input": [
      "dap_urls = service_urls(csw.records,service_string='urn:x-esri:specification:ServiceType:ArcIMS:Metadata:Onlink')\n",
      "print dap_urls"
     ],
     "language": "python",
     "metadata": {},
     "outputs": [
      {
       "output_type": "stream",
       "stream": "stdout",
       "text": [
        "[]\n"
       ]
      }
     ],
     "prompt_number": 14
    },
    {
     "cell_type": "code",
     "collapsed": false,
     "input": [],
     "language": "python",
     "metadata": {},
     "outputs": [],
     "prompt_number": 15
    }
   ],
   "metadata": {}
  }
 ]
}