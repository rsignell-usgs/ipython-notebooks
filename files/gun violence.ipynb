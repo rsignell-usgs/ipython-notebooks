{
 "metadata": {
  "name": "gun violence"
 },
 "nbformat": 3,
 "nbformat_minor": 0,
 "worksheets": [
  {
   "cells": [
    {
     "cell_type": "code",
     "collapsed": false,
     "input": [
      "from IPython.core.display import HTML\n",
      "HTML('<iframe src=http://en.wikipedia.org/wiki/Gun_violence_in_the_United_States_by_state width=900 height=280></iframe>')"
     ],
     "language": "python",
     "metadata": {},
     "outputs": [
      {
       "html": [
        "<iframe src=http://en.wikipedia.org/wiki/Gun_violence_in_the_United_States_by_state width=900 height=280></iframe>"
       ],
       "metadata": {},
       "output_type": "pyout",
       "prompt_number": 1,
       "text": [
        "<IPython.core.display.HTML at 0x3199f90>"
       ]
      }
     ],
     "prompt_number": 1
    },
    {
     "cell_type": "code",
     "collapsed": false,
     "input": [
      "import cStringIO\n",
      "import pandas as pd"
     ],
     "language": "python",
     "metadata": {},
     "outputs": [],
     "prompt_number": 6
    },
    {
     "cell_type": "code",
     "collapsed": false,
     "input": [
      "text = '''State,Population,Density, Murders, Gun_Murders, Gun_Ownership_percent, Murder_rate_per_100k, Gun_Murder_rate_per_100k, Brady_Score\n",
      "Alabama,4779736,94.65,199,135,51.7,4.2,2.8,16\n",
      "Alaska,710231,1.264,31,19,57.8,4.4,2.7,0\n",
      "Arizona,6392017,57.05,352,232,31.1,5.5,3.6,0\n",
      "Arkansas,2915918,56.43,130,93,55.3,4.5,3.2,4\n",
      "California,37253956,244.2,1811,1257,21.3,4.9,3.4,80\n",
      "Colorado,5029196,49.33,117,65,34.7,2.3,1.3,15\n",
      "Connecticut,3574097,741.4,131,97,16.7,3.7,2.7,58\n",
      "Delaware,897934,470.7,48,38,25.5,5.3,4.2,15\n",
      "District of Columbia,601723,10357,131,99,3.6,21.8,16.5,0\n",
      "Georgia,9920000,172.5,527,376,40.3,5.3,3.8,8\n",
      "Florida,19687653,360.2,987,669,24.5,5.0,3.9,5\n",
      "Hawaii,1360301,216.8,24,7,6.7,1.8,0.5,50\n",
      "Idaho,1567582,19.5,21,12,55.3,1.3,0.8,2\n",
      "Illinois,12830632,231.9,453,364,20.2,3.5,2.8,35\n",
      "Indiana,6483802,182.5,198,142,39.1,3.1,2.2,4\n",
      "Iowa,3046355,54.81,38,21,42.9,1.2,0.7,7\n",
      "Kansas,2853118,35.09,100,63,42.1,3.5,2.2,4\n",
      "Kentucky,4339367,110.0,180,116,47.7,4.5,2.7,2\n",
      "Louisiana,4533372,105.0,437,351,44.1,9.6,7.7,2\n",
      "Maine,1328361,43.04,24,11,40.5,1.8,0.8,9\n",
      "Maryland,5773552,606.2,424,293,21.3,7.3,5.1,45\n",
      "Massachusetts,6547629,852.1,209,118,12.6,3.2,1.8,65\n",
      "Michigan,9883640,174.8,558,413,38.4,5.6,4.2,25\n",
      "Minnesota,5303925,67.14,91,53,41.7,1.7,1.0,14\n",
      "Mississippi,2967297,63.50,165,120,55.3,5.6,4.0,6\n",
      "Missouri,5988927,87.26,419,321,41.7,7.0,5.4,4\n",
      "Montana,989415,6.858,21,12,57.7,2.1,1.2,2\n",
      "Nebraska,1826341,23.97,51,32,38.6,2.8,1.8,5\n",
      "Nevada,2700551,24.80,158,84,33.8,5.9,3.1,5\n",
      "New Hampshire,1316470,147.0,13,5,30.0,1.0,0.4,6\n",
      "New Jersey,8791894,1189,363,246,12.3,4.1,2.8,72\n",
      "New Mexico,2059179,17.16,118,67,34.8,5.7,3.3,4\n",
      "New York,19378102,415.3,860,517,18,4.4,2.7,62\n",
      "North Carolina,9535483,200.6,445,286,41.3,4.7,3.0,16\n",
      "North Dakota,672591,9.916,9,4,50.7,1.3,0.6,4\n",
      "Ohio,11536504,282.5,460,310,32.4,4.0,2.7,9\n",
      "Oklahoma,3751351,55.22,188,111,42.9,5.0,3.0,2\n",
      "Oregon,3831074,40.33,78,36,39.8,2.0,0.9,17\n",
      "Pennsylvania,12702379,285.3,646,457,34.7,5.1,3.6,26\n",
      "Rhode Island,1052567,1006,29,16,12.8,2.8,1.5,44\n",
      "South Carolina,4625364,157.1,280,207,42.3,6.1,4.5,10\n",
      "South Dakota,814180,10.86,14,8,56.6,1.7,1.0,4\n",
      "Tennessee,6346105,156.6,356,219,43.9,5.6,2.5,8\n",
      "Texas,25145561,98.07,1246,805,35.9,5.0,3.2,6\n",
      "Utah,2763885,34.30,52,22,43.9,1.9,0.8,0\n",
      "Vermont,625741,67.73,7,2,42.0,1.1,0.3,6\n",
      "Virginia,8001024,207.3,369,250,35.1,4.6,3.1,16\n",
      "Washington,6724540,102.6,151,93,33.1,2.2,1.4,17\n",
      "West Virginia,1852994,77.06,55,27,55.4,3.0,1.5,4\n",
      "Wisconsin,5686986,105.2,151,97,44.4,2.7,1.7,8\n",
      "Wyoming,563626,5.851,8,5,59.7,1.4,0.9,8\n",
      "'''"
     ],
     "language": "python",
     "metadata": {},
     "outputs": [],
     "prompt_number": 23
    },
    {
     "cell_type": "code",
     "collapsed": false,
     "input": [
      "df = pd.read_csv(cStringIO.StringIO(text.strip()),sep=',\\s*')"
     ],
     "language": "python",
     "metadata": {},
     "outputs": [],
     "prompt_number": 24
    },
    {
     "cell_type": "code",
     "collapsed": false,
     "input": [
      "df.head()"
     ],
     "language": "python",
     "metadata": {},
     "outputs": [
      {
       "html": [
        "<pre>\n",
        "&ltclass 'pandas.core.frame.DataFrame'&gt\n",
        "Int64Index: 5 entries, 0 to 4\n",
        "Data columns (total 9 columns):\n",
        "State                       5  non-null values\n",
        "Population                  5  non-null values\n",
        "Density                     5  non-null values\n",
        "Murders                     5  non-null values\n",
        "Gun_Murders                 5  non-null values\n",
        "Gun_Ownership_percent       5  non-null values\n",
        "Murder_rate_per_100k        5  non-null values\n",
        "Gun_Murder_rate_per_100k    5  non-null values\n",
        "Brady_Score                 5  non-null values\n",
        "dtypes: float64(4), int64(4), object(1)\n",
        "</pre>"
       ],
       "metadata": {},
       "output_type": "pyout",
       "prompt_number": 25,
       "text": [
        "        State  Population  Density  Murders  Gun_Murders  \\\n",
        "0     Alabama     4779736   94.650      199          135   \n",
        "1      Alaska      710231    1.264       31           19   \n",
        "2     Arizona     6392017   57.050      352          232   \n",
        "3    Arkansas     2915918   56.430      130           93   \n",
        "4  California    37253956  244.200     1811         1257   \n",
        "\n",
        "   Gun_Ownership_percent  Murder_rate_per_100k  Gun_Murder_rate_per_100k  \\\n",
        "0                   51.7                   4.2                       2.8   \n",
        "1                   57.8                   4.4                       2.7   \n",
        "2                   31.1                   5.5                       3.6   \n",
        "3                   55.3                   4.5                       3.2   \n",
        "4                   21.3                   4.9                       3.4   \n",
        "\n",
        "   Brady_Score  \n",
        "0           16  \n",
        "1            0  \n",
        "2            0  \n",
        "3            4  \n",
        "4           80  "
       ]
      }
     ],
     "prompt_number": 25
    },
    {
     "cell_type": "code",
     "collapsed": false,
     "input": [
      "scatter(df['Gun_Ownership_percent'].values,df['Murder_rate_per_100k'].values)"
     ],
     "language": "python",
     "metadata": {},
     "outputs": [
      {
       "metadata": {},
       "output_type": "pyout",
       "prompt_number": 27,
       "text": [
        "<matplotlib.collections.PathCollection at 0x3753350>"
       ]
      },
      {
       "metadata": {},
       "output_type": "display_data",
       "png": "[encoded data removed]",
       "text": [
        "<matplotlib.figure.Figure at 0x3961710>"
       ]
      }
     ],
     "prompt_number": 27
    },
    {
     "cell_type": "code",
     "collapsed": false,
     "input": [],
     "language": "python",
     "metadata": {},
     "outputs": []
    }
   ],
   "metadata": {}
  }
 ]
}