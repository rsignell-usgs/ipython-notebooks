{
 "metadata": {
  "name": "FVCOM_bottom_stress"
 },
 "nbformat": 3,
 "nbformat_minor": 0,
 "worksheets": [
  {
   "cells": [
    {
     "cell_type": "heading",
     "level": 2,
     "metadata": {},
     "source": [
      "Compute current bottom stress from the NECOFS (New England Coastal Ocean Forecast System)"
     ]
    },
    {
     "cell_type": "markdown",
     "metadata": {},
     "source": [
      "Demonstration using the NetCDF4-Python library to compute bottom stress and bottom velocity (1 meter above bottom) from a triangular grid ocean model (FVCOM) via OPeNDAP.  The results are stored in a new NetCDF4 file. \n",
      "\n",
      "NECOFS (Northeastern Coastal Ocean Forecast System) is run by groups at the University of Massachusetts Dartmouth and the Woods Hole Oceanographic Institution, led by Drs. C. Chen, R. C. Beardsley, G. Cowles and B. Rothschild. Funding is provided to run the model by the NOAA-led Integrated Ocean Observing System and the State of Massachusetts.\n",
      "\n",
      "NECOFS is a coupled numerical model that uses nested weather models, a coastal ocean circulation model, and a wave model. The ocean model is a volume-mesh model with horizontal resolution that is finer in complicated regions. It is layered (not depth-averaged) and includes the effects of tides, winds, and varying water densities caused by temperature and salinity changes.\n",
      "\n",
      "* Model description: http://fvcom.smast.umassd.edu/research_projects/NECOFS/model_system.html\n",
      "* THREDDS server with other forecast and archive products: http://www.smast.umassd.edu:8080/thredds/catalog.html"
     ]
    },
    {
     "cell_type": "code",
     "collapsed": false,
     "input": [
      "from pylab import *\n",
      "import netCDF4"
     ],
     "language": "python",
     "metadata": {},
     "outputs": []
    },
    {
     "cell_type": "code",
     "collapsed": false,
     "input": [
      "def z0tocd(z0=3.3546e-04,zr=1.0):\n",
      "    \"\"\" Compute the drag coefficient CD based on roughness height z0 and distance above bottom zr\"\"\"\n",
      "    kappa = 0.4\n",
      "    cd=(kappa*ones_like(zr)/log(zr/z0))**2\n",
      "    return cd"
     ],
     "language": "python",
     "metadata": {},
     "outputs": []
    },
    {
     "cell_type": "code",
     "collapsed": false,
     "input": [
      "def cdtoz0(cd=2.5e-3,zr=1.0):\n",
      "    \"\"\" Compute the roughness height z0 based on drag coefficient CD and distance above bottom zr\"\"\"\n",
      "    kappa = 0.4\n",
      "    z0 = zr/(exp(kappa*ones_like(cd)/sqrt(cd)))\n",
      "    return z0"
     ],
     "language": "python",
     "metadata": {},
     "outputs": []
    },
    {
     "cell_type": "code",
     "collapsed": false,
     "input": [
      "def w100(w=0.1+0j,z0=3.35e-04,zr=1):\n",
      "    \"\"\" Compute the velocity 1 meter above bottom and friction velocity\n",
      "        from velocity measured at height zr above bottom.\n",
      "\n",
      "    Keyword arguments\n",
      "    -----------------\n",
      "    w : east velocity component  + j*north velocity component (m/s) [complex]\n",
      "    z0 : roughness height = kb/30 (m) \n",
      "    zr : height above bottom for input velocity \"w\" (m)\n",
      "\n",
      "    Returns\n",
      "    -------\n",
      "    ustar : friction velocity (m/s) [complex]\n",
      "    w : velocity 1 mab (m/s) [complex]\n",
      "    \n",
      "    \"\"\"\n",
      "    \n",
      "    cd = z0tocd(z0,zr)\n",
      "    ustar = sqrt(cd)*w\n",
      "    kappa = 0.4\n",
      "    ur = abs(ustar)/kappa*log(ones_like(zr)/z0)\n",
      "    wbot = w*ur/(abs(w)+1e-16)\n",
      "    return ustar,wbot"
     ],
     "language": "python",
     "metadata": {},
     "outputs": []
    },
    {
     "cell_type": "code",
     "collapsed": false,
     "input": [
      "# Input FVCOM Dataset: DAP Data URL\n",
      "url = 'http://www.smast.umassd.edu:8080/thredds/dodsC/FVCOM/NECOFS/Forecasts/NECOFS_FVCOM_OCEAN_MASSBAY_FORECAST.nc'\n",
      "\n",
      "# Open DAP\n",
      "nci = netCDF4.Dataset(url)\n",
      "nciv =nci.variables\n",
      "\n",
      "nciv.keys()"
     ],
     "language": "python",
     "metadata": {},
     "outputs": []
    },
    {
     "cell_type": "code",
     "collapsed": false,
     "input": [
      "# read connectivity array\n",
      "nv = nciv['nv'][:].T - 1"
     ],
     "language": "python",
     "metadata": {},
     "outputs": []
    },
    {
     "cell_type": "code",
     "collapsed": false,
     "input": [
      "# print info on velocity varibble\n",
      "print nciv['u']\n",
      "nt,nz,nele = shape(nciv['u'])\n",
      "node = len(nciv['h'])"
     ],
     "language": "python",
     "metadata": {},
     "outputs": []
    },
    {
     "cell_type": "code",
     "collapsed": false,
     "input": [
      "# OUTPUT: create NetCDF4 file with deflation on variables\n",
      "\n",
      "url_out = '/usgs/data2/rsignell/models/fvcom/massbay_forecast_wbot.nc'\n",
      "\n",
      "nco = netCDF4.Dataset(url_out, 'w',clobber=True)\n",
      "ncov = nco.variables\n",
      "\n",
      "# chunking and deflation parameters\n",
      "chunk_lon=512\n",
      "chunk_time=1\n",
      "sigdigits=6\n",
      "\n",
      "# create dimensions\n",
      "nco.createDimension('nele', nele)\n",
      "nco.createDimension('node', node)\n",
      "nco.createDimension('three', 3)\n",
      "nco.createDimension('time', None)\n",
      "\n",
      "# create variables\n",
      "timeo = nco.createVariable('time', 'f4',  ('time'))\n",
      "ho = nco.createVariable('h', 'f4',  ('node'))\n",
      "nvo = nco.createVariable('nv', 'i4',  ('three', 'nele'))\n",
      "lonco = nco.createVariable('lonc', 'f4',  ( 'nele'))\n",
      "latco = nco.createVariable('latc', 'f4',  ( 'nele'))\n",
      "lono = nco.createVariable('lon', 'f4',  ( 'node'))\n",
      "lato = nco.createVariable('lat', 'f4',  ( 'node'))\n",
      "\n",
      "ubot = nco.createVariable('ubot', 'f4',  ('time', 'nele'),\n",
      "    zlib=True,least_significant_digit=sigdigits,chunksizes=[chunk_time,chunk_lon])\n",
      "vbot = nco.createVariable('vbot', 'f4',  ('time', 'nele'),\n",
      "    zlib=True,least_significant_digit=sigdigits,chunksizes=[chunk_time,chunk_lon])\n",
      "bustr = nco.createVariable('bustr', 'f4',  ('time', 'nele'),\n",
      "    zlib=True,least_significant_digit=sigdigits,chunksizes=[chunk_time,chunk_lon])\n",
      "bvstr = nco.createVariable('bvstr', 'f4',  ('time', 'nele'),\n",
      "    zlib=True,least_significant_digit=sigdigits,chunksizes=[chunk_time,chunk_lon])    \n",
      "\n",
      "# write variable attributes\n",
      "timeo.units=nciv['time'].units\n",
      "ho.units=nciv['h'].units\n",
      "lono.units=nciv['lon'].units\n",
      "lato.units=nciv['lat'].units\n",
      "lonco.units=nciv['lonc'].units\n",
      "latco.units=nciv['latc'].units\n",
      "ubot.units=nciv['u'].units\n",
      "vbot.units=nciv['v'].units\n",
      "bustr.units='N/m2'\n",
      "bvstr.units='N/m2'\n",
      "\n",
      "# write data with no time dimension\n",
      "lonco[:]=nciv['lonc'][:]\n",
      "latco[:]=nciv['latc'][:]\n",
      "lono[:]=nciv['lon'][:]\n",
      "lato[:]=nciv['lat'][:]\n",
      "nvo[:]=nciv['nv'][:]\n",
      "ho[:]=nciv['h'][:]\n"
     ],
     "language": "python",
     "metadata": {},
     "outputs": []
    },
    {
     "cell_type": "code",
     "collapsed": false,
     "input": [
      "# specify bottom layer, but handle case where there is just 1 layer in input file\n",
      "if shape(nciv['siglay'])[0]==1:\n",
      "    ilayer = 0\n",
      "else:\n",
      "    ilayer = -1"
     ],
     "language": "python",
     "metadata": {},
     "outputs": []
    },
    {
     "cell_type": "code",
     "collapsed": false,
     "input": [
      "# neither z0 or cd is saved in this FVCOM output, so just use canonical bottom roughness kb=0.5 cm\n",
      "kb=0.005\n",
      "z0=kb/30.\n",
      "rho = 1025.  # density plays a small role in stress, so just specify as constant here"
     ],
     "language": "python",
     "metadata": {},
     "outputs": []
    },
    {
     "cell_type": "code",
     "collapsed": false,
     "input": [
      "# loop through time, writing each 2D or 3D field to output file\n",
      "\n",
      "for itime in range(nt):\n",
      "    print '%4.1f percent done' % (float(itime)/nt*100.)\n",
      "    # get current at layer [0 = surface, -1 = bottom]\n",
      "    zr = (nciv['siglay'][ilayer,:]-nciv['siglev'][ilayer,:])*(nciv['h'][:]+nciv['zeta'][itime,:])\n",
      "    u = nciv['u'][itime, ilayer, :]\n",
      "    v = nciv['v'][itime, ilayer, :]\n",
      "\n",
      "    # average nodes to get bottom layer thicknesses at faces (velocity points)\n",
      "    zr_face = mean(zr[nv],axis=1)\n",
      "    \n",
      "    # create complex velocity from components\n",
      "    w=u+1j*v   \n",
      "    \n",
      "    # compute bottom friction velocity and velocity at 1 mab\n",
      "    ustar,wbot = w100(w,z0,zr_face)    \n",
      "\n",
      "    # compute bottom stress from friction velocity\n",
      "    bstr = rho * ustar * abs(ustar) \n",
      "\n",
      "    # write bottom velocity and stress components to output file\n",
      "    ubot[itime,:]=wbot.real \n",
      "    vbot[itime,:]=wbot.imag\n",
      "    bustr[itime,:]=bstr.real \n",
      "    bvstr[itime,:]=bstr.imag "
     ],
     "language": "python",
     "metadata": {},
     "outputs": []
    },
    {
     "cell_type": "code",
     "collapsed": false,
     "input": [
      "nci.close()     # close input file (not stringly necessary for OPeNDAP, but good practice)\n",
      "nco.close() # close output file"
     ],
     "language": "python",
     "metadata": {},
     "outputs": []
    },
    {
     "cell_type": "code",
     "collapsed": false,
     "input": [],
     "language": "python",
     "metadata": {},
     "outputs": []
    }
   ],
   "metadata": {}
  }
 ]
}