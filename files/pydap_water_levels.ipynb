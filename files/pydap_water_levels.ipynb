{
 "metadata": {
  "name": "pydap_water_levels"
 },
 "nbformat": 3,
 "nbformat_minor": 0,
 "worksheets": [
  {
   "cells": [
    {
     "cell_type": "code",
     "collapsed": false,
     "input": [
      "from pydap.client import open_url\n",
      "dataset = open_url('http://opendap.co-ops.nos.noaa.gov/dods/IOOS/Raw_Water_Level')"
     ],
     "language": "python",
     "metadata": {},
     "outputs": []
    },
    {
     "cell_type": "code",
     "collapsed": false,
     "input": [
      "dataset"
     ],
     "language": "python",
     "metadata": {},
     "outputs": []
    },
    {
     "cell_type": "code",
     "collapsed": false,
     "input": [
      "dataset.attributes"
     ],
     "language": "python",
     "metadata": {},
     "outputs": []
    },
    {
     "cell_type": "code",
     "collapsed": false,
     "input": [
      "seq = dataset['WATERLEVEL_RAW_PX']\n",
      "reqStr=urllib.quote('_STATION_ID=\"1615680\"&_BEGIN_DATE=\"20130613 10:06\"&_END_DATE=\"20130614 10:06\"&_DATUM=\"MLLW\"')\n",
      "print 'reqStr:',reqStr\n",
      "filt_seq=seq.filter(reqStr) \n",
      "data = filt_seq._get_data() # Is this bad - using private method?\n",
      "print 'Found this many waterlevel points:',len(data)\n",
      "print data[-1]"
     ],
     "language": "python",
     "metadata": {},
     "outputs": []
    },
    {
     "cell_type": "code",
     "collapsed": false,
     "input": [
      "def get_waterlevel(stationId,start_date,end_date,verbose=False, returnDict=True,datum='MSL'):\n",
      "    '''\n",
      "    Fetch the dictionary for the current water level\n",
      "\n",
      "    FIX:.... in progress!\n",
      "    '''\n",
      "\n",
      "    beginDate = str(start_date.year)+('%02d' % start_date.month)+('%02d' % start_date.day)+' '+ ('%02d' % (start_date.hour))+':'+('%02d' % (start_date.minute))\n",
      "    endDate = str(end_date.year)+('%02d' % end_date.month)+('%02d' % end_date.day)+' '+ ('%02d' % (end_date.hour))+':'+('%02d' % (end_date.minute))\n",
      "\n",
      "    reqStr = '_STATION_ID=\"'+str(stationId)+'\"&_BEGIN_DATE=\"'+beginDate+'\"&_END_DATE=\"'+endDate+'\"&_DATUM=\"'+datum+'\"'\n",
      "    if verbose: \n",
      "        print 'plain text, then quoted'\n",
      "        print 'getWaterLevelNow reqStr:\\n  ',reqStr\n",
      "    reqStr = urllib.quote(reqStr) # FIX: remove this step when pydap updated\n",
      "    if verbose: \n",
      "        print 'getWaterLevelNow reqStr:\\n  ',reqStr\n",
      "    filt_seq=waterlevelSeq.filter(reqStr)\n",
      "    if verbose: print 'sending data request...'\n",
      "    data = filt_seq._get_data()\n",
      "    #if len(data) != 1: print 'WARNING: retrieved more than one point!'\n",
      "    if not returnDict: return data[-1][:]\n",
      "\n",
      "    data = data[-1][:] # get just the row and drop the surrounding \"[]\"\n",
      "    keys = filt_seq.keys()\n",
      "    #print len(keys),':     ',keys\n",
      "    #print len(data),':     ',data\n",
      "    #print \n",
      "    assert len(keys) == len(data)\n",
      "    r = {} # Results\n",
      "    for i in range(len(keys)):\n",
      "\tr[keys[i]] = data[i]\n",
      "    return r"
     ],
     "language": "python",
     "metadata": {},
     "outputs": []
    }
   ],
   "metadata": {}
  }
 ]
}