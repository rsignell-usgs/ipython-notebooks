{
 "metadata": {
  "name": "testing grib-api"
 },
 "nbformat": 3,
 "nbformat_minor": 0,
 "worksheets": [
  {
   "cells": [
    {
     "cell_type": "code",
     "collapsed": false,
     "input": [
      "import gribapi\n",
      "g = gribapi.grib_new_from_samples(\"GRIB2\")\n",
      "with open(\"test.grib2\", \"wb\") as grib_file:\n",
      "    gribapi.grib_write(g, grib_file)"
     ],
     "language": "python",
     "metadata": {},
     "outputs": [],
     "prompt_number": 1
    },
    {
     "cell_type": "code",
     "collapsed": false,
     "input": [
      "ls *.grib2"
     ],
     "language": "python",
     "metadata": {},
     "outputs": [
      {
       "output_type": "stream",
       "stream": "stdout",
       "text": [
        "bathy.grib2  hsig.grib2  precip.grib2  test.grib2\r\n"
       ]
      }
     ],
     "prompt_number": 2
    }
   ],
   "metadata": {}
  }
 ]
}