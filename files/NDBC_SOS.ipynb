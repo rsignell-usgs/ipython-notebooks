{
 "metadata": {
  "name": "NDBC_SOS"
 },
 "nbformat": 3,
 "nbformat_minor": 0,
 "worksheets": [
  {
   "cells": [
    {
     "cell_type": "markdown",
     "metadata": {},
     "source": [
      "# Wind Speed and Gust from NDBC SOS service\n",
      "Get CSV data from NDBC SOS service using OWSlib, then read CSV data and plot using Pandas"
     ]
    },
    {
     "cell_type": "code",
     "collapsed": false,
     "input": [
      "from datetime import datetime\n",
      "import cStringIO\n",
      "import pandas as pd\n",
      "from owslib.sos import SensorObservationService"
     ],
     "language": "python",
     "metadata": {},
     "outputs": [],
     "prompt_number": 20
    },
    {
     "cell_type": "code",
     "collapsed": false,
     "input": [
      "# pick a buoy, any buoy\n",
      "#sta_id='44066'  # texas tower\n",
      "sta_id='44013'  # boston buoy"
     ],
     "language": "python",
     "metadata": {},
     "outputs": [],
     "prompt_number": 21
    },
    {
     "cell_type": "code",
     "collapsed": false,
     "input": [
      "# pick a start & stop time\n",
      "start = '2013-06-12T00:00:00Z'\n",
      "stop = '2013-06-14T00:00:00Z'"
     ],
     "language": "python",
     "metadata": {},
     "outputs": [],
     "prompt_number": 22
    },
    {
     "cell_type": "code",
     "collapsed": false,
     "input": [
      "from IPython.core.display import HTML\n",
      "HTML('<iframe src=http://www.ndbc.noaa.gov/station_page.php?station=%s width=950 height=400></iframe>' % sta_id)"
     ],
     "language": "python",
     "metadata": {},
     "outputs": [
      {
       "html": [
        "<iframe src=http://www.ndbc.noaa.gov/station_page.php?station=44013 width=950 height=400></iframe>"
       ],
       "metadata": {},
       "output_type": "pyout",
       "prompt_number": 23,
       "text": [
        "<IPython.core.display.HTML at 0x4063610>"
       ]
      }
     ],
     "prompt_number": 23
    },
    {
     "cell_type": "code",
     "collapsed": false,
     "input": [
      "ndbc=SensorObservationService('http://sdf.ndbc.noaa.gov/sos/server.php?request=GetCapabilities&service=SOS')"
     ],
     "language": "python",
     "metadata": {},
     "outputs": [],
     "prompt_number": 24
    },
    {
     "cell_type": "code",
     "collapsed": false,
     "input": [
      "id=ndbc.identification\n",
      "id.title"
     ],
     "language": "python",
     "metadata": {},
     "outputs": [
      {
       "metadata": {},
       "output_type": "pyout",
       "prompt_number": 25,
       "text": [
        "'National Data Buoy Center SOS'"
       ]
      }
     ],
     "prompt_number": 25
    },
    {
     "cell_type": "code",
     "collapsed": false,
     "input": [
      "contents = ndbc.contents\n",
      "network = contents['network-all']\n",
      "network.description"
     ],
     "language": "python",
     "metadata": {},
     "outputs": [
      {
       "metadata": {},
       "output_type": "pyout",
       "prompt_number": 26,
       "text": [
        "'All stations on the NDBC SOS server'"
       ]
      }
     ],
     "prompt_number": 26
    },
    {
     "cell_type": "code",
     "collapsed": false,
     "input": [
      "id.title"
     ],
     "language": "python",
     "metadata": {},
     "outputs": [
      {
       "metadata": {},
       "output_type": "pyout",
       "prompt_number": 27,
       "text": [
        "'National Data Buoy Center SOS'"
       ]
      }
     ],
     "prompt_number": 27
    },
    {
     "cell_type": "code",
     "collapsed": false,
     "input": [
      "rfs = network.response_formats"
     ],
     "language": "python",
     "metadata": {},
     "outputs": [],
     "prompt_number": 28
    },
    {
     "cell_type": "code",
     "collapsed": false,
     "input": [
      "print '\\n'.join(rfs)"
     ],
     "language": "python",
     "metadata": {},
     "outputs": [
      {
       "output_type": "stream",
       "stream": "stdout",
       "text": [
        "text/xml;subtype=\"om/1.0.0\"\n",
        "text/csv\n",
        "text/tab-separated-values\n",
        "application/vnd.google-earth.kml+xml\n",
        "text/xml;schema=\"ioos/0.6.1\"\n",
        "application/ioos+xml;version=0.6.1\n"
       ]
      }
     ],
     "prompt_number": 29
    },
    {
     "cell_type": "code",
     "collapsed": false,
     "input": [
      "station = contents['station-%s' % sta_id]    "
     ],
     "language": "python",
     "metadata": {},
     "outputs": [],
     "prompt_number": 30
    },
    {
     "cell_type": "code",
     "collapsed": false,
     "input": [
      "station.name"
     ],
     "language": "python",
     "metadata": {},
     "outputs": [
      {
       "metadata": {},
       "output_type": "pyout",
       "prompt_number": 31,
       "text": [
        "'urn:ioos:station:wmo:44013'"
       ]
      }
     ],
     "prompt_number": 31
    },
    {
     "cell_type": "code",
     "collapsed": false,
     "input": [
      "station.description"
     ],
     "language": "python",
     "metadata": {},
     "outputs": [
      {
       "metadata": {},
       "output_type": "pyout",
       "prompt_number": 32,
       "text": [
        "'BOSTON 16 NM East of Boston, MA'"
       ]
      }
     ],
     "prompt_number": 32
    },
    {
     "cell_type": "code",
     "collapsed": false,
     "input": [
      "getob = ndbc.get_operation_by_name('getobservation')"
     ],
     "language": "python",
     "metadata": {},
     "outputs": [],
     "prompt_number": 33
    },
    {
     "cell_type": "code",
     "collapsed": false,
     "input": [
      "getob.parameters"
     ],
     "language": "python",
     "metadata": {},
     "outputs": [
      {
       "metadata": {},
       "output_type": "pyout",
       "prompt_number": 34,
       "text": [
        "{'observedProperty': {'values': ['air_temperature',\n",
        "   'air_pressure_at_sea_level',\n",
        "   'sea_water_electrical_conductivity',\n",
        "   'currents',\n",
        "   'sea_water_salinity',\n",
        "   'sea_floor_depth_below_sea_surface',\n",
        "   'sea_water_temperature',\n",
        "   'waves',\n",
        "   'winds']},\n",
        " 'responseFormat': {'values': ['text/xml;subtype=\"om/1.0.0\"',\n",
        "   'text/csv',\n",
        "   'text/tab-separated-values',\n",
        "   'application/vnd.google-earth.kml+xml',\n",
        "   'text/xml;schema=\"ioos/0.6.1\"',\n",
        "   'application/ioos+xml;version=0.6.1']}}"
       ]
      }
     ],
     "prompt_number": 34
    },
    {
     "cell_type": "code",
     "collapsed": false,
     "input": [
      "# issue the SOS get_obs request\n",
      "response = ndbc.get_observation(offerings=['urn:ioos:station:wmo:%s' % sta_id],\n",
      "                                 responseFormat='text/csv',\n",
      "                                 observedProperties=['winds'],\n",
      "                                 eventTime='%s/%s' % (start,stop))\n",
      "                                 "
     ],
     "language": "python",
     "metadata": {},
     "outputs": [],
     "prompt_number": 35
    },
    {
     "cell_type": "code",
     "collapsed": false,
     "input": [
      "df2 = pd.read_csv(cStringIO.StringIO(response.strip()),index_col='date_time',parse_dates=True)  # skip the units row "
     ],
     "language": "python",
     "metadata": {},
     "outputs": [],
     "prompt_number": 36
    },
    {
     "cell_type": "code",
     "collapsed": false,
     "input": [
      "df2.head()"
     ],
     "language": "python",
     "metadata": {},
     "outputs": [
      {
       "html": [
        "<pre>\n",
        "&ltclass 'pandas.core.frame.DataFrame'&gt\n",
        "DatetimeIndex: 5 entries, 2013-06-12 00:50:00 to 2013-06-12 04:50:00\n",
        "Data columns (total 9 columns):\n",
        "station_id                      5  non-null values\n",
        "sensor_id                       5  non-null values\n",
        "latitude (degree)               5  non-null values\n",
        "longitude (degree)              5  non-null values\n",
        "depth (m)                       5  non-null values\n",
        "wind_from_direction (degree)    5  non-null values\n",
        "wind_speed (m/s)                5  non-null values\n",
        "wind_speed_of_gust (m/s)        5  non-null values\n",
        "upward_air_velocity (m/s)       0  non-null values\n",
        "dtypes: float64(7), object(2)\n",
        "</pre>"
       ],
       "metadata": {},
       "output_type": "pyout",
       "prompt_number": 37,
       "text": [
        "                                     station_id  \\\n",
        "date_time                                         \n",
        "2013-06-12 00:50:00  urn:ioos:station:wmo:44013   \n",
        "2013-06-12 01:50:00  urn:ioos:station:wmo:44013   \n",
        "2013-06-12 02:50:00  urn:ioos:station:wmo:44013   \n",
        "2013-06-12 03:50:00  urn:ioos:station:wmo:44013   \n",
        "2013-06-12 04:50:00  urn:ioos:station:wmo:44013   \n",
        "\n",
        "                                                  sensor_id  \\\n",
        "date_time                                                     \n",
        "2013-06-12 00:50:00  urn:ioos:sensor:wmo:44013::anemometer1   \n",
        "2013-06-12 01:50:00  urn:ioos:sensor:wmo:44013::anemometer1   \n",
        "2013-06-12 02:50:00  urn:ioos:sensor:wmo:44013::anemometer1   \n",
        "2013-06-12 03:50:00  urn:ioos:sensor:wmo:44013::anemometer1   \n",
        "2013-06-12 04:50:00  urn:ioos:sensor:wmo:44013::anemometer1   \n",
        "\n",
        "                     latitude (degree)  longitude (degree)  depth (m)  \\\n",
        "date_time                                                               \n",
        "2013-06-12 00:50:00              42.35              -70.69         -5   \n",
        "2013-06-12 01:50:00              42.35              -70.69         -5   \n",
        "2013-06-12 02:50:00              42.35              -70.69         -5   \n",
        "2013-06-12 03:50:00              42.35              -70.69         -5   \n",
        "2013-06-12 04:50:00              42.35              -70.69         -5   \n",
        "\n",
        "                     wind_from_direction (degree)  wind_speed (m/s)  \\\n",
        "date_time                                                             \n",
        "2013-06-12 00:50:00                            20                 5   \n",
        "2013-06-12 01:50:00                            30                 3   \n",
        "2013-06-12 02:50:00                            10                 3   \n",
        "2013-06-12 03:50:00                           250                 2   \n",
        "2013-06-12 04:50:00                           230                 3   \n",
        "\n",
        "                     wind_speed_of_gust (m/s)  upward_air_velocity (m/s)  \n",
        "date_time                                                                 \n",
        "2013-06-12 00:50:00                         6                        NaN  \n",
        "2013-06-12 01:50:00                         3                        NaN  \n",
        "2013-06-12 02:50:00                         3                        NaN  \n",
        "2013-06-12 03:50:00                         2                        NaN  \n",
        "2013-06-12 04:50:00                         3                        NaN  "
       ]
      }
     ],
     "prompt_number": 37
    },
    {
     "cell_type": "code",
     "collapsed": false,
     "input": [
      "df2[['wind_speed_of_gust (m/s)','wind_speed (m/s)']].plot(figsize=(12,4),title=station.description,legend=True)"
     ],
     "language": "python",
     "metadata": {},
     "outputs": [
      {
       "metadata": {},
       "output_type": "pyout",
       "prompt_number": 38,
       "text": [
        "<matplotlib.axes.AxesSubplot at 0x44fc350>"
       ]
      },
      {
       "metadata": {},
       "output_type": "display_data",
       "png": "[encoded data removed]",
       "text": [
        "<matplotlib.figure.Figure at 0x3c1d750>"
       ]
      }
     ],
     "prompt_number": 38
    }
   ],
   "metadata": {}
  }
 ]
}