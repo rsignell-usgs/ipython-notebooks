{
 "metadata": {
  "name": "CSW_test-NGDC"
 },
 "nbformat": 3,
 "nbformat_minor": 0,
 "worksheets": [
  {
   "cells": [
    {
     "cell_type": "markdown",
     "metadata": {},
     "source": "#CSW access with OWSLib using ISO queryables \n\nDemonstration of how to use the OGC Catalog Services for the Web (CSW) to search for find all datasets containing a specified variable that fall withing a specified date range and geospatial bounding box, and then use the data access service contained in the returned metadata to retrieve and visualize the data.  <P> Here we are accessing a Geoportal Server CSW, but in the future we should be able to point it toward any another CSW service, such as the one provided by catalog.data.gov."
    },
    {
     "cell_type": "code",
     "collapsed": false,
     "input": "from pylab import *\nfrom owslib.csw import CatalogueServiceWeb\nfrom owslib import fes\nimport netCDF4\nimport pandas as pd\nimport datetime as dt",
     "language": "python",
     "metadata": {},
     "outputs": [],
     "prompt_number": 1
    },
    {
     "cell_type": "markdown",
     "metadata": {},
     "source": "These are tags NGDC would like tested:\n```\napiso:ResponsiblePartyRole\napiso:Keywords\napiso:KeywordType\napiso:VertExtent_min\napiso:VertExtent_max\napiso:ServiceType\napiso:ServiceTypeVersion\napiso:OperatesOn\nresource.url\nwebsite.url\n```"
    },
    {
     "cell_type": "code",
     "collapsed": false,
     "input": "from IPython.core.display import HTML\nHTML('<iframe src=http://www.ngdc.noaa.gov/geoportal/ width=950 height=400></iframe>')",
     "language": "python",
     "metadata": {},
     "outputs": [
      {
       "html": "<iframe src=http://www.ngdc.noaa.gov/geoportal/ width=950 height=400></iframe>",
       "metadata": {},
       "output_type": "pyout",
       "prompt_number": 2,
       "text": "<IPython.core.display.HTML at 0x3b08e10>"
      }
     ],
     "prompt_number": 2
    },
    {
     "cell_type": "code",
     "collapsed": false,
     "input": "# connect to CSW, explore it's properties\n\nendpoint = 'http://www.ngdc.noaa.gov/geoportal/csw' # NGDC Geoportal\n\n#endpoint = 'http://www.nodc.noaa.gov/geoportal/csw'   # NODC Geoportal: granule level\n#endpoint = 'http://data.nodc.noaa.gov/geoportal/csw'  # NODC Geoportal: collection level   \n#endpoint = 'http://geodiscover.cgdi.ca/wes/serviceManagerCSW/csw'  # NRCAN CUSTOM\n#endpoint = 'http://geoport.whoi.edu/gi-cat/services/cswiso' # USGS Woods Hole GI_CAT\n#endpoint = 'http://cida.usgs.gov/gdp/geonetwork/srv/en/csw' # USGS CIDA Geonetwork\n#endpoint = 'http://cmgds.marine.usgs.gov/geonetwork/srv/en/csw' # USGS Coastal and Marine Program\n#endpoint = 'http://geoport.whoi.edu/geoportal/csw' # USGS Woods Hole Geoportal \n#endpoint = 'http://geo.gov.ckan.org/csw'  # CKAN testing site for new Data.gov\n#endpoint = 'https://edg.epa.gov/metadata/csw'  # EPA\n#endpoint = 'http://cwic.csiss.gmu.edu/cwicv1/discovery'  # CWIC\n\ncsw = CatalogueServiceWeb(endpoint,timeout=60)\ncsw.version",
     "language": "python",
     "metadata": {},
     "outputs": [
      {
       "metadata": {},
       "output_type": "pyout",
       "prompt_number": 3,
       "text": "'2.0.2'"
      }
     ],
     "prompt_number": 3
    },
    {
     "cell_type": "code",
     "collapsed": false,
     "input": "[op.name for op in csw.operations]",
     "language": "python",
     "metadata": {},
     "outputs": [
      {
       "metadata": {},
       "output_type": "pyout",
       "prompt_number": 4,
       "text": "['GetCapabilities',\n 'DescribeRecord',\n 'GetRecords',\n 'GetRecordById',\n 'Transaction']"
      }
     ],
     "prompt_number": 4
    },
    {
     "cell_type": "code",
     "collapsed": false,
     "input": "# hopefully something like this will be implemented in fes soon\ndef dateRange(start_date='1900-01-01',stop_date='2100-01-01',constraint='overlaps'):\n    if constraint == 'overlaps':\n        start = fes.PropertyIsLessThanOrEqualTo(propertyname='apiso:TempExtent_begin', literal=stop_date)\n        stop = fes.PropertyIsGreaterThanOrEqualTo(propertyname='apiso:TempExtent_end', literal=start_date)\n    elif constraint == 'within':\n        start = fes.PropertyIsGreaterThanOrEqualTo(propertyname='apiso:TempExtent_begin', literal=start_date)\n        stop = fes.PropertyIsLessThanOrEqualTo(propertyname='apiso:TempExtent_end', literal=stop_date)\n    return start,stop",
     "language": "python",
     "metadata": {},
     "outputs": [],
     "prompt_number": 5
    },
    {
     "cell_type": "code",
     "collapsed": false,
     "input": "# hopefully something like this will be implemented in fes soon\ndef zRange(min_z='-5000', max_z='0', constraint='overlaps'):\n    if constraint == 'overlaps':\n        zmin = fes.PropertyIsLessThanOrEqualTo(propertyname='apiso:VertExtent_min', literal=min_z)\n        zmax = fes.PropertyIsGreaterThanOrEqualTo(propertyname='apiso:VertExtent_max', literal=max_z)\n    elif constraint == 'within':\n        zmin = fes.PropertyIsGreaterThanOrEqualTo(propertyname='apiso:VertExtent_min', literal=min_z)\n        zmax = fes.PropertyIsLessThanOrEqualTo(propertyname='apiso:VertExtent_max', literal=max_z)\n    return zmin,zmax",
     "language": "python",
     "metadata": {},
     "outputs": [],
     "prompt_number": 6
    },
    {
     "cell_type": "code",
     "collapsed": false,
     "input": "# User Input for query\n\n#box=[-120, 2.0, -110.0, 6.0] #  oceansites\nbox=[-160, 19, -156, 23]   # pacioos\nstart_date='2012-05-01'\nstop_date='2012-06-01'\nmin_z = '-5000'\nmax_z = '0'\nparty = 'Margaret McManus'\nstd_name = 'sea_water_temperature'\n#service_type='opendap'\nservice_type='THREDDS OPeNDAP'",
     "language": "python",
     "metadata": {},
     "outputs": [],
     "prompt_number": 7
    },
    {
     "cell_type": "code",
     "collapsed": false,
     "input": "# convert User Input into FES filters\nstart,stop = dateRange(start_date,stop_date)\nzmin,zmax = zRange(min_z,max_z)\nbbox = fes.BBox(box)\n#keywords = fes.PropertyIsLike(propertyname='anyText', literal=std_name)\n#keywords = fes.PropertyIsLike(propertyname='apiso:Keywords', literal=std_name)\nkeywords = fes.PropertyIsEqualTo(propertyname='apiso:Keywords', literal=std_name)\n#serviceType = fes.PropertyIsLike(propertyname='apiso:ServiceType', literal=('*%s*' % service_type))\nResponsiblePartyRole = fes.PropertyIsEqualTo(propertyname='apiso:ResponsiblePartyRole', literal=party)\n\nserviceType = fes.PropertyIsEqualTo(propertyname='apiso:ServiceType', literal=service_type)\n\n",
     "language": "python",
     "metadata": {},
     "outputs": [],
     "prompt_number": 8
    },
    {
     "cell_type": "code",
     "collapsed": false,
     "input": "# try simple request using only keywords\n\ncsw.getrecords2(constraints=[keywords],maxrecords=5)\ncsw.records.keys()",
     "language": "python",
     "metadata": {},
     "outputs": [
      {
       "metadata": {},
       "output_type": "pyout",
       "prompt_number": 9,
       "text": "['PWS_L1_FCST',\n 'Central and Northern California Ocean Observing System SOS',\n 'MB_FCST',\n 'PWS_L0_FCST',\n 'SCB_DAS']"
      }
     ],
     "prompt_number": 9
    },
    {
     "cell_type": "markdown",
     "metadata": {},
     "source": "In the next cell we try using the `ResponsiblePartyRole`, which doesn't seem to be working, as we are looking for 'Margaret McManus', who we see in the ISO record for 'NS10agg' here <br>\nhttp://oos.soest.hawaii.edu/thredds/iso/hioos/nss/ns10agg?catalog=http%3A%2F%2Foos.soest.hawaii.edu%2Fthredds%2Fidd%2Fnss_hioos.html&dataset=NS10agg"
    },
    {
     "cell_type": "code",
     "collapsed": false,
     "input": "# try adding responsible party role \ncsw.getrecords2(constraints=[ResponsiblePartyRole],maxrecords=5)\ncsw.records.keys()",
     "language": "python",
     "metadata": {},
     "outputs": [
      {
       "metadata": {},
       "output_type": "pyout",
       "prompt_number": 10,
       "text": "[]"
      }
     ],
     "prompt_number": 10
    },
    {
     "cell_type": "markdown",
     "metadata": {},
     "source": "In the next cell we try using the multiple filters, not including `ResponsiblePartyRole` or vertical extents, and this works okay:\n"
    },
    {
     "cell_type": "code",
     "collapsed": false,
     "input": "# try request using multiple filters \"and\" syntax: [[filter1,filter2]]\ncsw.getrecords2(constraints=[[keywords,start,stop,serviceType,bbox]],maxrecords=5,esn='full')\ncsw.records.keys()",
     "language": "python",
     "metadata": {},
     "outputs": [
      {
       "metadata": {},
       "output_type": "pyout",
       "prompt_number": 11,
       "text": "['NS10agg', 'NS01agg', 'NS02agg', 'NS03agg', 'NS04agg']"
      }
     ],
     "prompt_number": 11
    },
    {
     "cell_type": "markdown",
     "metadata": {},
     "source": "In the next cell we take a look at the `references` for a particular record.  The `ServiceType` for the OPeNDAP Data URL below is `ArcIMS:Metadata:Server` , which seems incorrect.  It used to be `ServiceType:odp:url`. "
    },
    {
     "cell_type": "code",
     "collapsed": false,
     "input": "csw.records['NS10agg'].references",
     "language": "python",
     "metadata": {},
     "outputs": [
      {
       "metadata": {},
       "output_type": "pyout",
       "prompt_number": 12,
       "text": "[{'scheme': 'urn:x-esri:specification:ServiceType:ArcIMS:Metadata:Server',\n  'url': 'http://oos.soest.hawaii.edu/thredds/dodsC/hioos/nss/ns10agg'},\n {'scheme': 'urn:x-esri:specification:ServiceType:ArcIMS:Metadata:Onlink',\n  'url': 'http://oos.soest.hawaii.edu/thredds/dodsC/hioos/nss/ns10agg.html'},\n {'scheme': 'urn:x-esri:specification:ServiceUrl:ArcIMS:Metadata:Endpoint',\n  'url': 'http://www.ngdc.noaa.gov/geoportal/csw?getxml=%7BA4575D0C-E8B0-40AC-8BFC-E7AE5B55A785%7D'}]"
      }
     ],
     "prompt_number": 12
    },
    {
     "cell_type": "markdown",
     "metadata": {},
     "source": "Now print out some titles"
    },
    {
     "cell_type": "code",
     "collapsed": false,
     "input": "for rec,item in csw.records.iteritems():\n    print item.title",
     "language": "python",
     "metadata": {},
     "outputs": [
      {
       "output_type": "stream",
       "stream": "stdout",
       "text": "PacIOOS Nearshore Sensor 10: Maunalua Bay, Oahu, Hawaii\nPacIOOS Nearshore Sensor 01: Waikiki Yacht Club, Oahu, Hawaii\nPacIOOS Nearshore Sensor 02: Hawaii Yacht Club, Oahu, Hawaii\nPacIOOS Nearshore Sensor 03: Hilton Hawaiian Pier, Oahu, Hawaii\nPacIOOS Nearshore Sensor 04: Waikiki Aquarium, Oahu, Hawaii\n"
      }
     ],
     "prompt_number": 13
    },
    {
     "cell_type": "markdown",
     "metadata": {},
     "source": "Pick a particular record and look at the full XML response:"
    },
    {
     "cell_type": "code",
     "collapsed": false,
     "input": "rec=csw.records['NS10agg']",
     "language": "python",
     "metadata": {},
     "outputs": [],
     "prompt_number": 14
    },
    {
     "cell_type": "code",
     "collapsed": false,
     "input": "print rec.xml",
     "language": "python",
     "metadata": {},
     "outputs": [
      {
       "output_type": "stream",
       "stream": "stdout",
       "text": "<csw:Record xmlns:csw=\"http://www.opengis.net/cat/csw/2.0.2\" xmlns:dc=\"http://purl.org/dc/elements/1.1/\" xmlns:dcmiBox=\"http://dublincore.org/documents/2000/07/11/dcmi-box/\" xmlns:dct=\"http://purl.org/dc/terms/\" xmlns:gml=\"http://www.opengis.net/gml\" xmlns:ows=\"http://www.opengis.net/ows\" xmlns:xsd=\"http://www.w3.org/2001/XMLSchema\">\n<dc:identifier scheme=\"urn:x-esri:specification:ServiceType:ArcIMS:Metadata:FileID\">NS10agg</dc:identifier>\n<dc:identifier scheme=\"urn:x-esri:specification:ServiceType:ArcIMS:Metadata:DocID\">{A4575D0C-E8B0-40AC-8BFC-E7AE5B55A785}</dc:identifier>\n<dc:title>PacIOOS Nearshore Sensor 10: Maunalua Bay, Oahu, Hawaii</dc:title>\n<dc:type scheme=\"urn:x-esri:specification:ServiceType:ArcIMS:Metadata:ContentType\">downloadableData</dc:type>\n<dc:type scheme=\"urn:x-esri:specification:ServiceType:ArcIMS:Metadata:ContentType\">liveData</dc:type>\n<dc:subject>Oceans &gt; Ocean Chemistry &gt; Chlorophyll</dc:subject>\n<dc:subject>Oceans &gt; Ocean Optics &gt; Turbidity</dc:subject>\n<dc:subject>Oceans &gt; Ocean Pressure &gt; Water Pressure</dc:subject>\n<dc:subject>Oceans &gt; Ocean Temperature &gt; Water Temperature</dc:subject>\n<dc:subject>Oceans &gt; Salinity/Density &gt; Conductivity</dc:subject>\n<dc:subject>Oceans &gt; Salinity/Density &gt; Salinity</dc:subject>\n<dc:subject>Oceans &gt; Water Quality</dc:subject>\n<dc:subject>Pacific Islands Ocean Observing System (PacIOOS) (http://pacioos.org)</dc:subject>\n<dc:subject>Pacific Islands Ocean Observing System (PacIOOS)</dc:subject>\n<dc:subject>sea_water_temperature</dc:subject>\n<dc:subject>sea_water_electrical_conductivity</dc:subject>\n<dc:subject>sea_water_turbidity</dc:subject>\n<dc:subject>mass_concentration_of_chlorophyll_in_sea_water</dc:subject>\n<dc:subject>sea_water_salinity</dc:subject>\n<dc:subject>sea_water_pressure</dc:subject>\n<dc:subject>depth</dc:subject>\n<dc:subject>latitude</dc:subject>\n<dc:subject>longitude</dc:subject>\n<dc:subject>time</dc:subject>\n<dc:subject>climatologyMeteorologyAtmosphere</dc:subject>\n<dct:modified>2013-10-28T12:25:05-06:00</dct:modified>\n<dct:abstract>The nearshore sensors are part of the Pacific Islands Ocean Observing System (PacIOOS) and are designed to measure a variety of ocean parameters at fixed point locations along the south shore of Oahu. NS10 is located off the old pier in Maunalua Bay in Hawaii Kai. The instrument is a Sea-Bird Electronics model 16+ V2 coupled with a WET Labs ECO-FLNTUS combination sensor. The package is fixed to the pier at about 2m depth.</dct:abstract>\n<dct:abstract>The nearshore sensors are part of the Pacific Islands Ocean Observing System (PacIOOS) and are designed to measure a variety of ocean parameters at fixed point locations along the south shore of Oahu. NS10 is located off the old pier in Maunalua Bay in Hawaii Kai. The instrument is a Sea-Bird Electronics model 16+ V2 coupled with a WET Labs ECO-FLNTUS combination sensor. The package is fixed to the pier at about 2m depth.</dct:abstract>\n<dct:references scheme=\"urn:x-esri:specification:ServiceType:ArcIMS:Metadata:Server\">http://oos.soest.hawaii.edu/thredds/dodsC/hioos/nss/ns10agg</dct:references>\n<dct:references scheme=\"urn:x-esri:specification:ServiceType:ArcIMS:Metadata:Onlink\">http://oos.soest.hawaii.edu/thredds/dodsC/hioos/nss/ns10agg.html</dct:references>\n<dct:references scheme=\"urn:x-esri:specification:ServiceUrl:ArcIMS:Metadata:Endpoint\">http://www.ngdc.noaa.gov/geoportal/csw?getxml=%7BA4575D0C-E8B0-40AC-8BFC-E7AE5B55A785%7D</dct:references>\n<ows:WGS84BoundingBox>\n<ows:LowerCorner>-157.7110137939453 21.280094146728516</ows:LowerCorner>\n<ows:UpperCorner>-157.7110137939453 21.280094146728516</ows:UpperCorner>\n</ows:WGS84BoundingBox>\n<ows:BoundingBox>\n<ows:LowerCorner>-157.7110137939453 21.280094146728516</ows:LowerCorner>\n<ows:UpperCorner>-157.7110137939453 21.280094146728516</ows:UpperCorner>\n</ows:BoundingBox>\n<dc:source>{68FF11D8-D66B-45EE-B33A-21919BB26421}</dc:source>\n</csw:Record>\n\n"
      }
     ],
     "prompt_number": 15
    },
    {
     "cell_type": "markdown",
     "metadata": {},
     "source": "In the next cell we try using a vertical extent range, which doesn't seem to be working, as we are looking for z values between [-5000, 0] and we see in the ISO record for 'NS10agg' here: <br>\nhttp://oos.soest.hawaii.edu/thredds/iso/hioos/nss/ns10agg?catalog=http%3A%2F%2Foos.soest.hawaii.edu%2Fthredds%2Fidd%2Fnss_hioos.html&dataset=NS10agg <br>\nthat the vertical extent is from [-2, -2]"
    },
    {
     "cell_type": "code",
     "collapsed": false,
     "input": "csw.getrecords2(constraints=[[keywords,start,stop,serviceType,bbox,zmin,zmax]],maxrecords=5,esn='full')\ncsw.records.keys()",
     "language": "python",
     "metadata": {},
     "outputs": [
      {
       "metadata": {},
       "output_type": "pyout",
       "prompt_number": 16,
       "text": "[]"
      }
     ],
     "prompt_number": 16
    },
    {
     "cell_type": "markdown",
     "metadata": {},
     "source": "Define a function that will return the endpoint for a specified service type"
    },
    {
     "cell_type": "code",
     "collapsed": false,
     "input": "# get specific ServiceType URL from records\ndef service_urls(records,service_string='urn:x-esri:specification:ServiceType:odp:url'):\n    urls=[]\n    for key,rec in records.iteritems():\n        #create a generator object, and iterate through it until the match is found\n        #if not found, gets the default value (here \"none\")\n        url = next((d['url'] for d in rec.references if d['scheme'] == service_string), None)\n        if url is not None:\n            urls.append(url)\n    return urls",
     "language": "python",
     "metadata": {},
     "outputs": [],
     "prompt_number": 17
    },
    {
     "cell_type": "markdown",
     "metadata": {},
     "source": "Print out all the OPeNDAP Data URL endpoints"
    },
    {
     "cell_type": "code",
     "collapsed": false,
     "input": "dap_urls = service_urls(csw.records,service_string='urn:x-esri:specification:ServiceType:odp:url')\nprint \"\\n\".join(dap_urls)",
     "language": "python",
     "metadata": {},
     "outputs": [
      {
       "output_type": "stream",
       "stream": "stdout",
       "text": "\n"
      }
     ],
     "prompt_number": 18
    },
    {
     "cell_type": "code",
     "collapsed": false,
     "input": "def standard_names(ncv):\n    '''\n    get dictionary of variables with standard_names\n    '''\n    d={}\n    for k,v in ncv.iteritems():\n        try:\n            standard_name=v.getncattr('standard_name')\n            try:\n                d[standard_name]=[d[standard_name],[k]]\n            except:\n                d[standard_name]=[k]\n        except:\n            pass\n    return d",
     "language": "python",
     "metadata": {},
     "outputs": [],
     "prompt_number": 19
    },
    {
     "cell_type": "code",
     "collapsed": false,
     "input": "for url in dap_urls:\n    ncv = netCDF4.Dataset(url).variables\n    print ncv.keys()\n    lat = ncv['lon'][:]\n    lon = ncv['lat'][:]\n    tvar = ncv['time']\n    \n    istart = netCDF4.date2index(dt.datetime.strptime(start_date,'%Y-%m-%d'),tvar,select='nearest')\n    istop = netCDF4.date2index(dt.datetime.strptime(stop_date,'%Y-%m-%d'),tvar,select='nearest')\n    dtime = netCDF4.num2date(tvar[istart:istop],tvar.units)\n    # make a dictionary containing all data from variables that matched the standard_name\n    # find list of variables for each standard_name\n    d = standard_names(ncv)\n    # find all the variables matching standard_name=std_name\n    print d[std_name]\n    # read all the data into a dictionary\n    data_dict={}\n    lev=0\n    for v in d[std_name]:\n        data_dict[v]=ncv[v][istart:istop].flatten()\n    # Create Pandas data frame, with time index\n    ts = pd.DataFrame.from_dict(data_dict)\n    ts.index=dtime\n    ts.plot(figsize=(12,4));\n    title(std_name)",
     "language": "python",
     "metadata": {},
     "outputs": [],
     "prompt_number": 20
    },
    {
     "cell_type": "code",
     "collapsed": false,
     "input": "",
     "language": "python",
     "metadata": {},
     "outputs": [],
     "prompt_number": 20
    }
   ],
   "metadata": {}
  }
 ]
}