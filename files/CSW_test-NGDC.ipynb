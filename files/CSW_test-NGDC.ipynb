{
 "metadata": {
  "name": "CSW_test-NGDC"
 },
 "nbformat": 3,
 "nbformat_minor": 0,
 "worksheets": [
  {
   "cells": [
    {
     "cell_type": "markdown",
     "metadata": {},
     "source": "#CSW access with OWSLib using ISO queryables \n\nDemonstration of how to use the OGC Catalog Services for the Web (CSW) to search for find all datasets containing a specified variable that fall withing a specified date range and geospatial bounding box, and then use the data access service contained in the returned metadata to retrieve and visualize the data.  <P> Here we are accessing a Geoportal Server CSW, but in the future we should be able to point it toward any another CSW service, such as the one provided by catalog.data.gov."
    },
    {
     "cell_type": "code",
     "collapsed": false,
     "input": "from pylab import *\nfrom owslib.csw import CatalogueServiceWeb\nfrom owslib import fes\nimport netCDF4\nimport pandas as pd\nimport datetime as dt",
     "language": "python",
     "metadata": {},
     "outputs": [],
     "prompt_number": 1
    },
    {
     "cell_type": "code",
     "collapsed": false,
     "input": "from IPython.core.display import HTML\nHTML('<iframe src=http://www.ngdc.noaa.gov/geoportal/ width=950 height=400></iframe>')",
     "language": "python",
     "metadata": {},
     "outputs": [
      {
       "html": "<iframe src=http://www.ngdc.noaa.gov/geoportal/ width=950 height=400></iframe>",
       "metadata": {},
       "output_type": "pyout",
       "prompt_number": 10,
       "text": "<IPython.core.display.HTML at 0x3715d10>"
      }
     ],
     "prompt_number": 10
    },
    {
     "cell_type": "code",
     "collapsed": false,
     "input": "# connect to CSW, explore it's properties\n\nendpoint = 'http://www.ngdc.noaa.gov/geoportal/csw' # NGDC Geoportal\n\n#endpoint = 'http://www.nodc.noaa.gov/geoportal/csw'   # NODC Geoportal: granule level\n#endpoint = 'http://data.nodc.noaa.gov/geoportal/csw'  # NODC Geoportal: collection level   \n#endpoint = 'http://geodiscover.cgdi.ca/wes/serviceManagerCSW/csw'  # NRCAN CUSTOM\n#endpoint = 'http://geoport.whoi.edu/gi-cat/services/cswiso' # USGS Woods Hole GI_CAT\n#endpoint = 'http://cida.usgs.gov/gdp/geonetwork/srv/en/csw' # USGS CIDA Geonetwork\n#endpoint = 'http://cmgds.marine.usgs.gov/geonetwork/srv/en/csw' # USGS Coastal and Marine Program\n#endpoint = 'http://geoport.whoi.edu/geoportal/csw' # USGS Woods Hole Geoportal \n#endpoint = 'http://geo.gov.ckan.org/csw'  # CKAN testing site for new Data.gov\n#endpoint = 'https://edg.epa.gov/metadata/csw'  # EPA\n#endpoint = 'http://cwic.csiss.gmu.edu/cwicv1/discovery'  # CWIC\n\ncsw = CatalogueServiceWeb(endpoint,timeout=60)\ncsw.version",
     "language": "python",
     "metadata": {},
     "outputs": [
      {
       "metadata": {},
       "output_type": "pyout",
       "prompt_number": 11,
       "text": "'2.0.2'"
      }
     ],
     "prompt_number": 11
    },
    {
     "cell_type": "code",
     "collapsed": false,
     "input": "[op.name for op in csw.operations]",
     "language": "python",
     "metadata": {},
     "outputs": [
      {
       "metadata": {},
       "output_type": "pyout",
       "prompt_number": 12,
       "text": "['GetCapabilities',\n 'DescribeRecord',\n 'GetRecords',\n 'GetRecordById',\n 'Transaction']"
      }
     ],
     "prompt_number": 12
    },
    {
     "cell_type": "code",
     "collapsed": false,
     "input": "# hopefully something like this will be implemented in fes soon\ndef dateRange(start_date='1900-01-01',stop_date='2100-01-01',constraint='overlaps'):\n    if constraint == 'overlaps':\n        start = fes.PropertyIsLessThanOrEqualTo(propertyname='startDate', literal=stop_date)\n        stop = fes.PropertyIsGreaterThanOrEqualTo(propertyname='endDate', literal=start_date)\n    elif constraint == 'within':\n        start = fes.PropertyIsGreaterThanOrEqualTo(propertyname='startDate', literal=start_date)\n        stop = fes.PropertyIsLessThanOrEqualTo(propertyname='endDate', literal=stop_date)\n    return start,stop",
     "language": "python",
     "metadata": {},
     "outputs": [],
     "prompt_number": 13
    },
    {
     "cell_type": "code",
     "collapsed": false,
     "input": "# Perform the CSW query, using Kyle's cool new filters on ISO queryables\n# find all datasets in a bounding box and temporal extent that have \n# specific keywords and also can be accessed via OPeNDAP  \n\nbox=[-120, 2.0, -110.0, 6.0] #  oceansites\nbox=[-160, 19, -156, 23]   # pacioos\nstart_date='2012-05-01'\nstop_date='2012-06-01'\nstd_name = 'sea_water_temperature'\nservice_type='opendap'",
     "language": "python",
     "metadata": {},
     "outputs": [],
     "prompt_number": 14
    },
    {
     "cell_type": "code",
     "collapsed": false,
     "input": "# convert User Input into FES filters\nstart,stop = dateRange(start_date,stop_date)\nbbox = fes.BBox(box)\nkeywords = fes.PropertyIsLike(propertyname='anyText', literal=std_name)\nserviceType = fes.PropertyIsLike(propertyname='apiso:ServiceType', literal=('*%s*' % service_type))",
     "language": "python",
     "metadata": {},
     "outputs": [],
     "prompt_number": 15
    },
    {
     "cell_type": "code",
     "collapsed": false,
     "input": "# try simple request first\ncsw.getrecords2(constraints=[keywords],maxrecords=15,esn='full')\ncsw.records.keys()",
     "language": "python",
     "metadata": {},
     "outputs": [
      {
       "metadata": {},
       "output_type": "pyout",
       "prompt_number": 16,
       "text": "['ndbcSosWTemp']"
      }
     ],
     "prompt_number": 16
    },
    {
     "cell_type": "code",
     "collapsed": false,
     "input": "# apply all the filters using the \"and\" syntax: [[filter1,filter2]]\ncsw.getrecords2(constraints=[[keywords,start,stop,serviceType,bbox]],maxrecords=5,esn='full')\ncsw.records.keys()",
     "language": "python",
     "metadata": {},
     "outputs": [
      {
       "ename": "ExceptionReport",
       "evalue": "'Invalid parameter value: locator=PropertyName'",
       "output_type": "pyerr",
       "traceback": [
        "\u001b[1;31m---------------------------------------------------------------------------\u001b[0m\n\u001b[1;31mExceptionReport\u001b[0m                           Traceback (most recent call last)",
        "\u001b[1;32m<ipython-input-17-b1e4eadb465b>\u001b[0m in \u001b[0;36m<module>\u001b[1;34m()\u001b[0m\n\u001b[0;32m      1\u001b[0m \u001b[1;31m# apply all the filters using the \"and\" syntax: [[filter1,filter2]]\u001b[0m\u001b[1;33m\u001b[0m\u001b[1;33m\u001b[0m\u001b[0m\n\u001b[1;32m----> 2\u001b[1;33m \u001b[0mcsw\u001b[0m\u001b[1;33m.\u001b[0m\u001b[0mgetrecords2\u001b[0m\u001b[1;33m(\u001b[0m\u001b[0mconstraints\u001b[0m\u001b[1;33m=\u001b[0m\u001b[1;33m[\u001b[0m\u001b[1;33m[\u001b[0m\u001b[0mkeywords\u001b[0m\u001b[1;33m,\u001b[0m\u001b[0mstart\u001b[0m\u001b[1;33m,\u001b[0m\u001b[0mstop\u001b[0m\u001b[1;33m,\u001b[0m\u001b[0mserviceType\u001b[0m\u001b[1;33m,\u001b[0m\u001b[0mbbox\u001b[0m\u001b[1;33m]\u001b[0m\u001b[1;33m]\u001b[0m\u001b[1;33m,\u001b[0m\u001b[0mmaxrecords\u001b[0m\u001b[1;33m=\u001b[0m\u001b[1;36m5\u001b[0m\u001b[1;33m,\u001b[0m\u001b[0mesn\u001b[0m\u001b[1;33m=\u001b[0m\u001b[1;34m'full'\u001b[0m\u001b[1;33m)\u001b[0m\u001b[1;33m\u001b[0m\u001b[0m\n\u001b[0m\u001b[0;32m      3\u001b[0m \u001b[0mcsw\u001b[0m\u001b[1;33m.\u001b[0m\u001b[0mrecords\u001b[0m\u001b[1;33m.\u001b[0m\u001b[0mkeys\u001b[0m\u001b[1;33m(\u001b[0m\u001b[1;33m)\u001b[0m\u001b[1;33m\u001b[0m\u001b[0m\n",
        "\u001b[1;32m/home/local/python27_epd/lib/python2.7/site-packages/owslib/csw.pyc\u001b[0m in \u001b[0;36mgetrecords2\u001b[1;34m(self, constraints, sortby, typenames, esn, outputschema, format, startposition, maxrecords, cql, xml, resulttype)\u001b[0m\n\u001b[0;32m    339\u001b[0m             \u001b[0mself\u001b[0m\u001b[1;33m.\u001b[0m\u001b[0mrequest\u001b[0m \u001b[1;33m=\u001b[0m \u001b[0mnode0\u001b[0m\u001b[1;33m\u001b[0m\u001b[0m\n\u001b[0;32m    340\u001b[0m \u001b[1;33m\u001b[0m\u001b[0m\n\u001b[1;32m--> 341\u001b[1;33m         \u001b[0mself\u001b[0m\u001b[1;33m.\u001b[0m\u001b[0m_invoke\u001b[0m\u001b[1;33m(\u001b[0m\u001b[1;33m)\u001b[0m\u001b[1;33m\u001b[0m\u001b[0m\n\u001b[0m\u001b[0;32m    342\u001b[0m \u001b[1;33m\u001b[0m\u001b[0m\n\u001b[0;32m    343\u001b[0m         \u001b[1;32mif\u001b[0m \u001b[0mself\u001b[0m\u001b[1;33m.\u001b[0m\u001b[0mexceptionreport\u001b[0m \u001b[1;32mis\u001b[0m \u001b[0mNone\u001b[0m\u001b[1;33m:\u001b[0m\u001b[1;33m\u001b[0m\u001b[0m\n",
        "\u001b[1;32m/home/local/python27_epd/lib/python2.7/site-packages/owslib/csw.pyc\u001b[0m in \u001b[0;36m_invoke\u001b[1;34m(self)\u001b[0m\n\u001b[0;32m    603\u001b[0m         \u001b[0mval\u001b[0m \u001b[1;33m=\u001b[0m \u001b[0mself\u001b[0m\u001b[1;33m.\u001b[0m\u001b[0m_exml\u001b[0m\u001b[1;33m.\u001b[0m\u001b[0mfind\u001b[0m\u001b[1;33m(\u001b[0m\u001b[0mutil\u001b[0m\u001b[1;33m.\u001b[0m\u001b[0mnspath_eval\u001b[0m\u001b[1;33m(\u001b[0m\u001b[1;34m'ows:Exception'\u001b[0m\u001b[1;33m,\u001b[0m \u001b[0mnamespaces\u001b[0m\u001b[1;33m)\u001b[0m\u001b[1;33m)\u001b[0m\u001b[1;33m\u001b[0m\u001b[0m\n\u001b[0;32m    604\u001b[0m         \u001b[1;32mif\u001b[0m \u001b[0mval\u001b[0m \u001b[1;32mis\u001b[0m \u001b[1;32mnot\u001b[0m \u001b[0mNone\u001b[0m\u001b[1;33m:\u001b[0m\u001b[1;33m\u001b[0m\u001b[0m\n\u001b[1;32m--> 605\u001b[1;33m             \u001b[1;32mraise\u001b[0m \u001b[0mows\u001b[0m\u001b[1;33m.\u001b[0m\u001b[0mExceptionReport\u001b[0m\u001b[1;33m(\u001b[0m\u001b[0mself\u001b[0m\u001b[1;33m.\u001b[0m\u001b[0m_exml\u001b[0m\u001b[1;33m,\u001b[0m \u001b[0mself\u001b[0m\u001b[1;33m.\u001b[0m\u001b[0mowscommon\u001b[0m\u001b[1;33m.\u001b[0m\u001b[0mnamespace\u001b[0m\u001b[1;33m)\u001b[0m\u001b[1;33m\u001b[0m\u001b[0m\n\u001b[0m\u001b[0;32m    606\u001b[0m         \u001b[1;32melse\u001b[0m\u001b[1;33m:\u001b[0m\u001b[1;33m\u001b[0m\u001b[0m\n\u001b[0;32m    607\u001b[0m             \u001b[0mself\u001b[0m\u001b[1;33m.\u001b[0m\u001b[0mexceptionreport\u001b[0m \u001b[1;33m=\u001b[0m \u001b[0mNone\u001b[0m\u001b[1;33m\u001b[0m\u001b[0m\n",
        "\u001b[1;31mExceptionReport\u001b[0m: 'Invalid parameter value: locator=PropertyName'"
       ]
      }
     ],
     "prompt_number": 17
    },
    {
     "cell_type": "code",
     "collapsed": false,
     "input": "for rec,item in csw.records.iteritems():\n    print item.title",
     "language": "python",
     "metadata": {},
     "outputs": [
      {
       "output_type": "stream",
       "stream": "stdout",
       "text": "PacIOOS Water Quality Buoy KN: Kilo Nalu, Oahu, Hawaii\nWHOTS 8 near-real-time Mooring Data, System 2\nPacIOOS Water Quality Buoy AW: Ala Wai, Oahu, Hawaii\nPacIOOS Nearshore Sensor 01 (NS01): Waikiki Yacht Club, Oahu, Hawaii\nWHOTS 8 near-real-time Mooring Data, System 1\n"
      }
     ],
     "prompt_number": 10
    },
    {
     "cell_type": "code",
     "collapsed": false,
     "input": "# get specific ServiceType URL from records\ndef service_urls(records,service_string='urn:x-esri:specification:ServiceType:odp:url'):\n    urls=[]\n    for key,rec in records.iteritems():\n        #create a generator object, and iterate through it until the match is found\n        #if not found, gets the default value (here \"none\")\n        url = next((d['url'] for d in rec.references if d['scheme'] == service_string), None)\n        if url is not None:\n            urls.append(url)\n    return urls",
     "language": "python",
     "metadata": {},
     "outputs": [],
     "prompt_number": 11
    },
    {
     "cell_type": "code",
     "collapsed": false,
     "input": "dap_urls = service_urls(csw.records,service_string='urn:x-esri:specification:ServiceType:odp:url')\nprint \"\\n\".join(dap_urls)",
     "language": "python",
     "metadata": {},
     "outputs": [
      {
       "output_type": "stream",
       "stream": "stdout",
       "text": "http://oos.soest.hawaii.edu/thredds/dodsC/hioos/wqb/wqbknagg\nhttp://dods.ndbc.noaa.gov/thredds/dodsC/data/oceansites/DATA/WHOTS/OS_WHOTS_2011_R_M-2.nc\nhttp://oos.soest.hawaii.edu/thredds/dodsC/hioos/wqb/wqbawagg\nhttp://dods.ndbc.noaa.gov/thredds/dodsC/data/oceansites/DATA/WHOTS/OS_WHOTS_2011_R_M-1.nc\n"
      }
     ],
     "prompt_number": 12
    },
    {
     "cell_type": "code",
     "collapsed": false,
     "input": "def standard_names(ncv):\n    '''\n    get dictionary of variables with standard_names\n    '''\n    d={}\n    for k,v in ncv.iteritems():\n        try:\n            standard_name=v.getncattr('standard_name')\n            try:\n                d[standard_name]=[d[standard_name],[k]]\n            except:\n                d[standard_name]=[k]\n        except:\n            pass\n    return d",
     "language": "python",
     "metadata": {},
     "outputs": [],
     "prompt_number": 13
    },
    {
     "cell_type": "code",
     "collapsed": false,
     "input": "for url in dap_urls:\n    ncv = netCDF4.Dataset(url).variables\n    print ncv.keys()\n    lat = ncv['lon'][:]\n    lon = ncv['lat'][:]\n    tvar = ncv['time']\n    \n    istart = netCDF4.date2index(dt.datetime.strptime(start_date,'%Y-%m-%d'),tvar,select='nearest')\n    istop = netCDF4.date2index(dt.datetime.strptime(stop_date,'%Y-%m-%d'),tvar,select='nearest')\n    dtime = netCDF4.num2date(tvar[istart:istop],tvar.units)\n    # make a dictionary containing all data from variables that matched the standard_name\n    # find list of variables for each standard_name\n    d = standard_names(ncv)\n    # find all the variables matching standard_name=std_name\n    print d[std_name]\n    # read all the data into a dictionary\n    data_dict={}\n    lev=0\n    for v in d[std_name]:\n        data_dict[v]=ncv[v][istart:istop].flatten()\n    # Create Pandas data frame, with time index\n    ts = pd.DataFrame.from_dict(data_dict)\n    ts.index=dtime\n    ts.plot(figsize=(12,4));\n    title(std_name)",
     "language": "python",
     "metadata": {},
     "outputs": [
      {
       "output_type": "stream",
       "stream": "stdout",
       "text": "[u'station_name', u'qc_flag', u'alt', u'lat', u'lon', u'time', u'temp_raw', u'temp_qd', u'temp', u'cond_raw', u'cond_qd', u'cond', u'salt_raw', u'salt_qd', u'salt', u'oxyg_raw', u'oxyg_qd', u'oxyg', u'flor_raw', u'flor_qd', u'flor', u'turb_raw', u'turb_qd', u'turb']\n[[u'temp_raw'], [u'temp']]"
      },
      {
       "ename": "TypeError",
       "evalue": "unhashable type: 'list'",
       "output_type": "pyerr",
       "traceback": [
        "\u001b[1;31m---------------------------------------------------------------------------\u001b[0m\n\u001b[1;31mTypeError\u001b[0m                                 Traceback (most recent call last)",
        "\u001b[1;32m<ipython-input-14-3eeb6cd74313>\u001b[0m in \u001b[0;36m<module>\u001b[1;34m()\u001b[0m\n\u001b[0;32m     18\u001b[0m     \u001b[0mlev\u001b[0m\u001b[1;33m=\u001b[0m\u001b[1;36m0\u001b[0m\u001b[1;33m\u001b[0m\u001b[0m\n\u001b[0;32m     19\u001b[0m     \u001b[1;32mfor\u001b[0m \u001b[0mv\u001b[0m \u001b[1;32min\u001b[0m \u001b[0md\u001b[0m\u001b[1;33m[\u001b[0m\u001b[0mstd_name\u001b[0m\u001b[1;33m]\u001b[0m\u001b[1;33m:\u001b[0m\u001b[1;33m\u001b[0m\u001b[0m\n\u001b[1;32m---> 20\u001b[1;33m         \u001b[0mdata_dict\u001b[0m\u001b[1;33m[\u001b[0m\u001b[0mv\u001b[0m\u001b[1;33m]\u001b[0m\u001b[1;33m=\u001b[0m\u001b[0mncv\u001b[0m\u001b[1;33m[\u001b[0m\u001b[0mv\u001b[0m\u001b[1;33m]\u001b[0m\u001b[1;33m[\u001b[0m\u001b[0mistart\u001b[0m\u001b[1;33m:\u001b[0m\u001b[0mistop\u001b[0m\u001b[1;33m]\u001b[0m\u001b[1;33m.\u001b[0m\u001b[0mflatten\u001b[0m\u001b[1;33m(\u001b[0m\u001b[1;33m)\u001b[0m\u001b[1;33m\u001b[0m\u001b[0m\n\u001b[0m\u001b[0;32m     21\u001b[0m     \u001b[1;31m# Create Pandas data frame, with time index\u001b[0m\u001b[1;33m\u001b[0m\u001b[1;33m\u001b[0m\u001b[0m\n\u001b[0;32m     22\u001b[0m     \u001b[0mts\u001b[0m \u001b[1;33m=\u001b[0m \u001b[0mpd\u001b[0m\u001b[1;33m.\u001b[0m\u001b[0mDataFrame\u001b[0m\u001b[1;33m.\u001b[0m\u001b[0mfrom_dict\u001b[0m\u001b[1;33m(\u001b[0m\u001b[0mdata_dict\u001b[0m\u001b[1;33m)\u001b[0m\u001b[1;33m\u001b[0m\u001b[0m\n",
        "\u001b[1;31mTypeError\u001b[0m: unhashable type: 'list'"
       ]
      },
      {
       "output_type": "stream",
       "stream": "stdout",
       "text": "\n"
      }
     ],
     "prompt_number": 14
    },
    {
     "cell_type": "code",
     "collapsed": false,
     "input": "print ncv['temp_raw']",
     "language": "python",
     "metadata": {},
     "outputs": []
    },
    {
     "cell_type": "code",
     "collapsed": false,
     "input": "",
     "language": "python",
     "metadata": {},
     "outputs": []
    }
   ],
   "metadata": {}
  }
 ]
}