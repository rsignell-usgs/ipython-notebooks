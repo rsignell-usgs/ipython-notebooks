{
 "metadata": {
  "name": "CSW Testing CMG geonetwork"
 },
 "nbformat": 3,
 "nbformat_minor": 0,
 "worksheets": [
  {
   "cells": [
    {
     "cell_type": "heading",
     "level": 1,
     "metadata": {},
     "source": [
      "Exploring CSW access in Python using OWSLib with CMGP Geonetwork"
     ]
    },
    {
     "cell_type": "code",
     "collapsed": false,
     "input": [
      "from IPython.core.display import HTML\n",
      "HTML('<iframe src=http://cmgds.marine.usgs.gov/geonetwork/srv/en/main.home width=900 height=280></iframe>')"
     ],
     "language": "python",
     "metadata": {},
     "outputs": [
      {
       "html": [
        "<iframe src=http://cmgds.marine.usgs.gov/geonetwork/srv/en/main.home width=900 height=280></iframe>"
       ],
       "output_type": "pyout",
       "prompt_number": 1,
       "text": [
        "<IPython.core.display.HTML at 0x3f32c90>"
       ]
      }
     ],
     "prompt_number": 1
    },
    {
     "cell_type": "code",
     "collapsed": false,
     "input": [
      "from owslib.csw import CatalogueServiceWeb"
     ],
     "language": "python",
     "metadata": {},
     "outputs": [],
     "prompt_number": 2
    },
    {
     "cell_type": "code",
     "collapsed": false,
     "input": [
      "# connect to CSW, explore it's properties\n",
      "#endpoint = 'http://www.ngdc.noaa.gov/geoportal/csw' # NGDC Geoportal\n",
      "#endpoint = 'http://data.nodc.noaa.gov/geoportal/csw'  # NODC Geoportal: collection level\n",
      "    \n",
      "#endpoint = 'http://geodiscover.cgdi.ca/wes/serviceManagerCSW/csw'  # NRCAN CUSTOM\n",
      "#endpoint = 'http://geoport.whoi.edu/gi-cat/services/cswiso' # USGS Woods Hole GI_CAT\n",
      "#endpoint = 'http://cida.usgs.gov/gdp/geonetwork/srv/en/csw' # USGS CIDA Geonetwork\n",
      "#endpoint = 'http://www.nodc.noaa.gov/geoportal/csw'   # NODC Geoportal: granule level\n",
      "\n",
      "endpoint = 'http://cmgds.marine.usgs.gov/geonetwork/srv/en/csw'  # USGS Coastal & Marine Program Geonetwork\n",
      "csw = CatalogueServiceWeb(endpoint,timeout=30)\n",
      "csw.version"
     ],
     "language": "python",
     "metadata": {},
     "outputs": [
      {
       "output_type": "pyout",
       "prompt_number": 3,
       "text": [
        "'2.0.2'"
       ]
      }
     ],
     "prompt_number": 3
    },
    {
     "cell_type": "code",
     "collapsed": false,
     "input": [
      "[op.name for op in csw.operations]"
     ],
     "language": "python",
     "metadata": {},
     "outputs": [
      {
       "output_type": "pyout",
       "prompt_number": 4,
       "text": [
        "['GetCapabilities',\n",
        " 'DescribeRecord',\n",
        " 'GetDomain',\n",
        " 'GetRecords',\n",
        " 'GetRecordById',\n",
        " 'Transaction']"
       ]
      }
     ],
     "prompt_number": 4
    },
    {
     "cell_type": "code",
     "collapsed": false,
     "input": [
      "#bbox=[-141,42,-52,84]\n",
      "bbox=[-71.5, 39.5, -63.0, 46]\n",
      "csw.getrecords(keywords=['sea_water_temperature'],bbox=bbox,maxrecords=10)\n",
      "csw.results"
     ],
     "language": "python",
     "metadata": {},
     "outputs": [
      {
       "output_type": "pyout",
       "prompt_number": 5,
       "text": [
        "{'matches': 0, 'nextrecord': 0, 'returned': 0}"
       ]
      }
     ],
     "prompt_number": 5
    },
    {
     "cell_type": "code",
     "collapsed": false,
     "input": [
      "csw.getrecords(maxrecords=5)"
     ],
     "language": "python",
     "metadata": {},
     "outputs": [],
     "prompt_number": 6
    },
    {
     "cell_type": "code",
     "collapsed": false,
     "input": [
      "for rec,item in csw.records.iteritems():\n",
      "    print item.title"
     ],
     "language": "python",
     "metadata": {},
     "outputs": [
      {
       "output_type": "stream",
       "stream": "stdout",
       "text": [
        "MOSAIC_05M.TIF:  GeoTIFF image of acoustic backscatter collected by the U.S. Geological Survey within the Upper St. Clair River between Michigan and Ontario, Canada, 2008 (GeoTIFF).\n",
        "ALEU_250M_LCC_WGS84.TIF - Aleutian Arc U.S. EEZ GLORIA sidescan-sonar composite mosaic (LCC, 250 m, WGS84)\n",
        "BS_250M_LCC_NAD27.TIF - Bering Sea U.S. EEZ GLORIA sidescan-sonar composite mosaic (LCC, 250 m, Clarke1866)\n",
        "High-Resolution Seismic Reflection and Marine Magnetic Data Along the Hosgri Fault Zone--Cayucos to Pismo Beach, California\n",
        "HW1_250M_LCC_WGS84.TIF - Hawaii I - Southeastern Hawaiian Ridge U.S. EEZ GLORIA sidescan-sonar composite mosaic (LCC, 250 m, WGS84)\n"
       ]
      }
     ],
     "prompt_number": 7
    },
    {
     "cell_type": "code",
     "collapsed": false,
     "input": [
      "print(csw.records.keys())"
     ],
     "language": "python",
     "metadata": {},
     "outputs": [
      {
       "output_type": "stream",
       "stream": "stdout",
       "text": [
        "['3bbcce0c-f6ef-4993-885f-058ccb102512', 'ff570263-b0e5-46d7-ae55-20551dd7cb01', '57ddfabf-aa4c-46f6-8bb3-7416372b1f24', '48d62bb5-7ff0-463b-9cef-afecbc739bfd', '918f1915-c7e0-4cff-9e32-9a22a5d76089']\n"
       ]
      }
     ],
     "prompt_number": 8
    },
    {
     "cell_type": "code",
     "collapsed": false,
     "input": [
      "# choose a sample record\n",
      "a=csw.records['3bbcce0c-f6ef-4993-885f-058ccb102512']"
     ],
     "language": "python",
     "metadata": {},
     "outputs": [],
     "prompt_number": 9
    },
    {
     "cell_type": "code",
     "collapsed": false,
     "input": [
      "print a.title"
     ],
     "language": "python",
     "metadata": {},
     "outputs": [
      {
       "output_type": "stream",
       "stream": "stdout",
       "text": [
        "MOSAIC_05M.TIF:  GeoTIFF image of acoustic backscatter collected by the U.S. Geological Survey within the Upper St. Clair River between Michigan and Ontario, Canada, 2008 (GeoTIFF).\n"
       ]
      }
     ],
     "prompt_number": 10
    },
    {
     "cell_type": "code",
     "collapsed": false,
     "input": [
      "# unfortunately the \"uris\" property is empty\n",
      "print a.uris"
     ],
     "language": "python",
     "metadata": {},
     "outputs": [
      {
       "output_type": "stream",
       "stream": "stdout",
       "text": [
        "[]\n"
       ]
      }
     ],
     "prompt_number": 11
    },
    {
     "cell_type": "code",
     "collapsed": false,
     "input": [
      "# yet I can see the URIs here:\n",
      "print a.xml"
     ],
     "language": "python",
     "metadata": {},
     "outputs": [
      {
       "output_type": "stream",
       "stream": "stdout",
       "text": [
        "<csw:SummaryRecord xmlns:dct=\"http://purl.org/dc/terms/\" xmlns:geonet=\"http://www.fao.org/geonetwork\" xmlns:dc=\"http://purl.org/dc/elements/1.1/\" xmlns:csw=\"http://www.opengis.net/cat/csw/2.0.2\" xmlns:xsi=\"http://www.w3.org/2001/XMLSchema-instance\">\n",
        "      <dc:identifier>3bbcce0c-f6ef-4993-885f-058ccb102512</dc:identifier>\n",
        "      <dc:title>MOSAIC_05M.TIF:  GeoTIFF image of acoustic backscatter collected by the U.S. Geological Survey within the Upper St. Clair River between Michigan and Ontario, Canada, 2008 (GeoTIFF).</dc:title>\n",
        "      <dc:subject>General\n",
        "        U.S. Geological Survey\n",
        "        USGS\n",
        "        Woods Hole Coastal and Marine Science Center\n",
        "        WHCMSC\n",
        "        Coastal and Marine Geology Program\n",
        "        CMGP\n",
        "        surficial sediment\n",
        "        sidescan-sonar\n",
        "        interferometry\n",
        "        SEA SWATHplus 234 kHz\n",
        "        acoustic backscatter\n",
        "        WHCMSC field activity serial number 08016\n",
        "        GeoTIFF Image\n",
        "        USGS R/V Rafael</dc:subject>\n",
        "      <dc:subject>ISO 19115 Topic Category\n",
        "        geoscientificInformation\n",
        "        imageryBaseMapsEarthCover\n",
        "        inlandWaters</dc:subject>\n",
        "      <dc:subject>General\n",
        "        North America\n",
        "        United States\n",
        "        Michigan\n",
        "        Great Lakes\n",
        "        Upper Great Lakes\n",
        "        Lake Huron\n",
        "        St. Clair River\n",
        "        Upper St. Clair River\n",
        "        Canada\n",
        "        Ontario</dc:subject>\n",
        "      <dct:abstract>In 2008, the U.S. Geological Survey (USGS), Woods Hole Coastal and Marine Science Center (WHCMSC), in cooperation with the U.S. Army Corps of Engineers conducted a geophysical and sampling survey of the riverbed of the Upper St. Clair River between Port Huron, MI, and Sarnia, Ontario, Canada. The objectives were to define the Quaternary geologic framework of the St. Clair River to evaluate the relationship between morphologic change of the riverbed and underlying stratigraphy. This report presents the geophysical and sample data collected from the St. Clair River, May 29-June 6, 2008 as part of the International Upper Great Lakes Study, a 5-year project funded by the International Joint Commission of the United States and Canada to examine whether physical changes in the St. Clair River are affecting water levels within the upper Great Lakes, to assess regulation plans for outflows from Lake Superior, and to examine the potential effect of climate change on the Great Lakes water levels ( http://www.iugls.org). This document makes available the data that were used in a separate report, U.S. Geological Survey Open-File Report 2009-1137, which detailed the interpretations of the Quaternary geologic framework of the region. This report includes a description of the suite of high-resolution acoustic and sediment-sampling systems that were used to map the morphology, surficial sediment distribution, and underlying geology of the Upper St. Clair River during USGS field activity 2008-016-FA . Video and photographs of the riverbed were also collected and are included in this data release. Future analyses will be focused on substrate erosion and its effects on river-channel morphology and geometry. Ultimately, the International Upper Great Lakes Study will attempt to determine where physical changes in the St. Clair River affect water flow and, subsequently, water levels in the Upper Great Lakes.\n",
        "\n",
        "For more information on the seismic surveys see http://woodshole.er.usgs.gov/operations/ia/public_ds_in\n",
        "fo.php?fa=2008-016-FA</dct:abstract>\n",
        "      <dct:modified>20110125</dct:modified>\n",
        "      <dc:type>Raster\n",
        "    \n",
        "      Pixel\n",
        "      15001\n",
        "      10001\n",
        "      1</dc:type>\n",
        "    </csw:SummaryRecord>\n",
        "    \n"
       ]
      }
     ],
     "prompt_number": 12
    },
    {
     "cell_type": "code",
     "collapsed": false,
     "input": [
      "# lets look at the references\n",
      "a.references"
     ],
     "language": "python",
     "metadata": {},
     "outputs": [
      {
       "output_type": "pyout",
       "prompt_number": 13,
       "text": [
        "[]"
       ]
      }
     ],
     "prompt_number": 13
    },
    {
     "cell_type": "code",
     "collapsed": false,
     "input": [
      "# get specific ServiceType URL from records\n",
      "def service_urls(records,service_string='urn:x-esri:specification:ServiceType:OPeNDAP'):\n",
      "    urls=[]\n",
      "    for key,rec in records.iteritems():\n",
      "        #create a generator object, and iterate through it until the match is found\n",
      "        #if not found, gets the default value (here \"none\")\n",
      "        url = next((d['url'] for d in rec.references if d['scheme'] == service_string), None)\n",
      "        if url is not None:\n",
      "            urls.append(url)\n",
      "    return urls"
     ],
     "language": "python",
     "metadata": {},
     "outputs": [],
     "prompt_number": 14
    },
    {
     "cell_type": "code",
     "collapsed": false,
     "input": [
      "dap_urls = service_urls(csw.records,service_string='urn:x-esri:specification:ServiceType:ArcIMS:Metadata:Onlink')\n",
      "print dap_urls"
     ],
     "language": "python",
     "metadata": {},
     "outputs": [
      {
       "output_type": "stream",
       "stream": "stdout",
       "text": [
        "[]\n"
       ]
      }
     ],
     "prompt_number": 15
    },
    {
     "cell_type": "code",
     "collapsed": false,
     "input": [],
     "language": "python",
     "metadata": {},
     "outputs": [],
     "prompt_number": 15
    }
   ],
   "metadata": {}
  }
 ]
}