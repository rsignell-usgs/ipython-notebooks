{
 "metadata": {
  "name": "FVCOM_depth_and_velocity-gom3"
 },
 "nbformat": 3,
 "nbformat_minor": 0,
 "worksheets": [
  {
   "cells": [
    {
     "cell_type": "heading",
     "level": 2,
     "metadata": {},
     "source": [
      "Access data from the NECOFS (New England Coastal Ocean Forecast System) via OPeNDAP"
     ]
    },
    {
     "cell_type": "markdown",
     "metadata": {},
     "source": [
      "Demonstration using the NetCDF4-Python library to access velocity data from a triangular grid ocean model (FVCOM) via OPeNDAP, specifying the desired URL, time, layer and lat/lon region of interest.  The resulting plot of forecast velocity vectors over color-shaded bathymetry is useful for a variety of recreational and scientific purposes. \n",
      "\n",
      "asdfsd\n",
      "\n",
      "NECOFS (Northeastern Coastal Ocean Forecast System) is run by groups at the University of Massachusetts Dartmouth and the Woods Hole Oceanographic Institution, led by Drs. C. Chen, R. C. Beardsley, G. Cowles and B. Rothschild. Funding is provided to run the model by the NOAA-led Integrated Ocean Observing System and the State of Massachusetts.\n",
      "\n",
      "NECOFS is a coupled numerical model that uses nested weather models, a coastal ocean circulation model, and a wave model. The ocean model is a volume-mesh model with horizontal resolution that is finer in complicated regions. It is layered (not depth-averaged) and includes the effects of tides, winds, and varying water densities caused by temperature and salinity changes.\n",
      "\n",
      "* Model description: http://fvcom.smast.umassd.edu/research_projects/NECOFS/model_system.html\n",
      "* THREDDS server with other forecast and archive products: http://www.smast.umassd.edu:8080/thredds/catalog.html"
     ]
    },
    {
     "cell_type": "code",
     "collapsed": false,
     "input": [
      "from pylab import *\n",
      "import matplotlib.tri as Tri\n",
      "import netCDF4\n",
      "import datetime as dt"
     ],
     "language": "python",
     "metadata": {},
     "outputs": [],
     "prompt_number": 1
    },
    {
     "cell_type": "code",
     "collapsed": false,
     "input": [
      "# DAP Data URL\n",
      "#url = 'http://www.smast.umassd.edu:8080/thredds/dodsC/FVCOM/NECOFS/Forecasts/NECOFS_FVCOM_OCEAN_MASSBAY_FORECAST.nc'\n",
      "url = 'http://www.smast.umassd.edu:8080/thredds/dodsC/FVCOM/NECOFS/Forecasts/NECOFS_GOM3_FORECAST.nc'\n",
      "# Open DAP\n",
      "nc = netCDF4.Dataset(url).variables\n",
      "nc.keys()"
     ],
     "language": "python",
     "metadata": {},
     "outputs": [
      {
       "metadata": {},
       "output_type": "pyout",
       "prompt_number": 2,
       "text": [
        "[u'x',\n",
        " u'y',\n",
        " u'lon',\n",
        " u'lat',\n",
        " u'xc',\n",
        " u'yc',\n",
        " u'lonc',\n",
        " u'latc',\n",
        " u'siglay',\n",
        " u'siglev',\n",
        " u'h',\n",
        " u'nv',\n",
        " u'time',\n",
        " u'Times',\n",
        " u'zeta',\n",
        " u'nbe',\n",
        " u'aw0',\n",
        " u'awx',\n",
        " u'awy',\n",
        " u'u',\n",
        " u'v',\n",
        " u'ww',\n",
        " u'temp',\n",
        " u'salinity',\n",
        " u'icing_0kts',\n",
        " u'icing_10kts']"
       ]
      }
     ],
     "prompt_number": 2
    },
    {
     "cell_type": "code",
     "collapsed": false,
     "input": [
      "# take a look at the \"metadata\" for the variable \"u\"\n",
      "print nc['u']"
     ],
     "language": "python",
     "metadata": {},
     "outputs": [
      {
       "output_type": "stream",
       "stream": "stdout",
       "text": [
        "<type 'netCDF4.Variable'>\n",
        "float32 u(u'time', u'siglay', u'nele')\n",
        "    long_name: Eastward Water Velocity\n",
        "    units: meters s-1\n",
        "    grid: fvcom_grid\n",
        "    type: data\n",
        "unlimited dimensions = (u'time',)\n",
        "current size = (145, 40, 95722)\n",
        "\n"
       ]
      }
     ],
     "prompt_number": 3
    },
    {
     "cell_type": "code",
     "collapsed": false,
     "input": [
      "# Desired time for snapshot\n",
      "# ....right now (or some number of hours from now) ...\n",
      "start = dt.datetime.utcnow() + dt.timedelta(hours=0)\n",
      "# ... or specific time (UTC)\n",
      "#start = dt.datetime(2013,3,2,15,0,0)"
     ],
     "language": "python",
     "metadata": {},
     "outputs": [],
     "prompt_number": 4
    },
    {
     "cell_type": "code",
     "collapsed": false,
     "input": [
      "# Get desired time step  \n",
      "time_var = nc['time']\n",
      "itime = netCDF4.date2index(start,time_var,select='nearest')\n",
      "\n",
      "# Get lon,lat coordinates for nodes (depth)\n",
      "lat = nc['lat'][:]\n",
      "lon = nc['lon'][:]\n",
      "# Get lon,lat coordinates for cell centers (depth)\n",
      "latc = nc['latc'][:]\n",
      "lonc = nc['lonc'][:]\n",
      "# Get Connectivity array\n",
      "nv = nc['nv'][:].T - 1 \n",
      "# Get depth\n",
      "h = nc['h'][:]  # depth "
     ],
     "language": "python",
     "metadata": {},
     "outputs": [],
     "prompt_number": 5
    },
    {
     "cell_type": "code",
     "collapsed": false,
     "input": [
      "dtime = netCDF4.num2date(time_var[itime],time_var.units)\n",
      "daystr = dtime.strftime('%Y-%b-%d %H:%M')\n",
      "print daystr"
     ],
     "language": "python",
     "metadata": {},
     "outputs": [
      {
       "output_type": "stream",
       "stream": "stdout",
       "text": [
        "2013-May-29 18:00\n"
       ]
      }
     ],
     "prompt_number": 6
    },
    {
     "cell_type": "code",
     "collapsed": false,
     "input": [
      "tri = Tri.Triangulation(lon,lat, triangles=nv)"
     ],
     "language": "python",
     "metadata": {},
     "outputs": [],
     "prompt_number": 7
    },
    {
     "cell_type": "code",
     "collapsed": false,
     "input": [
      "# get current at layer [0 = surface, -1 = bottom]\n",
      "ilayer = 0\n",
      "u = nc['u'][itime, ilayer, :]\n",
      "v = nc['v'][itime, ilayer, :]"
     ],
     "language": "python",
     "metadata": {},
     "outputs": [],
     "prompt_number": 8
    },
    {
     "cell_type": "code",
     "collapsed": false,
     "input": [
      "#woods hole\n",
      "levels=arange(-30,2,1)\n",
      "ax = [-70.7, -70.6, 41.48, 41.55]\n",
      "maxvel = 1.0\n",
      "subsample = 2"
     ],
     "language": "python",
     "metadata": {},
     "outputs": [],
     "prompt_number": 9
    },
    {
     "cell_type": "code",
     "collapsed": false,
     "input": [
      "#boston harbor\n",
      "levels=arange(-34,2,1)   # depth contours to plot\n",
      "ax= [-70.97, -70.82, 42.25, 42.35] # \n",
      "maxvel = 0.5\n",
      "subsample = 3\n",
      "# sakonnet river\n",
      "levels=arange(-30,2,1)\n",
      "ax=[-71.27, -71.18, 41.46, 41.63]\n",
      "maxvel = .5\n",
      "subsample = 2"
     ],
     "language": "python",
     "metadata": {},
     "outputs": [],
     "prompt_number": 10
    },
    {
     "cell_type": "code",
     "collapsed": false,
     "input": [
      "# find velocity points in bounding box\n",
      "ind = argwhere((lonc >= ax[0]) & (lonc <= ax[1]) & (latc >= ax[2]) & (latc <= ax[3]))"
     ],
     "language": "python",
     "metadata": {},
     "outputs": [],
     "prompt_number": 11
    },
    {
     "cell_type": "code",
     "collapsed": false,
     "input": [
      "np.random.shuffle(ind)\n",
      "Nvec = int(len(ind) / subsample)\n",
      "idv = ind[:Nvec]"
     ],
     "language": "python",
     "metadata": {},
     "outputs": [],
     "prompt_number": 12
    },
    {
     "cell_type": "code",
     "collapsed": false,
     "input": [
      "# tricontourf plot of water depth with vectors on top\n",
      "figure(figsize=(18,10))\n",
      "subplot(111,aspect=(1.0/cos(mean(lat)*pi/180.0)))\n",
      "tricontourf(tri, -h,levels=levels,shading='faceted',cmap=plt.cm.gist_earth)\n",
      "axis(ax)\n",
      "gca().patch.set_facecolor('0.5')\n",
      "cbar=colorbar()\n",
      "cbar.set_label('Water Depth (m)', rotation=-90)\n",
      "Q = quiver(lonc[idv],latc[idv],u[idv],v[idv],scale=20)\n",
      "maxstr='%3.1f m/s' % maxvel\n",
      "qk = quiverkey(Q,0.92,0.08,maxvel,maxstr,labelpos='W')\n",
      "title('NECOFS Velocity, Layer %d, %s UTC' % (ilayer, daystr));"
     ],
     "language": "python",
     "metadata": {},
     "outputs": [
      {
       "metadata": {},
       "output_type": "display_data",
       "png": "[encoded data removed]",
       "text": [
        "<matplotlib.figure.Figure at 0x36c0510>"
       ]
      }
     ],
     "prompt_number": 13
    },
    {
     "cell_type": "code",
     "collapsed": false,
     "input": [],
     "language": "python",
     "metadata": {},
     "outputs": [],
     "prompt_number": 13
    }
   ],
   "metadata": {}
  }
 ]
}