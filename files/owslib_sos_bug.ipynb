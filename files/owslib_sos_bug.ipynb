{
 "metadata": {
  "name": "owslib_sos_bug"
 },
 "nbformat": 3,
 "nbformat_minor": 0,
 "worksheets": [
  {
   "cells": [
    {
     "cell_type": "code",
     "collapsed": false,
     "input": [
      "import urllib\n",
      "from owslib.sos import SensorObservationService"
     ],
     "language": "python",
     "metadata": {},
     "outputs": [],
     "prompt_number": 1
    },
    {
     "cell_type": "code",
     "collapsed": false,
     "input": [
      "sos_endpoint = 'http://opendap.co-ops.nos.noaa.gov/ioos-dif-sos/SOS?service=SOS&request=GetCapabilities&version=1.0.0'\n",
      "coops = SensorObservationService(sos_endpoint)"
     ],
     "language": "python",
     "metadata": {},
     "outputs": [],
     "prompt_number": 2
    },
    {
     "cell_type": "code",
     "collapsed": false,
     "input": [
      "coops.identification.title"
     ],
     "language": "python",
     "metadata": {},
     "outputs": [
      {
       "metadata": {},
       "output_type": "pyout",
       "prompt_number": 14,
       "text": [
        "'NOAA.NOS.CO-OPS SOS'"
       ]
      }
     ],
     "prompt_number": 14
    },
    {
     "cell_type": "code",
     "collapsed": false,
     "input": [
      "coops.get_operation_by_name('getobservation').parameters['responseFormat']['values']"
     ],
     "language": "python",
     "metadata": {},
     "outputs": [
      {
       "metadata": {},
       "output_type": "pyout",
       "prompt_number": 15,
       "text": [
        "['text/csv',\n",
        " 'text/tab-separated-values',\n",
        " 'text/xml;schema=\"ioos/0.6.1\"',\n",
        " 'application/ioos+xml;version=0.6.1',\n",
        " 'application/vnd.google-earth.kml+xml']"
       ]
      }
     ],
     "prompt_number": 15
    },
    {
     "cell_type": "code",
     "collapsed": false,
     "input": [
      "response = coops.get_observation(offerings=['urn:ioos:station:NOAA.NOS.CO-OPS:8447930'],\n",
      "                                 responseFormat='text/csv',\n",
      "                                 observedProperties=['water_surface_height_above_reference_datum'],\n",
      "                                 eventTime='2013-06-13T00:00:00Z/2013-06-14T00:00:00Z')"
     ],
     "language": "python",
     "metadata": {},
     "outputs": [
      {
       "ename": "XMLSyntaxError",
       "evalue": "Start tag expected, '<' not found, line 1, column 1",
       "output_type": "pyerr",
       "traceback": [
        "\u001b[1;36m  File \u001b[1;32m\"<string>\"\u001b[1;36m, line \u001b[1;32munknown\u001b[0m\n\u001b[1;31mXMLSyntaxError\u001b[0m\u001b[1;31m:\u001b[0m Start tag expected, '<' not found, line 1, column 1\n"
       ]
      }
     ],
     "prompt_number": 16
    },
    {
     "cell_type": "code",
     "collapsed": false,
     "input": [
      "sos_endpoint = 'http://sdf.ndbc.noaa.gov/sos/server.php?request=GetCapabilities&service=SOS'"
     ],
     "language": "python",
     "metadata": {},
     "outputs": [],
     "prompt_number": 3
    },
    {
     "cell_type": "code",
     "collapsed": false,
     "input": [
      "urllib.urlretrieve(sos_endpoint,'sos_ndbc_getcapabilities.xml')\n",
      "xml = open('sos_ndbc_getcapabilities.xml').read()\n",
      "ndbc = SensorObservationService(None, xml=xml)"
     ],
     "language": "python",
     "metadata": {},
     "outputs": [],
     "prompt_number": 4
    },
    {
     "cell_type": "code",
     "collapsed": false,
     "input": [
      "ndbc.get_operation_by_name('getobservation').parameters['responseFormat']['values']"
     ],
     "language": "python",
     "metadata": {},
     "outputs": [
      {
       "metadata": {},
       "output_type": "pyout",
       "prompt_number": 7,
       "text": [
        "['text/xml;subtype=\"om/1.0.0\"',\n",
        " 'text/csv',\n",
        " 'text/tab-separated-values',\n",
        " 'application/vnd.google-earth.kml+xml',\n",
        " 'text/xml;schema=\"ioos/0.6.1\"',\n",
        " 'application/ioos+xml;version=0.6.1']"
       ]
      }
     ],
     "prompt_number": 7
    },
    {
     "cell_type": "code",
     "collapsed": false,
     "input": [
      "sta = ndbc.contents['station-44066']"
     ],
     "language": "python",
     "metadata": {},
     "outputs": [],
     "prompt_number": 10
    },
    {
     "cell_type": "code",
     "collapsed": false,
     "input": [
      "sta."
     ],
     "language": "python",
     "metadata": {},
     "outputs": [
      {
       "metadata": {},
       "output_type": "pyout",
       "prompt_number": 13,
       "text": [
        "['http://mmisw.org/ont/cf/parameter/air_temperature',\n",
        " 'http://mmisw.org/ont/cf/parameter/air_pressure_at_sea_level',\n",
        " 'http://mmisw.org/ont/cf/parameter/sea_water_temperature',\n",
        " 'http://mmisw.org/ont/cf/parameter/waves',\n",
        " 'http://mmisw.org/ont/cf/parameter/winds']"
       ]
      }
     ],
     "prompt_number": 13
    },
    {
     "cell_type": "code",
     "collapsed": false,
     "input": [],
     "language": "python",
     "metadata": {},
     "outputs": []
    }
   ],
   "metadata": {}
  }
 ]
}